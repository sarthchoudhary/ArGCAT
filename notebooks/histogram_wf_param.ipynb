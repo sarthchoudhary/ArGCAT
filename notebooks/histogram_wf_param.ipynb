{
 "cells": [
  {
   "cell_type": "markdown",
   "metadata": {},
   "source": [
    "**Table of contents**<a id='toc0_'></a>    \n",
    "- 1. [Function definitions](#toc1_)    \n",
    "- 2. [load pkl files](#toc2_)    \n",
    "- 3. [concatenate df's](#toc3_)    \n",
    "- 4. [Exploratory Analysis](#toc4_)    \n",
    "- 5. [Data Cleaning](#toc5_)    \n",
    "- 6. [Extract fit_param into dict](#toc6_)    \n",
    "- 7. [select channel](#toc7_)    \n",
    "- 8. [Investigating Paramater distributions](#toc8_)    \n",
    "  - 8.1. [$\\sigma$](#toc8_1_)    \n",
    "    - 8.1.1. [fitting](#toc8_1_1_)    \n",
    "  - 8.2. [$\\tau$](#toc8_2_)    \n",
    "  - 8.3. [scale](#toc8_3_)    \n",
    "- 9. [Cuts:  rectangular cut](#toc9_)    \n",
    "  - 9.1. [$ \\sigma$](#toc9_1_)    \n",
    "    - 9.1.1. [fitting](#toc9_1_1_)    \n",
    "  - 9.2. [$\\tau$](#toc9_2_)    \n",
    "    - 9.2.1. [fitting](#toc9_2_1_)    \n",
    "    - 9.2.2. [Fitting with iMinuit](#toc9_2_2_)    \n",
    "  - 9.3. [scale](#toc9_3_)    \n",
    "    - 9.3.1. [fitting](#toc9_3_1_)    \n",
    "- 10. [FingerPlot](#toc10_)    \n",
    "\n",
    "<!-- vscode-jupyter-toc-config\n",
    "\tnumbering=true\n",
    "\tanchor=true\n",
    "\tflat=false\n",
    "\tminLevel=1\n",
    "\tmaxLevel=6\n",
    "\t/vscode-jupyter-toc-config -->\n",
    "<!-- THIS CELL WILL BE REPLACED ON TOC UPDATE. DO NOT WRITE YOUR TEXT IN THIS CELL -->"
   ]
  },
  {
   "cell_type": "code",
   "execution_count": null,
   "metadata": {},
   "outputs": [],
   "source": [
    "import sys\n",
    "# import os\n",
    "import numpy as np\n",
    "import pandas as pd\n",
    "import pickle\n",
    "# from scipy.stats import chisquare\n",
    "# from scipy.integrate import simpson\n",
    "\n",
    "# import matplotlib\n",
    "import matplotlib.pyplot as plt\n",
    "from matplotlib.offsetbox import AnchoredText\n",
    "# from matplotlib.ticker import AutoMinorLocator\n",
    "# from matplotlib.ticker import FormatStrFormatter\n",
    "\n",
    "# from termcolor import colored\n",
    "# from tqdm.notebook import tqdm\n",
    "# from scipy.ndimage import gaussian_filter\n",
    "from scipy.optimize import curve_fit"
   ]
  },
  {
   "cell_type": "code",
   "execution_count": null,
   "metadata": {},
   "outputs": [],
   "source": [
    "import matplotlib.patches as patches"
   ]
  },
  {
   "cell_type": "code",
   "execution_count": null,
   "metadata": {},
   "outputs": [],
   "source": [
    "np.set_printoptions(formatter={'float': lambda x: f\"{x:10.4g}\"})"
   ]
  },
  {
   "cell_type": "code",
   "execution_count": null,
   "metadata": {},
   "outputs": [],
   "source": [
    "%matplotlib ipympl "
   ]
  },
  {
   "cell_type": "markdown",
   "metadata": {},
   "source": [
    "# 1. <a id='toc1_'></a>[Function definitions](#toc0_)"
   ]
  },
  {
   "cell_type": "code",
   "execution_count": null,
   "metadata": {},
   "outputs": [],
   "source": [
    "def f_gauss(x, g_mean, g_sigma, g_k):\n",
    "    return g_k*(1/(g_sigma*np.sqrt(2*np.pi)))*np.exp(-0.5*((x-g_mean)/g_sigma)**2)"
   ]
  },
  {
   "cell_type": "code",
   "execution_count": null,
   "metadata": {},
   "outputs": [],
   "source": [
    "def red_chisq(f_obs, f_exp, fittedparameters):\n",
    "    chisqr = np.sum((f_obs - f_exp)**2 / f_exp)\n",
    "    ndf = f_obs.shape[0]\n",
    "    return chisqr/(ndf -fittedparameters.shape[0])"
   ]
  },
  {
   "cell_type": "markdown",
   "metadata": {},
   "source": [
    "# 2. <a id='toc2_'></a>[load pkl files](#toc0_)"
   ]
  },
  {
   "cell_type": "code",
   "execution_count": null,
   "metadata": {},
   "outputs": [],
   "source": [
    "# all_clean_catalogues = []\n",
    "# for run_number in run_number_ls:\n",
    "#     all_clean_catalogues.append(f'clean_catalogue_run000{run_number}.pkl')"
   ]
  },
  {
   "cell_type": "code",
   "execution_count": null,
   "metadata": {},
   "outputs": [],
   "source": [
    "# selected_clean_catalogue_path = os.path.join(output_folder, all_clean_catalogues[3])\n",
    "# selected_clean_dict = pickle.load(open(selected_fit_catalogue_path, 'rb'))\n",
    "# selected_clean_dict #['ch2']"
   ]
  },
  {
   "cell_type": "code",
   "execution_count": null,
   "metadata": {},
   "outputs": [],
   "source": [
    "# output_folder = '/home/sarthak/my_projects/argset/output_folder/'\n",
    "output_folder = '/work/chuck/sarthak/argset/output_folder/'\n",
    "# output_folder = '/work/sarthak/argset/processed_data/backup_ch2/'\n",
    "# output_folder = '/work/sarthak/argset/processed_data/backup/'"
   ]
  },
  {
   "cell_type": "code",
   "execution_count": null,
   "metadata": {},
   "outputs": [],
   "source": [
    "run_number_ls = [52, 53, 54, 61, 62, 63]\n",
    "# run_number_ls = [52, 61]"
   ]
  },
  {
   "cell_type": "code",
   "execution_count": null,
   "metadata": {},
   "outputs": [],
   "source": [
    "all_fit_catalogues = []\n",
    "for run_number in run_number_ls:\n",
    "    all_fit_catalogues.append(f'{output_folder}/fit_catalogue_run000{run_number}.pkl')\n",
    "    # all_fit_catalogues.append(f'{output_folder}/fit_catalogue_custom_run000{run_number}.pkl')"
   ]
  },
  {
   "cell_type": "code",
   "execution_count": null,
   "metadata": {},
   "outputs": [],
   "source": [
    "all_fit_catalogues"
   ]
  },
  {
   "cell_type": "code",
   "execution_count": null,
   "metadata": {},
   "outputs": [],
   "source": [
    "fit_dict_52 = pickle.load(open( all_fit_catalogues[0], 'rb'))"
   ]
  },
  {
   "cell_type": "code",
   "execution_count": null,
   "metadata": {},
   "outputs": [],
   "source": [
    "fit_dict_53 = pickle.load(open( all_fit_catalogues[1], 'rb'))"
   ]
  },
  {
   "cell_type": "code",
   "execution_count": null,
   "metadata": {},
   "outputs": [],
   "source": [
    "fit_dict_54 = pickle.load(open( all_fit_catalogues[2], 'rb'))"
   ]
  },
  {
   "cell_type": "code",
   "execution_count": null,
   "metadata": {},
   "outputs": [],
   "source": [
    "fit_dict_61 = pickle.load(open( all_fit_catalogues[3], 'rb'))"
   ]
  },
  {
   "cell_type": "code",
   "execution_count": null,
   "metadata": {},
   "outputs": [],
   "source": [
    "fit_dict_62 = pickle.load(open( all_fit_catalogues[4], 'rb'))"
   ]
  },
  {
   "cell_type": "code",
   "execution_count": null,
   "metadata": {},
   "outputs": [],
   "source": [
    "fit_dict_63 = pickle.load(open( all_fit_catalogues[4], 'rb'))"
   ]
  },
  {
   "cell_type": "markdown",
   "metadata": {},
   "source": [
    "# 3. <a id='toc3_'></a>[concatenate df's](#toc0_)"
   ]
  },
  {
   "cell_type": "code",
   "execution_count": null,
   "metadata": {},
   "outputs": [],
   "source": [
    "fit_dict_ls = [fit_dict_52, fit_dict_53, fit_dict_54, fit_dict_61, fit_dict_62, fit_dict_63]\n",
    "# fit_dict_ls = [fit_dict_61, fit_dict_62, fit_dict_63]\n",
    "ch_str_ls = ['ch0', 'ch1', 'ch2']\n",
    "# ch_str_ls = ['ch2']\n",
    "\n",
    "fit_catalogue = {}\n",
    "for ch_x in ch_str_ls:\n",
    "    fit_catalogue_x = []\n",
    "    for fit_dict in fit_dict_ls:\n",
    "        fit_catalogue_x.append(fit_dict[ch_x])\n",
    "    fit_catalogue[ch_x] = pd.concat(fit_catalogue_x, ignore_index=True)"
   ]
  },
  {
   "cell_type": "markdown",
   "metadata": {},
   "source": [
    "<p> Note: remember event_counter is unique only for a run; for concatenated DataFrames it is no longer unique identifier.</p>"
   ]
  },
  {
   "cell_type": "markdown",
   "metadata": {},
   "source": [
    "# 4. <a id='toc4_'></a>[Exploratory Analysis](#toc0_)"
   ]
  },
  {
   "cell_type": "markdown",
   "metadata": {},
   "source": [
    "the ratio of good fit waveforms to clean forms"
   ]
  },
  {
   "cell_type": "code",
   "execution_count": null,
   "metadata": {},
   "outputs": [],
   "source": [
    "# (fit_catalogue['ch0'][fit_catalogue['ch0']['chisqr']< 2.0]).shape[0]/(fit_catalogue['ch0']).shape[0]"
   ]
  },
  {
   "cell_type": "code",
   "execution_count": null,
   "metadata": {},
   "outputs": [],
   "source": [
    "# (fit_catalogue['ch1'][fit_catalogue['ch1']['chisqr']< 2.0]).shape[0]/(fit_catalogue['ch1']).shape[0]"
   ]
  },
  {
   "cell_type": "code",
   "execution_count": null,
   "metadata": {},
   "outputs": [],
   "source": [
    "# (fit_catalogue['ch2'][fit_catalogue[ch_x]['chisqr']< 2.0]).shape[0]/(fit_catalogue['ch2']).shape[0]"
   ]
  },
  {
   "cell_type": "markdown",
   "metadata": {},
   "source": [
    "How many times fit failed to converge?"
   ]
  },
  {
   "cell_type": "code",
   "execution_count": null,
   "metadata": {},
   "outputs": [],
   "source": [
    "# fit_catalogue['ch0']['fit_param'].isnull().sum()"
   ]
  },
  {
   "cell_type": "code",
   "execution_count": null,
   "metadata": {},
   "outputs": [],
   "source": [
    "# fit_catalogue['ch1']['fit_param'].isnull().sum()"
   ]
  },
  {
   "cell_type": "code",
   "execution_count": null,
   "metadata": {},
   "outputs": [],
   "source": [
    "# fit_catalogue['ch2']['fit_param'].isnull().sum()"
   ]
  },
  {
   "cell_type": "code",
   "execution_count": null,
   "metadata": {},
   "outputs": [],
   "source": [
    "# fit_catalogue['ch0'].index.values.shape"
   ]
  },
  {
   "cell_type": "code",
   "execution_count": null,
   "metadata": {},
   "outputs": [],
   "source": [
    "# fit_catalogue['ch0'][fit_catalogue['ch0']['chisqr']< 2.0]"
   ]
  },
  {
   "cell_type": "markdown",
   "metadata": {},
   "source": [
    "# 5. <a id='toc5_'></a>[Data Cleaning](#toc0_)"
   ]
  },
  {
   "cell_type": "markdown",
   "metadata": {},
   "source": [
    "Drop NA rows"
   ]
  },
  {
   "cell_type": "code",
   "execution_count": null,
   "metadata": {},
   "outputs": [],
   "source": [
    "for ch_index in ch_str_ls:\n",
    "    fit_catalogue[ch_index] = fit_catalogue[ch_index].dropna()"
   ]
  },
  {
   "cell_type": "code",
   "execution_count": null,
   "metadata": {},
   "outputs": [],
   "source": [
    "# sanity check: dropna works!\n",
    "# fit_catalogue['ch0']['fit_param'].isnull().sum()"
   ]
  },
  {
   "cell_type": "markdown",
   "metadata": {},
   "source": [
    "Histogram"
   ]
  },
  {
   "cell_type": "markdown",
   "metadata": {},
   "source": [
    "# 6. <a id='toc6_'></a>[Extract fit_param into dict](#toc0_)"
   ]
  },
  {
   "cell_type": "markdown",
   "metadata": {},
   "source": [
    "extracting param values"
   ]
  },
  {
   "cell_type": "code",
   "execution_count": null,
   "metadata": {},
   "outputs": [],
   "source": [
    "param_dict = {}\n",
    "for ch_index in ch_str_ls:\n",
    "    t0_ls = []\n",
    "    sigma_ls = []\n",
    "    tau_ls = []\n",
    "    scale_ls = []\n",
    "    fit_param_x = {}\n",
    "    for loop_index in fit_catalogue[ch_index].index.values:\n",
    "        loop_fit_param = fit_catalogue[ch_index].loc[loop_index]['fit_param']\n",
    "        t0_ls.append(loop_fit_param[0])\n",
    "        sigma_ls.append(loop_fit_param[1])\n",
    "        tau_ls.append(loop_fit_param[2])\n",
    "        scale_ls.append(loop_fit_param[3])\n",
    "    fit_param_x['t0'] = t0_ls\n",
    "    fit_param_x['sigma'] = sigma_ls\n",
    "    fit_param_x['tau'] = tau_ls\n",
    "    fit_param_x['scale'] = scale_ls\n",
    "    param_dict[ch_index] = fit_param_x"
   ]
  },
  {
   "cell_type": "code",
   "execution_count": null,
   "metadata": {},
   "outputs": [],
   "source": [
    "# fit_catalogue['ch0'].index.values.shape"
   ]
  },
  {
   "cell_type": "code",
   "execution_count": null,
   "metadata": {},
   "outputs": [],
   "source": [
    "# n_param = fit_catalogue['ch0']['fit_param'][0].shape[0]"
   ]
  },
  {
   "cell_type": "markdown",
   "metadata": {},
   "source": [
    "# 7. <a id='toc7_'></a>[select channel](#toc0_)"
   ]
  },
  {
   "cell_type": "markdown",
   "metadata": {},
   "source": [
    "Which channel?"
   ]
  },
  {
   "cell_type": "code",
   "execution_count": null,
   "metadata": {},
   "outputs": [],
   "source": [
    "# selected_channel =  input(\"Choose channel number for processing.\")\n",
    "selected_channel = 2\n",
    "print(f\"selected channel index: {selected_channel}\")\n",
    "ch_x = ch_str_ls[int(selected_channel)]\n",
    "### ch_str_ls = ['ch0', 'ch1', 'ch2']\n",
    "### ch_x = ch_str_ls[2]"
   ]
  },
  {
   "cell_type": "code",
   "execution_count": null,
   "metadata": {},
   "outputs": [],
   "source": [
    "plt.close(1)\n",
    "fig1, ax1 = plt.subplots()\n",
    "text_in_box = AnchoredText(f\"statistics = {len(param_dict[ch_x]['t0'])}\", \\\n",
    "                                       loc='upper right')\n",
    "ax1.add_artist(text_in_box)\n",
    "ax1.hist(param_dict[ch_x]['t0'], bins = np.linspace(350, 550, 200))\n",
    "ax1.set_title('t0')"
   ]
  },
  {
   "cell_type": "markdown",
   "metadata": {},
   "source": [
    "# 8. <a id='toc8_'></a>[Investigating Paramater distributions](#toc0_)"
   ]
  },
  {
   "cell_type": "markdown",
   "metadata": {},
   "source": [
    "## 8.1. <a id='toc8_1_'></a>[$\\sigma$](#toc0_)"
   ]
  },
  {
   "cell_type": "code",
   "execution_count": null,
   "metadata": {},
   "outputs": [],
   "source": [
    "plt.close(2)\n",
    "fig2, ax2 = plt.subplots()\n",
    "hist_content, hist_edges, _hist_obj= ax2.hist(param_dict[ch_x]['sigma'], bins=200, histtype='step', label = 'data') #, bins= np.linspace(1.0, 6.0, 10))\n",
    "text_in_box = AnchoredText(f\"statistics = {len(param_dict[ch_x]['sigma'])}\", \\\n",
    "                                       loc='upper right')\n",
    "ax2.add_artist(text_in_box)\n",
    "ax2.set_title('$\\\\sigma$')"
   ]
  },
  {
   "cell_type": "markdown",
   "metadata": {},
   "source": [
    "### 8.1.1. <a id='toc8_1_1_'></a>[fitting](#toc0_)"
   ]
  },
  {
   "cell_type": "code",
   "execution_count": null,
   "metadata": {},
   "outputs": [],
   "source": [
    "x_range = range(30, 49)\n",
    "\n",
    "# p0_input = [2, 0.45, 500.0] ## ch2\n",
    "p0_input = [2, 0.45, 500.0] ## ch1\n",
    "# bounds_input = ([1.0, 0.0, 500.0], [10.0, 1.0, 600.0]) ## ch2\n",
    "bounds_input = ([1.0, 0.0, 0.0], [10.0, 1.0, np.inf]) ## ch1\n",
    "fitted_parameters, _pcov = curve_fit(f_gauss, \n",
    "                            hist_edges[x_range], hist_content[x_range], \\\n",
    "                            p0 = p0_input, \n",
    "                            bounds = bounds_input,\n",
    "                            sigma = np.sqrt(hist_content[x_range]),\n",
    "                            absolute_sigma=True,\n",
    "                            )\n",
    "\n",
    "chisqr_value = red_chisq(hist_content[x_range], \\\n",
    "    f_gauss(hist_edges[x_range], *fitted_parameters), fitted_parameters\n",
    "    )\n",
    "\n",
    "chisqr_value"
   ]
  },
  {
   "cell_type": "code",
   "execution_count": null,
   "metadata": {},
   "outputs": [],
   "source": [
    "fitted_parameters"
   ]
  },
  {
   "cell_type": "code",
   "execution_count": null,
   "metadata": {},
   "outputs": [],
   "source": [
    "ax2.plot(hist_edges[x_range], f_gauss(hist_edges[x_range], *fitted_parameters), \n",
    "        #  color='red', \n",
    "         label='fitted function')\n",
    "ax2.legend()\n",
    "chisqr_in_box = AnchoredText(f\"red. chisqr = {chisqr_value:.2f}\", \\\n",
    "                                       loc='center right')\n",
    "ax2.add_artist(chisqr_in_box)"
   ]
  },
  {
   "cell_type": "markdown",
   "metadata": {},
   "source": [
    "## 8.2. <a id='toc8_2_'></a>[$\\tau$](#toc0_)"
   ]
  },
  {
   "cell_type": "code",
   "execution_count": null,
   "metadata": {},
   "outputs": [],
   "source": [
    "plt.close(3)\n",
    "fig3, ax3 = plt.subplots()\n",
    "ax3.hist = plt.hist(param_dict[ch_x]['tau'], bins= np.linspace(0.0, 150.0, 300), histtype='step')\n",
    "text_in_box = AnchoredText(f\"statistics = {len(param_dict[ch_x]['tau'])}\", \\\n",
    "                                       loc='upper right')\n",
    "ax3.add_artist(text_in_box)\n",
    "ax3.set_title('$\\\\tau$')"
   ]
  },
  {
   "cell_type": "markdown",
   "metadata": {},
   "source": [
    "## 8.3. <a id='toc8_3_'></a>[scale](#toc0_)"
   ]
  },
  {
   "cell_type": "code",
   "execution_count": null,
   "metadata": {},
   "outputs": [],
   "source": [
    "plt.close(4)\n",
    "fig4, ax4 = plt.subplots()\n",
    "ax4.hist(param_dict[ch_x]['scale'], bins= np.linspace(0.4, 1.0, 200), histtype='step')\n",
    "text_in_box = AnchoredText(f\"statistics = {len(param_dict[ch_x]['scale'])}\", \\\n",
    "                                       loc='upper left')\n",
    "ax4.add_artist(text_in_box)\n",
    "ax4.set_title('scale')"
   ]
  },
  {
   "cell_type": "code",
   "execution_count": null,
   "metadata": {},
   "outputs": [],
   "source": [
    "plt.close(5)\n",
    "\n",
    "red_win = patches.Rectangle((0.932, 2.44), 0.06, 3.10, linewidth=1.1, edgecolor='r', facecolor='none')\n",
    "fig5, ax5 = plt.subplots()\n",
    "hist_h, hist_xedges, hist_yedges, hist_im = ax5.hist2d(param_dict[ch_x]['scale'], \\\n",
    "                    param_dict[ch_x]['sigma'], bins = [np.linspace(0.6, 1.0, 100), np.linspace(0., 10., 100)], \\\n",
    "                    cmap='jet')\n",
    "ax5.add_patch(red_win)\n",
    "ax5.set_xlabel('scale')\n",
    "ax5.set_ylabel('$\\sigma$')\n",
    "fig5.colorbar(hist_im)\n",
    "ax5.set_title(f' {ch_x}: $scale\\ vs \\ \\\\sigma$');"
   ]
  },
  {
   "cell_type": "code",
   "execution_count": null,
   "metadata": {},
   "outputs": [],
   "source": [
    "plt.close(6)\n",
    "fig6, ax6 = plt.subplots()\n",
    "hist_h, hist_xedges, hist_yedges, hist_im = ax6.hist2d(param_dict[ch_x]['sigma'], \\\n",
    "                    param_dict[ch_x]['tau'], bins = [np.linspace(0.0, 1.0, 10), np.linspace(50e0, 20e3, 10)] , \\\n",
    "                        cmap='jet')\n",
    "fig6.colorbar(hist_im)\n",
    "ax6.set_title('$\\\\sigma \\ vs \\ \\\\tau $');"
   ]
  },
  {
   "cell_type": "code",
   "execution_count": null,
   "metadata": {},
   "outputs": [],
   "source": [
    "plt.close(7)\n",
    "fig7, ax7 = plt.subplots()\n",
    "hist_h, hist_xedges, hist_yedges, hist_im = ax7.hist2d(param_dict[ch_x]['tau'], \\\n",
    "                    param_dict[ch_x]['scale'], bins = [np.linspace(50, 175, 1000), np.linspace(0.5, 1.0, 10)], \\\n",
    "                    cmap='jet')\n",
    "fig7.colorbar(hist_im)\n",
    "ax7.set_title('$\\\\tau \\ vs \\ scale $');"
   ]
  },
  {
   "cell_type": "markdown",
   "metadata": {},
   "source": [
    "# 9. <a id='toc9_'></a>[Cuts:  rectangular cut](#toc0_)"
   ]
  },
  {
   "cell_type": "markdown",
   "metadata": {},
   "source": [
    "<span style='color:lightblue'> List of events to be removed</span>"
   ]
  },
  {
   "cell_type": "code",
   "execution_count": null,
   "metadata": {},
   "outputs": [],
   "source": [
    "### list of events which contribute to red window for Ch2\n",
    "internal_points = []\n",
    "for fit_index in fit_catalogue[ch_x].index.values:\n",
    "    loop_fit_param = fit_catalogue[ch_x]['fit_param'].loc[fit_index]\n",
    "    param_point = (loop_fit_param[3], loop_fit_param[1]) # scale, sigma\n",
    "    transformed_interior_point = red_win.get_data_transform().transform(param_point)\n",
    "    if red_win.contains_point(transformed_interior_point, radius=0):\n",
    "        internal_points.append(fit_index)"
   ]
  },
  {
   "cell_type": "markdown",
   "metadata": {},
   "source": [
    "<span style='color:lightblue'> applying cut </span>"
   ]
  },
  {
   "cell_type": "code",
   "execution_count": null,
   "metadata": {},
   "outputs": [],
   "source": [
    "fit_catalogue[ch_x] = fit_catalogue[ch_x].drop(index = internal_points)"
   ]
  },
  {
   "cell_type": "markdown",
   "metadata": {},
   "source": [
    "<span style='color:lightblue'> extracting param_dict out of DataFrames for all channels </span>"
   ]
  },
  {
   "cell_type": "code",
   "execution_count": null,
   "metadata": {},
   "outputs": [],
   "source": [
    "param_dict_cut = {}\n",
    "for ch_index in ch_str_ls:\n",
    "# for ch_x in ['ch2']: #ch_str_ls:\n",
    "    t0_ls = []\n",
    "    sigma_ls = []\n",
    "    tau_ls = []\n",
    "    scale_ls = []\n",
    "    fit_param_x = {}\n",
    "    for loop_index in fit_catalogue[ch_index].index.values:\n",
    "        loop_fit_param = fit_catalogue[ch_index].loc[loop_index]['fit_param']\n",
    "        t0_ls.append(loop_fit_param[0])\n",
    "        sigma_ls.append(loop_fit_param[1])\n",
    "        tau_ls.append(loop_fit_param[2])\n",
    "        scale_ls.append(loop_fit_param[3])\n",
    "    fit_param_x['t0'] = t0_ls\n",
    "    fit_param_x['sigma'] = sigma_ls\n",
    "    fit_param_x['tau'] = tau_ls\n",
    "    fit_param_x['scale'] = scale_ls\n",
    "    param_dict_cut[ch_index] = fit_param_x"
   ]
  },
  {
   "cell_type": "code",
   "execution_count": null,
   "metadata": {},
   "outputs": [],
   "source": [
    "# selected_channel = input(\"enter channel number\")\n",
    "ch_x = ch_str_ls[int(selected_channel)]\n",
    "# ch_x = 'ch2'"
   ]
  },
  {
   "cell_type": "code",
   "execution_count": null,
   "metadata": {},
   "outputs": [],
   "source": [
    "plt.close(22)\n",
    "fig22, ax22 = plt.subplots()\n",
    "text_in_box = AnchoredText(f\"statistics = {len(param_dict_cut[ch_x]['t0'])}\", \\\n",
    "                                       loc='upper right')\n",
    "ax22.add_artist(text_in_box)\n",
    "ax22.hist(param_dict_cut[ch_x]['t0'], bins = np.linspace(350, 550, 100))\n",
    "ax22.set_title(f\"{ch_x} t0: patch removed\")"
   ]
  },
  {
   "cell_type": "markdown",
   "metadata": {},
   "source": [
    "## 9.1. <a id='toc9_1_'></a>[$ \\sigma$](#toc0_)"
   ]
  },
  {
   "cell_type": "code",
   "execution_count": null,
   "metadata": {},
   "outputs": [],
   "source": [
    "plt.close(23)\n",
    "fig23, ax23 = plt.subplots()\n",
    "hist_content, hist_edges, _hist_obj= ax23.hist(param_dict_cut[ch_x]['sigma'], bins=200, histtype='step', label='sigma') #, bins= np.linspace(1.0, 6.0, 10))\n",
    "# text_in_box = AnchoredText(f\"statistics = {len(param_dict_cut[ch_x]['sigma'])}\", \\\n",
    "                                    #    loc='lower right')\n",
    "# ax23.add_artist(text_in_box)\n",
    "ax23.set_title(f\"{ch_x} $\\\\sigma$: patch removed\")\n",
    "## error bars\n",
    "hist_centers = []\n",
    "for i in range(hist_edges.shape[0]):\n",
    "    center_variable = np.mean(hist_edges[i:i+2])\n",
    "    hist_centers.append(center_variable)\n",
    "\n",
    "hist_centers = np.array(hist_centers)\n",
    "\n",
    "ax23.errorbar(hist_centers[:hist_content.shape[0]], hist_content, \\\n",
    "              yerr = np.sqrt(hist_content), elinewidth=1.0, linestyle='none', ecolor='green')"
   ]
  },
  {
   "cell_type": "markdown",
   "metadata": {},
   "source": [
    "### 9.1.1. <a id='toc9_1_1_'></a>[fitting](#toc0_)"
   ]
  },
  {
   "cell_type": "code",
   "execution_count": null,
   "metadata": {},
   "outputs": [],
   "source": [
    "# x_range # ch1 & ch2\n",
    "x_range = range(24, 40) ##ch0"
   ]
  },
  {
   "cell_type": "code",
   "execution_count": null,
   "metadata": {},
   "outputs": [],
   "source": [
    "p0_input = [2, 0.45, 500.0]\n",
    "bounds_input = ([1.50, 0.0, 0.0], [2.15, 1.0, np.inf])\n",
    "\n",
    "fitted_parameters_sigma, _pcov = curve_fit(f_gauss, \n",
    "                            hist_edges[x_range], hist_content[x_range], \\\n",
    "                            p0 = p0_input, \n",
    "                            sigma = np.sqrt(hist_content[x_range]),\n",
    "                            absolute_sigma=True,\n",
    "                            bounds = bounds_input,\n",
    "                            )\n",
    "\n",
    "ax23.plot(hist_edges[x_range], f_gauss(hist_edges[x_range], *fitted_parameters_sigma), \\\n",
    "          color='red', label='fitted function')\n",
    "\n",
    "ax23.legend()\n",
    "\n",
    "chisqr_value = red_chisq(hist_content[x_range], \\\n",
    "    f_gauss(hist_edges[x_range], *fitted_parameters_sigma), fitted_parameters_sigma\n",
    "    )\n",
    "\n",
    "text_in_box = AnchoredText(f\"statistics = {len(param_dict_cut[ch_x]['sigma'])} \\nred. chisqr = {chisqr_value:.2f}\", \\\n",
    "                                       loc='center right')\n",
    "ax23.add_artist(text_in_box)\n",
    "\n",
    "fitted_parameters_sigma"
   ]
  },
  {
   "cell_type": "markdown",
   "metadata": {},
   "source": [
    "## 9.2. <a id='toc9_2_'></a>[$\\tau$](#toc0_)"
   ]
  },
  {
   "cell_type": "code",
   "execution_count": null,
   "metadata": {},
   "outputs": [],
   "source": [
    "# ch_x = 'ch2'\n",
    "plt.close(24)\n",
    "fig24, ax24 = plt.subplots()\n",
    "hist_content, hist_edges, _hist_obj = ax24.hist(param_dict_cut[ch_x]['tau'], bins= np.linspace(0.0, 150.0, 250), histtype='step')\n",
    "# text_in_box = AnchoredText(f\"statistics = {len(param_dict_cut[ch_x]['tau'])}\", \\\n",
    "#                                        loc='upper right')\n",
    "# ax24.add_artist(text_in_box)\n",
    "ax24.set_title(f\"{ch_x} $\\\\tau$: patch removed\")\n",
    "\n",
    "##error bars\n",
    "hist_centers = []\n",
    "for i in range(hist_edges.shape[0]):\n",
    "    center_variable = np.mean(hist_edges[i:i+2])\n",
    "    hist_centers.append(center_variable)\n",
    "\n",
    "hist_centers = np.array(hist_centers)\n",
    "\n",
    "ax24.errorbar(hist_centers[:hist_content.shape[0]], hist_content, yerr = np.sqrt(hist_content), elinewidth=1.0, linestyle='none', ecolor='green')"
   ]
  },
  {
   "cell_type": "markdown",
   "metadata": {},
   "source": [
    "### 9.2.1. <a id='toc9_2_1_'></a>[fitting](#toc0_)"
   ]
  },
  {
   "cell_type": "code",
   "execution_count": null,
   "metadata": {},
   "outputs": [],
   "source": [
    "# x_range = range(58, 91) # ch2\n",
    "# x_range = range(58, 91) # ch1\n",
    "x_range = range(58, 91) # ch0"
   ]
  },
  {
   "cell_type": "code",
   "execution_count": null,
   "metadata": {},
   "outputs": [],
   "source": [
    "p0_input = [50.0, 9.0, 8000.0] # ch1 & ch2\n",
    "# bounds_input = ([20.0, 0.05, 1.0], [60.0, 15.5, 10_000]) ## ch2\n",
    "# bounds_input = ([20.0, 0.05, 1.0], [60.0, 15.5, np.inf]) ## ch1\n",
    "bounds_input = ([20.0, 0.05, 1.0], [60.0, 15.5, np.inf]) ## ch0\n",
    "\n",
    "fitted_parameters_tau, _pcov = curve_fit(f_gauss, \\\n",
    "                            hist_edges[x_range], hist_content[x_range], \\\n",
    "                            p0 = p0_input, \\\n",
    "                            bounds = bounds_input, \\\n",
    "                            sigma = np.sqrt(hist_content[x_range]), \\\n",
    "                            absolute_sigma=True, \\\n",
    "                            # x_scale = [10, 1, 1000], \\\n",
    "                            method = 'trf', \\\n",
    "                            ## method = 'dogbox', \\\n",
    "                            )\n",
    "\n",
    "### plotting\n",
    "ax24.plot(hist_edges[x_range], f_gauss(hist_edges[x_range], *fitted_parameters_tau), color='red', label='fitted function')\n",
    "ax24.legend(loc='upper right')\n",
    "\n",
    "chisqr_value = red_chisq(hist_content[x_range], \\\n",
    "    f_gauss(hist_edges[x_range], *fitted_parameters_tau), fitted_parameters_tau\n",
    "    )\n",
    "\n",
    "text_in_box = AnchoredText(f\"statistics = {len(param_dict_cut[ch_x]['tau'])} \\nred. chisqr = {chisqr_value:.2f}\", \\\n",
    "                                       loc='center right')\n",
    "\n",
    "ax24.add_artist(text_in_box)"
   ]
  },
  {
   "cell_type": "code",
   "execution_count": null,
   "metadata": {},
   "outputs": [],
   "source": [
    "fitted_parameters_tau"
   ]
  },
  {
   "cell_type": "markdown",
   "metadata": {},
   "source": [
    "### 9.2.2. <a id='toc9_2_2_'></a>[Fitting with iMinuit](#toc0_)"
   ]
  },
  {
   "cell_type": "code",
   "execution_count": null,
   "metadata": {},
   "outputs": [],
   "source": [
    "# import iminuit\n",
    "# from iminuit.cost import LeastSquares\n",
    "# from iminuit import Minuit"
   ]
  },
  {
   "cell_type": "code",
   "execution_count": null,
   "metadata": {},
   "outputs": [],
   "source": [
    "# least_squares = LeastSquares(x_values[58:91], hist_content[58:91], np.sqrt(hist_content[58:91]), f_gauss)\n",
    "# # least_squares = LeastSquares(x_values, hist_content[:x_values.shape[0]], np.ones(x_values.shape[0]), f_gauss)"
   ]
  },
  {
   "cell_type": "code",
   "execution_count": null,
   "metadata": {},
   "outputs": [],
   "source": [
    "# m_obj = Minuit(least_squares, g_mean = 50.0, g_sigma = 9.5, g_k = 8000)"
   ]
  },
  {
   "cell_type": "code",
   "execution_count": null,
   "metadata": {},
   "outputs": [],
   "source": [
    "# m_obj.simplex()"
   ]
  },
  {
   "cell_type": "code",
   "execution_count": null,
   "metadata": {},
   "outputs": [],
   "source": [
    "# m_obj.migrad()"
   ]
  },
  {
   "cell_type": "markdown",
   "metadata": {},
   "source": [
    "## 9.3. <a id='toc9_3_'></a>[scale](#toc0_)"
   ]
  },
  {
   "cell_type": "code",
   "execution_count": null,
   "metadata": {},
   "outputs": [],
   "source": [
    "# ch_x = 'ch2'\n",
    "plt.close(25)\n",
    "fig25, ax25 = plt.subplots()\n",
    "hist_content, hist_edges, _hist_obj = ax25.hist(param_dict_cut[ch_x]['scale'], \\\n",
    "                                                bins= np.linspace(0.4, 1.0, 200), histtype='step', label='data')\n",
    "# text_in_box = AnchoredText(f\"statistics = {len(param_dict_cut[ch_x]['scale'])}\", \\\n",
    "#                                        loc='upper left')\n",
    "# ax25.add_artist(text_in_box)\n",
    "ax25.set_title(f\"{ch_x} scale: patch removed\")"
   ]
  },
  {
   "cell_type": "markdown",
   "metadata": {},
   "source": [
    "### 9.3.1. <a id='toc9_3_1_'></a>[fitting](#toc0_)"
   ]
  },
  {
   "cell_type": "code",
   "execution_count": null,
   "metadata": {},
   "outputs": [],
   "source": [
    "# x_range = range(130, 172) #range(130, 177) 160 165 # ch2\n",
    "x_range = range(153, 172) # ch0"
   ]
  },
  {
   "cell_type": "code",
   "execution_count": null,
   "metadata": {},
   "outputs": [],
   "source": [
    "p0_input = [0.89, 0.09, 200.0]\n",
    "bounds_input = ([0.8, 0.01, 1.0], [1.0, 1.0, 10_000])\n",
    "\n",
    "fitted_parameters_scale, _pcov = curve_fit(f_gauss, \\\n",
    "                            hist_edges[x_range], hist_content[x_range], \\\n",
    "                            p0 = p0_input, \\\n",
    "                            bounds = bounds_input, \\\n",
    "                            sigma = np.sqrt(hist_content[x_range]), \\\n",
    "                            absolute_sigma=True, \\\n",
    "                            # x_scale = [10, 1, 1000], \\\n",
    "                            method = 'trf', \\\n",
    "                            ## method = 'dogbox', \\\n",
    "                            )\n",
    "##error bars\n",
    "hist_centers = []\n",
    "for i in range(hist_edges.shape[0]):\n",
    "    center_variable = np.mean(hist_edges[i:i+2])\n",
    "    hist_centers.append(center_variable)\n",
    "\n",
    "hist_centers = np.array(hist_centers)\n",
    "\n",
    "ax25.errorbar(hist_centers[:hist_content.shape[0]], hist_content, \\\n",
    "              yerr = np.sqrt(hist_content), elinewidth=1.0, linestyle='none', ecolor='green')\n",
    "### plotting\n",
    "ax25.plot(hist_edges[x_range], f_gauss(hist_edges[x_range], *fitted_parameters_scale), \\\n",
    "          color='red', label='fitted function')\n",
    "ax25.legend(loc='lower left')\n",
    "\n",
    "chisqr_value = red_chisq(hist_content[x_range], \\\n",
    "    f_gauss(hist_edges[x_range], *fitted_parameters_scale), fitted_parameters_scale\n",
    "    )\n",
    "\n",
    "print(f'chisqr_value: {chisqr_value}')\n",
    "print(f'fitted_parameters_scale: {fitted_parameters_scale}')\n",
    "\n",
    "text_in_box = AnchoredText(f\"statistics = {len(param_dict_cut[ch_x]['scale'])} \\nred. chisqr = {chisqr_value:.2f}\", \\\n",
    "                                       loc='center left')\n",
    "\n",
    "ax25.add_artist(text_in_box)"
   ]
  },
  {
   "cell_type": "markdown",
   "metadata": {},
   "source": [
    "2d parameter space "
   ]
  },
  {
   "cell_type": "code",
   "execution_count": null,
   "metadata": {},
   "outputs": [],
   "source": [
    "# ch_x = 'ch2'\n",
    "plt.close(26)\n",
    "fig26, ax26 = plt.subplots()\n",
    "red_win = patches.Rectangle((0.932, 2.44), 0.06, 3.10, linewidth=1.1, edgecolor='r', facecolor='none')\n",
    "\n",
    "hist_h, hist_xedges, hist_yedges, hist_im = ax26.hist2d(param_dict_cut[ch_x]['scale'], param_dict_cut[ch_x]['sigma'], \\\n",
    "           bins = [np.linspace(0.6, 1.0, 100), np.linspace(0., 10., 100)], cmap='jet')\n",
    "ax26.add_patch(red_win)\n",
    "ax26.set_xlabel('scale')\n",
    "ax26.set_ylabel('$\\sigma$')\n",
    "fig26.colorbar(hist_im)\n",
    "ax26.set_title(f\"{ch_x} $scale\\ vs \\ \\\\sigma$: patch removed\");"
   ]
  },
  {
   "cell_type": "code",
   "execution_count": null,
   "metadata": {},
   "outputs": [],
   "source": [
    "# ch_x = 'ch2'\n",
    "plt.close(27)\n",
    "fig27, ax27 = plt.subplots()\n",
    "hist_h, hist_xedges, hist_yedges, hist_im = ax27.hist2d(param_dict_cut[ch_x]['sigma'], param_dict_cut[ch_x]['tau'], \\\n",
    "           bins = [np.linspace(0.0, 1.0, 10), np.linspace(50e0, 20e3, 10)] , cmap='jet')\n",
    "ax27.set_xlabel('scale')\n",
    "ax27.set_ylabel('$\\sigma$')\n",
    "fig27.colorbar(hist_im)\n",
    "ax27.set_title(f\"{ch_x} $\\\\sigma \\ vs \\ \\\\tau $: patch removed\");"
   ]
  },
  {
   "cell_type": "code",
   "execution_count": null,
   "metadata": {},
   "outputs": [],
   "source": [
    "# ch_x = 'ch2'\n",
    "plt.close(28)\n",
    "fig28, ax28 = plt.subplots()\n",
    "hist_h, hist_xedges, hist_yedges, hist_im = ax28.hist2d(param_dict_cut[ch_x]['tau'], \\\n",
    "            param_dict_cut[ch_x]['scale'], bins = [np.linspace(50, 175, 1000), np.linspace(0.5, 1.0, 10)] ,\\\n",
    "            cmap='jet')\n",
    "\n",
    "ax28.set_xlabel('scale')\n",
    "ax28.set_ylabel('$\\sigma$')\n",
    "fig28.colorbar(hist_im)\n",
    "ax28.set_title(f\"{ch_x} $\\\\tau \\ vs \\ scale $: patch removed\");"
   ]
  },
  {
   "cell_type": "markdown",
   "metadata": {},
   "source": [
    "# 10. <a id='toc10_'></a>[FingerPlot](#toc0_)"
   ]
  },
  {
   "cell_type": "code",
   "execution_count": null,
   "metadata": {},
   "outputs": [],
   "source": [
    "# fit_catalogue[ch_x]"
   ]
  },
  {
   "cell_type": "code",
   "execution_count": null,
   "metadata": {},
   "outputs": [],
   "source": [
    "(fit_catalogue[ch_x]['chisqr']<2).sum()"
   ]
  },
  {
   "cell_type": "code",
   "execution_count": null,
   "metadata": {},
   "outputs": [],
   "source": [
    "# pulse_integration_window_begin = 450\n",
    "# pulse_integration_window_end = 650\n",
    "\n",
    "integration_vector = np.array([])\n",
    "\n",
    "for wf_index in fit_catalogue[ch_x]['wf_raw'].index.values:\n",
    "    # if fit_catalogue[ch_x]['chisqr'].loc[wf_index] < 2.0:\n",
    "    if True:\n",
    "        fitted_param = fit_catalogue[ch_x]['fit_param'][wf_index]\n",
    "        fitted_baseline = fitted_param[4]\n",
    "        trace = fit_catalogue[ch_x]['wf_raw'].loc[wf_index] - fitted_baseline\n",
    "        peak_loc =  int(fitted_param[0])\n",
    "        # pulse_win_integration_value = np.sum(trace[pulse_integration_window_begin:pulse_integration_window_end]) # fixed window\n",
    "        pulse_win_integration_value = np.sum(trace[peak_loc-10:peak_loc+50]) # asymmetric window around peak\n",
    "        integration_vector = np.append(integration_vector, pulse_win_integration_value)"
   ]
  },
  {
   "cell_type": "code",
   "execution_count": null,
   "metadata": {},
   "outputs": [],
   "source": [
    "fig99, ax99 = plt.subplots()\n",
    "# ax99.hist(integration_vector, bins=np.arange(0, 6000, 10), color='C0', label='ch2'); # fixed window\n",
    "ax99.hist(integration_vector, bins=np.arange(0, 2500, 10), color='C0', label=ch_x); # peak_loc works for ch1\n",
    "# ax99.hist(integration_vector, bins=np.arange(0, 2500, 10), color='C0', label=ch_x); # peak_loc works for ch1\n",
    "# ax99.hist(integration_vector, bins=np.arange(0, 10000, 25), color='C0', label=ch_x); # peak_loc works for ch0\n",
    "# ax99.hist(integration_vector, bins=2000, color='C0', label='ch2');\n",
    "ax99.legend()\n",
    "ax99.set_title(f'Finger plot for {ch_x}')\n",
    "ax99.set_xlabel('integrated ADC counts equivalent to charge')\n",
    "ax99.set_ylabel('histogram frequency')\n",
    "text_in_box = AnchoredText(f\"statistics = {len(integration_vector)}\", \\\n",
    "                                       loc='center right')\n",
    "ax99.add_artist(text_in_box)"
   ]
  },
  {
   "cell_type": "code",
   "execution_count": null,
   "metadata": {},
   "outputs": [],
   "source": [
    "sys.exit()"
   ]
  },
  {
   "cell_type": "markdown",
   "metadata": {},
   "source": [
    "Fingerplot from pulse model"
   ]
  },
  {
   "cell_type": "code",
   "execution_count": null,
   "metadata": {},
   "outputs": [],
   "source": [
    "def pulse_template(t, t0, sigma, tau, scale, baseline, K) -> np.ndarray:\n",
    "    ''' \n",
    "    ARMA template.\n",
    "    t0 - offset\n",
    "    K - scalar multiplication factor for matching data\n",
    "    '''\n",
    "    return baseline + K*((1-scale)/(sigma*np.sqrt(2*np.pi))*np.exp(-((t-t0)/(sigma))**2/2) + scale*np.heaviside(t-t0,0)/tau*np.exp(-(t-t0)/tau))"
   ]
  },
  {
   "cell_type": "code",
   "execution_count": null,
   "metadata": {},
   "outputs": [],
   "source": [
    "x_values = np.arange(fit_catalogue[ch_x]['wf_raw'][0].shape[0])"
   ]
  },
  {
   "cell_type": "code",
   "execution_count": null,
   "metadata": {},
   "outputs": [],
   "source": [
    "fit_catalogue[ch_x]['wf_raw'].index.values"
   ]
  },
  {
   "cell_type": "code",
   "execution_count": null,
   "metadata": {},
   "outputs": [],
   "source": [
    "wf_index = 63688\n",
    "fig111, ax111 = plt.subplots()\n",
    "fitted_param = fit_catalogue[ch_x]['fit_param'][wf_index]\n",
    "ax111.plot(pulse_template(x_values, *fitted_param) - fitted_param[4])"
   ]
  },
  {
   "cell_type": "code",
   "execution_count": null,
   "metadata": {},
   "outputs": [],
   "source": [
    "from scipy.integrate import simpson"
   ]
  },
  {
   "cell_type": "code",
   "execution_count": null,
   "metadata": {},
   "outputs": [],
   "source": [
    "integration_vector = np.array([])\n",
    "for wf_index in fit_catalogue[ch_x]['wf_raw'].index.values:\n",
    "    if fit_catalogue[ch_x]['chisqr'].loc[wf_index] < 2:\n",
    "        fitted_param = fit_catalogue[ch_x]['fit_param'][wf_index]\n",
    "        trace = pulse_template(x_values, *fitted_param) - fitted_param[4]\n",
    "        # pulse_win_integration_value = np.sum(trace)\n",
    "        pulse_win_integration_value = simpson(trace)\n",
    "        integration_vector = np.append(integration_vector, pulse_win_integration_value)"
   ]
  },
  {
   "cell_type": "code",
   "execution_count": null,
   "metadata": {},
   "outputs": [],
   "source": [
    "fig111, ax111 = plt.subplots()\n",
    "# ax111.hist(integration_vector, bins=np.arange(450, 6000, 60), color='C0', label='ch2'); # fixed window\n",
    "ax111.hist(integration_vector, bins=np.arange(0, 2000, 15), color='C0', label=f'{ch_x}'); # peak_loc\n",
    "# ax111.hist(integration_vector, bins=2000, color='C0', label='ch2');\n",
    "ax111.legend()\n",
    "ax111.set_title(f'{ch_x}: Finger plot from pulse model')\n",
    "ax111.set_xlabel('integrated ADC counts equivalent to charge')\n",
    "ax111.set_ylabel('histogram frequency')\n",
    "text_in_box = AnchoredText(f\"statistics = {len(integration_vector)}\", \\\n",
    "                                       loc='upper left')\n",
    "ax111.add_artist(text_in_box)"
   ]
  },
  {
   "cell_type": "markdown",
   "metadata": {},
   "source": [
    "<hr> </hr>"
   ]
  }
 ],
 "metadata": {
  "kernelspec": {
   "display_name": "jar",
   "language": "python",
   "name": "python3"
  },
  "language_info": {
   "codemirror_mode": {
    "name": "ipython",
    "version": 3
   },
   "file_extension": ".py",
   "mimetype": "text/x-python",
   "name": "python",
   "nbconvert_exporter": "python",
   "pygments_lexer": "ipython3",
   "version": "3.11.8"
  }
 },
 "nbformat": 4,
 "nbformat_minor": 2
}
