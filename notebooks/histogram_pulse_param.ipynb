{
 "cells": [
  {
   "cell_type": "markdown",
   "metadata": {},
   "source": [
    "<p style=\"text-align:center;\">\n",
    "<span style=\"color:rgba(0,0,255,1); font-size:36px;\"> Histogram pulse parameters</span>\n",
    "<br>\n",
    "<span style=\"color:grey; font-size:20px\"> Creates fingerplot</span>\n",
    "</p>\n",
    "<br>\n",
    "<br>\n",
    "<span style=\"color:magenta; font-size:24px\"> This notebook is <b>NOT</b> prototype code.</span>"
   ]
  },
  {
   "cell_type": "markdown",
   "metadata": {},
   "source": [
    "**Table of contents**<a id='toc0_'></a>    \n",
    "- 1. [select channel](#toc1_)    \n",
    "- 2. [Function definitions](#toc2_)    \n",
    "- 3. [load pkl files](#toc3_)    \n",
    "- 4. [concatenate catalogues](#toc4_)    \n",
    "- 5. [Exploratory Analysis](#toc5_)    \n",
    "- 6. [Data Cleaning](#toc6_)    \n",
    "- 7. [Extract fit_param into dict](#toc7_)    \n",
    "- 8. [Investigating Paramater distributions](#toc8_)    \n",
    "  - 8.1. [t0](#toc8_1_)    \n",
    "  - 8.2. [$\\sigma$](#toc8_2_)    \n",
    "    - 8.2.1. [fitting](#toc8_2_1_)    \n",
    "  - 8.3. [$\\tau$](#toc8_3_)    \n",
    "  - 8.4. [scale](#toc8_4_)    \n",
    "- 9. [Cuts:  rectangular cut](#toc9_)    \n",
    "  - 9.1. [$ \\sigma$](#toc9_1_)    \n",
    "    - 9.1.1. [fitting](#toc9_1_1_)    \n",
    "  - 9.2. [$\\tau$](#toc9_2_)    \n",
    "    - 9.2.1. [fitting](#toc9_2_1_)    \n",
    "    - 9.2.2. [Fitting with iMinuit](#toc9_2_2_)    \n",
    "  - 9.3. [scale](#toc9_3_)    \n",
    "    - 9.3.1. [fitting](#toc9_3_1_)    \n",
    "- 10. [FingerPlot](#toc10_)    \n",
    "- 11. [fit gaussian to finger](#toc11_)    \n",
    "  - 11.1. [First finger](#toc11_1_)    \n",
    "  - 11.2. [Second finger](#toc11_2_)    \n",
    "- 12. [Double Gauss fit](#toc12_)    \n",
    "- 13. [SPE charge](#toc13_)    \n",
    "- 14. [SNR](#toc14_)    \n",
    "  - 14.1. [Noise term](#toc14_1_)    \n",
    "    - 14.1.1. [Event catalogue for sigma of Pedestal](#toc14_1_1_)    \n",
    "  - 14.2. [SNR calculation](#toc14_2_)    \n",
    "\n",
    "<!-- vscode-jupyter-toc-config\n",
    "\tnumbering=true\n",
    "\tanchor=true\n",
    "\tflat=false\n",
    "\tminLevel=1\n",
    "\tmaxLevel=6\n",
    "\t/vscode-jupyter-toc-config -->\n",
    "<!-- THIS CELL WILL BE REPLACED ON TOC UPDATE. DO NOT WRITE YOUR TEXT IN THIS CELL -->"
   ]
  },
  {
   "cell_type": "code",
   "execution_count": null,
   "metadata": {},
   "outputs": [],
   "source": [
    "import numpy as np\n",
    "import pandas as pd\n",
    "from scipy.optimize import curve_fit\n",
    "import pickle\n",
    "import matplotlib.pyplot as plt\n",
    "from matplotlib import legend\n",
    "from matplotlib.offsetbox import AnchoredText\n",
    "import matplotlib.patches as patches\n",
    "import matplotlib.offsetbox as offsetbox\n",
    "import matplotlib as mpl"
   ]
  },
  {
   "cell_type": "code",
   "execution_count": null,
   "metadata": {},
   "outputs": [],
   "source": [
    "from sys import exit"
   ]
  },
  {
   "cell_type": "code",
   "execution_count": null,
   "metadata": {},
   "outputs": [],
   "source": [
    "mpl.rcParams['axes.labelsize'] = 14"
   ]
  },
  {
   "cell_type": "code",
   "execution_count": null,
   "metadata": {},
   "outputs": [],
   "source": [
    "from matplotlib import rc"
   ]
  },
  {
   "cell_type": "code",
   "execution_count": null,
   "metadata": {},
   "outputs": [],
   "source": [
    "# rc('figure', autolayout=True, dpi=125, titlesize=20 )\n",
    "# rc('font', family='monospace')\n",
    "# rc('axes', titlesize=22, titleweight='heavy', labelsize=20, labelweight='bold')\n",
    "# rc(('xtick', 'ytick'), labelsize = 18)\n",
    "# rc('legend', fontsize=14)\n",
    "rc('figure', autolayout=True, figsize=[16, 9], dpi=125, titlesize=20 ) # better for presentations\n",
    "# rc('figure', autolayout=True, figsize=[4, 3], dpi=125, titlesize=20 ) # smaller screen\n",
    "rc('font', family='monospace')\n",
    "rc('axes', titlesize=20, titleweight='heavy', labelsize=16, labelweight='bold')\n",
    "rc(('xtick', 'ytick'), labelsize = 18)\n",
    "rc('legend', fontsize=14)\n",
    "rc('lines', linewidth=2.5)\n",
    "rc('mathtext', default = 'regular')\n",
    "rc('xtick.minor', visible = True, size = 6)\n",
    "rc('ytick.minor', visible = True, size = 8)\n",
    "# rc('axes.formatter', limits=[-1, 1])\n",
    "np.set_printoptions(formatter={'float': lambda x: f\"{x:10.4g}\"})"
   ]
  },
  {
   "cell_type": "code",
   "execution_count": null,
   "metadata": {},
   "outputs": [],
   "source": [
    "# np.set_printoptions(formatter={'float': lambda x: f\"{x:10.4g}\"})"
   ]
  },
  {
   "cell_type": "code",
   "execution_count": null,
   "metadata": {},
   "outputs": [],
   "source": [
    "%matplotlib ipympl"
   ]
  },
  {
   "cell_type": "markdown",
   "metadata": {},
   "source": [
    "# 1. <a id='toc1_'></a>[select channel](#toc0_)"
   ]
  },
  {
   "cell_type": "markdown",
   "metadata": {},
   "source": [
    "Which channel?"
   ]
  },
  {
   "cell_type": "code",
   "execution_count": null,
   "metadata": {},
   "outputs": [],
   "source": [
    "ch_str_ls = ['ch0', 'ch1', 'ch2']\n",
    "\n",
    "# selected_channel =  input(\"Choose channel number for processing.\")\n",
    "selected_channel = 0\n",
    "# selected_channel = 2\n",
    "print(f\"selected channel index: {selected_channel}\")\n",
    "ch_x = ch_str_ls[int(selected_channel)]"
   ]
  },
  {
   "cell_type": "markdown",
   "metadata": {},
   "source": [
    "# 2. <a id='toc2_'></a>[Function definitions](#toc0_)"
   ]
  },
  {
   "cell_type": "code",
   "execution_count": null,
   "metadata": {},
   "outputs": [],
   "source": [
    "def f_gauss(x, g_mean, g_sigma, g_k):\n",
    "    return g_k*(1/(g_sigma*np.sqrt(2*np.pi)))*np.exp(-0.5*((x-g_mean)/g_sigma)**2)"
   ]
  },
  {
   "cell_type": "code",
   "execution_count": null,
   "metadata": {},
   "outputs": [],
   "source": [
    "def red_chisq(f_obs, f_exp, fittedparameters):\n",
    "    chisqr = np.sum((f_obs - f_exp)**2 / f_exp)\n",
    "    ndf = f_obs.shape[0]\n",
    "    return chisqr/(ndf -fittedparameters.shape[0])"
   ]
  },
  {
   "cell_type": "code",
   "execution_count": null,
   "metadata": {},
   "outputs": [],
   "source": [
    "## Centre of Mass\n",
    "def calc_COM(hist_content, hist_edges):\n",
    "    hist_com = np.divide(np.sum(np.multiply(hist_edges[:-1], hist_content), axis=0), \n",
    "                      np.sum(hist_content, axis=0)\n",
    "                )\n",
    "    return hist_com"
   ]
  },
  {
   "cell_type": "markdown",
   "metadata": {},
   "source": [
    "# 3. <a id='toc3_'></a>[load pkl files](#toc0_)"
   ]
  },
  {
   "cell_type": "code",
   "execution_count": null,
   "metadata": {},
   "outputs": [],
   "source": [
    "# all_clean_catalogues = []\n",
    "# for run_number in run_number_ls:\n",
    "#     all_clean_catalogues.append(f'clean_catalogue_run000{run_number}.pkl')"
   ]
  },
  {
   "cell_type": "code",
   "execution_count": null,
   "metadata": {},
   "outputs": [],
   "source": [
    "# selected_clean_catalogue_path = os.path.join(output_folder, all_clean_catalogues[3])\n",
    "# selected_clean_dict = pickle.load(open(selected_fit_catalogue_path, 'rb'))\n",
    "# selected_clean_dict #['ch2']"
   ]
  },
  {
   "cell_type": "code",
   "execution_count": null,
   "metadata": {},
   "outputs": [],
   "source": [
    "# output_folder = '/home/sarthak/my_projects/argset/output_folder/'\n",
    "output_folder = '/work/chuck/sarthak/argset/output_folder'\n",
    "# output_folder = '/work/sarthak/argset/processed_data/backup_ch2/'\n",
    "# output_folder = '/work/sarthak/argset/processed_data/backup/'\n",
    "# output_folder = '/work/chuck/sarthak/argset/backup_default_ARMA/output_folder/'"
   ]
  },
  {
   "cell_type": "code",
   "execution_count": null,
   "metadata": {},
   "outputs": [],
   "source": [
    "run_number_ls = [52, 53, 54, 61, 62, 63]\n",
    "# run_number_ls = [52, 61]\n",
    "# run_number_ls = [52]"
   ]
  },
  {
   "cell_type": "code",
   "execution_count": null,
   "metadata": {},
   "outputs": [],
   "source": [
    "all_fit_catalogues = []\n",
    "for run_number in run_number_ls:\n",
    "    # all_fit_catalogues.append(f'{output_folder}/fit_catalogue_run000{run_number}.pkl')\n",
    "    # all_fit_catalogues.append(f'{output_folder}/fit_catalogue_custom_run000{run_number}.pkl')\n",
    "    all_fit_catalogues.append(f'{output_folder}/fit_catalogue_filteredWF_run000{run_number}.pkl')"
   ]
  },
  {
   "cell_type": "code",
   "execution_count": null,
   "metadata": {},
   "outputs": [],
   "source": [
    "all_fit_catalogues"
   ]
  },
  {
   "cell_type": "code",
   "execution_count": null,
   "metadata": {},
   "outputs": [],
   "source": [
    "fit_dict_52 = pickle.load(open( all_fit_catalogues[0], 'rb'))"
   ]
  },
  {
   "cell_type": "code",
   "execution_count": null,
   "metadata": {},
   "outputs": [],
   "source": [
    "fit_dict_53 = pickle.load(open( all_fit_catalogues[1], 'rb'))"
   ]
  },
  {
   "cell_type": "code",
   "execution_count": null,
   "metadata": {},
   "outputs": [],
   "source": [
    "fit_dict_54 = pickle.load(open( all_fit_catalogues[2], 'rb'))"
   ]
  },
  {
   "cell_type": "code",
   "execution_count": null,
   "metadata": {},
   "outputs": [],
   "source": [
    "fit_dict_61 = pickle.load(open( all_fit_catalogues[3], 'rb'))"
   ]
  },
  {
   "cell_type": "code",
   "execution_count": null,
   "metadata": {},
   "outputs": [],
   "source": [
    "fit_dict_62 = pickle.load(open( all_fit_catalogues[4], 'rb'))"
   ]
  },
  {
   "cell_type": "code",
   "execution_count": null,
   "metadata": {},
   "outputs": [],
   "source": [
    "fit_dict_63 = pickle.load(open( all_fit_catalogues[4], 'rb'))"
   ]
  },
  {
   "cell_type": "markdown",
   "metadata": {},
   "source": [
    "# 4. <a id='toc4_'></a>[concatenate catalogues](#toc0_)"
   ]
  },
  {
   "cell_type": "code",
   "execution_count": null,
   "metadata": {},
   "outputs": [],
   "source": [
    "fit_dict_ls = [fit_dict_52, fit_dict_53, fit_dict_54, fit_dict_61, fit_dict_62, fit_dict_63]\n",
    "# fit_dict_ls = [fit_dict_52, fit_dict_53, fit_dict_54]\n",
    "# fit_dict_ls = [fit_dict_61, fit_dict_62, fit_dict_63]\n",
    "# fit_dict_ls = [fit_dict_52]\n",
    "# ch_str_ls = ['ch0', 'ch1', 'ch2'] # original\n",
    "ch_str_ls = [['ch0', 'ch1', 'ch2'][selected_channel]]\n",
    "# ch_str_ls = ['ch2']\n",
    "\n",
    "fit_catalogue = {}\n",
    "# for ch_x in ch_str_ls: # original\n",
    "for ch_x in ch_str_ls:\n",
    "    fit_catalogue_x = []\n",
    "    for fit_dict in fit_dict_ls:\n",
    "        fit_catalogue_x.append(fit_dict[ch_x])\n",
    "    fit_catalogue[ch_x] = pd.concat(fit_catalogue_x, ignore_index=True)"
   ]
  },
  {
   "cell_type": "markdown",
   "metadata": {},
   "source": [
    "Free up RAM"
   ]
  },
  {
   "cell_type": "code",
   "execution_count": null,
   "metadata": {},
   "outputs": [],
   "source": [
    "del fit_dict_53, fit_dict_54, fit_dict_61, fit_dict_62, fit_dict_63"
   ]
  },
  {
   "cell_type": "markdown",
   "metadata": {},
   "source": [
    "<p> Note: remember event_counter is unique only for a run; for concatenated DataFrames it is no longer unique identifier.</p>"
   ]
  },
  {
   "cell_type": "markdown",
   "metadata": {},
   "source": [
    "# 5. <a id='toc5_'></a>[Exploratory Analysis](#toc0_)\n",
    "No longer needed!"
   ]
  },
  {
   "cell_type": "markdown",
   "metadata": {},
   "source": [
    "the ratio of good fit waveforms to clean forms"
   ]
  },
  {
   "cell_type": "code",
   "execution_count": null,
   "metadata": {},
   "outputs": [],
   "source": [
    "# (fit_catalogue['ch0'][fit_catalogue['ch0']['chisqr']< 2.0]).shape[0]/(fit_catalogue['ch0']).shape[0]"
   ]
  },
  {
   "cell_type": "code",
   "execution_count": null,
   "metadata": {},
   "outputs": [],
   "source": [
    "# (fit_catalogue['ch1'][fit_catalogue['ch1']['chisqr']< 2.0]).shape[0]/(fit_catalogue['ch1']).shape[0]"
   ]
  },
  {
   "cell_type": "code",
   "execution_count": null,
   "metadata": {},
   "outputs": [],
   "source": [
    "# (fit_catalogue['ch2'][fit_catalogue[ch_x]['chisqr']< 2.0]).shape[0]/(fit_catalogue['ch2']).shape[0]"
   ]
  },
  {
   "cell_type": "markdown",
   "metadata": {},
   "source": [
    "How many times fit failed to converge?"
   ]
  },
  {
   "cell_type": "code",
   "execution_count": null,
   "metadata": {},
   "outputs": [],
   "source": [
    "# fit_catalogue['ch0']['fit_param'].isnull().sum()"
   ]
  },
  {
   "cell_type": "code",
   "execution_count": null,
   "metadata": {},
   "outputs": [],
   "source": [
    "# fit_catalogue['ch1']['fit_param'].isnull().sum()"
   ]
  },
  {
   "cell_type": "code",
   "execution_count": null,
   "metadata": {},
   "outputs": [],
   "source": [
    "# fit_catalogue['ch2']['fit_param'].isnull().sum()"
   ]
  },
  {
   "cell_type": "code",
   "execution_count": null,
   "metadata": {},
   "outputs": [],
   "source": [
    "# fit_catalogue['ch0'].index.values.shape"
   ]
  },
  {
   "cell_type": "code",
   "execution_count": null,
   "metadata": {},
   "outputs": [],
   "source": [
    "# fit_catalogue['ch0'][fit_catalogue['ch0']['chisqr']< 2.0]"
   ]
  },
  {
   "cell_type": "code",
   "execution_count": null,
   "metadata": {},
   "outputs": [],
   "source": [
    "plt.figure(figsize=(9, 6))\n",
    "plt.title('coploting raw and AR filtered waveforms')\n",
    "\n",
    "event_value = 10\n",
    "\n",
    "# plt.plot(fit_dict_52['ch0']['wf_ch0'][event_value], label='raw + shift')\n",
    "# plt.plot(fit_dict_52['ch0']['wf_raw'][event_value], label='raw')\n",
    "# plt.plot(fit_dict_52['ch0']['filtered_wf_ch0'][event_value], linewidth=5, label='AR filtered')\n",
    "plt.plot(fit_dict_52[['ch0', 'ch1', 'ch2'][selected_channel]]['wf_raw'][event_value], label='raw')\n",
    "plt.plot(fit_dict_52[['ch0', 'ch1', 'ch2'][selected_channel]][f\"filtered_wf_{['ch0', 'ch1', 'ch2'][selected_channel]}\"][event_value], linewidth=5, label='AR filtered')\n",
    "\n",
    "plt.xlabel('Time bins')\n",
    "plt.ylabel('Amplitude (ADC)')\n",
    "# plt.axhline(y=fit_dict_52['ch0']['fit_param'][event_value][4], color='magenta', label = 'baseline')\n",
    "plt.legend()"
   ]
  },
  {
   "cell_type": "code",
   "execution_count": null,
   "metadata": {},
   "outputs": [],
   "source": [
    "# plt.savefig('../plots/raw_vs_filtered.svg')"
   ]
  },
  {
   "cell_type": "code",
   "execution_count": null,
   "metadata": {},
   "outputs": [],
   "source": [
    "# fit_dict_52['ch0']['fit_param'].loc[plot_index][0] < 600"
   ]
  },
  {
   "cell_type": "code",
   "execution_count": null,
   "metadata": {},
   "outputs": [],
   "source": [
    "plt.figure(figsize=(9, 6))\n",
    "plt.title('Over-ploting AR filtered waveforms')\n",
    "# helps select the t0\n",
    "event_value = 0\n",
    "\n",
    "for plot_index in fit_catalogue[ch_x]['wf_raw'].index.values[:50]:\n",
    "    # if (fit_dict_52['ch0']['fit_param'].loc[plot_index][0] < 600) & (fit_dict_52['ch0']['fit_param'].loc[plot_index][0] > 400):\n",
    "    #     plt.plot(fit_dict_52['ch0']['filtered_wf_ch0'][plot_index], linewidth=1)\n",
    "    if (fit_dict_52[['ch0', 'ch1', 'ch2'][selected_channel]]['fit_param'].loc[plot_index][0] < 600) & (fit_dict_52[f\"{['ch0', 'ch1', 'ch2'][selected_channel]}\"]['fit_param'].loc[plot_index][0] > 400):\n",
    "        plt.plot(fit_dict_52[['ch0', 'ch1', 'ch2'][selected_channel]][f\"filtered_wf_{['ch0', 'ch1', 'ch2'][selected_channel]}\"][plot_index], linewidth=1)\n",
    "plt.xlabel('Time bins')\n",
    "plt.ylabel('Amplitude (ADC)')\n",
    "# plt.savefig('../plots/over_ploting_filtered_Wf.svg')"
   ]
  },
  {
   "cell_type": "code",
   "execution_count": null,
   "metadata": {},
   "outputs": [],
   "source": [
    "del fit_dict_52"
   ]
  },
  {
   "cell_type": "markdown",
   "metadata": {},
   "source": [
    "# 6. <a id='toc6_'></a>[Data Cleaning](#toc0_)"
   ]
  },
  {
   "cell_type": "markdown",
   "metadata": {},
   "source": [
    "Drop NA rows"
   ]
  },
  {
   "cell_type": "code",
   "execution_count": null,
   "metadata": {},
   "outputs": [],
   "source": [
    "for ch_index in ch_str_ls:\n",
    "    fit_catalogue[ch_index] = fit_catalogue[ch_index].dropna()"
   ]
  },
  {
   "cell_type": "code",
   "execution_count": null,
   "metadata": {},
   "outputs": [],
   "source": [
    "# sanity check: dropna works!\n",
    "# fit_catalogue['ch0']['fit_param'].isnull().sum()"
   ]
  },
  {
   "cell_type": "markdown",
   "metadata": {},
   "source": [
    "# 7. <a id='toc7_'></a>[Extract fit_param into dict](#toc0_)"
   ]
  },
  {
   "cell_type": "markdown",
   "metadata": {},
   "source": [
    "extracting param values"
   ]
  },
  {
   "cell_type": "code",
   "execution_count": null,
   "metadata": {},
   "outputs": [],
   "source": [
    "param_dict = {}\n",
    "for ch_index in ch_str_ls:\n",
    "    t0_ls = []\n",
    "    sigma_ls = []\n",
    "    tau_ls = []\n",
    "    scale_ls = []\n",
    "    fit_param_x = {}\n",
    "    for loop_index in fit_catalogue[ch_index].index.values:\n",
    "        loop_fit_param = fit_catalogue[ch_index].loc[loop_index]['fit_param']\n",
    "        t0_ls.append(loop_fit_param[0])\n",
    "        sigma_ls.append(loop_fit_param[1])\n",
    "        tau_ls.append(loop_fit_param[2])\n",
    "        scale_ls.append(loop_fit_param[3])\n",
    "    fit_param_x['t0'] = t0_ls\n",
    "    fit_param_x['sigma'] = sigma_ls\n",
    "    fit_param_x['tau'] = tau_ls\n",
    "    fit_param_x['scale'] = scale_ls\n",
    "    param_dict[ch_index] = fit_param_x"
   ]
  },
  {
   "cell_type": "markdown",
   "metadata": {},
   "source": [
    "# 8. <a id='toc8_'></a>[Investigating Paramater distributions](#toc0_)"
   ]
  },
  {
   "cell_type": "markdown",
   "metadata": {},
   "source": [
    "## 8.1. <a id='toc8_1_'></a>[t0](#toc0_)"
   ]
  },
  {
   "cell_type": "code",
   "execution_count": null,
   "metadata": {},
   "outputs": [],
   "source": [
    "plt.close(1)\n",
    "fig1, ax1 = plt.subplots()\n",
    "text_in_box = AnchoredText(f\"statistics = {len(param_dict[ch_x]['t0'])}\", \\\n",
    "                                       prop=dict(size=12), loc='upper right')\n",
    "ax1.add_artist(text_in_box)\n",
    "ax1.hist(param_dict[ch_x]['t0'], bins = np.linspace(350, 550, 200))\n",
    "ax1.set_title('t0')"
   ]
  },
  {
   "cell_type": "markdown",
   "metadata": {},
   "source": [
    "## 8.2. <a id='toc8_2_'></a>[$\\sigma$](#toc0_)"
   ]
  },
  {
   "cell_type": "code",
   "execution_count": null,
   "metadata": {},
   "outputs": [],
   "source": [
    "plt.close(2)\n",
    "fig2, ax2 = plt.subplots()\n",
    "hist_content, hist_edges, _hist_obj= ax2.hist(param_dict[ch_x]['sigma'], bins=200, histtype='step', label = 'data') #, bins= np.linspace(1.0, 6.0, 10))\n",
    "text_in_box = AnchoredText(f\"statistics = {len(param_dict[ch_x]['sigma'])}\", \\\n",
    "                                       prop=dict(size=12), loc='upper right')\n",
    "ax2.add_artist(text_in_box)\n",
    "ax2.set_title('$\\\\sigma$')"
   ]
  },
  {
   "cell_type": "markdown",
   "metadata": {},
   "source": [
    "### 8.2.1. <a id='toc8_2_1_'></a>[fitting](#toc0_)"
   ]
  },
  {
   "cell_type": "code",
   "execution_count": null,
   "metadata": {},
   "outputs": [],
   "source": [
    "x_range = range(30, 49)\n",
    "\n",
    "p0_input = [2, 0.45, 500.0] ## ch2 & ch1\n",
    "\n",
    "# bounds_input = ([1.0, 0.0, 500.0], [10.0, 1.0, 600.0]) ## ch2\n",
    "bounds_input = ([1.0, 0.0, 0.0], [10.0, 1.0, np.inf]) ## ch1\n",
    "\n",
    "fitted_parameters, _pcov = curve_fit(f_gauss, \n",
    "                            hist_edges[x_range], hist_content[x_range], \\\n",
    "                            p0 = p0_input, \n",
    "                            bounds = bounds_input,\n",
    "                            sigma = np.sqrt(hist_content[x_range]),\n",
    "                            absolute_sigma=True,\n",
    "                            )\n",
    "\n",
    "chisqr_value = red_chisq(hist_content[x_range], \\\n",
    "    f_gauss(hist_edges[x_range], *fitted_parameters), fitted_parameters\n",
    "    )\n",
    "\n",
    "ax2.plot(hist_edges[x_range], f_gauss(hist_edges[x_range], *fitted_parameters), \n",
    "        #  color='red', \n",
    "         label='fitted function')\n",
    "ax2.legend()\n",
    "chisqr_in_box = AnchoredText(f\"red. chisqr = {chisqr_value:.2f}\", \\\n",
    "                                       prop=dict(size=12), loc='center right')\n",
    "ax2.add_artist(chisqr_in_box)\n",
    "\n",
    "chisqr_value"
   ]
  },
  {
   "cell_type": "code",
   "execution_count": null,
   "metadata": {},
   "outputs": [],
   "source": [
    "fitted_parameters"
   ]
  },
  {
   "cell_type": "code",
   "execution_count": null,
   "metadata": {},
   "outputs": [],
   "source": [
    "legend_obj_ax2 = ax2.legend(loc='best', bbox_to_anchor=[1.0, 0.90])"
   ]
  },
  {
   "cell_type": "code",
   "execution_count": null,
   "metadata": {},
   "outputs": [],
   "source": [
    "# legend.DraggableLegend(legend_obj_ax2)"
   ]
  },
  {
   "cell_type": "code",
   "execution_count": null,
   "metadata": {},
   "outputs": [],
   "source": [
    "# pickle.dump( (fig2, ax2), open('ax2_plot.pkl', 'wb')) ## writes plot to file"
   ]
  },
  {
   "cell_type": "markdown",
   "metadata": {},
   "source": [
    "## 8.3. <a id='toc8_3_'></a>[$\\tau$](#toc0_)"
   ]
  },
  {
   "cell_type": "code",
   "execution_count": null,
   "metadata": {},
   "outputs": [],
   "source": [
    "plt.close(3)\n",
    "fig3, ax3 = plt.subplots()\n",
    "ax3.hist = plt.hist(param_dict[ch_x]['tau'], bins= np.linspace(0.0, 150.0, 300), histtype='step')\n",
    "text_in_box = AnchoredText(f\"statistics = {len(param_dict[ch_x]['tau'])}\", \\\n",
    "                                       prop=dict(size=12), loc='upper right')\n",
    "ax3.add_artist(text_in_box)\n",
    "ax3.set_title('$\\\\tau$')"
   ]
  },
  {
   "cell_type": "markdown",
   "metadata": {},
   "source": [
    "## 8.4. <a id='toc8_4_'></a>[scale](#toc0_)"
   ]
  },
  {
   "cell_type": "code",
   "execution_count": null,
   "metadata": {},
   "outputs": [],
   "source": [
    "plt.close(4)\n",
    "fig4, ax4 = plt.subplots()\n",
    "ax4.hist(param_dict[ch_x]['scale'], bins= np.linspace(0.4, 1.0, 200), histtype='step')\n",
    "text_in_box = AnchoredText(f\"statistics = {len(param_dict[ch_x]['scale'])}\", \\\n",
    "                                       prop=dict(size=12), loc='upper left')\n",
    "ax4.add_artist(text_in_box)\n",
    "ax4.set_title('scale')"
   ]
  },
  {
   "cell_type": "code",
   "execution_count": null,
   "metadata": {},
   "outputs": [],
   "source": [
    "plt.close(5)\n",
    "red_win = patches.Rectangle((0.932, 2.44), 0.06, 3.10, linewidth=1.1, edgecolor='r', facecolor='none')\n",
    "fig5, ax5 = plt.subplots(figsize=(10, 8))\n",
    "hist_h, hist_xedges, hist_yedges, hist_im = ax5.hist2d(param_dict[ch_x]['scale'], \\\n",
    "                    param_dict[ch_x]['sigma'], bins = [np.linspace(0.6, 1.0, 100), np.linspace(0., 10., 100)], \\\n",
    "                    cmap='jet')\n",
    "ax5.add_patch(red_win)\n",
    "ax5.set_xlabel('$\\\\alpha$')\n",
    "ax5.set_ylabel('$\\\\sigma$')\n",
    "fig5.colorbar(hist_im)\n",
    "# ax5.set_title(f' {ch_x}: $\\\\alpha$ vs $\\\\sigma$'); %Thesis figures probably don't need figure titles.\n",
    "fig5.savefig('../plots/ch0_alphVSsigma_rectangular_cut.png')"
   ]
  },
  {
   "cell_type": "code",
   "execution_count": null,
   "metadata": {},
   "outputs": [],
   "source": [
    "plt.close(6)\n",
    "fig6, ax6 = plt.subplots()\n",
    "hist_h, hist_xedges, hist_yedges, hist_im = ax6.hist2d(param_dict[ch_x]['sigma'], \\\n",
    "                    param_dict[ch_x]['tau'], bins = [np.linspace(0.0, 1.0, 10), np.linspace(50e0, 20e3, 10)] , \\\n",
    "                        cmap='jet')\n",
    "fig6.colorbar(hist_im)\n",
    "ax6.set_title('$\\\\sigma \\ vs \\ \\\\tau $');"
   ]
  },
  {
   "cell_type": "code",
   "execution_count": null,
   "metadata": {},
   "outputs": [],
   "source": [
    "plt.close(7)\n",
    "fig7, ax7 = plt.subplots()\n",
    "hist_h, hist_xedges, hist_yedges, hist_im = ax7.hist2d(param_dict[ch_x]['tau'], \\\n",
    "                    param_dict[ch_x]['scale'], bins = [np.linspace(50, 175, 1000), np.linspace(0.5, 1.0, 10)], \\\n",
    "                    cmap='jet')\n",
    "fig7.colorbar(hist_im)\n",
    "ax7.set_title('$\\\\tau \\ vs \\ scale $');"
   ]
  },
  {
   "cell_type": "markdown",
   "metadata": {},
   "source": [
    "# 9. <a id='toc9_'></a>[Cuts:  rectangular cut](#toc0_)"
   ]
  },
  {
   "cell_type": "markdown",
   "metadata": {},
   "source": [
    "<span style='color:green'> List of events to be removed</span>"
   ]
  },
  {
   "cell_type": "code",
   "execution_count": null,
   "metadata": {},
   "outputs": [],
   "source": [
    "### list of events which contribute to red window for Ch2\n",
    "internal_points = []\n",
    "for fit_index in fit_catalogue[ch_x].index.values:\n",
    "    loop_fit_param = fit_catalogue[ch_x]['fit_param'].loc[fit_index]\n",
    "    param_point = (loop_fit_param[3], loop_fit_param[1]) # scale, sigma\n",
    "    transformed_interior_point = red_win.get_data_transform().transform(param_point)\n",
    "    if red_win.contains_point(transformed_interior_point, radius=0):\n",
    "        internal_points.append(fit_index)"
   ]
  },
  {
   "cell_type": "markdown",
   "metadata": {},
   "source": [
    "<span style = 'color:green'> Exploratory Analysis on red window: </span>"
   ]
  },
  {
   "cell_type": "code",
   "execution_count": null,
   "metadata": {},
   "outputs": [],
   "source": [
    "internal_points;"
   ]
  },
  {
   "cell_type": "code",
   "execution_count": null,
   "metadata": {},
   "outputs": [],
   "source": [
    "all_indices = fit_catalogue[ch_x].index.values"
   ]
  },
  {
   "cell_type": "code",
   "execution_count": null,
   "metadata": {},
   "outputs": [],
   "source": [
    "all_indices[1000] in internal_points"
   ]
  },
  {
   "cell_type": "code",
   "execution_count": null,
   "metadata": {},
   "outputs": [],
   "source": [
    "internal_points[215:]"
   ]
  },
  {
   "cell_type": "code",
   "execution_count": null,
   "metadata": {},
   "outputs": [],
   "source": [
    "# for fit_index in fit_catalogue[ch_x].index.values:\n",
    "#     fit_param = fit_catalogue[ch_x]['fit_param'].iloc[fit_index]\n",
    "#     if fit_index > 100 and fit_param[1] > 2.5 and fit_param[1] < 2.65 and fit_param[3] > 0.97 and fit_param[3] < 0.99:\n",
    "#         print(fit_index)\n",
    "#         print(f'sigma: { fit_param[1]}')\n",
    "#         print(f'alpha: { fit_param[3]}')"
   ]
  },
  {
   "cell_type": "code",
   "execution_count": null,
   "metadata": {},
   "outputs": [],
   "source": [
    "# for fit_index in fit_catalogue[ch_x].index.values:\n",
    "#     fit_param = fit_catalogue[ch_x]['fit_param'].iloc[fit_index]\n",
    "#     if fit_index > 100 and fit_param[1] > 2.02 and fit_param[1] < 2.12 and fit_param[3] > 0.888 and fit_param[3] < 0.890:\n",
    "#         print(fit_index)\n",
    "#         print(f'sigma: { fit_param[1]}')\n",
    "#         print(f'alpha: { fit_param[3]}')"
   ]
  },
  {
   "cell_type": "code",
   "execution_count": null,
   "metadata": {},
   "outputs": [],
   "source": [
    "pnt1 = 169 #111\n",
    "pnt2 = 1023 #119\n",
    "pnt3 = 263 #\n",
    "pnt4 = 302 # 302\n",
    "\n",
    "fig555, ax555 = plt.subplots(2, 2, figsize=(12,10), sharex=True, sharey = True) #12, 10\n",
    "# selected_internal_wf = fit_catalogue[ch_x]['wf_raw'][internal_points[500]]\n",
    "selected_internal_wf = fit_catalogue[ch_x]['wf_raw'][all_indices[pnt1]] # 78 111\n",
    "ax555[0][0].plot(selected_internal_wf, label = 'outlier', color='red')\n",
    "# ax555[0][0].set_title(f\"{ch_x} waveform from within red window\")\n",
    "\n",
    "# selected_internal_wf = fit_catalogue[ch_x]['wf_raw'][internal_points[997]]\n",
    "selected_internal_wf = fit_catalogue[ch_x]['wf_raw'][all_indices[pnt2]] #946 1075 26 42 67 77 94 119\n",
    "ax555[0][1].plot(selected_internal_wf, label = 'outlier', color='red')\n",
    "# ax555[0][1].set_title(f\"{ch_x} waveform from within red window\")\n",
    "\n",
    "selected_external_wf = fit_catalogue[ch_x]['wf_raw'][all_indices[pnt3]] # 260\n",
    "ax555[1][0].plot(selected_external_wf, label = 'typical event')\n",
    "# ax555[1][0].set_title(f\"{ch_x} waveform from outside red window\")\n",
    "\n",
    "selected_external_wf = fit_catalogue[ch_x]['wf_raw'][all_indices[pnt4]] # 262\n",
    "ax555[1][1].plot(selected_external_wf, label = 'typical event')\n",
    "# ax555[1][1].set_title(f\"{ch_x} waveform from outside red window\")\n",
    "\n",
    "ax555[0][0].legend()\n",
    "ax555[0][1].legend()\n",
    "ax555[1][0].legend()\n",
    "ax555[1][1].legend()\n",
    "\n",
    "# fig555.suptitle(\"comparison of waveforms from within and outside rectangular window\")\n",
    "plt.subplots_adjust(left=None, bottom=None, right=None, top=None, wspace=None, hspace=0.0)\n",
    "# fig555.tight_layout()\n",
    "# text_in_box = AnchoredText(f\"statistics = {len(param_dict_cut[ch_x]['t0'])}\", \\\n",
    "#                                        prop=dict(size=12), loc='upper right')\n",
    "# ax555.add_artist(text_in_box)\n",
    "ax555[0][0].set_ylabel('ADC units')\n",
    "ax555[1][0].set_xlabel('Time bins')\n",
    "ax555[1][0].set_ylabel('ADC units')\n",
    "ax555[1][1].set_xlabel('Time bins')\n",
    "\n",
    "props = dict(boxstyle='round', facecolor='wheat', alpha=0.5)\n",
    "txtstr = r\"$\\alpha =\" f\"{param_dict[ch_x]['scale'][pnt1]:.2F}$\" + \"\\n\" + r\"$\\sigma =\" f\"{param_dict[ch_x]['sigma'][pnt1]:.2F}$\"\n",
    "ax555[0][0].text(0.02, 0.95, txtstr, transform=ax555[0][0].transAxes, fontsize=14, verticalalignment='top', bbox=props)\n",
    "txtstr = r\"$\\alpha =\" f\"{param_dict[ch_x]['scale'][pnt2]:.2F}$\" + \"\\n\" + r\"$\\sigma =\" f\"{param_dict[ch_x]['sigma'][pnt2]:.2F}$\"\n",
    "ax555[0][1].text(0.2, 0.95, txtstr, transform=ax555[0][1].transAxes, fontsize=14, verticalalignment='top', bbox=props)\n",
    "txtstr = r\"$\\alpha =\" f\"{param_dict[ch_x]['scale'][pnt3]:.2F}$\" + \"\\n\" + r\"$\\sigma =\" f\"{param_dict[ch_x]['sigma'][pnt3]:.2F}$\"\n",
    "ax555[1][0].text(0.02, 0.95, txtstr, transform=ax555[1][0].transAxes, fontsize=14, verticalalignment='top', bbox=props)\n",
    "txtstr = r\"$\\alpha =\" f\"{param_dict[ch_x]['scale'][pnt4]:.2F}$\" + \"\\n\" + r\"$\\sigma =\" f\"{param_dict[ch_x]['sigma'][pnt4]:.2F}$\"\n",
    "ax555[1][1].text(0.02, 0.95, txtstr, transform=ax555[1][1].transAxes, fontsize=14, verticalalignment='top', bbox=props)\n",
    "fig555.savefig('../plots/ch2_alphVSsigma_outliers.png')"
   ]
  },
  {
   "cell_type": "markdown",
   "metadata": {},
   "source": [
    "<span style='color:green;font-size:32pt'> applying cut </span>"
   ]
  },
  {
   "cell_type": "code",
   "execution_count": null,
   "metadata": {},
   "outputs": [],
   "source": [
    "# fit_catalogue[ch_x] = fit_catalogue[ch_x].drop(index = internal_points)"
   ]
  },
  {
   "cell_type": "markdown",
   "metadata": {},
   "source": [
    "<span style='color:green'> extracting param_dict out of DataFrames for all channels </span>"
   ]
  },
  {
   "cell_type": "code",
   "execution_count": null,
   "metadata": {},
   "outputs": [],
   "source": [
    "param_dict_cut = {}\n",
    "for ch_index in ch_str_ls:\n",
    "# for ch_x in ['ch2']: #ch_str_ls:\n",
    "    t0_ls = []\n",
    "    sigma_ls = []\n",
    "    tau_ls = []\n",
    "    scale_ls = []\n",
    "    fit_param_x = {}\n",
    "    for loop_index in fit_catalogue[ch_index].index.values:\n",
    "        loop_fit_param = fit_catalogue[ch_index].loc[loop_index]['fit_param']\n",
    "        t0_ls.append(loop_fit_param[0])\n",
    "        sigma_ls.append(loop_fit_param[1])\n",
    "        tau_ls.append(loop_fit_param[2])\n",
    "        scale_ls.append(loop_fit_param[3])\n",
    "    fit_param_x['t0'] = t0_ls\n",
    "    fit_param_x['sigma'] = sigma_ls\n",
    "    fit_param_x['tau'] = tau_ls\n",
    "    fit_param_x['scale'] = scale_ls\n",
    "    param_dict_cut[ch_index] = fit_param_x"
   ]
  },
  {
   "cell_type": "code",
   "execution_count": null,
   "metadata": {},
   "outputs": [],
   "source": [
    "## selected_channel = input(\"enter channel number\") # input by user\n",
    "## ch_x = ch_str_ls[int(selected_channel)]\n",
    "## ch_x = 'ch2'"
   ]
  },
  {
   "cell_type": "code",
   "execution_count": null,
   "metadata": {},
   "outputs": [],
   "source": [
    "plt.close(22)\n",
    "fig22, ax22 = plt.subplots()\n",
    "text_in_box = AnchoredText(f\"statistics = {len(param_dict_cut[ch_x]['t0'])}\", \\\n",
    "                                       prop=dict(size=12), loc='upper right')\n",
    "ax22.add_artist(text_in_box)\n",
    "ax22.hist(param_dict_cut[ch_x]['t0'], bins = np.linspace(350, 550, 100))\n",
    "# ax22.set_title(f\"{ch_x} t0: patch removed\")\n",
    "ax22.set_xlabel('t0')\n",
    "ax22.set_ylabel('counts')"
   ]
  },
  {
   "cell_type": "markdown",
   "metadata": {},
   "source": [
    "## 9.1. <a id='toc9_1_'></a>[$ \\sigma$](#toc0_)"
   ]
  },
  {
   "cell_type": "code",
   "execution_count": null,
   "metadata": {},
   "outputs": [],
   "source": [
    "plt.close(23)\n",
    "fig23, ax23 = plt.subplots(figsize=(10, 8))\n",
    "# fig23, ax23 = plt.subplots(figsize=(8, 5))\n",
    "\n",
    "hist_content, hist_edges, _hist_obj= ax23.hist(param_dict_cut[ch_x]['sigma'], bins= np.linspace(0, 10, 200), color='#007FFF', histtype='step', label='$\\\\sigma$')\n",
    "# hist_content, hist_edges, _hist_obj= ax23.hist(param_dict_cut[ch_x]['sigma'], bins=200, color='#007FFF', histtype='step', label='$\\\\sigma$') #, bins= np.linspace(1.0, 6.0, 10))\n",
    "# hist_content, hist_edges, _hist_obj= ax23.hist(param_dict_cut[ch_x]['sigma'], bins=500, color='#007FFF', histtype='step', label='$\\\\sigma$') #, bins= np.linspace(1.0, 6.0, 10))\n",
    "\n",
    "## error bars\n",
    "hist_centers = []\n",
    "for i in range(hist_edges.shape[0]):\n",
    "    center_variable = np.mean(hist_edges[i:i+2])\n",
    "    hist_centers.append(center_variable)\n",
    "\n",
    "hist_centers = np.array(hist_centers)\n",
    "\n",
    "ax23.errorbar(hist_centers[:hist_content.shape[0]], hist_content, \\\n",
    "              yerr = np.sqrt(hist_content), elinewidth=1.0, linestyle='none', ecolor='black', label='Error bars') #'#ADFF2F'\n",
    "\n",
    "# text_in_box = AnchoredText(f\"statistics = {len(param_dict_cut[ch_x]['sigma'])}\", \\\n",
    "                                    #    prop=dict(size=12), loc='lower right')\n",
    "# ax23.add_artist(text_in_box)\n",
    "# ax23.set_title(f\"{ch_x} $\\\\sigma$: patch removed\")\n",
    "ax23.set_xlabel('$\\\\sigma$ [ns]')\n",
    "\n",
    "ax23.set_ylabel('counts') #('counts per bin')\n",
    "# ax23.set_ylim(0, 1200) # temp\n",
    "# ax23.legend(loc='upper center').get_frame().set_alpha(0.4)\n",
    "ax23.set_xticks(ax23.get_xticks()[1:-1], ax23.get_xticks()[1:-1]*4);"
   ]
  },
  {
   "cell_type": "code",
   "execution_count": null,
   "metadata": {},
   "outputs": [],
   "source": [
    "# temp\n",
    "# hist_content[:3]\n",
    "# hist_edges[:3]\n",
    "# param_dict_cut[ch_x]['sigma']\n",
    "# np.max(np.array(param_dict_cut[ch_x]['sigma']))\n",
    "# np.array(param_dict_cut[ch_x]['sigma'])[np.where(np.array(param_dict_cut[ch_x]['sigma']) >= 9)].shape"
   ]
  },
  {
   "cell_type": "markdown",
   "metadata": {},
   "source": [
    "### 9.1.1. <a id='toc9_1_1_'></a>[fitting](#toc0_)"
   ]
  },
  {
   "cell_type": "code",
   "execution_count": null,
   "metadata": {},
   "outputs": [],
   "source": [
    "# np.where(hist_edges <= 1.99)"
   ]
  },
  {
   "cell_type": "code",
   "execution_count": null,
   "metadata": {},
   "outputs": [],
   "source": [
    "# x_range # ch1 & ch2\n",
    "x_range = [range(24, 40), range(30, 49), range(30, 49)][selected_channel] ##ch0\n",
    "# x_range = [range(24, 40), range(24, 41), range(30, 49)][selected_channel]\n",
    "# x_range = [range(75, 120), range(24, 41), range(30, 49)][selected_channel] # 500 bins (75, 120)\n",
    "\n",
    "p0_input = [2, 0.45, 500]\n",
    "bounds_input = ([1.50, 0.0, 0.0], [2.15, 1.0, np.inf])\n",
    "\n",
    "fitted_parameters_sigma, _pcov = curve_fit(f_gauss, \n",
    "                            hist_edges[x_range], hist_content[x_range], \\\n",
    "                            p0 = p0_input, \n",
    "                            sigma = np.sqrt(hist_content[x_range]),\n",
    "                            absolute_sigma=True,\n",
    "                            bounds = bounds_input,\n",
    "                            )\n",
    "\n",
    "ax23.plot(hist_edges[x_range], f_gauss(hist_edges[x_range], *fitted_parameters_sigma), \\\n",
    "          color='#DC143C', label='fit')\n",
    "\n",
    "ax23.legend(loc='upper center').get_frame().set_alpha(0.4)\n",
    "\n",
    "chisqr_value = red_chisq(hist_content[x_range], \\\n",
    "    f_gauss(hist_edges[x_range], *fitted_parameters_sigma), fitted_parameters_sigma\n",
    "    )\n",
    "\n",
    "print(f'chisqr_value: {chisqr_value}')\n",
    "text_in_box = AnchoredText(f\"statistics = {int(sum(hist_content[x_range]))} \\n$\\\\chi^{2}/\\\\nu$ = {chisqr_value:.2f}  \\n$\\\\mu$ = {fitted_parameters_sigma[0]:.3f} \\nCOM = {calc_COM(hist_content, hist_edges):.3f}\", \\\n",
    "                            prop=dict(size=12), loc='upper right')\n",
    "\n",
    "text_in_box.patch.set_alpha(0.1)\n",
    "\n",
    "ax23.add_artist(text_in_box)\n",
    "fig23.savefig(f'../plots/{ch_x}_sigma_hist_updated.png')\n",
    "\n",
    "fitted_parameters_sigma"
   ]
  },
  {
   "cell_type": "markdown",
   "metadata": {},
   "source": [
    "## 9.2. <a id='toc9_2_'></a>[$\\tau$](#toc0_)"
   ]
  },
  {
   "cell_type": "code",
   "execution_count": null,
   "metadata": {},
   "outputs": [],
   "source": [
    "# ch_x = 'ch2'\n",
    "plt.close(24)\n",
    "# fig24, ax24 = plt.subplots()\n",
    "fig24, ax24 = plt.subplots(figsize=(10, 8))\n",
    "# hist_content, hist_edges, _hist_obj = ax24.hist(param_dict_cut[ch_x]['tau'], bins= np.linspace(0.0, 150.0, 250), color='#007FFF', histtype='step', label = '$\\\\tau$')\n",
    "hist_content, hist_edges, _hist_obj = ax24.hist(param_dict_cut[ch_x]['tau'], bins= np.linspace(0.0, 150.0, 500), color='#007FFF', histtype='step', label = '$\\\\tau$')\n",
    "# text_in_box = AnchoredText(f\"statistics = {len(param_dict_cut[ch_x]['tau'])}\", \\\n",
    "#                                        prop=dict(size=12), loc='upper right')\n",
    "# ax24.add_artist(text_in_box)\n",
    "# ax24.set_title(f\"{ch_x} $\\\\tau$: patch removed\")\n",
    "\n",
    "##error bars\n",
    "hist_centers = []\n",
    "for i in range(hist_edges.shape[0]):\n",
    "    center_variable = np.mean(hist_edges[i:i+2])\n",
    "    hist_centers.append(center_variable)\n",
    "\n",
    "hist_centers = np.array(hist_centers)\n",
    "\n",
    "ax24.errorbar(hist_centers[:hist_content.shape[0]], hist_content, yerr = np.sqrt(hist_content), elinewidth=1.0, linestyle='none', ecolor='black', label='Error bars')#'#ADFF2F'\n",
    "\n",
    "ax24.set_ylabel('counts') #('counts per bin')\n",
    "ax24.set_xlabel('$\\\\tau [ns]$')\n",
    "ax24.set_xticks(ax24.get_xticks()[1:-1], ax24.get_xticks()[1:-1]*4);"
   ]
  },
  {
   "cell_type": "markdown",
   "metadata": {},
   "source": [
    "### 9.2.1. <a id='toc9_2_1_'></a>[fitting](#toc0_)"
   ]
  },
  {
   "cell_type": "code",
   "execution_count": null,
   "metadata": {},
   "outputs": [],
   "source": [
    "# hist_edges[60]\n",
    "# hist_edges[150] # 500 bins"
   ]
  },
  {
   "cell_type": "code",
   "execution_count": null,
   "metadata": {},
   "outputs": [],
   "source": [
    "# x_range = range(58, 91) # ch0,1,2\n",
    "# x_range = range(58, 73) # ch0 # needs to be updated does NOT cover mean position \n",
    "# x_range = range(58, 79) # new\n",
    "# x_range = range(55, 90) #\n",
    "# x_range = range(55, 95) # tau_distribution_fit_with_sigma\n",
    "# x_range = range(55, 90) # tau_distribution_fit_without_sigma\n",
    "# x_range = range(58, 85) # looks good chisqr = 1.78\n",
    "#  x_range = range(58, 85) # best chisqr with errors: (59, 88)\n",
    "x_range = range(65, 88) # also works chisqr = 1.79 \n",
    "x_range = range(135, 180) # also works chisqr = 1.79 500 bins\n",
    "\n",
    "# p0_input = [50.0, 9.0, 8000.0] # ch1 & ch2\n",
    "p0_input = [50, 9, 10000] # ch0 new\n",
    "# bounds_input = ([20.0, 0.05, 1.0], [60.0, 15.5, 10_000]) ## ch2\n",
    "# bounds_input = ([20.0, 0.05, 1.0], [60.0, 15.5, np.inf]) ## ch0,1,2\n",
    "bounds_input = ([20, 0.05, 1], [60, 15, np.inf]) ## ch0,1,2\n",
    "\n",
    "fitted_parameters_tau, _pcov = curve_fit(f_gauss, \\\n",
    "                            hist_edges[x_range], hist_content[x_range], \\\n",
    "                            p0 = p0_input, \\\n",
    "                            bounds = bounds_input, \\\n",
    "                            sigma = np.sqrt(hist_content[x_range]), \\\n",
    "                            absolute_sigma=True, \\\n",
    "                            # x_scale = [10, 1, 1000], \\\n",
    "                            method = 'trf', \\\n",
    "                            ## method = 'dogbox', \\\n",
    "                            )\n",
    "\n",
    "### plotting\n",
    "ax24.plot(hist_edges[x_range], f_gauss(hist_edges[x_range], *fitted_parameters_tau), color='#DC143C', label='fit')\n",
    "# ax24.legend(loc='upper right')\n",
    "ax24.legend(loc='upper center').get_frame().set_alpha(0.4)\n",
    "\n",
    "chisqr_value = red_chisq(hist_content[x_range], \\\n",
    "    f_gauss(hist_edges[x_range], *fitted_parameters_tau), fitted_parameters_tau\n",
    "    )\n",
    "print(f'chisqr value: {chisqr_value}')\n",
    "# text_in_box = AnchoredText(f\"statistics = {len(param_dict_cut[ch_x]['tau'])} \\n$\\\\chi^{2}/\\\\nu$ = {chisqr_value:.2f} \\n$\\\\mu$ = {fitted_parameters_tau[0]:.3f} \\nCOM = {calc_COM(hist_content, hist_edges):.3f} \", \\\n",
    "#                                        prop=dict(size=12), loc='upper right')\n",
    "text_in_box = AnchoredText(f\"statistics = {int(sum(hist_content[x_range]))} \\n$\\\\chi^{2}/\\\\nu$ = {chisqr_value:.2f} \\n$\\\\mu$ = {fitted_parameters_tau[0]:.3f} \\nCOM = {calc_COM(hist_content, hist_edges):.3f} \", \\\n",
    "                                       prop=dict(size=12), loc='upper right')\n",
    "\n",
    "text_in_box.patch.set_alpha(0.1)\n",
    "ax24.add_artist(text_in_box)\n",
    "# fig24.savefig(f'../plots/{ch_x}_tau_hist.png')\n",
    "fig24.savefig(f'../plots/{ch_x}_tau_hist_updated.png')\n",
    "fitted_parameters_tau"
   ]
  },
  {
   "cell_type": "code",
   "execution_count": null,
   "metadata": {},
   "outputs": [],
   "source": [
    "np.sqrt(np.diag(_pcov)) # standard deviation"
   ]
  },
  {
   "cell_type": "markdown",
   "metadata": {},
   "source": [
    "### 9.2.2. <a id='toc9_2_2_'></a>[Fitting with iMinuit](#toc0_)\n",
    "Only used for verifying scipy fitter"
   ]
  },
  {
   "cell_type": "code",
   "execution_count": null,
   "metadata": {},
   "outputs": [],
   "source": [
    "# import iminuit\n",
    "# from iminuit.cost import LeastSquares\n",
    "# from iminuit import Minuit"
   ]
  },
  {
   "cell_type": "code",
   "execution_count": null,
   "metadata": {},
   "outputs": [],
   "source": [
    "# least_squares = LeastSquares(x_values[58:91], hist_content[58:91], np.sqrt(hist_content[58:91]), f_gauss)\n",
    "# # least_squares = LeastSquares(x_values, hist_content[:x_values.shape[0]], np.ones(x_values.shape[0]), f_gauss)"
   ]
  },
  {
   "cell_type": "code",
   "execution_count": null,
   "metadata": {},
   "outputs": [],
   "source": [
    "# m_obj = Minuit(least_squares, g_mean = 50.0, g_sigma = 9.5, g_k = 8000)"
   ]
  },
  {
   "cell_type": "code",
   "execution_count": null,
   "metadata": {},
   "outputs": [],
   "source": [
    "# m_obj.simplex()"
   ]
  },
  {
   "cell_type": "code",
   "execution_count": null,
   "metadata": {},
   "outputs": [],
   "source": [
    "# m_obj.migrad()"
   ]
  },
  {
   "cell_type": "markdown",
   "metadata": {},
   "source": [
    "## 9.3. <a id='toc9_3_'></a>[scale](#toc0_)"
   ]
  },
  {
   "cell_type": "code",
   "execution_count": null,
   "metadata": {},
   "outputs": [],
   "source": [
    "# ch_x = 'ch2'\n",
    "plt.close(25)\n",
    "# fig25, ax25 = plt.subplots()\n",
    "fig25, ax25 = plt.subplots(figsize=(10, 8))\n",
    "# fig25, ax25 = plt.subplots(figsize=(8, 5))\n",
    "hist_content, hist_edges, _hist_obj = ax25.hist(param_dict_cut[ch_x]['scale'], \\\n",
    "                                                bins= np.linspace(0.4, 1.0, 500), color='#007FFF', histtype='step', label='$\\\\alpha$')\n",
    "                                                # bins= np.linspace(0.4, 1.0, 200), color='#007FFF', histtype='step', label='$\\\\alpha$')\n",
    "##error bars\n",
    "hist_centers = []\n",
    "for i in range(hist_edges.shape[0]):\n",
    "    center_variable = np.mean(hist_edges[i:i+2])\n",
    "    hist_centers.append(center_variable)\n",
    "\n",
    "hist_centers = np.array(hist_centers)\n",
    "\n",
    "ax25.errorbar(hist_centers[:hist_content.shape[0]], hist_content, \\\n",
    "              yerr = np.sqrt(hist_content), elinewidth=1.0, linestyle='none', ecolor='black', label='Error bars') ##ADFF2F\n",
    "\n",
    "# text_in_box = AnchoredText(f\"statistics = {len(param_dict_cut[ch_x]['scale'])}\", \\\n",
    "#                                        prop=dict(size=12), loc='upper left')\n",
    "# ax25.add_artist(text_in_box)\n",
    "# ax25.set_title(f\"{ch_x} scale: patch removed\")\n",
    "\n",
    "ax25.set_ylabel('counts')\n",
    "ax25.set_xlabel('$\\\\alpha$')\n",
    "ax25.set_xlim(0.7, 1.0) # keep or remove?\n",
    "# plt.close(25)\n",
    "# fig25, ax25 = plt.subplots(figsize=(10, 8))\n",
    "# hist_content, hist_edges, _hist_obj = ax25.hist(param_dict_cut[ch_x]['scale'], \\\n",
    "#                                                 bins= np.linspace(0.7, 1.0, 100), color='#007FFF', histtype='step', label='$\\\\alpha$')\n",
    "# ax25.set_ylabel('counts')\n",
    "# ax25.set_xlabel('$\\\\alpha$')"
   ]
  },
  {
   "cell_type": "markdown",
   "metadata": {},
   "source": [
    "### 9.3.1. <a id='toc9_3_1_'></a>[fitting](#toc0_)"
   ]
  },
  {
   "cell_type": "code",
   "execution_count": null,
   "metadata": {},
   "outputs": [],
   "source": [
    "# hist_edges[np.where(hist_edges >= 0.9499)]\n",
    "# np.where(hist_edges >= 0.9499)\n",
    "# hist_edges[375]"
   ]
  },
  {
   "cell_type": "code",
   "execution_count": null,
   "metadata": {},
   "outputs": [],
   "source": [
    "# x_range = [range(153, 172), range(130, 172), range(130, 172)][selected_channel] # range(130, 177) 160 165 # ch2\n",
    "# x_range = [range(157, 169), range(138, 157), range(130, 172)][selected_channel]\n",
    "# x_range = [range(385, 447), range(138, 157), range(130, 172)][selected_channel] # 500 bins only adjsuted for Ch0\n",
    "x_range = [range(370, 445), range(138, 157), range(130, 172)][selected_channel] # 500 bins (370, 445)\n",
    "\n",
    "## x_range = range(153, 172) # ch0\n",
    "p0_input = [0.89, 0.09, 200.0]\n",
    "bounds_input = ([0.8, 0.01, 1.0], [1.0, 1.0, 10_000])\n",
    "\n",
    "fitted_parameters_scale, _pcov = curve_fit(f_gauss, \\\n",
    "                            hist_edges[x_range], hist_content[x_range], \\\n",
    "                            p0 = p0_input, \\\n",
    "                            bounds = bounds_input, \\\n",
    "                            sigma = np.sqrt(hist_content[x_range]), \\\n",
    "                            absolute_sigma=True, \\\n",
    "                            # x_scale = [10, 1, 1000], \\\n",
    "                            method = 'trf', \\\n",
    "                            ## method = 'dogbox', \\\n",
    "                            )\n",
    "# ##error bars\n",
    "# hist_centers = []\n",
    "# for i in range(hist_edges.shape[0]):\n",
    "#     center_variable = np.mean(hist_edges[i:i+2])\n",
    "#     hist_centers.append(center_variable)\n",
    "\n",
    "# hist_centers = np.array(hist_centers)\n",
    "\n",
    "# ax25.errorbar(hist_centers[:hist_content.shape[0]], hist_content, \\\n",
    "#               yerr = np.sqrt(hist_content), elinewidth=1.0, linestyle='none', ecolor='black', label='Error bars') ##ADFF2F\n",
    "### plotting\n",
    "ax25.plot(hist_edges[x_range], f_gauss(hist_edges[x_range], *fitted_parameters_scale), \\\n",
    "          color='#DC143C', label='fit')\n",
    "# ax25.axvline(x = 0.9026)\n",
    "# ax25.legend(loc='lower left')\n",
    "ax25.legend(loc='upper left').get_frame().set_alpha(0.4)\n",
    "\n",
    "chisqr_value = red_chisq(hist_content[x_range], \\\n",
    "    f_gauss(hist_edges[x_range], *fitted_parameters_scale), fitted_parameters_scale\n",
    "    )\n",
    "\n",
    "print(f'chisqr_value: {chisqr_value}')\n",
    "print(f'fitted_parameters_scale: {fitted_parameters_scale}')\n",
    "\n",
    "text_in_box = AnchoredText(f\"statistics = {int(sum(hist_content[x_range]))} \\n$\\\\chi^{2}/\\\\nu$ = {chisqr_value:.2f} \\n$\\\\mu$ = {fitted_parameters_scale[0]:.3f} \\nCOM = {calc_COM(hist_content, hist_edges):.3f}\", \\\n",
    "                                       prop=dict(size=12), loc='lower left')\n",
    "text_in_box.patch.set_alpha(0.1)\n",
    "ax25.add_artist(text_in_box)\n",
    "\n",
    "# fig25.savefig(f'../plots/{ch_x}_alpha_hist.png')\n",
    "fig25.savefig(f'../plots/{ch_x}_alpha_hist_updated.png')"
   ]
  },
  {
   "cell_type": "markdown",
   "metadata": {},
   "source": [
    "\n",
    "2d parameter space "
   ]
  },
  {
   "cell_type": "code",
   "execution_count": null,
   "metadata": {},
   "outputs": [],
   "source": [
    "# ch_x = 'ch2'\n",
    "plt.close(26)\n",
    "fig26, ax26 = plt.subplots(figsize=(10, 8))\n",
    "red_win = patches.Rectangle((0.932, 2.44), 0.06, 3.10, linewidth=1.1, edgecolor='r', facecolor='none')\n",
    "\n",
    "hist_h, hist_xedges, hist_yedges, hist_im = ax26.hist2d(param_dict_cut[ch_x]['scale'], param_dict_cut[ch_x]['sigma'], \\\n",
    "           bins = [np.linspace(0.6, 1.0, 100), np.linspace(0., 10., 100)], cmap='jet')\n",
    "ax26.add_patch(red_win)\n",
    "ax26.set_xlabel('$\\\\alpha$')\n",
    "ax26.set_ylabel('$\\sigma$')\n",
    "fig26.colorbar(hist_im)\n",
    "ax26.set_title(f\"{ch_x} $scale\\ vs \\ \\\\sigma$: patch removed\");"
   ]
  },
  {
   "cell_type": "code",
   "execution_count": null,
   "metadata": {},
   "outputs": [],
   "source": [
    "# ch_x = 'ch2'\n",
    "plt.close(27)\n",
    "fig27, ax27 = plt.subplots()\n",
    "hist_h, hist_xedges, hist_yedges, hist_im = ax27.hist2d(param_dict_cut[ch_x]['sigma'], param_dict_cut[ch_x]['tau'], \\\n",
    "           bins = [np.linspace(0.0, 1.0, 10), np.linspace(50e0, 20e3, 10)] , cmap='jet')\n",
    "ax27.set_xlabel('scale')\n",
    "ax27.set_ylabel('$\\sigma$')\n",
    "fig27.colorbar(hist_im)\n",
    "ax27.set_title(f\"{ch_x} $\\\\sigma \\ vs \\ \\\\tau $: patch removed\");"
   ]
  },
  {
   "cell_type": "code",
   "execution_count": null,
   "metadata": {},
   "outputs": [],
   "source": [
    "# ch_x = 'ch2'\n",
    "plt.close(28)\n",
    "fig28, ax28 = plt.subplots()\n",
    "hist_h, hist_xedges, hist_yedges, hist_im = ax28.hist2d(param_dict_cut[ch_x]['tau'], \\\n",
    "            param_dict_cut[ch_x]['scale'], bins = [np.linspace(50, 175, 1000), np.linspace(0.5, 1.0, 10)] ,\\\n",
    "            cmap='jet')\n",
    "\n",
    "ax28.set_xlabel('scale')\n",
    "ax28.set_ylabel('$\\sigma$')\n",
    "fig28.colorbar(hist_im)\n",
    "ax28.set_title(f\"{ch_x} $\\\\tau \\ vs \\ scale $: patch removed\");"
   ]
  },
  {
   "cell_type": "markdown",
   "metadata": {},
   "source": [
    "# 10. <a id='toc10_'></a>[FingerPlot](#toc0_)"
   ]
  },
  {
   "cell_type": "code",
   "execution_count": null,
   "metadata": {},
   "outputs": [],
   "source": []
  },
  {
   "cell_type": "code",
   "execution_count": null,
   "metadata": {},
   "outputs": [],
   "source": [
    "# fit_catalogue['ch0'] #TODO invetigate"
   ]
  },
  {
   "cell_type": "code",
   "execution_count": null,
   "metadata": {},
   "outputs": [],
   "source": [
    "fit_catalogue[ch_x][(fit_catalogue[ch_x]['chisqr']<2)] #TODO investigate\n",
    "## almost all events have reduced chisqr > 2. Why? What does this chisqr look like for ch1 and ch2."
   ]
  },
  {
   "cell_type": "code",
   "execution_count": null,
   "metadata": {},
   "outputs": [],
   "source": [
    "# ### This integrating window size is not in use.\n",
    "# # pulse_integration_window_begin = 450\n",
    "# # pulse_integration_window_end = 650\n",
    "\n",
    "# integration_vector = np.array([])\n",
    "\n",
    "# for wf_index in fit_catalogue[ch_x]['wf_raw'].index.values:\n",
    "#     # if fit_catalogue[ch_x]['chisqr'].loc[wf_index] < 2.0:\n",
    "#     if True:\n",
    "#         fitted_param = fit_catalogue[ch_x]['fit_param'][wf_index]\n",
    "#         fitted_baseline = fitted_param[4]\n",
    "#         # trace = fit_catalogue[ch_x]['wf_raw'].loc[wf_index] - fitted_baseline\n",
    "#         trace = fit_catalogue[ch_x][f'filtered_wf_{ch_x}'].loc[wf_index] - fitted_baseline\n",
    "#         peak_loc =  int(fitted_param[0])\n",
    "#         # pulse_win_integration_value = np.sum(trace[pulse_integration_window_begin:pulse_integration_window_end]) # fixed window\n",
    "#         pulse_win_integration_value = np.sum(trace[peak_loc-10:peak_loc+50]) # asymmetric window around peak\n",
    "#         integration_vector = np.append(integration_vector, pulse_win_integration_value)"
   ]
  },
  {
   "cell_type": "code",
   "execution_count": null,
   "metadata": {},
   "outputs": [],
   "source": [
    "# fig99, ax99 = plt.subplots( figsize=(11, 6))\n",
    "# # hist_content, hist_edges, _hist_obj = ax99.hist(integration_vector, bins=np.arange(0, 2500, 10), color='#B5D9C0', label=ch_x); # peak_loc works for ch1\n",
    "# ## hist_content, hist_edges, _hist_obj = ax99.hist(integration_vector, bins=np.arange(0, 10000, 25), color='#414B71', label=ch_x); # peak_loc works for ch0\n",
    "# hist_content, hist_edges, _hist_obj = ax99.hist(integration_vector, bins=np.arange(0, 10000, 25), color='#414B71', label=ch_x); # peak_loc works for ch0\n",
    "# # hist_content, hist_edges, _hist_obj = ax99.hist(integration_vector, bins=np.arange(0, 2000, 20), color='#AC7774', label='ch2');\n",
    "# # ax99.set_title(f'Finger plot for {ch_x} \\n', fontsize=16)\n",
    "# ax99.set_xlabel('\\n Integrated pulse charge (ADC)')\n",
    "# ax99.set_ylabel('Counts \\n')\n",
    "# # ax99.legend(bbox_to_anchor=(1.0, 1.0))\n",
    "# txt_box = offsetbox.TextArea(f\"statistics = {len(integration_vector)}\", textprops=dict(color='black', backgroundcolor='white', size=16))\n",
    "# annotation_box_artist = offsetbox.AnnotationBbox(\n",
    "#                         txt_box, (0.80, 0.88), frameon=True, pad=0.1, xycoords='axes fraction', \n",
    "#                         bboxprops=dict(edgecolor='#2D2D2D', linewidth=0.2, boxstyle=\"square, pad=1.0\")\n",
    "#                         )\n",
    "# ax99.add_artist(annotation_box_artist)\n",
    "# # fig99.savefig('../plots/fingerplot_from_flt_ch0.svg')"
   ]
  },
  {
   "cell_type": "code",
   "execution_count": null,
   "metadata": {},
   "outputs": [],
   "source": [
    "# pulse_integration_window_begin = 450\n",
    "# pulse_integration_window_end = 650\n",
    "\n",
    "integration_vector = np.array([])\n",
    "\n",
    "for wf_index in fit_catalogue[ch_x]['wf_raw'].index.values[:50000]:\n",
    "    # if fit_catalogue[ch_x]['chisqr'].loc[wf_index] < 2.0:\n",
    "    # if True:\n",
    "    if (fit_catalogue[ch_x]['fit_param'].loc[wf_index][0] < 600) & (fit_catalogue[ch_x]['fit_param'].loc[wf_index][0] > 400):\n",
    "        fitted_param = fit_catalogue[ch_x]['fit_param'][wf_index]\n",
    "        fitted_baseline = fitted_param[4]\n",
    "        # trace = fit_catalogue[ch_x]['wf_raw'].loc[wf_index] - fitted_baseline\n",
    "        trace = fit_catalogue[ch_x][f'filtered_wf_{ch_x}'].loc[wf_index] - fitted_baseline\n",
    "        # trace = fit_catalogue[ch_x][f'filtered_wf_{ch_x}'].loc[wf_index] # experimenting\n",
    "        peak_loc =  int(fitted_param[0])\n",
    "        # pulse_win_integration_value = np.sum(trace[pulse_integration_window_begin:pulse_integration_window_end]) # fixed window\n",
    "        # pulse_win_integration_value = np.sum(trace[peak_loc-10:peak_loc+50]) # asymmetric window around peak\n",
    "        # pulse_win_integration_value = np.sum(trace[peak_loc-20:peak_loc+20]) # specific to FilteredWF\n",
    "        # pulse_win_integration_value = np.sum(trace[peak_loc-100:peak_loc+100])\n",
    "        pulse_win_integration_value = np.sum(trace[peak_loc-112:peak_loc+112])\n",
    "        integration_vector = np.append(integration_vector, pulse_win_integration_value)"
   ]
  },
  {
   "cell_type": "code",
   "execution_count": null,
   "metadata": {},
   "outputs": [],
   "source": [
    "trace"
   ]
  },
  {
   "cell_type": "code",
   "execution_count": null,
   "metadata": {},
   "outputs": [],
   "source": [
    "# plt.figure('abc')\n",
    "# plt.plot(trace)"
   ]
  },
  {
   "cell_type": "code",
   "execution_count": null,
   "metadata": {},
   "outputs": [],
   "source": [
    "# fit_catalogue['ch0']"
   ]
  },
  {
   "cell_type": "code",
   "execution_count": null,
   "metadata": {},
   "outputs": [],
   "source": [
    "fig100, ax100 = plt.subplots( figsize=(11, 6))\n",
    "# fig100, ax100 = plt.subplots( figsize=(6, 4))\n",
    "# hist_content, hist_edges, _hist_obj = ax99.hist(integration_vector, bins=np.arange(0, 2500, 10), color='#B5D9C0', label=ch_x); # peak_loc works for ch1\n",
    "hist_content, hist_edges, _hist_obj = ax100.hist(integration_vector, bins=np.arange(0, 10000, 25), color='C0', label=ch_x[2]); # peak_loc works for ch0\n",
    "## hist_content, hist_edges, _hist_obj = ax100.hist(integration_vector, bins=np.arange(0, 8000, 15), color='#414B71', label=ch_x); # peak_loc works for ch0\n",
    "# hist_content, hist_edges, _hist_obj = ax100.hist(integration_vector, bins=np.arange(0, 2000, 20), color='#AC7774', label='ch2');\n",
    "# ax100.set_title(f'Finger plot for {ch_x} \\n', fontsize=16)\n",
    "# ax100.set_xlabel('\\n Integrated ADC counts')\n",
    "# ax100.set_ylabel('Frequency \\n')    \n",
    "ax100.set_xlabel('\\n Integrated charge [4ns$\\cdot$ADC units] ')\n",
    "ax100.set_ylabel('Counts \\n')\n",
    "# ax99.legend(bbox_to_anchor=(1.0, 1.0))\n",
    "txt_box = offsetbox.TextArea(f\"statistics = {len(integration_vector)}\", textprops=dict(color='black', backgroundcolor='white'))\n",
    "annotation_box_artist = offsetbox.AnnotationBbox(\n",
    "                        txt_box, (0.80, 0.88), frameon=True, pad=0.1, xycoords='axes fraction', \n",
    "                        bboxprops=dict(edgecolor='#2D2D2D', linewidth=0.2, boxstyle=\"square, pad=1.0\")\n",
    "                        )\n",
    "# ax100.add_artist(annotation_box_artist)\n",
    "ax100.legend()\n",
    "ax100.grid()\n",
    "# fig100.savefig('../plots/fingerplot_filteredWF_224p0_ch0.png')"
   ]
  },
  {
   "cell_type": "code",
   "execution_count": null,
   "metadata": {},
   "outputs": [],
   "source": [
    "ax100.legend()"
   ]
  },
  {
   "cell_type": "code",
   "execution_count": null,
   "metadata": {},
   "outputs": [],
   "source": [
    "# fig100.savefig('../plots/fingerplot_filteredWF_224p0_ch0_fitfunc.png')"
   ]
  },
  {
   "cell_type": "code",
   "execution_count": null,
   "metadata": {},
   "outputs": [],
   "source": [
    "# stops here"
   ]
  },
  {
   "cell_type": "code",
   "execution_count": null,
   "metadata": {},
   "outputs": [],
   "source": [
    "## ax100.axvline(x = 2500, linestyle='--', alpha=0.5, color='grey')\n",
    "## ax100.axvline(x = 4250, linestyle='--', alpha=0.5, color='magenta')\n",
    "# ax100.axvline(x = 5725, linestyle='--', alpha=0.5, color='magenta')\n",
    "# ax100.axvline(x = 2250, linestyle='--', alpha=0.5, color='blue')\n",
    "# ax100.axvline(x = 4250, linestyle='--', alpha=0.5, color='blue')\n",
    "# ax100.axvline(x = 4450, linestyle='--', color='magenta', alpha=0.5)\n",
    "# ax100.axvline(x = 6000, linestyle='--', color='magenta', alpha=0.5)\n",
    "## ax100.axhline(y = 123, linestyle='--', color='magenta', alpha=0.5,)\n",
    "\n",
    "## ax100.legend(bbox_to_anchor=(1.0, 0.75))"
   ]
  },
  {
   "cell_type": "code",
   "execution_count": null,
   "metadata": {},
   "outputs": [],
   "source": [
    "# fig100.savefig(f'../plots/fingerplotP_filteredWF_200p0_{ch_x}.png')"
   ]
  },
  {
   "cell_type": "code",
   "execution_count": null,
   "metadata": {},
   "outputs": [],
   "source": [
    "# fig100.savefig(f'../plots/fingerplotP_filteredWF_224p0_fitfunc_{ch_x}.png')"
   ]
  },
  {
   "cell_type": "markdown",
   "metadata": {},
   "source": [
    "# 11. <a id='toc11_'></a>[fit gaussian to finger](#toc0_)"
   ]
  },
  {
   "cell_type": "markdown",
   "metadata": {},
   "source": [
    "## 11.1. <a id='toc11_1_'></a>[First finger](#toc0_)"
   ]
  },
  {
   "cell_type": "code",
   "execution_count": null,
   "metadata": {},
   "outputs": [],
   "source": [
    "# np.where(hist_edges <= 4250)"
   ]
  },
  {
   "cell_type": "code",
   "execution_count": null,
   "metadata": {},
   "outputs": [],
   "source": [
    "# hist_edges[90]"
   ]
  },
  {
   "cell_type": "code",
   "execution_count": null,
   "metadata": {},
   "outputs": [],
   "source": [
    "# hist_edges[82]"
   ]
  },
  {
   "cell_type": "code",
   "execution_count": null,
   "metadata": {},
   "outputs": [],
   "source": [
    "# x_range = range(85, 126) ## ch0 from default\n",
    "\n",
    "# x_range = range(85, 133) ## ch0\n",
    "\n",
    "# x_range = range(110, 155) ## filtered ch0\n",
    "# x_range = range(97, 170) ## filtered ch0 window limit 175\n",
    "# x_range = range(90, 150) ## filtered ch0 window limit 75\n",
    "# x_range = range(80, 125) ## filtered ch0 window limit 50\n",
    "# x_range = range(55, 75) ## filtered ch0 window limit 25\n",
    "# x_range = range(92, 168) ## filtered ch0 window limit 125\n",
    "# x_range = range(90, 172) ## filtered ch0 window limit 140\n",
    "# x_range = range(100, 160) ## filtered ch0 window limit 162\n",
    "x_range = range(94, 164) ## filtered ch0 window limit 112\n",
    "\n",
    "# p0_input = [2500, 200, 1200.0] ## ch0\n",
    "# p0_input = [3300, 425, 100000.0] ## ch0\n",
    "# p0_input = [3300, 573, 100000.0] ## ch0 window limit 175\n",
    "\n",
    "# p0_input = [3300, 350, 100000.0] ## ch0 window limit 75\n",
    "# p0_input = [2500, 270, 100000.0] ## ch0 window limit 50\n",
    "# p0_input = [1600, 190, 100000.0] ## ch0 window limit 25\n",
    "p0_input = [3390, 500, 100000.0] ## ch0 window limit 112\n",
    "\n",
    "bounds_input = ([1000.0, 0.0001, 0.0001], [np.inf, np.inf, np.inf]) ## ch0\n",
    "\n",
    "fitted_parameters, pcov = curve_fit(f_gauss, \n",
    "                            hist_edges[x_range], hist_content[x_range], \\\n",
    "                            p0 = p0_input,\n",
    "                            bounds = bounds_input,\n",
    "                            sigma = np.sqrt(hist_content[x_range]),\n",
    "                            absolute_sigma=True,\n",
    "                            )\n",
    "\n",
    "red_chisqr_value = red_chisq(hist_content[x_range], \\\n",
    "    f_gauss(hist_edges[x_range], *fitted_parameters), fitted_parameters\n",
    "    )\n",
    "\n",
    "ax100.plot(hist_edges[x_range], f_gauss(hist_edges[x_range], *fitted_parameters), color='#FF5733', label='fit')\n",
    "\n",
    "red_chisqr_value"
   ]
  },
  {
   "cell_type": "code",
   "execution_count": null,
   "metadata": {},
   "outputs": [],
   "source": [
    "fitted_parameters"
   ]
  },
  {
   "cell_type": "code",
   "execution_count": null,
   "metadata": {},
   "outputs": [],
   "source": [
    "perr = np.sqrt(np.diag(pcov))\n",
    "perr"
   ]
  },
  {
   "cell_type": "markdown",
   "metadata": {},
   "source": [
    "## 11.2. <a id='toc11_2_'></a>[Second finger](#toc0_)"
   ]
  },
  {
   "cell_type": "code",
   "execution_count": null,
   "metadata": {},
   "outputs": [],
   "source": [
    "# np.where(hist_edges <= 2860)\n",
    "# np.where(hist_edges <= 6000)\n",
    "# hist_edges[178]\n",
    "# hist_edges[240]"
   ]
  },
  {
   "cell_type": "code",
   "execution_count": null,
   "metadata": {},
   "outputs": [],
   "source": [
    "# ax100.axhline(y=82.5, linestyle='--', color='magenta')"
   ]
  },
  {
   "cell_type": "code",
   "execution_count": null,
   "metadata": {},
   "outputs": [],
   "source": [
    "# x_range = range(140, 164) ## ch0\n",
    "# x_range = range(170, 230) ## filtered ch0\n",
    "# x_range = range(155, 210) ## filtered ch0 window limit 75\n",
    "# x_range = range(136, 182) ## filtered ch0 window limit 50\n",
    "# x_range = range(85, 110) ## filtered ch0 window limit 25\n",
    "# x_range = range(180, 232) ## filtered ch0 window limit 125\n",
    "# x_range = range(180, 239) ## filtered ch0 window limit 140\n",
    "# x_range = range(170, 240) ## filtered ch0 window limit 162\n",
    "x_range = range(170, 229) ## filtered ch0 window limit 112\n",
    "# x_range = range(170, 230) ## filtered ch0 window limit 112\n",
    "\n",
    "# p0_input = [3750, 300, 100000.0] ## ch0\n",
    "# p0_input = [5000, 627, 100000.0] ## filtered ch0\n",
    "# p0_input = [5375.0, 437, 100000.0] ## filtered ch0 window limit 75\n",
    "# p0_input = [3900.0, 322, 100000.0] ## filtered ch0 window limit 50\n",
    "# p0_input = [2400.0, 200, 100000.0] ## filtered ch0 window limit 25\n",
    "# p0_input = [5110.0, 460, 100000.0] ## filtered ch0 window limit 125\n",
    "# p0_input = [5110.0, 460, 100000.0] ## filtered ch0 window limit 140\n",
    "# p0_input = [5320.0, 460, 100000.0] ## filtered ch0 window limit 162\n",
    "p0_input = [5000.0, 320, 100000.0] ## filtered ch0 window limit 112\n",
    "bounds_input = ([1000.0, 0.0001, 0.0001], [np.inf, np.inf, np.inf]) ## ch0\n",
    "fitted_parameters, pcov = curve_fit(f_gauss, \n",
    "                            hist_edges[x_range], hist_content[x_range], \\\n",
    "                            p0 = p0_input,\n",
    "                            bounds = bounds_input,\n",
    "                            sigma = np.sqrt(hist_content[x_range]),\n",
    "                            absolute_sigma=True,\n",
    "                            )\n",
    "\n",
    "red_chisqr_value = red_chisq(hist_content[x_range], \\\n",
    "    f_gauss(hist_edges[x_range], *fitted_parameters), fitted_parameters\n",
    "    )\n",
    "\n",
    "ax100.plot(hist_edges[x_range], f_gauss(hist_edges[x_range], *fitted_parameters), color='#28A745', linewidth=2.2, label='fit')\n",
    "\n",
    "red_chisqr_value"
   ]
  },
  {
   "cell_type": "code",
   "execution_count": null,
   "metadata": {},
   "outputs": [],
   "source": [
    "## standard deviation from covariance matrix\n",
    "perr = np.sqrt(np.diag(pcov))\n",
    "perr"
   ]
  },
  {
   "cell_type": "code",
   "execution_count": null,
   "metadata": {},
   "outputs": [],
   "source": [
    "fitted_parameters"
   ]
  },
  {
   "cell_type": "code",
   "execution_count": null,
   "metadata": {},
   "outputs": [],
   "source": [
    "# how likely are these chisqr values?\n",
    "# from scipy import stats\n",
    "# stats.chi2.pdf(1.02 , 68)"
   ]
  },
  {
   "cell_type": "markdown",
   "metadata": {},
   "source": [
    "# 12. <a id='toc12_'></a>[Double Gauss fit](#toc0_)"
   ]
  },
  {
   "cell_type": "code",
   "execution_count": null,
   "metadata": {},
   "outputs": [],
   "source": [
    "## Histogram\n",
    "fig101, ax101 = plt.subplots( figsize=(11, 6))\n",
    "# fig101, ax101 = plt.subplots( figsize=(6, 4)) # small screen\n",
    "hist_content, hist_edges, _hist_obj = ax101.hist(integration_vector, \n",
    "                                                # bins=np.arange(0, 10000, 25),\n",
    "                                                bins=np.arange(0, 10000, 50), \n",
    "                                                color='C0', label=ch_x[2]); # peak_loc works for ch0\n",
    "ax101.set_xlabel('\\n Integrated charge [4ns$\\cdot$ADC units] ')\n",
    "ax101.set_ylabel('Counts \\n')\n",
    "txt_box = offsetbox.TextArea(f\"statistics = {len(integration_vector)}\", textprops=dict(color='black', backgroundcolor='white'))\n",
    "annotation_box_artist = offsetbox.AnnotationBbox(\n",
    "                        txt_box, (0.80, 0.88), frameon=True, pad=0.1, xycoords='axes fraction', \n",
    "                        bboxprops=dict(edgecolor='#2D2D2D', linewidth=0.2, boxstyle=\"square, pad=1.0\"))\n",
    "ax101.legend()\n",
    "ax101.grid()\n",
    "# fig101.savefig('../plots/fingerplot_filteredWF_224p0_ch0_updated.png')"
   ]
  },
  {
   "cell_type": "code",
   "execution_count": null,
   "metadata": {},
   "outputs": [],
   "source": [
    "def f_doublegauss(x, mean_1, mean_2, sigma_1, sigma_2, k_1, k_2):\n",
    "\n",
    "    g1 = k_1*(1/(sigma_1*np.sqrt(2*np.pi)))*np.exp(-0.5*((x-mean_1)/sigma_1)**2)\n",
    "    g2 = k_2*(1/(sigma_2*np.sqrt(2*np.pi)))*np.exp(-0.5*((x-mean_2)/sigma_2)**2)\n",
    "    return g1 + g2"
   ]
  },
  {
   "cell_type": "code",
   "execution_count": null,
   "metadata": {},
   "outputs": [],
   "source": [
    "## Double gaussian fit\n",
    "# x_range = range(94, 229)\n",
    "# x_range = range(94, 220)#(94, 220) #229) ## filtered ch0 window limit 112. bins=np.arange(0, 10000, 25),\n",
    "x_range = range(45, 110) #229) ## filtered ch0 window limit 112. bins=np.arange(0, 10000, 50),\n",
    "\n",
    "# p0_input = [2500, 200, 1200.0] ## ch0\n",
    "# p0_input = [3300, 425, 100000.0] ## ch0\n",
    "# p0_input = [3300, 573, 100000.0] ## ch0 window limit 175\n",
    "\n",
    "# p0_input = [3300, 350, 100000.0] ## ch0 window limit 75\n",
    "# p0_input = [2500, 270, 100000.0] ## ch0 window limit 50\n",
    "# p0_input = [1600, 190, 100000.0] ## ch0 window limit 25\n",
    "p0_input = [3390, 5000, 500, 320, 100000, 100000] ## ch0 window limit 112\n",
    "\n",
    "bounds_input = ([1000, 1000, 0.0001, 0.0001, 0.0001, 0.0001], [np.inf, np.inf, np.inf, np.inf, np.inf, np.inf]) ## ch0\n",
    "\n",
    "fitted_parameters, pcov = curve_fit(f_doublegauss, \n",
    "                            hist_edges[x_range], hist_content[x_range], \\\n",
    "                            p0 = p0_input,\n",
    "                            bounds = bounds_input,\n",
    "                            sigma = np.sqrt(hist_content[x_range]),\n",
    "                            absolute_sigma=True,\n",
    "                            )\n",
    "\n",
    "red_chisqr_value = red_chisq(hist_content[x_range], \\\n",
    "    f_doublegauss(hist_edges[x_range], *fitted_parameters), fitted_parameters\n",
    "    )\n",
    "\n",
    "ax101.plot(hist_edges[x_range], f_doublegauss(hist_edges[x_range], *fitted_parameters), \n",
    "        color='#FF5733', \n",
    "        # color='green',\n",
    "        label='fit')\n",
    "\n",
    "text_in_box = AnchoredText(f\"statistics = {int(sum(hist_content[x_range]))} \\n$\\\\chi^{2}/\\\\nu$ = {red_chisqr_value:.2f} \\n$\\\\mu_{1}$ = {fitted_parameters[0]:.3f} \\n$\\\\mu_{2}$ = {fitted_parameters[1]:.3f} \\n$\\\\sigma_{1}$ = {fitted_parameters[2]:.3f} \\n$\\\\sigma_{2}$ = {fitted_parameters[3]:.3f} \\nCOM = {calc_COM(hist_content, hist_edges):.3f}\", \\\n",
    "                                       prop=dict(size=12), loc='upper left')\n",
    "text_in_box.patch.set_alpha(0.1)\n",
    "ax101.add_artist(text_in_box)\n",
    "ax101.legend()\n",
    "print(f'red_chisqr_value: {red_chisqr_value:.3f}')\n",
    "print(f'fitted parameters: {fitted_parameters}')\n",
    "fig101.savefig('../plots/fingerplot_filteredWF_224p0_ch0_fitfunc_updated.png')"
   ]
  },
  {
   "cell_type": "code",
   "execution_count": null,
   "metadata": {},
   "outputs": [],
   "source": [
    "perr = np.sqrt(np.diag(pcov))\n",
    "print(f'{perr}:.2f')"
   ]
  },
  {
   "cell_type": "code",
   "execution_count": null,
   "metadata": {},
   "outputs": [],
   "source": [
    "perr[0]"
   ]
  },
  {
   "cell_type": "code",
   "execution_count": null,
   "metadata": {},
   "outputs": [],
   "source": [
    "perr[1]"
   ]
  },
  {
   "cell_type": "markdown",
   "metadata": {},
   "source": [
    "# 13. <a id='toc13_'></a>[SPE charge](#toc0_)"
   ]
  },
  {
   "cell_type": "code",
   "execution_count": null,
   "metadata": {},
   "outputs": [],
   "source": [
    "## ch0\n",
    "## instruction: difference of means of first two peaks\n",
    "# print(f\"SPE charge: {3770 - 2517}\") ### ch0 from default\n",
    "# print(f\"SPE charge: {1973 - 1316}\") ### filtered ch0 from default\n",
    "# print(f\"SPE charge: {4872 - 3296}\") ### filtered ch0 from default\n",
    "# print(f\"SPE charge: {4985 - 3480}\") ### filtered ch0 from default +/- 150\n",
    "# print(f\"SPE charge: {4913 - 3553}\") ### filtered ch0 from default +/- 175\n",
    "# print(f\"SPE charge: {4539 - 3072}\") ### filtered ch0 from default +/- 75\n",
    "# print(f\"SPE charge: {3881 - 2595}\") ### filtered ch0 from default +/- 50\n",
    "# print(f\"SPE charge: {2408 - 1603}\") ### filtered ch0 from default +/- 25\n",
    "# print(f\"SPE charge: {5028 - 3442}\") ### filtered ch0 from default +/- 125\n",
    "# print(f\"SPE charge: {5072 - 3490}\") ### filtered ch0 from default +/- 140\n",
    "# print(f\"SPE charge: {4989 - 3523}\") ### filtered ch0 from default +/- 162\n",
    "# print(f\"SPE charge: {4941 - 3381}\") ### filtered ch0 from default +/- 112\n",
    "# print(f\"SPE charge: { 4963 - 3399}\") ### filtered ch0 from default +/- 112 # this is what went to the LIDINE presentation\n",
    "# print(f\"SPE charge: { 4823 - 3305}\") ### filtered ch0 from default +/- 112 # not removing the rectangular patch for ch0\n",
    "SPE_charge = fitted_parameters[1] - fitted_parameters[0]\n",
    "print(f\"SPE charge: { SPE_charge:.3f}\") ### DOUBLE GAUSSIAN fit. filtered ch0 from default +/- 112 # not removing the rectangular patch for ch0"
   ]
  },
  {
   "cell_type": "code",
   "execution_count": null,
   "metadata": {},
   "outputs": [],
   "source": [
    "## error in SPE charge using error propagation\n",
    "# f\"Error: {np.sqrt((3.377)**2 + (5.697)**2)}\"\n",
    "# f\"Error: {np.sqrt((1.305)**2 + (2.094)**2)}\"  ### filtered ch0\n",
    "# f\"Error: {np.sqrt((6.511)**2 + (12.48)**2)}\"  ### filtered ch0\n",
    "# f\"Error: {np.sqrt((14.13)**2 + (34.38)**2)}\"  ### filtered ch0 +/- 150\n",
    "# f\"Error: {np.sqrt((8.845)**2 + (51.08)**2)}\"  ### filtered ch0 +/- 175\n",
    "# f\"Error: {np.sqrt((3.91)**2 + (8.693)**2)}\"  ### filtered ch0 +/- 75\n",
    "# f\"Error: {np.sqrt((2.955)**2 + (6.027)**2)}\"  ### filtered ch0 +/- 50\n",
    "# f\"Error: {np.sqrt((2.001)**2 + (2.995)**2)}\"  ### filtered ch0 +/- 25\n",
    "# f\"Error: {np.sqrt((6.003)**2 + (17.78)**2)}\"  ### filtered ch0 +/- 125\n",
    "# f\"Error: {np.sqrt((6.418)**2 + (21.98)**2)}\"  ### filtered ch0 +/- 140\n",
    "# f\"Error: {np.sqrt((12.52)**2 + (30.43)**2)}\"  ### filtered ch0 +/- 162\n",
    "# f\"Error: {np.sqrt((5.515)**2 + (12.35)**2)}\"  ### filtered ch0 +/- 112\n",
    "# f\"Error: {np.sqrt((5.831)**2 + (13.35)**2)}\"  ### filtered ch0 +/- 112 # this is what went to the LIDINE presentation\n",
    "# f\"Error: {np.sqrt((5.07)**2 + (17)**2)}\" #  not removing the rectangular patch for ch0\n",
    "# f\"Error: {np.sqrt((perr[3])**2 + (perr[2])**2):.3f}\" # DOUBLE GAUSSIAN fit. not removing the rectangular patch for ch0 #doesn't make any sense\n",
    "f\"Error: {np.sqrt((perr[1])**2 + (perr[0])**2):.3f}\" # DOUBLE GAUSSIAN fit. not removing the rectangular patch for ch0"
   ]
  },
  {
   "cell_type": "markdown",
   "metadata": {},
   "source": [
    "# 14. <a id='toc14_'></a>[SNR](#toc0_)"
   ]
  },
  {
   "cell_type": "code",
   "execution_count": null,
   "metadata": {},
   "outputs": [],
   "source": [
    "## instruction Signal to Noise Ration (SNR) given by that SPE charge divided by Gaussian sigma of the first peak. First peak = pedestal?\n",
    "## since we only have access to the second peak, you can use instead its sigma, divided by sqrt(2)\n",
    "## (this is because sigma of a convolution of two identical gauss distributions is sqrt(2 * sigma^2) ) ## convolution of which distributions? why convolution?"
   ]
  },
  {
   "cell_type": "markdown",
   "metadata": {},
   "source": [
    "## 14.1. <a id='toc14_1_'></a>[Noise term](#toc0_)"
   ]
  },
  {
   "cell_type": "code",
   "execution_count": null,
   "metadata": {},
   "outputs": [],
   "source": [
    "integration_range = [0, 225]"
   ]
  },
  {
   "cell_type": "markdown",
   "metadata": {},
   "source": [
    "### 14.1.1. <a id='toc14_1_1_'></a>[Event catalogue for sigma of Pedestal](#toc0_)"
   ]
  },
  {
   "cell_type": "code",
   "execution_count": null,
   "metadata": {},
   "outputs": [],
   "source": [
    "### load the event catalogue\n",
    "# run_number_ls = [52, 53, 54, 61, 62]#, 63]\n",
    "# all_event_catalogues = []\n",
    "# for run_number in run_number_ls:\n",
    "#     all_event_catalogues.append(f'/work/chuck/sarthak/argset/event_catalogues/event_catalogue_run000{run_number}.pkl')\n",
    "\n",
    "# event_dict_52 = pickle.load(open( all_event_catalogues[0], 'rb'))\n",
    "# event_dict_53 = pickle.load(open( all_event_catalogues[1], 'rb'))\n",
    "# event_dict_54 = pickle.load(open( all_event_catalogues[2], 'rb'))\n",
    "# event_dict_61 = pickle.load(open( all_event_catalogues[3], 'rb'))\n",
    "# event_dict_62 = pickle.load(open( all_event_catalogues[4], 'rb'))\n",
    "# # event_dict_63 = pickle.load(open( all_event_catalogues[4], 'rb')) # crash jupyter kernel"
   ]
  },
  {
   "cell_type": "code",
   "execution_count": null,
   "metadata": {},
   "outputs": [],
   "source": [
    "### concatination of catalogues\n",
    "# event_catalogue = pd.concat([event_dict_52, event_dict_53, event_dict_54, event_dict_61, event_dict_62], ignore_index=True)\n",
    "# del event_dict_53, event_dict_54, event_dict_61, event_dict_62#, event_dict_63\n",
    "\n",
    "### save event catalogue\n",
    "# event_catalogue.to_pickle('event_catalogue_concat_52_62.pkl')\n",
    "\n",
    "### read event_catalogue\n",
    "event_catalogue = pd.read_pickle('event_catalogue_concat_52_62.pkl')"
   ]
  },
  {
   "cell_type": "code",
   "execution_count": null,
   "metadata": {},
   "outputs": [],
   "source": [
    "### Load ar-ma filter\n",
    "from pyreco.manager.manager import Manager \n",
    "from pyreco.reco.filtering import WFFilter\n",
    "\n",
    "confile = 'argset.ini'\n",
    "outfile = f\"temp_filename\"\n",
    "midas_data_filename= '/work/sarthak/argset/data/2024_Mar_27/midas/run00051.mid.lz4'\n",
    "cmdline_args = f'--config {confile} -o {outfile} -i {midas_data_filename}'\n",
    "pyreco_manager = Manager( midas=True, cmdline_args=cmdline_args)\n",
    "mfilter = WFFilter(pyreco_manager.config)"
   ]
  },
  {
   "cell_type": "code",
   "execution_count": null,
   "metadata": {},
   "outputs": [],
   "source": [
    "## computes a list of sum of pretrigger window of filtered waveforms from the event catalogues\n",
    "\n",
    "ch_index = 0 # select channel\n",
    "integration_range = [0, 225]\n",
    "\n",
    "# pretrigger_sum_ls = []\n",
    "# for loop_index in event_catalogue.index.values:\n",
    "#     og_wf = event_catalogue.loc[loop_index]['wf']\n",
    "    \n",
    "#     pretrigger_sum = np.sum(np.reshape(mfilter.numba_fast_filter(og_wf), newshape=og_wf.shape)[ch_index][integration_range[0]:integration_range[1]])  #TODO: where should the integration window start? Do this on raw or filtered?\n",
    "#     pretrigger_sum_ls.append(pretrigger_sum)"
   ]
  },
  {
   "cell_type": "code",
   "execution_count": null,
   "metadata": {},
   "outputs": [],
   "source": [
    "### load the saved sum list\n",
    "with open('pretrigger_flt_sum_ls.pkl', 'rb') as f:\n",
    "    pretrigger_sum_ls = pickle.load(f)"
   ]
  },
  {
   "cell_type": "code",
   "execution_count": null,
   "metadata": {},
   "outputs": [],
   "source": [
    "### Histogram\n",
    "ch_x = 'ch0'\n",
    "fig104, ax104 = plt.subplots( figsize=(11, 6))\n",
    "\n",
    "hist_content, hist_edges, _hist_obj = ax104.hist(pretrigger_sum_ls, \n",
    "                                                # bins=np.arange(0, 2500, 10),\n",
    "                                                bins = np.arange(-3000, 3000, 10),\n",
    "                                                # bins=np.arange(-5000, 15000, 25),\n",
    "                                                # bins=500,\n",
    "                                                # bins=np.arange(-5000, 15000, 50),\n",
    "                                                # bins=np.arange(-5000, 15000, 100),\n",
    "                                                # color='#B5D9C0', label=ch_x);\n",
    "                                                color=f'C{ch_x[2]}', label=ch_x[2]\n",
    ");\n",
    "\n",
    "ax104.legend()\n",
    "# ax104.set_xlim(-3000, 3000)\n",
    "ax104.set_xlabel(f'\\n Integrated charge in pretrigger window [4ns$\\cdot$ADC units] ')\n",
    "# ax104.set_xlabel(f'\\n sum of first 225 bins in pretrigger window [4ns$\\cdot$ADC units] ')\n",
    "# ax104.set_xlabel(f'\\n sum of pretrigger window from {integration_range[0]} to {integration_range[1]-1} [4ns$\\cdot$ADC units] ')\n",
    "ax104.set_ylabel('Counts \\n')\n",
    "ax104.grid()"
   ]
  },
  {
   "cell_type": "code",
   "execution_count": null,
   "metadata": {},
   "outputs": [],
   "source": [
    "### Fit a Gaussian to the pedestal\n",
    "\n",
    "# p0_input = [150, 856, 1000] ## ch0\n",
    "p0_input = [100, 810, 1E6] ## ch0\n",
    "bounds_input = ([-400, 100, 1], [1000, 1E5, np.inf]) ## ch0\n",
    "\n",
    "# x_range = range(125, 275) # # bins=np.arange(-5000, 15000, 25). red chisqr ~ 1.6\n",
    "# x_range = range(125, 240)  # # bins=np.arange(-5000, 15000, 25). red chisqr ~ 1.51\n",
    "x_range = range(145, 505)  # # bins=np.arange(-5000, 15000, 25). (105, 240) red chisqr ~ 1.45\n",
    "# x_range = range(70, 140) # # bins=np.arange(-5000, 15000, 50) red. chisqr ~ 1.55\n",
    "# x_range = range(35, 70) # # bins=np.arange(-5000, 15000, 100) red. chisqr ~ 1.52\n",
    "\n",
    "fitted_parameters, pcov = curve_fit(f_gauss, \n",
    "                            hist_edges[x_range], hist_content[x_range], \\\n",
    "                            p0 = p0_input,\n",
    "                            bounds = bounds_input,\n",
    "                            sigma = np.sqrt(hist_content[x_range]),\n",
    "                            absolute_sigma=True,\n",
    "                            )\n",
    "\n",
    "red_chisqr_value = red_chisq(hist_content[x_range], \\\n",
    "    f_gauss(hist_edges[x_range], *fitted_parameters), fitted_parameters\n",
    "    )\n",
    "\n",
    "ax104.plot(hist_edges[x_range], f_gauss(hist_edges[x_range], *fitted_parameters), color='#FF5733', label='fit')\n",
    "ax104.legend()\n",
    "\n",
    "text_in_box = AnchoredText(f\"statistics = {int(sum(hist_content[x_range]))} \\n$\\\\chi^{2}/\\\\nu$ = {red_chisqr_value:.2f} \\n$\\\\mu$ = {fitted_parameters[0]:.3f} \\n$\\\\sigma$ = {fitted_parameters[1]:.3f} \\nCOM = {calc_COM(hist_content, hist_edges):.3f}\", \\\n",
    "                                       prop=dict(size=12), loc='upper left')\n",
    "text_in_box.patch.set_alpha(0.1)\n",
    "ax104.add_artist(text_in_box)\n",
    "print(f'red_chisqr_value: {red_chisqr_value:.3f}')\n",
    "print(f'fitted_parameters: {fitted_parameters}')\n",
    "\n",
    "# fig104.savefig('../plots/hist_pretriggersum_224_ch0.png')"
   ]
  },
  {
   "cell_type": "code",
   "execution_count": null,
   "metadata": {},
   "outputs": [],
   "source": [
    "# plt.close(fig104)\n",
    "fig104"
   ]
  },
  {
   "cell_type": "code",
   "execution_count": null,
   "metadata": {},
   "outputs": [],
   "source": [
    "# ## RMS\n",
    "# # np.sqrt(np.mean(np.power(np.array(pretrigger_sum_ls), 2)))\n",
    "# pretrigger_sum_array = np.array(pretrigger_sum_ls)\n",
    "\n",
    "# lt_3000 = pretrigger_sum_array[np.where(pretrigger_sum_array <= 3000)]\n",
    "\n",
    "# pretrigger_sum_array_select = pretrigger_sum_array[np.where(lt_3000 >= -3000)].shape\n",
    "# np.sqrt(np.mean(np.power(pretrigger_sum_array_select, 2)))"
   ]
  },
  {
   "cell_type": "markdown",
   "metadata": {},
   "source": [
    "## 14.2. <a id='toc14_2_'></a>[SNR calculation](#toc0_)"
   ]
  },
  {
   "cell_type": "code",
   "execution_count": null,
   "metadata": {},
   "outputs": [],
   "source": [
    "# SPE_charge = 1253\n",
    "# sigma_1 = 241.3\n",
    "# SNR = SPE_charge/(sigma_1/np.sqrt(2))\n",
    "\n",
    "# SPE_charge = 1576\n",
    "# sigma_1 = 454.8\n",
    "\n",
    "# SPE_charge = 1564\n",
    "sigma_1 = 494.7\n",
    "\n",
    "# ways to calulate SNR\n",
    "# SNR = SPE_charge/(sigma_1/np.sqrt(2)) # sPE/(width of 1PE peak) or sPE/(width of pedestal) or sPE/(RMS of baseline)\n",
    "# sPE/(width of 1PE peak) or sPE/(width of pedestal) or sPE/(RMS of baseline)"
   ]
  },
  {
   "cell_type": "code",
   "execution_count": null,
   "metadata": {},
   "outputs": [],
   "source": [
    "# # sPE/((width of 2PE peak)/np.sqrt(2)) # width of first peak estimated from second peak. We are trying to get the width of 1PE though we can not reliably get a number for it directly.\n",
    "\n",
    "# SNR = SPE_charge/(sigma_1/np.sqrt(2)) \n",
    "\n",
    "# f\"SNR: {SNR:.2f}\""
   ]
  },
  {
   "cell_type": "code",
   "execution_count": null,
   "metadata": {},
   "outputs": [],
   "source": [
    "# sPE/(width of pedestal)\n",
    "\n",
    "SNR = SPE_charge/(fitted_parameters[1])\n",
    "\n",
    "f\"SNR: {SNR:.2f}\" # This is probably correct one!"
   ]
  },
  {
   "cell_type": "code",
   "execution_count": null,
   "metadata": {},
   "outputs": [],
   "source": [
    "# sum of 224 bins on each waveform --> 1 sum value \n",
    "# 100k waveforms --> distribution --> std --> sPE/std gives the SNR"
   ]
  },
  {
   "cell_type": "markdown",
   "metadata": {},
   "source": [
    "<hr style=\"border: none; border-bottom: 5px solid blue;\"> </hr>"
   ]
  }
 ],
 "metadata": {
  "kernelspec": {
   "display_name": "jar",
   "language": "python",
   "name": "python3"
  },
  "language_info": {
   "codemirror_mode": {
    "name": "ipython",
    "version": 3
   },
   "file_extension": ".py",
   "mimetype": "text/x-python",
   "name": "python",
   "nbconvert_exporter": "python",
   "pygments_lexer": "ipython3",
   "version": "3.11.8"
  }
 },
 "nbformat": 4,
 "nbformat_minor": 2
}
