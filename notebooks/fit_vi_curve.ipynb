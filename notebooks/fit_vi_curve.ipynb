{
 "cells": [
  {
   "cell_type": "code",
   "execution_count": 37,
   "id": "69d9754c-b866-4c1d-b968-6d588662ad53",
   "metadata": {},
   "outputs": [],
   "source": [
    "import pandas as pd\n",
    "from scipy.optimize import curve_fit\n",
    "from matplotlib import rc\n",
    "import matplotlib.pyplot as plt"
   ]
  },
  {
   "cell_type": "code",
   "execution_count": 38,
   "id": "a3280e31",
   "metadata": {},
   "outputs": [],
   "source": [
    "%matplotlib ipympl"
   ]
  },
  {
   "cell_type": "code",
   "execution_count": 39,
   "id": "84d4c57c",
   "metadata": {},
   "outputs": [],
   "source": [
    "rc('figure', autolayout=True, figsize=[16, 9], dpi=72, titlesize=26 )\n",
    "rc('font', family='monospace')\n",
    "rc('axes', titlesize=24, titleweight='heavy', labelsize=22, labelweight='bold')\n",
    "rc(('xtick', 'ytick'), labelsize = 24)\n",
    "rc('legend', fontsize=20)"
   ]
  },
  {
   "cell_type": "code",
   "execution_count": 40,
   "id": "36279afa-5231-4462-9358-07856b537947",
   "metadata": {},
   "outputs": [],
   "source": [
    "data_dir = '/home/sarthak/my_projects/argset/data/iv_curve/'"
   ]
  },
  {
   "cell_type": "code",
   "execution_count": 41,
   "id": "ce58b64d",
   "metadata": {},
   "outputs": [],
   "source": [
    "file_data = f'{data_dir}/CEZAMAT_ArGSet_SiPM2.xlsx'"
   ]
  },
  {
   "cell_type": "code",
   "execution_count": 42,
   "id": "7d1b5f10-73f4-4a71-9a43-baadf41d7f05",
   "metadata": {},
   "outputs": [],
   "source": [
    "file_data_2 = f'{data_dir}/SiPM2_IV_Plot.csv'"
   ]
  },
  {
   "cell_type": "code",
   "execution_count": 43,
   "id": "4a0c4935-9376-4a1c-8d59-c44ad2884563",
   "metadata": {},
   "outputs": [],
   "source": [
    "file_data_3 = f'{data_dir}/ArGSet_SiPM1_VI_Curve.csv'"
   ]
  },
  {
   "cell_type": "code",
   "execution_count": 44,
   "id": "8240b821-bc15-4e37-a23a-6c234f491c67",
   "metadata": {},
   "outputs": [],
   "source": [
    "data = pd.read_excel(file_data)"
   ]
  },
  {
   "cell_type": "code",
   "execution_count": 45,
   "id": "db29110b-131b-4eb9-8832-096bb863b29c",
   "metadata": {},
   "outputs": [],
   "source": [
    "data_2 = pd.read_csv(file_data_2)"
   ]
  },
  {
   "cell_type": "code",
   "execution_count": 46,
   "id": "e44a2abc",
   "metadata": {},
   "outputs": [
    {
     "data": {
      "text/html": [
       "<div>\n",
       "<style scoped>\n",
       "    .dataframe tbody tr th:only-of-type {\n",
       "        vertical-align: middle;\n",
       "    }\n",
       "\n",
       "    .dataframe tbody tr th {\n",
       "        vertical-align: top;\n",
       "    }\n",
       "\n",
       "    .dataframe thead th {\n",
       "        text-align: right;\n",
       "    }\n",
       "</style>\n",
       "<table border=\"1\" class=\"dataframe\">\n",
       "  <thead>\n",
       "    <tr style=\"text-align: right;\">\n",
       "      <th></th>\n",
       "      <th>Voltage (v)</th>\n",
       "      <th>Current (uA)</th>\n",
       "      <th>Unnamed: 2</th>\n",
       "    </tr>\n",
       "  </thead>\n",
       "  <tbody>\n",
       "    <tr>\n",
       "      <th>0</th>\n",
       "      <td>5.0</td>\n",
       "      <td>-1.0</td>\n",
       "      <td>NaN</td>\n",
       "    </tr>\n",
       "    <tr>\n",
       "      <th>1</th>\n",
       "      <td>10.0</td>\n",
       "      <td>-1.0</td>\n",
       "      <td>NaN</td>\n",
       "    </tr>\n",
       "    <tr>\n",
       "      <th>2</th>\n",
       "      <td>15.0</td>\n",
       "      <td>-1.0</td>\n",
       "      <td>NaN</td>\n",
       "    </tr>\n",
       "    <tr>\n",
       "      <th>3</th>\n",
       "      <td>20.0</td>\n",
       "      <td>-1.0</td>\n",
       "      <td>NaN</td>\n",
       "    </tr>\n",
       "    <tr>\n",
       "      <th>4</th>\n",
       "      <td>25.0</td>\n",
       "      <td>-1.0</td>\n",
       "      <td>NaN</td>\n",
       "    </tr>\n",
       "  </tbody>\n",
       "</table>\n",
       "</div>"
      ],
      "text/plain": [
       "   Voltage (v)  Current (uA)  Unnamed: 2\n",
       "0          5.0          -1.0         NaN\n",
       "1         10.0          -1.0         NaN\n",
       "2         15.0          -1.0         NaN\n",
       "3         20.0          -1.0         NaN\n",
       "4         25.0          -1.0         NaN"
      ]
     },
     "execution_count": 46,
     "metadata": {},
     "output_type": "execute_result"
    }
   ],
   "source": [
    "data.head()"
   ]
  },
  {
   "cell_type": "code",
   "execution_count": 47,
   "id": "c3cd33cc-1bbe-414c-85b2-054a3844810b",
   "metadata": {},
   "outputs": [
    {
     "data": {
      "text/html": [
       "<div>\n",
       "<style scoped>\n",
       "    .dataframe tbody tr th:only-of-type {\n",
       "        vertical-align: middle;\n",
       "    }\n",
       "\n",
       "    .dataframe tbody tr th {\n",
       "        vertical-align: top;\n",
       "    }\n",
       "\n",
       "    .dataframe thead th {\n",
       "        text-align: right;\n",
       "    }\n",
       "</style>\n",
       "<table border=\"1\" class=\"dataframe\">\n",
       "  <thead>\n",
       "    <tr style=\"text-align: right;\">\n",
       "      <th></th>\n",
       "      <th>volt</th>\n",
       "      <th>current</th>\n",
       "    </tr>\n",
       "  </thead>\n",
       "  <tbody>\n",
       "    <tr>\n",
       "      <th>0</th>\n",
       "      <td>29.00</td>\n",
       "      <td>-1.0</td>\n",
       "    </tr>\n",
       "    <tr>\n",
       "      <th>1</th>\n",
       "      <td>29.20</td>\n",
       "      <td>NaN</td>\n",
       "    </tr>\n",
       "    <tr>\n",
       "      <th>2</th>\n",
       "      <td>29.40</td>\n",
       "      <td>-1.0</td>\n",
       "    </tr>\n",
       "    <tr>\n",
       "      <th>3</th>\n",
       "      <td>29.45</td>\n",
       "      <td>-1.0</td>\n",
       "    </tr>\n",
       "    <tr>\n",
       "      <th>4</th>\n",
       "      <td>29.50</td>\n",
       "      <td>-1.0</td>\n",
       "    </tr>\n",
       "  </tbody>\n",
       "</table>\n",
       "</div>"
      ],
      "text/plain": [
       "    volt  current\n",
       "0  29.00     -1.0\n",
       "1  29.20      NaN\n",
       "2  29.40     -1.0\n",
       "3  29.45     -1.0\n",
       "4  29.50     -1.0"
      ]
     },
     "execution_count": 47,
     "metadata": {},
     "output_type": "execute_result"
    }
   ],
   "source": [
    "data_2.head()"
   ]
  },
  {
   "cell_type": "code",
   "execution_count": 48,
   "id": "ceae099f-2955-45b7-adc5-19147f90db91",
   "metadata": {},
   "outputs": [],
   "source": [
    "data_3 = pd.read_csv(file_data_3)"
   ]
  },
  {
   "cell_type": "code",
   "execution_count": 49,
   "id": "6fe58b7e-677c-4e27-a7a9-bf227306f033",
   "metadata": {},
   "outputs": [
    {
     "data": {
      "text/html": [
       "<div>\n",
       "<style scoped>\n",
       "    .dataframe tbody tr th:only-of-type {\n",
       "        vertical-align: middle;\n",
       "    }\n",
       "\n",
       "    .dataframe tbody tr th {\n",
       "        vertical-align: top;\n",
       "    }\n",
       "\n",
       "    .dataframe thead th {\n",
       "        text-align: right;\n",
       "    }\n",
       "</style>\n",
       "<table border=\"1\" class=\"dataframe\">\n",
       "  <thead>\n",
       "    <tr style=\"text-align: right;\">\n",
       "      <th></th>\n",
       "      <th>Volt</th>\n",
       "      <th>Current</th>\n",
       "    </tr>\n",
       "  </thead>\n",
       "  <tbody>\n",
       "    <tr>\n",
       "      <th>0</th>\n",
       "      <td>NaN</td>\n",
       "      <td>NaN</td>\n",
       "    </tr>\n",
       "    <tr>\n",
       "      <th>1</th>\n",
       "      <td>5.0</td>\n",
       "      <td>-2.0</td>\n",
       "    </tr>\n",
       "    <tr>\n",
       "      <th>2</th>\n",
       "      <td>10.0</td>\n",
       "      <td>-2.0</td>\n",
       "    </tr>\n",
       "    <tr>\n",
       "      <th>3</th>\n",
       "      <td>15.0</td>\n",
       "      <td>-1.0</td>\n",
       "    </tr>\n",
       "    <tr>\n",
       "      <th>4</th>\n",
       "      <td>20.0</td>\n",
       "      <td>-1.0</td>\n",
       "    </tr>\n",
       "  </tbody>\n",
       "</table>\n",
       "</div>"
      ],
      "text/plain": [
       "   Volt  Current\n",
       "0   NaN      NaN\n",
       "1   5.0     -2.0\n",
       "2  10.0     -2.0\n",
       "3  15.0     -1.0\n",
       "4  20.0     -1.0"
      ]
     },
     "execution_count": 49,
     "metadata": {},
     "output_type": "execute_result"
    }
   ],
   "source": [
    "data_3.head()"
   ]
  },
  {
   "cell_type": "code",
   "execution_count": 50,
   "id": "703c648a-c5f8-477e-8d08-a376580bec8f",
   "metadata": {},
   "outputs": [
    {
     "data": {
      "text/plain": [
       "<matplotlib.legend.Legend at 0x7f2ba6905ff0>"
      ]
     },
     "execution_count": 50,
     "metadata": {},
     "output_type": "execute_result"
    },
    {
     "data": {
      "application/vnd.jupyter.widget-view+json": {
       "model_id": "4b3b69c43d444b1ca7cbc1b63228ec73",
       "version_major": 2,
       "version_minor": 0
      },
      "image/png": "[encoded data removed]",
      "text/html": [
       "\n",
       "            <div style=\"display: inline-block;\">\n",
       "                <div class=\"jupyter-widgets widget-label\" style=\"text-align: center;\">\n",
       "                    Figure\n",
       "                </div>\n",
       "                <img src='data:image/png;base64,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' width=576.0/>\n",
       "            </div>\n",
       "        "
      ],
      "text/plain": [
       "Canvas(toolbar=Toolbar(toolitems=[('Home', 'Reset original view', 'home', 'home'), ('Back', 'Back to previous …"
      ]
     },
     "metadata": {},
     "output_type": "display_data"
    }
   ],
   "source": [
    "plt.close(1)\n",
    "\n",
    "plt.figure(1, figsize=(8,6))\n",
    "plt.plot(data_3['Volt'][1:], data_3['Current'][1:], '*', label='SiPM-1')\n",
    "# plt.plot(data['Voltage (v)'], data['Current (uA)'], label='SiPM-2 run_01')\n",
    "plt.plot(data_2['volt'], data_2['current'], '*', label='SiPM-2') # run_02')\n",
    "# plt.title('I-V plots for ArGSet with light inlet port exposed to ambient light')\n",
    "plt.grid()\n",
    "plt.axhline(y=-1.0, color='Black', linestyle='--')\n",
    "plt.xlabel('voltage')\n",
    "plt.ylabel('current')\n",
    "plt.ylim(-5.0, 175.0)\n",
    "plt.xlim(0.0, 35.0)\n",
    "plt.legend(loc= 'upper left')\n",
    "# plt.savefig('../plots/IV_curve_SiPM.pdf')"
   ]
  },
  {
   "cell_type": "code",
   "execution_count": 51,
   "id": "96fd6191-3b2d-4fd4-9962-414a5bd2bfca",
   "metadata": {},
   "outputs": [],
   "source": [
    "def st_line(x, m, c):\n",
    "    return m*x + c"
   ]
  },
  {
   "cell_type": "code",
   "execution_count": 52,
   "id": "bc3e3842-c798-4eae-84f8-1ad7baecef0f",
   "metadata": {},
   "outputs": [],
   "source": [
    "popt_SiPM2, pcov_SiPM2 = curve_fit(st_line, data_2['volt'][7:20], data_2['current'][7:20], p0=[200, -5000])"
   ]
  },
  {
   "cell_type": "code",
   "execution_count": 53,
   "id": "93aeb515-585c-4d20-9817-902da7bc5972",
   "metadata": {},
   "outputs": [
    {
     "data": {
      "text/plain": [
       "<matplotlib.legend.Legend at 0x7f2ba696bac0>"
      ]
     },
     "execution_count": 53,
     "metadata": {},
     "output_type": "execute_result"
    }
   ],
   "source": [
    "plt.figure(1)\n",
    "plt.plot(data_2['volt'][7:20], \n",
    "         st_line(data_2['volt'][7:20], popt_SiPM2[0], popt_SiPM2[1]), label='best fit to SiPM-2')\n",
    "plt.legend()"
   ]
  },
  {
   "cell_type": "code",
   "execution_count": 54,
   "id": "0032486b-d946-4e5f-a5bb-a4089cecb508",
   "metadata": {},
   "outputs": [
    {
     "data": {
      "text/plain": [
       "222.41758241763108"
      ]
     },
     "execution_count": 54,
     "metadata": {},
     "output_type": "execute_result"
    }
   ],
   "source": [
    "popt_SiPM2[0]"
   ]
  },
  {
   "cell_type": "code",
   "execution_count": 55,
   "id": "c25b9585-0cb4-4dfb-846c-3c63e416d1d5",
   "metadata": {},
   "outputs": [
    {
     "data": {
      "text/plain": [
       "-6601.406593410079"
      ]
     },
     "execution_count": 55,
     "metadata": {},
     "output_type": "execute_result"
    }
   ],
   "source": [
    "popt_SiPM2[1]"
   ]
  },
  {
   "cell_type": "code",
   "execution_count": 56,
   "id": "6fb51062-8c29-4051-865b-cbae5086df5f",
   "metadata": {},
   "outputs": [
    {
     "data": {
      "text/plain": [
       "nan"
      ]
     },
     "execution_count": 56,
     "metadata": {},
     "output_type": "execute_result"
    }
   ],
   "source": [
    "data_2['current'][20]"
   ]
  },
  {
   "cell_type": "code",
   "execution_count": 57,
   "id": "6973065f-2974-4468-b03f-4b2248237d97",
   "metadata": {},
   "outputs": [],
   "source": [
    "## breakdown voltage for SiPM-2"
   ]
  },
  {
   "cell_type": "code",
   "execution_count": 58,
   "id": "28f4dce2-fb6c-4251-a693-dad2986c3c0c",
   "metadata": {},
   "outputs": [
    {
     "data": {
      "text/plain": [
       "29.675741106728545"
      ]
     },
     "execution_count": 58,
     "metadata": {},
     "output_type": "execute_result"
    }
   ],
   "source": [
    "(-1 - popt_SiPM2[1])/popt_SiPM2[0]"
   ]
  },
  {
   "cell_type": "code",
   "execution_count": 59,
   "id": "2e3b5b8c-4fbf-439e-9919-aa8a61600a3d",
   "metadata": {},
   "outputs": [],
   "source": [
    "## Breakdown voltage for SiPM 1"
   ]
  },
  {
   "cell_type": "code",
   "execution_count": 60,
   "id": "b5217629-c5d1-4df1-ba6a-65863a0311f3",
   "metadata": {},
   "outputs": [],
   "source": [
    "popt_SiPM1, pcov_SiPM1 = curve_fit(st_line, data_3['Volt'][12:25], data_3['Current'][12:25], p0=[200, -5000])"
   ]
  },
  {
   "cell_type": "code",
   "execution_count": 61,
   "id": "a11de410-87a3-4f88-a2e4-f2b5e99c01c4",
   "metadata": {
    "tags": []
   },
   "outputs": [
    {
     "data": {
      "text/html": [
       "<div>\n",
       "<style scoped>\n",
       "    .dataframe tbody tr th:only-of-type {\n",
       "        vertical-align: middle;\n",
       "    }\n",
       "\n",
       "    .dataframe tbody tr th {\n",
       "        vertical-align: top;\n",
       "    }\n",
       "\n",
       "    .dataframe thead th {\n",
       "        text-align: right;\n",
       "    }\n",
       "</style>\n",
       "<table border=\"1\" class=\"dataframe\">\n",
       "  <thead>\n",
       "    <tr style=\"text-align: right;\">\n",
       "      <th></th>\n",
       "      <th>Volt</th>\n",
       "      <th>Current</th>\n",
       "    </tr>\n",
       "  </thead>\n",
       "  <tbody>\n",
       "    <tr>\n",
       "      <th>1</th>\n",
       "      <td>5.00</td>\n",
       "      <td>-2.0</td>\n",
       "    </tr>\n",
       "    <tr>\n",
       "      <th>2</th>\n",
       "      <td>10.00</td>\n",
       "      <td>-2.0</td>\n",
       "    </tr>\n",
       "    <tr>\n",
       "      <th>3</th>\n",
       "      <td>15.00</td>\n",
       "      <td>-1.0</td>\n",
       "    </tr>\n",
       "    <tr>\n",
       "      <th>4</th>\n",
       "      <td>20.00</td>\n",
       "      <td>-1.0</td>\n",
       "    </tr>\n",
       "    <tr>\n",
       "      <th>5</th>\n",
       "      <td>25.00</td>\n",
       "      <td>-1.0</td>\n",
       "    </tr>\n",
       "    <tr>\n",
       "      <th>6</th>\n",
       "      <td>26.00</td>\n",
       "      <td>-1.0</td>\n",
       "    </tr>\n",
       "    <tr>\n",
       "      <th>7</th>\n",
       "      <td>27.00</td>\n",
       "      <td>-1.0</td>\n",
       "    </tr>\n",
       "    <tr>\n",
       "      <th>8</th>\n",
       "      <td>28.00</td>\n",
       "      <td>-1.0</td>\n",
       "    </tr>\n",
       "    <tr>\n",
       "      <th>9</th>\n",
       "      <td>29.00</td>\n",
       "      <td>-1.0</td>\n",
       "    </tr>\n",
       "    <tr>\n",
       "      <th>10</th>\n",
       "      <td>29.05</td>\n",
       "      <td>0.0</td>\n",
       "    </tr>\n",
       "    <tr>\n",
       "      <th>11</th>\n",
       "      <td>29.10</td>\n",
       "      <td>0.0</td>\n",
       "    </tr>\n",
       "    <tr>\n",
       "      <th>12</th>\n",
       "      <td>29.15</td>\n",
       "      <td>2.0</td>\n",
       "    </tr>\n",
       "    <tr>\n",
       "      <th>13</th>\n",
       "      <td>29.20</td>\n",
       "      <td>6.0</td>\n",
       "    </tr>\n",
       "    <tr>\n",
       "      <th>14</th>\n",
       "      <td>29.25</td>\n",
       "      <td>12.0</td>\n",
       "    </tr>\n",
       "    <tr>\n",
       "      <th>15</th>\n",
       "      <td>29.30</td>\n",
       "      <td>19.0</td>\n",
       "    </tr>\n",
       "    <tr>\n",
       "      <th>16</th>\n",
       "      <td>29.35</td>\n",
       "      <td>28.0</td>\n",
       "    </tr>\n",
       "    <tr>\n",
       "      <th>17</th>\n",
       "      <td>29.40</td>\n",
       "      <td>37.0</td>\n",
       "    </tr>\n",
       "    <tr>\n",
       "      <th>18</th>\n",
       "      <td>29.45</td>\n",
       "      <td>48.0</td>\n",
       "    </tr>\n",
       "    <tr>\n",
       "      <th>19</th>\n",
       "      <td>29.50</td>\n",
       "      <td>60.0</td>\n",
       "    </tr>\n",
       "    <tr>\n",
       "      <th>20</th>\n",
       "      <td>29.55</td>\n",
       "      <td>73.0</td>\n",
       "    </tr>\n",
       "    <tr>\n",
       "      <th>21</th>\n",
       "      <td>29.60</td>\n",
       "      <td>86.0</td>\n",
       "    </tr>\n",
       "    <tr>\n",
       "      <th>22</th>\n",
       "      <td>29.65</td>\n",
       "      <td>98.0</td>\n",
       "    </tr>\n",
       "    <tr>\n",
       "      <th>23</th>\n",
       "      <td>29.70</td>\n",
       "      <td>112.0</td>\n",
       "    </tr>\n",
       "    <tr>\n",
       "      <th>24</th>\n",
       "      <td>29.75</td>\n",
       "      <td>128.0</td>\n",
       "    </tr>\n",
       "  </tbody>\n",
       "</table>\n",
       "</div>"
      ],
      "text/plain": [
       "     Volt  Current\n",
       "1    5.00     -2.0\n",
       "2   10.00     -2.0\n",
       "3   15.00     -1.0\n",
       "4   20.00     -1.0\n",
       "5   25.00     -1.0\n",
       "6   26.00     -1.0\n",
       "7   27.00     -1.0\n",
       "8   28.00     -1.0\n",
       "9   29.00     -1.0\n",
       "10  29.05      0.0\n",
       "11  29.10      0.0\n",
       "12  29.15      2.0\n",
       "13  29.20      6.0\n",
       "14  29.25     12.0\n",
       "15  29.30     19.0\n",
       "16  29.35     28.0\n",
       "17  29.40     37.0\n",
       "18  29.45     48.0\n",
       "19  29.50     60.0\n",
       "20  29.55     73.0\n",
       "21  29.60     86.0\n",
       "22  29.65     98.0\n",
       "23  29.70    112.0\n",
       "24  29.75    128.0"
      ]
     },
     "execution_count": 61,
     "metadata": {},
     "output_type": "execute_result"
    }
   ],
   "source": [
    "data_3[1:25]"
   ]
  },
  {
   "cell_type": "code",
   "execution_count": 62,
   "id": "1008ab36-f324-432e-879d-bf10b72e1b29",
   "metadata": {},
   "outputs": [
    {
     "data": {
      "text/plain": [
       "array([  213.62637211, -6236.75819705])"
      ]
     },
     "execution_count": 62,
     "metadata": {},
     "output_type": "execute_result"
    }
   ],
   "source": [
    "popt_SiPM1"
   ]
  },
  {
   "cell_type": "code",
   "execution_count": 63,
   "id": "5e2bdd2f-26a0-41d3-9dfa-ba44a07cc18c",
   "metadata": {},
   "outputs": [
    {
     "data": {
      "text/plain": [
       "<matplotlib.legend.Legend at 0x7f2ba6969570>"
      ]
     },
     "execution_count": 63,
     "metadata": {},
     "output_type": "execute_result"
    }
   ],
   "source": [
    "plt.figure(1)\n",
    "plt.plot(data_3['Volt'][12:25], \n",
    "         st_line(data_3['Volt'][12:25], popt_SiPM1[0], popt_SiPM1[1]), label='best fit to SiPM-1')\n",
    "plt.legend()"
   ]
  },
  {
   "cell_type": "code",
   "execution_count": 64,
   "id": "ca6199fe-21a9-47e5-8b56-d6cb63311fab",
   "metadata": {},
   "outputs": [
    {
     "data": {
      "text/plain": [
       "29.19002057428421"
      ]
     },
     "execution_count": 64,
     "metadata": {},
     "output_type": "execute_result"
    }
   ],
   "source": [
    "(-1 - popt_SiPM1[1])/popt_SiPM1[0]"
   ]
  },
  {
   "cell_type": "markdown",
   "id": "baa9d421-85ba-408a-8f12-68582ac2ecfa",
   "metadata": {},
   "source": [
    " SiPM | breakdown voltage |\n",
    " ___\n",
    " 2    | 29.67             | \n",
    " ___\n",
    " 1    | 29.19             |"
   ]
  },
  {
   "cell_type": "code",
   "execution_count": null,
   "id": "74217fe7-5ec3-4e9d-bca9-3e6317f5eb7a",
   "metadata": {},
   "outputs": [],
   "source": []
  }
 ],
 "metadata": {
  "kernelspec": {
   "display_name": "Python 3 (ipykernel)",
   "language": "python",
   "name": "python3"
  },
  "language_info": {
   "codemirror_mode": {
    "name": "ipython",
    "version": 3
   },
   "file_extension": ".py",
   "mimetype": "text/x-python",
   "name": "python",
   "nbconvert_exporter": "python",
   "pygments_lexer": "ipython3",
   "version": "3.10.8"
  }
 },
 "nbformat": 4,
 "nbformat_minor": 5
}
