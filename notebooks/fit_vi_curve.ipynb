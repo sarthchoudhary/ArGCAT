{
 "cells": [
  {
   "cell_type": "code",
   "execution_count": 1,
   "id": "69d9754c-b866-4c1d-b968-6d588662ad53",
   "metadata": {},
   "outputs": [],
   "source": [
    "import pandas as pd\n",
    "from scipy.optimize import curve_fit\n",
    "from matplotlib import rc\n",
    "import matplotlib.pyplot as plt"
   ]
  },
  {
   "cell_type": "code",
   "execution_count": 2,
   "id": "a3280e31",
   "metadata": {},
   "outputs": [],
   "source": [
    "%matplotlib ipympl"
   ]
  },
  {
   "cell_type": "code",
   "execution_count": 3,
   "id": "84d4c57c",
   "metadata": {},
   "outputs": [],
   "source": [
    "# rc('figure', autolayout=True, figsize=[16, 9], dpi=72, titlesize=26 )\n",
    "# rc('font', family='monospace')\n",
    "# rc('axes', titlesize=24, titleweight='heavy', labelsize=22, labelweight='bold')\n",
    "# rc(('xtick', 'ytick'), labelsize = 24)\n",
    "# rc('legend', fontsize=20)\n",
    "rc('figure', autolayout=True, dpi=125, titlesize=20 )\n",
    "rc('font', family='monospace')\n",
    "rc('axes', titlesize=20, titleweight='heavy', labelsize=16, labelweight='bold')\n",
    "rc(('xtick', 'ytick'), labelsize = 18)\n",
    "rc('legend', fontsize=14)"
   ]
  },
  {
   "cell_type": "code",
   "execution_count": 4,
   "id": "36279afa-5231-4462-9358-07856b537947",
   "metadata": {},
   "outputs": [],
   "source": [
    "data_dir = '/home/sarthak/my_projects/argset/data/iv_curve/'"
   ]
  },
  {
   "cell_type": "code",
   "execution_count": 5,
   "id": "ce58b64d",
   "metadata": {},
   "outputs": [],
   "source": [
    "file_data = f'{data_dir}/CEZAMAT_ArGSet_SiPM2.xlsx'"
   ]
  },
  {
   "cell_type": "code",
   "execution_count": 6,
   "id": "7d1b5f10-73f4-4a71-9a43-baadf41d7f05",
   "metadata": {},
   "outputs": [],
   "source": [
    "file_data_2 = f'{data_dir}/SiPM2_IV_Plot.csv'"
   ]
  },
  {
   "cell_type": "code",
   "execution_count": 7,
   "id": "4a0c4935-9376-4a1c-8d59-c44ad2884563",
   "metadata": {},
   "outputs": [],
   "source": [
    "file_data_3 = f'{data_dir}/ArGSet_SiPM1_VI_Curve.csv'"
   ]
  },
  {
   "cell_type": "code",
   "execution_count": 8,
   "id": "8240b821-bc15-4e37-a23a-6c234f491c67",
   "metadata": {},
   "outputs": [],
   "source": [
    "data = pd.read_excel(file_data)"
   ]
  },
  {
   "cell_type": "code",
   "execution_count": 9,
   "id": "db29110b-131b-4eb9-8832-096bb863b29c",
   "metadata": {},
   "outputs": [],
   "source": [
    "data_2 = pd.read_csv(file_data_2)"
   ]
  },
  {
   "cell_type": "code",
   "execution_count": 10,
   "id": "e44a2abc",
   "metadata": {},
   "outputs": [
    {
     "data": {
      "text/html": [
       "<div>\n",
       "<style scoped>\n",
       "    .dataframe tbody tr th:only-of-type {\n",
       "        vertical-align: middle;\n",
       "    }\n",
       "\n",
       "    .dataframe tbody tr th {\n",
       "        vertical-align: top;\n",
       "    }\n",
       "\n",
       "    .dataframe thead th {\n",
       "        text-align: right;\n",
       "    }\n",
       "</style>\n",
       "<table border=\"1\" class=\"dataframe\">\n",
       "  <thead>\n",
       "    <tr style=\"text-align: right;\">\n",
       "      <th></th>\n",
       "      <th>Voltage (v)</th>\n",
       "      <th>Current (uA)</th>\n",
       "      <th>Unnamed: 2</th>\n",
       "    </tr>\n",
       "  </thead>\n",
       "  <tbody>\n",
       "    <tr>\n",
       "      <th>0</th>\n",
       "      <td>5.0</td>\n",
       "      <td>-1.0</td>\n",
       "      <td>NaN</td>\n",
       "    </tr>\n",
       "    <tr>\n",
       "      <th>1</th>\n",
       "      <td>10.0</td>\n",
       "      <td>-1.0</td>\n",
       "      <td>NaN</td>\n",
       "    </tr>\n",
       "    <tr>\n",
       "      <th>2</th>\n",
       "      <td>15.0</td>\n",
       "      <td>-1.0</td>\n",
       "      <td>NaN</td>\n",
       "    </tr>\n",
       "    <tr>\n",
       "      <th>3</th>\n",
       "      <td>20.0</td>\n",
       "      <td>-1.0</td>\n",
       "      <td>NaN</td>\n",
       "    </tr>\n",
       "    <tr>\n",
       "      <th>4</th>\n",
       "      <td>25.0</td>\n",
       "      <td>-1.0</td>\n",
       "      <td>NaN</td>\n",
       "    </tr>\n",
       "  </tbody>\n",
       "</table>\n",
       "</div>"
      ],
      "text/plain": [
       "   Voltage (v)  Current (uA)  Unnamed: 2\n",
       "0          5.0          -1.0         NaN\n",
       "1         10.0          -1.0         NaN\n",
       "2         15.0          -1.0         NaN\n",
       "3         20.0          -1.0         NaN\n",
       "4         25.0          -1.0         NaN"
      ]
     },
     "execution_count": 10,
     "metadata": {},
     "output_type": "execute_result"
    }
   ],
   "source": [
    "data.head()"
   ]
  },
  {
   "cell_type": "code",
   "execution_count": 11,
   "id": "c3cd33cc-1bbe-414c-85b2-054a3844810b",
   "metadata": {},
   "outputs": [
    {
     "data": {
      "text/html": [
       "<div>\n",
       "<style scoped>\n",
       "    .dataframe tbody tr th:only-of-type {\n",
       "        vertical-align: middle;\n",
       "    }\n",
       "\n",
       "    .dataframe tbody tr th {\n",
       "        vertical-align: top;\n",
       "    }\n",
       "\n",
       "    .dataframe thead th {\n",
       "        text-align: right;\n",
       "    }\n",
       "</style>\n",
       "<table border=\"1\" class=\"dataframe\">\n",
       "  <thead>\n",
       "    <tr style=\"text-align: right;\">\n",
       "      <th></th>\n",
       "      <th>volt</th>\n",
       "      <th>current</th>\n",
       "    </tr>\n",
       "  </thead>\n",
       "  <tbody>\n",
       "    <tr>\n",
       "      <th>0</th>\n",
       "      <td>29.00</td>\n",
       "      <td>-1.0</td>\n",
       "    </tr>\n",
       "    <tr>\n",
       "      <th>1</th>\n",
       "      <td>29.20</td>\n",
       "      <td>NaN</td>\n",
       "    </tr>\n",
       "    <tr>\n",
       "      <th>2</th>\n",
       "      <td>29.40</td>\n",
       "      <td>-1.0</td>\n",
       "    </tr>\n",
       "    <tr>\n",
       "      <th>3</th>\n",
       "      <td>29.45</td>\n",
       "      <td>-1.0</td>\n",
       "    </tr>\n",
       "    <tr>\n",
       "      <th>4</th>\n",
       "      <td>29.50</td>\n",
       "      <td>-1.0</td>\n",
       "    </tr>\n",
       "  </tbody>\n",
       "</table>\n",
       "</div>"
      ],
      "text/plain": [
       "    volt  current\n",
       "0  29.00     -1.0\n",
       "1  29.20      NaN\n",
       "2  29.40     -1.0\n",
       "3  29.45     -1.0\n",
       "4  29.50     -1.0"
      ]
     },
     "execution_count": 11,
     "metadata": {},
     "output_type": "execute_result"
    }
   ],
   "source": [
    "data_2.head()"
   ]
  },
  {
   "cell_type": "code",
   "execution_count": 12,
   "id": "ceae099f-2955-45b7-adc5-19147f90db91",
   "metadata": {},
   "outputs": [],
   "source": [
    "data_3 = pd.read_csv(file_data_3)"
   ]
  },
  {
   "cell_type": "code",
   "execution_count": 13,
   "id": "6fe58b7e-677c-4e27-a7a9-bf227306f033",
   "metadata": {},
   "outputs": [
    {
     "data": {
      "text/html": [
       "<div>\n",
       "<style scoped>\n",
       "    .dataframe tbody tr th:only-of-type {\n",
       "        vertical-align: middle;\n",
       "    }\n",
       "\n",
       "    .dataframe tbody tr th {\n",
       "        vertical-align: top;\n",
       "    }\n",
       "\n",
       "    .dataframe thead th {\n",
       "        text-align: right;\n",
       "    }\n",
       "</style>\n",
       "<table border=\"1\" class=\"dataframe\">\n",
       "  <thead>\n",
       "    <tr style=\"text-align: right;\">\n",
       "      <th></th>\n",
       "      <th>Volt</th>\n",
       "      <th>Current</th>\n",
       "    </tr>\n",
       "  </thead>\n",
       "  <tbody>\n",
       "    <tr>\n",
       "      <th>0</th>\n",
       "      <td>NaN</td>\n",
       "      <td>NaN</td>\n",
       "    </tr>\n",
       "    <tr>\n",
       "      <th>1</th>\n",
       "      <td>5.0</td>\n",
       "      <td>-2.0</td>\n",
       "    </tr>\n",
       "    <tr>\n",
       "      <th>2</th>\n",
       "      <td>10.0</td>\n",
       "      <td>-2.0</td>\n",
       "    </tr>\n",
       "    <tr>\n",
       "      <th>3</th>\n",
       "      <td>15.0</td>\n",
       "      <td>-1.0</td>\n",
       "    </tr>\n",
       "    <tr>\n",
       "      <th>4</th>\n",
       "      <td>20.0</td>\n",
       "      <td>-1.0</td>\n",
       "    </tr>\n",
       "  </tbody>\n",
       "</table>\n",
       "</div>"
      ],
      "text/plain": [
       "   Volt  Current\n",
       "0   NaN      NaN\n",
       "1   5.0     -2.0\n",
       "2  10.0     -2.0\n",
       "3  15.0     -1.0\n",
       "4  20.0     -1.0"
      ]
     },
     "execution_count": 13,
     "metadata": {},
     "output_type": "execute_result"
    }
   ],
   "source": [
    "data_3.head()"
   ]
  },
  {
   "cell_type": "code",
   "execution_count": 70,
   "id": "703c648a-c5f8-477e-8d08-a376580bec8f",
   "metadata": {},
   "outputs": [
    {
     "data": {
      "application/vnd.jupyter.widget-view+json": {
       "model_id": "f58204cfe02e463da15a3ef3d1ccc051",
       "version_major": 2,
       "version_minor": 0
      },
      "image/png": "[encoded data removed]",
      "text/html": [
       "\n",
       "            <div style=\"display: inline-block;\">\n",
       "                <div class=\"jupyter-widgets widget-label\" style=\"text-align: center;\">\n",
       "                    Figure\n",
       "                </div>\n",
       "                <img src='data:image/png;base64,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' width=1000.0/>\n",
       "            </div>\n",
       "        "
      ],
      "text/plain": [
       "Canvas(toolbar=Toolbar(toolitems=[('Home', 'Reset original view', 'home', 'home'), ('Back', 'Back to previous …"
      ]
     },
     "metadata": {},
     "output_type": "display_data"
    }
   ],
   "source": [
    "plt.close(1)\n",
    "\n",
    "plt.figure(1, figsize=(8,6))\n",
    "plt.plot(data_3['Volt'][1:], data_3['Current'][1:], 'v', color='C1',  markersize=9,  label='SiPM-1')\n",
    "# plt.plot(data['Voltage (v)'], data['Current (uA)'], label='SiPM-2 run_01')\n",
    "plt.plot(data_2['volt'], data_2['current'], '^', color='C2', markersize=9, label='SiPM-2') # run_02')\n",
    "# plt.title('I-V plots for ArGSet with light inlet port exposed to ambient light')\n",
    "plt.grid(False)\n",
    "plt.axhline(y=-1.0, color='Black', linestyle='--', linewidth=0.75, label='current = -1 $\\\\mu A$')\n",
    "plt.xlabel('voltage [$v$]')\n",
    "plt.ylabel('current [$\\\\mu A$]')\n",
    "plt.ylim(-25.0, 175.0)\n",
    "plt.xlim(0.0, 35.0)\n",
    "# plt.xlim(29.0, 30.5)\n",
    "plt.xticks(rotation=30)\n",
    "plt.legend(loc= 'upper left')\n",
    "plt.yscale('linear')\n",
    "# plt.savefig('../plots/IV_curve_SiPM.pdf')\n",
    "plt.savefig('../plots/ArGSet_SiPM_VI_curve_Thesis.pdf')\n",
    "# plt.savefig('../plots/ArGSet_SiPM_VI_curve_zoomed_Thesis.pdf')"
   ]
  },
  {
   "cell_type": "code",
   "execution_count": 15,
   "id": "96fd6191-3b2d-4fd4-9962-414a5bd2bfca",
   "metadata": {},
   "outputs": [],
   "source": [
    "def st_line(x, m, c):\n",
    "    return m*x + c"
   ]
  },
  {
   "cell_type": "code",
   "execution_count": 16,
   "id": "bc3e3842-c798-4eae-84f8-1ad7baecef0f",
   "metadata": {},
   "outputs": [],
   "source": [
    "popt_SiPM2, pcov_SiPM2 = curve_fit(st_line, data_2['volt'][7:20], data_2['current'][7:20], p0=[200, -5000])"
   ]
  },
  {
   "cell_type": "code",
   "execution_count": 17,
   "id": "93aeb515-585c-4d20-9817-902da7bc5972",
   "metadata": {},
   "outputs": [],
   "source": [
    "# plt.figure(1)\n",
    "# plt.plot(data_2['volt'][7:20], \n",
    "#          st_line(data_2['volt'][7:20], popt_SiPM2[0], popt_SiPM2[1]), label='best fit to SiPM-2')\n",
    "# plt.legend()"
   ]
  },
  {
   "cell_type": "code",
   "execution_count": 18,
   "id": "0032486b-d946-4e5f-a5bb-a4089cecb508",
   "metadata": {},
   "outputs": [
    {
     "data": {
      "text/plain": [
       "222.41758241763108"
      ]
     },
     "execution_count": 18,
     "metadata": {},
     "output_type": "execute_result"
    }
   ],
   "source": [
    "popt_SiPM2[0]"
   ]
  },
  {
   "cell_type": "code",
   "execution_count": 19,
   "id": "c25b9585-0cb4-4dfb-846c-3c63e416d1d5",
   "metadata": {},
   "outputs": [
    {
     "data": {
      "text/plain": [
       "-6601.406593410079"
      ]
     },
     "execution_count": 19,
     "metadata": {},
     "output_type": "execute_result"
    }
   ],
   "source": [
    "popt_SiPM2[1]"
   ]
  },
  {
   "cell_type": "code",
   "execution_count": 20,
   "id": "6fb51062-8c29-4051-865b-cbae5086df5f",
   "metadata": {},
   "outputs": [
    {
     "data": {
      "text/plain": [
       "nan"
      ]
     },
     "execution_count": 20,
     "metadata": {},
     "output_type": "execute_result"
    }
   ],
   "source": [
    "data_2['current'][20]"
   ]
  },
  {
   "cell_type": "code",
   "execution_count": 21,
   "id": "6973065f-2974-4468-b03f-4b2248237d97",
   "metadata": {},
   "outputs": [],
   "source": [
    "## breakdown voltage for SiPM-2"
   ]
  },
  {
   "cell_type": "code",
   "execution_count": 22,
   "id": "28f4dce2-fb6c-4251-a693-dad2986c3c0c",
   "metadata": {},
   "outputs": [
    {
     "data": {
      "text/plain": [
       "29.675741106728545"
      ]
     },
     "execution_count": 22,
     "metadata": {},
     "output_type": "execute_result"
    }
   ],
   "source": [
    "(-1 - popt_SiPM2[1])/popt_SiPM2[0]"
   ]
  },
  {
   "cell_type": "code",
   "execution_count": 23,
   "id": "2e3b5b8c-4fbf-439e-9919-aa8a61600a3d",
   "metadata": {},
   "outputs": [],
   "source": [
    "## Breakdown voltage for SiPM 1"
   ]
  },
  {
   "cell_type": "code",
   "execution_count": 24,
   "id": "b5217629-c5d1-4df1-ba6a-65863a0311f3",
   "metadata": {},
   "outputs": [],
   "source": [
    "popt_SiPM1, pcov_SiPM1 = curve_fit(st_line, data_3['Volt'][12:25], data_3['Current'][12:25], p0=[200, -5000])"
   ]
  },
  {
   "cell_type": "code",
   "execution_count": 25,
   "id": "a11de410-87a3-4f88-a2e4-f2b5e99c01c4",
   "metadata": {
    "tags": []
   },
   "outputs": [
    {
     "data": {
      "text/html": [
       "<div>\n",
       "<style scoped>\n",
       "    .dataframe tbody tr th:only-of-type {\n",
       "        vertical-align: middle;\n",
       "    }\n",
       "\n",
       "    .dataframe tbody tr th {\n",
       "        vertical-align: top;\n",
       "    }\n",
       "\n",
       "    .dataframe thead th {\n",
       "        text-align: right;\n",
       "    }\n",
       "</style>\n",
       "<table border=\"1\" class=\"dataframe\">\n",
       "  <thead>\n",
       "    <tr style=\"text-align: right;\">\n",
       "      <th></th>\n",
       "      <th>Volt</th>\n",
       "      <th>Current</th>\n",
       "    </tr>\n",
       "  </thead>\n",
       "  <tbody>\n",
       "    <tr>\n",
       "      <th>1</th>\n",
       "      <td>5.00</td>\n",
       "      <td>-2.0</td>\n",
       "    </tr>\n",
       "    <tr>\n",
       "      <th>2</th>\n",
       "      <td>10.00</td>\n",
       "      <td>-2.0</td>\n",
       "    </tr>\n",
       "    <tr>\n",
       "      <th>3</th>\n",
       "      <td>15.00</td>\n",
       "      <td>-1.0</td>\n",
       "    </tr>\n",
       "    <tr>\n",
       "      <th>4</th>\n",
       "      <td>20.00</td>\n",
       "      <td>-1.0</td>\n",
       "    </tr>\n",
       "    <tr>\n",
       "      <th>5</th>\n",
       "      <td>25.00</td>\n",
       "      <td>-1.0</td>\n",
       "    </tr>\n",
       "    <tr>\n",
       "      <th>6</th>\n",
       "      <td>26.00</td>\n",
       "      <td>-1.0</td>\n",
       "    </tr>\n",
       "    <tr>\n",
       "      <th>7</th>\n",
       "      <td>27.00</td>\n",
       "      <td>-1.0</td>\n",
       "    </tr>\n",
       "    <tr>\n",
       "      <th>8</th>\n",
       "      <td>28.00</td>\n",
       "      <td>-1.0</td>\n",
       "    </tr>\n",
       "    <tr>\n",
       "      <th>9</th>\n",
       "      <td>29.00</td>\n",
       "      <td>-1.0</td>\n",
       "    </tr>\n",
       "    <tr>\n",
       "      <th>10</th>\n",
       "      <td>29.05</td>\n",
       "      <td>0.0</td>\n",
       "    </tr>\n",
       "    <tr>\n",
       "      <th>11</th>\n",
       "      <td>29.10</td>\n",
       "      <td>0.0</td>\n",
       "    </tr>\n",
       "    <tr>\n",
       "      <th>12</th>\n",
       "      <td>29.15</td>\n",
       "      <td>2.0</td>\n",
       "    </tr>\n",
       "    <tr>\n",
       "      <th>13</th>\n",
       "      <td>29.20</td>\n",
       "      <td>6.0</td>\n",
       "    </tr>\n",
       "    <tr>\n",
       "      <th>14</th>\n",
       "      <td>29.25</td>\n",
       "      <td>12.0</td>\n",
       "    </tr>\n",
       "    <tr>\n",
       "      <th>15</th>\n",
       "      <td>29.30</td>\n",
       "      <td>19.0</td>\n",
       "    </tr>\n",
       "    <tr>\n",
       "      <th>16</th>\n",
       "      <td>29.35</td>\n",
       "      <td>28.0</td>\n",
       "    </tr>\n",
       "    <tr>\n",
       "      <th>17</th>\n",
       "      <td>29.40</td>\n",
       "      <td>37.0</td>\n",
       "    </tr>\n",
       "    <tr>\n",
       "      <th>18</th>\n",
       "      <td>29.45</td>\n",
       "      <td>48.0</td>\n",
       "    </tr>\n",
       "    <tr>\n",
       "      <th>19</th>\n",
       "      <td>29.50</td>\n",
       "      <td>60.0</td>\n",
       "    </tr>\n",
       "    <tr>\n",
       "      <th>20</th>\n",
       "      <td>29.55</td>\n",
       "      <td>73.0</td>\n",
       "    </tr>\n",
       "    <tr>\n",
       "      <th>21</th>\n",
       "      <td>29.60</td>\n",
       "      <td>86.0</td>\n",
       "    </tr>\n",
       "    <tr>\n",
       "      <th>22</th>\n",
       "      <td>29.65</td>\n",
       "      <td>98.0</td>\n",
       "    </tr>\n",
       "    <tr>\n",
       "      <th>23</th>\n",
       "      <td>29.70</td>\n",
       "      <td>112.0</td>\n",
       "    </tr>\n",
       "    <tr>\n",
       "      <th>24</th>\n",
       "      <td>29.75</td>\n",
       "      <td>128.0</td>\n",
       "    </tr>\n",
       "  </tbody>\n",
       "</table>\n",
       "</div>"
      ],
      "text/plain": [
       "     Volt  Current\n",
       "1    5.00     -2.0\n",
       "2   10.00     -2.0\n",
       "3   15.00     -1.0\n",
       "4   20.00     -1.0\n",
       "5   25.00     -1.0\n",
       "6   26.00     -1.0\n",
       "7   27.00     -1.0\n",
       "8   28.00     -1.0\n",
       "9   29.00     -1.0\n",
       "10  29.05      0.0\n",
       "11  29.10      0.0\n",
       "12  29.15      2.0\n",
       "13  29.20      6.0\n",
       "14  29.25     12.0\n",
       "15  29.30     19.0\n",
       "16  29.35     28.0\n",
       "17  29.40     37.0\n",
       "18  29.45     48.0\n",
       "19  29.50     60.0\n",
       "20  29.55     73.0\n",
       "21  29.60     86.0\n",
       "22  29.65     98.0\n",
       "23  29.70    112.0\n",
       "24  29.75    128.0"
      ]
     },
     "execution_count": 25,
     "metadata": {},
     "output_type": "execute_result"
    }
   ],
   "source": [
    "data_3[1:25]"
   ]
  },
  {
   "cell_type": "code",
   "execution_count": 26,
   "id": "1008ab36-f324-432e-879d-bf10b72e1b29",
   "metadata": {},
   "outputs": [
    {
     "data": {
      "text/plain": [
       "array([  213.62637211, -6236.75819705])"
      ]
     },
     "execution_count": 26,
     "metadata": {},
     "output_type": "execute_result"
    }
   ],
   "source": [
    "popt_SiPM1"
   ]
  },
  {
   "cell_type": "code",
   "execution_count": 27,
   "id": "5e2bdd2f-26a0-41d3-9dfa-ba44a07cc18c",
   "metadata": {},
   "outputs": [],
   "source": [
    "# plt.figure(1)\n",
    "# plt.plot(data_3['Volt'][12:25], \n",
    "#          st_line(data_3['Volt'][12:25], popt_SiPM1[0], popt_SiPM1[1]), label='best fit to SiPM-1')\n",
    "# plt.legend()"
   ]
  },
  {
   "cell_type": "code",
   "execution_count": 28,
   "id": "ca6199fe-21a9-47e5-8b56-d6cb63311fab",
   "metadata": {},
   "outputs": [
    {
     "data": {
      "text/plain": [
       "29.19002057428421"
      ]
     },
     "execution_count": 28,
     "metadata": {},
     "output_type": "execute_result"
    }
   ],
   "source": [
    "(-1 - popt_SiPM1[1])/popt_SiPM1[0]"
   ]
  },
  {
   "cell_type": "markdown",
   "id": "baa9d421-85ba-408a-8f12-68582ac2ecfa",
   "metadata": {},
   "source": [
    " SiPM | breakdown voltage |\n",
    " ___\n",
    " 2    | 29.67             | \n",
    " ___\n",
    " 1    | 29.19             |"
   ]
  },
  {
   "cell_type": "code",
   "execution_count": null,
   "id": "74217fe7-5ec3-4e9d-bca9-3e6317f5eb7a",
   "metadata": {},
   "outputs": [],
   "source": []
  }
 ],
 "metadata": {
  "kernelspec": {
   "display_name": "jar",
   "language": "python",
   "name": "python3"
  },
  "language_info": {
   "codemirror_mode": {
    "name": "ipython",
    "version": 3
   },
   "file_extension": ".py",
   "mimetype": "text/x-python",
   "name": "python",
   "nbconvert_exporter": "python",
   "pygments_lexer": "ipython3",
   "version": "3.11.8"
  }
 },
 "nbformat": 4,
 "nbformat_minor": 5
}
