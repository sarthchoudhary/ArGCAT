{
 "cells": [
  {
   "cell_type": "code",
   "execution_count": 1,
   "id": "69d9754c-b866-4c1d-b968-6d588662ad53",
   "metadata": {},
   "outputs": [],
   "source": [
    "import pandas as pd\n",
    "from scipy.optimize import curve_fit\n",
    "from matplotlib import rc\n",
    "import matplotlib.pyplot as plt"
   ]
  },
  {
   "cell_type": "code",
   "execution_count": 2,
   "id": "a3280e31",
   "metadata": {},
   "outputs": [],
   "source": [
    "%matplotlib ipympl"
   ]
  },
  {
   "cell_type": "code",
   "execution_count": 3,
   "id": "84d4c57c",
   "metadata": {},
   "outputs": [],
   "source": [
    "# rc('figure', autolayout=True, figsize=[16, 9], dpi=72, titlesize=26 )\n",
    "# rc('font', family='monospace')\n",
    "# rc('axes', titlesize=24, titleweight='heavy', labelsize=22, labelweight='bold')\n",
    "# rc(('xtick', 'ytick'), labelsize = 24)\n",
    "# rc('legend', fontsize=20)\n",
    "rc('figure', autolayout=True, dpi=125, titlesize=20 )\n",
    "rc('font', family='monospace')\n",
    "rc('axes', titlesize=20, titleweight='heavy', labelsize=16, labelweight='bold')\n",
    "rc(('xtick', 'ytick'), labelsize = 18)\n",
    "rc('legend', fontsize=10)"
   ]
  },
  {
   "cell_type": "code",
   "execution_count": 4,
   "id": "36279afa-5231-4462-9358-07856b537947",
   "metadata": {},
   "outputs": [],
   "source": [
    "data_dir = '/home/sarthak/my_projects/argset/data/iv_curve/'"
   ]
  },
  {
   "cell_type": "code",
   "execution_count": 5,
   "id": "ce58b64d",
   "metadata": {},
   "outputs": [],
   "source": [
    "file_data = f'{data_dir}/CEZAMAT_ArGSet_SiPM2.xlsx'"
   ]
  },
  {
   "cell_type": "code",
   "execution_count": 6,
   "id": "7d1b5f10-73f4-4a71-9a43-baadf41d7f05",
   "metadata": {},
   "outputs": [],
   "source": [
    "file_data_2 = f'{data_dir}/SiPM2_IV_Plot.csv'"
   ]
  },
  {
   "cell_type": "code",
   "execution_count": 7,
   "id": "4a0c4935-9376-4a1c-8d59-c44ad2884563",
   "metadata": {},
   "outputs": [],
   "source": [
    "file_data_3 = f'{data_dir}/ArGSet_SiPM1_VI_Curve.csv'"
   ]
  },
  {
   "cell_type": "code",
   "execution_count": 8,
   "id": "8240b821-bc15-4e37-a23a-6c234f491c67",
   "metadata": {},
   "outputs": [],
   "source": [
    "data = pd.read_excel(file_data)"
   ]
  },
  {
   "cell_type": "code",
   "execution_count": 9,
   "id": "db29110b-131b-4eb9-8832-096bb863b29c",
   "metadata": {},
   "outputs": [],
   "source": [
    "data_2 = pd.read_csv(file_data_2)"
   ]
  },
  {
   "cell_type": "code",
   "execution_count": 10,
   "id": "e44a2abc",
   "metadata": {},
   "outputs": [
    {
     "data": {
      "text/html": [
       "<div>\n",
       "<style scoped>\n",
       "    .dataframe tbody tr th:only-of-type {\n",
       "        vertical-align: middle;\n",
       "    }\n",
       "\n",
       "    .dataframe tbody tr th {\n",
       "        vertical-align: top;\n",
       "    }\n",
       "\n",
       "    .dataframe thead th {\n",
       "        text-align: right;\n",
       "    }\n",
       "</style>\n",
       "<table border=\"1\" class=\"dataframe\">\n",
       "  <thead>\n",
       "    <tr style=\"text-align: right;\">\n",
       "      <th></th>\n",
       "      <th>Voltage (v)</th>\n",
       "      <th>Current (uA)</th>\n",
       "      <th>Unnamed: 2</th>\n",
       "    </tr>\n",
       "  </thead>\n",
       "  <tbody>\n",
       "    <tr>\n",
       "      <th>0</th>\n",
       "      <td>5.0</td>\n",
       "      <td>-1.0</td>\n",
       "      <td>NaN</td>\n",
       "    </tr>\n",
       "    <tr>\n",
       "      <th>1</th>\n",
       "      <td>10.0</td>\n",
       "      <td>-1.0</td>\n",
       "      <td>NaN</td>\n",
       "    </tr>\n",
       "    <tr>\n",
       "      <th>2</th>\n",
       "      <td>15.0</td>\n",
       "      <td>-1.0</td>\n",
       "      <td>NaN</td>\n",
       "    </tr>\n",
       "    <tr>\n",
       "      <th>3</th>\n",
       "      <td>20.0</td>\n",
       "      <td>-1.0</td>\n",
       "      <td>NaN</td>\n",
       "    </tr>\n",
       "    <tr>\n",
       "      <th>4</th>\n",
       "      <td>25.0</td>\n",
       "      <td>-1.0</td>\n",
       "      <td>NaN</td>\n",
       "    </tr>\n",
       "  </tbody>\n",
       "</table>\n",
       "</div>"
      ],
      "text/plain": [
       "   Voltage (v)  Current (uA)  Unnamed: 2\n",
       "0          5.0          -1.0         NaN\n",
       "1         10.0          -1.0         NaN\n",
       "2         15.0          -1.0         NaN\n",
       "3         20.0          -1.0         NaN\n",
       "4         25.0          -1.0         NaN"
      ]
     },
     "execution_count": 10,
     "metadata": {},
     "output_type": "execute_result"
    }
   ],
   "source": [
    "data.head()"
   ]
  },
  {
   "cell_type": "code",
   "execution_count": 11,
   "id": "c3cd33cc-1bbe-414c-85b2-054a3844810b",
   "metadata": {},
   "outputs": [
    {
     "data": {
      "text/html": [
       "<div>\n",
       "<style scoped>\n",
       "    .dataframe tbody tr th:only-of-type {\n",
       "        vertical-align: middle;\n",
       "    }\n",
       "\n",
       "    .dataframe tbody tr th {\n",
       "        vertical-align: top;\n",
       "    }\n",
       "\n",
       "    .dataframe thead th {\n",
       "        text-align: right;\n",
       "    }\n",
       "</style>\n",
       "<table border=\"1\" class=\"dataframe\">\n",
       "  <thead>\n",
       "    <tr style=\"text-align: right;\">\n",
       "      <th></th>\n",
       "      <th>volt</th>\n",
       "      <th>current</th>\n",
       "    </tr>\n",
       "  </thead>\n",
       "  <tbody>\n",
       "    <tr>\n",
       "      <th>0</th>\n",
       "      <td>29.00</td>\n",
       "      <td>-1.0</td>\n",
       "    </tr>\n",
       "    <tr>\n",
       "      <th>1</th>\n",
       "      <td>29.20</td>\n",
       "      <td>NaN</td>\n",
       "    </tr>\n",
       "    <tr>\n",
       "      <th>2</th>\n",
       "      <td>29.40</td>\n",
       "      <td>-1.0</td>\n",
       "    </tr>\n",
       "    <tr>\n",
       "      <th>3</th>\n",
       "      <td>29.45</td>\n",
       "      <td>-1.0</td>\n",
       "    </tr>\n",
       "    <tr>\n",
       "      <th>4</th>\n",
       "      <td>29.50</td>\n",
       "      <td>-1.0</td>\n",
       "    </tr>\n",
       "  </tbody>\n",
       "</table>\n",
       "</div>"
      ],
      "text/plain": [
       "    volt  current\n",
       "0  29.00     -1.0\n",
       "1  29.20      NaN\n",
       "2  29.40     -1.0\n",
       "3  29.45     -1.0\n",
       "4  29.50     -1.0"
      ]
     },
     "execution_count": 11,
     "metadata": {},
     "output_type": "execute_result"
    }
   ],
   "source": [
    "data_2.head()"
   ]
  },
  {
   "cell_type": "code",
   "execution_count": 12,
   "id": "ceae099f-2955-45b7-adc5-19147f90db91",
   "metadata": {},
   "outputs": [],
   "source": [
    "data_3 = pd.read_csv(file_data_3)"
   ]
  },
  {
   "cell_type": "code",
   "execution_count": 13,
   "id": "6fe58b7e-677c-4e27-a7a9-bf227306f033",
   "metadata": {},
   "outputs": [
    {
     "data": {
      "text/html": [
       "<div>\n",
       "<style scoped>\n",
       "    .dataframe tbody tr th:only-of-type {\n",
       "        vertical-align: middle;\n",
       "    }\n",
       "\n",
       "    .dataframe tbody tr th {\n",
       "        vertical-align: top;\n",
       "    }\n",
       "\n",
       "    .dataframe thead th {\n",
       "        text-align: right;\n",
       "    }\n",
       "</style>\n",
       "<table border=\"1\" class=\"dataframe\">\n",
       "  <thead>\n",
       "    <tr style=\"text-align: right;\">\n",
       "      <th></th>\n",
       "      <th>Volt</th>\n",
       "      <th>Current</th>\n",
       "    </tr>\n",
       "  </thead>\n",
       "  <tbody>\n",
       "    <tr>\n",
       "      <th>0</th>\n",
       "      <td>NaN</td>\n",
       "      <td>NaN</td>\n",
       "    </tr>\n",
       "    <tr>\n",
       "      <th>1</th>\n",
       "      <td>5.0</td>\n",
       "      <td>-2.0</td>\n",
       "    </tr>\n",
       "    <tr>\n",
       "      <th>2</th>\n",
       "      <td>10.0</td>\n",
       "      <td>-2.0</td>\n",
       "    </tr>\n",
       "    <tr>\n",
       "      <th>3</th>\n",
       "      <td>15.0</td>\n",
       "      <td>-1.0</td>\n",
       "    </tr>\n",
       "    <tr>\n",
       "      <th>4</th>\n",
       "      <td>20.0</td>\n",
       "      <td>-1.0</td>\n",
       "    </tr>\n",
       "  </tbody>\n",
       "</table>\n",
       "</div>"
      ],
      "text/plain": [
       "   Volt  Current\n",
       "0   NaN      NaN\n",
       "1   5.0     -2.0\n",
       "2  10.0     -2.0\n",
       "3  15.0     -1.0\n",
       "4  20.0     -1.0"
      ]
     },
     "execution_count": 13,
     "metadata": {},
     "output_type": "execute_result"
    }
   ],
   "source": [
    "data_3.head()"
   ]
  },
  {
   "cell_type": "code",
   "execution_count": 32,
   "id": "703c648a-c5f8-477e-8d08-a376580bec8f",
   "metadata": {},
   "outputs": [
    {
     "data": {
      "application/vnd.jupyter.widget-view+json": {
       "model_id": "8f5101be373c408ea91e10b28926729b",
       "version_major": 2,
       "version_minor": 0
      },
      "image/png": "[encoded data removed]",
      "text/html": [
       "\n",
       "            <div style=\"display: inline-block;\">\n",
       "                <div class=\"jupyter-widgets widget-label\" style=\"text-align: center;\">\n",
       "                    Figure\n",
       "                </div>\n",
       "                <img src='data:image/png;base64,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' width=1000.0/>\n",
       "            </div>\n",
       "        "
      ],
      "text/plain": [
       "Canvas(toolbar=Toolbar(toolitems=[('Home', 'Reset original view', 'home', 'home'), ('Back', 'Back to previous …"
      ]
     },
     "metadata": {},
     "output_type": "display_data"
    }
   ],
   "source": [
    "plt.close(1)\n",
    "\n",
    "plt.figure(1, figsize=(8,6))\n",
    "plt.plot(data_3['Volt'][1:], data_3['Current'][1:], 'v', color='C1',  markersize=9,  label='SiPM-1')\n",
    "# plt.plot(data['Voltage (v)'], data['Current (uA)'], label='SiPM-2 run_01')\n",
    "plt.plot(data_2['volt'], data_2['current'], '^', color='C2', markersize=9, label='SiPM-2') # run_02')\n",
    "# plt.title('I-V plots for ArGSet with light inlet port exposed to ambient light')\n",
    "plt.grid(False)\n",
    "plt.axhline(y=-1.0, color='Black', linestyle='--', linewidth=0.75, label='current = -1 $\\\\mu A$')\n",
    "plt.xlabel('voltage [$v$]')\n",
    "plt.ylabel('current [$\\\\mu A$]')\n",
    "plt.ylim(-25.0, 175.0)\n",
    "plt.xlim(0.0, 35.0)\n",
    "# plt.xlim(29.0, 30.5)\n",
    "plt.xticks(rotation=30)\n",
    "plt.legend(loc= 'upper left')\n",
    "# plt.yscale('linear')\n",
    "# plt.savefig('../plots/IV_curve_SiPM.pdf')\n",
    "plt.savefig('../plots/SiPM_VI_curve.pdf')\n",
    "# plt.savefig('../plots/SiPM_VI_curve_zoomed.pdf')"
   ]
  },
  {
   "cell_type": "code",
   "execution_count": 15,
   "id": "96fd6191-3b2d-4fd4-9962-414a5bd2bfca",
   "metadata": {},
   "outputs": [],
   "source": [
    "def st_line(x, m, c):\n",
    "    return m*x + c"
   ]
  },
  {
   "cell_type": "code",
   "execution_count": 16,
   "id": "bc3e3842-c798-4eae-84f8-1ad7baecef0f",
   "metadata": {},
   "outputs": [],
   "source": [
    "popt_SiPM2, pcov_SiPM2 = curve_fit(st_line, data_2['volt'][7:20], data_2['current'][7:20], p0=[200, -5000])"
   ]
  },
  {
   "cell_type": "code",
   "execution_count": null,
   "id": "93aeb515-585c-4d20-9817-902da7bc5972",
   "metadata": {},
   "outputs": [],
   "source": [
    "# plt.figure(1)\n",
    "# plt.plot(data_2['volt'][7:20], \n",
    "#          st_line(data_2['volt'][7:20], popt_SiPM2[0], popt_SiPM2[1]), label='fit', color='C3')\n",
    "# plt.legend()"
   ]
  },
  {
   "cell_type": "code",
   "execution_count": 18,
   "id": "0032486b-d946-4e5f-a5bb-a4089cecb508",
   "metadata": {},
   "outputs": [
    {
     "data": {
      "text/plain": [
       "222.41758241763108"
      ]
     },
     "execution_count": 18,
     "metadata": {},
     "output_type": "execute_result"
    }
   ],
   "source": [
    "popt_SiPM2[0]"
   ]
  },
  {
   "cell_type": "code",
   "execution_count": 19,
   "id": "c25b9585-0cb4-4dfb-846c-3c63e416d1d5",
   "metadata": {},
   "outputs": [
    {
     "data": {
      "text/plain": [
       "-6601.406593410079"
      ]
     },
     "execution_count": 19,
     "metadata": {},
     "output_type": "execute_result"
    }
   ],
   "source": [
    "popt_SiPM2[1]"
   ]
  },
  {
   "cell_type": "code",
   "execution_count": 20,
   "id": "6fb51062-8c29-4051-865b-cbae5086df5f",
   "metadata": {},
   "outputs": [
    {
     "data": {
      "text/plain": [
       "nan"
      ]
     },
     "execution_count": 20,
     "metadata": {},
     "output_type": "execute_result"
    }
   ],
   "source": [
    "data_2['current'][20]"
   ]
  },
  {
   "cell_type": "code",
   "execution_count": 21,
   "id": "6973065f-2974-4468-b03f-4b2248237d97",
   "metadata": {},
   "outputs": [],
   "source": [
    "## Breakdown voltage for SiPM-2"
   ]
  },
  {
   "cell_type": "code",
   "execution_count": 22,
   "id": "28f4dce2-fb6c-4251-a693-dad2986c3c0c",
   "metadata": {},
   "outputs": [
    {
     "data": {
      "text/plain": [
       "29.675741106728545"
      ]
     },
     "execution_count": 22,
     "metadata": {},
     "output_type": "execute_result"
    }
   ],
   "source": [
    "(-1 - popt_SiPM2[1])/popt_SiPM2[0]"
   ]
  },
  {
   "cell_type": "code",
   "execution_count": 23,
   "id": "2e3b5b8c-4fbf-439e-9919-aa8a61600a3d",
   "metadata": {},
   "outputs": [],
   "source": [
    "## Breakdown voltage for SiPM 1"
   ]
  },
  {
   "cell_type": "code",
   "execution_count": 24,
   "id": "b5217629-c5d1-4df1-ba6a-65863a0311f3",
   "metadata": {},
   "outputs": [],
   "source": [
    "popt_SiPM1, pcov_SiPM1 = curve_fit(st_line, data_3['Volt'][12:25], data_3['Current'][12:25], p0=[200, -5000])"
   ]
  },
  {
   "cell_type": "code",
   "execution_count": 25,
   "id": "a11de410-87a3-4f88-a2e4-f2b5e99c01c4",
   "metadata": {
    "tags": []
   },
   "outputs": [
    {
     "data": {
      "text/html": [
       "<div>\n",
       "<style scoped>\n",
       "    .dataframe tbody tr th:only-of-type {\n",
       "        vertical-align: middle;\n",
       "    }\n",
       "\n",
       "    .dataframe tbody tr th {\n",
       "        vertical-align: top;\n",
       "    }\n",
       "\n",
       "    .dataframe thead th {\n",
       "        text-align: right;\n",
       "    }\n",
       "</style>\n",
       "<table border=\"1\" class=\"dataframe\">\n",
       "  <thead>\n",
       "    <tr style=\"text-align: right;\">\n",
       "      <th></th>\n",
       "      <th>Volt</th>\n",
       "      <th>Current</th>\n",
       "    </tr>\n",
       "  </thead>\n",
       "  <tbody>\n",
       "    <tr>\n",
       "      <th>1</th>\n",
       "      <td>5.00</td>\n",
       "      <td>-2.0</td>\n",
       "    </tr>\n",
       "    <tr>\n",
       "      <th>2</th>\n",
       "      <td>10.00</td>\n",
       "      <td>-2.0</td>\n",
       "    </tr>\n",
       "    <tr>\n",
       "      <th>3</th>\n",
       "      <td>15.00</td>\n",
       "      <td>-1.0</td>\n",
       "    </tr>\n",
       "    <tr>\n",
       "      <th>4</th>\n",
       "      <td>20.00</td>\n",
       "      <td>-1.0</td>\n",
       "    </tr>\n",
       "    <tr>\n",
       "      <th>5</th>\n",
       "      <td>25.00</td>\n",
       "      <td>-1.0</td>\n",
       "    </tr>\n",
       "    <tr>\n",
       "      <th>6</th>\n",
       "      <td>26.00</td>\n",
       "      <td>-1.0</td>\n",
       "    </tr>\n",
       "    <tr>\n",
       "      <th>7</th>\n",
       "      <td>27.00</td>\n",
       "      <td>-1.0</td>\n",
       "    </tr>\n",
       "    <tr>\n",
       "      <th>8</th>\n",
       "      <td>28.00</td>\n",
       "      <td>-1.0</td>\n",
       "    </tr>\n",
       "    <tr>\n",
       "      <th>9</th>\n",
       "      <td>29.00</td>\n",
       "      <td>-1.0</td>\n",
       "    </tr>\n",
       "    <tr>\n",
       "      <th>10</th>\n",
       "      <td>29.05</td>\n",
       "      <td>0.0</td>\n",
       "    </tr>\n",
       "    <tr>\n",
       "      <th>11</th>\n",
       "      <td>29.10</td>\n",
       "      <td>0.0</td>\n",
       "    </tr>\n",
       "    <tr>\n",
       "      <th>12</th>\n",
       "      <td>29.15</td>\n",
       "      <td>2.0</td>\n",
       "    </tr>\n",
       "    <tr>\n",
       "      <th>13</th>\n",
       "      <td>29.20</td>\n",
       "      <td>6.0</td>\n",
       "    </tr>\n",
       "    <tr>\n",
       "      <th>14</th>\n",
       "      <td>29.25</td>\n",
       "      <td>12.0</td>\n",
       "    </tr>\n",
       "    <tr>\n",
       "      <th>15</th>\n",
       "      <td>29.30</td>\n",
       "      <td>19.0</td>\n",
       "    </tr>\n",
       "    <tr>\n",
       "      <th>16</th>\n",
       "      <td>29.35</td>\n",
       "      <td>28.0</td>\n",
       "    </tr>\n",
       "    <tr>\n",
       "      <th>17</th>\n",
       "      <td>29.40</td>\n",
       "      <td>37.0</td>\n",
       "    </tr>\n",
       "    <tr>\n",
       "      <th>18</th>\n",
       "      <td>29.45</td>\n",
       "      <td>48.0</td>\n",
       "    </tr>\n",
       "    <tr>\n",
       "      <th>19</th>\n",
       "      <td>29.50</td>\n",
       "      <td>60.0</td>\n",
       "    </tr>\n",
       "    <tr>\n",
       "      <th>20</th>\n",
       "      <td>29.55</td>\n",
       "      <td>73.0</td>\n",
       "    </tr>\n",
       "    <tr>\n",
       "      <th>21</th>\n",
       "      <td>29.60</td>\n",
       "      <td>86.0</td>\n",
       "    </tr>\n",
       "    <tr>\n",
       "      <th>22</th>\n",
       "      <td>29.65</td>\n",
       "      <td>98.0</td>\n",
       "    </tr>\n",
       "    <tr>\n",
       "      <th>23</th>\n",
       "      <td>29.70</td>\n",
       "      <td>112.0</td>\n",
       "    </tr>\n",
       "    <tr>\n",
       "      <th>24</th>\n",
       "      <td>29.75</td>\n",
       "      <td>128.0</td>\n",
       "    </tr>\n",
       "  </tbody>\n",
       "</table>\n",
       "</div>"
      ],
      "text/plain": [
       "     Volt  Current\n",
       "1    5.00     -2.0\n",
       "2   10.00     -2.0\n",
       "3   15.00     -1.0\n",
       "4   20.00     -1.0\n",
       "5   25.00     -1.0\n",
       "6   26.00     -1.0\n",
       "7   27.00     -1.0\n",
       "8   28.00     -1.0\n",
       "9   29.00     -1.0\n",
       "10  29.05      0.0\n",
       "11  29.10      0.0\n",
       "12  29.15      2.0\n",
       "13  29.20      6.0\n",
       "14  29.25     12.0\n",
       "15  29.30     19.0\n",
       "16  29.35     28.0\n",
       "17  29.40     37.0\n",
       "18  29.45     48.0\n",
       "19  29.50     60.0\n",
       "20  29.55     73.0\n",
       "21  29.60     86.0\n",
       "22  29.65     98.0\n",
       "23  29.70    112.0\n",
       "24  29.75    128.0"
      ]
     },
     "execution_count": 25,
     "metadata": {},
     "output_type": "execute_result"
    }
   ],
   "source": [
    "data_3[1:25]"
   ]
  },
  {
   "cell_type": "code",
   "execution_count": 26,
   "id": "1008ab36-f324-432e-879d-bf10b72e1b29",
   "metadata": {},
   "outputs": [
    {
     "data": {
      "text/plain": [
       "array([  213.62637211, -6236.75819705])"
      ]
     },
     "execution_count": 26,
     "metadata": {},
     "output_type": "execute_result"
    }
   ],
   "source": [
    "popt_SiPM1"
   ]
  },
  {
   "cell_type": "code",
   "execution_count": null,
   "id": "5e2bdd2f-26a0-41d3-9dfa-ba44a07cc18c",
   "metadata": {},
   "outputs": [],
   "source": [
    "# plt.figure(1)\n",
    "# plt.plot(data_3['Volt'][12:25], \n",
    "#          st_line(data_3['Volt'][12:25], popt_SiPM1[0], popt_SiPM1[1]), label='fit', color='C9')\n",
    "# plt.legend()"
   ]
  },
  {
   "cell_type": "code",
   "execution_count": 28,
   "id": "ca6199fe-21a9-47e5-8b56-d6cb63311fab",
   "metadata": {},
   "outputs": [
    {
     "data": {
      "text/plain": [
       "29.19002057428421"
      ]
     },
     "execution_count": 28,
     "metadata": {},
     "output_type": "execute_result"
    }
   ],
   "source": [
    "(-1 - popt_SiPM1[1])/popt_SiPM1[0]"
   ]
  },
  {
   "cell_type": "code",
   "execution_count": null,
   "id": "24567345",
   "metadata": {},
   "outputs": [],
   "source": [
    "# plt.scatter( (-1 - popt_SiPM1[1])/popt_SiPM1[0], -1, marker='*', s=200, color='C4', label = 'SiPM1: breakdown voltage')\n",
    "# plt.scatter( (-1 - popt_SiPM2[1])/popt_SiPM2[0], -1, marker='*', s=200, color='C6', label = 'SiPM2: breakdown voltage')\n",
    "# plt.legend() #prop={'size': 9})"
   ]
  },
  {
   "cell_type": "code",
   "execution_count": 30,
   "id": "59423588",
   "metadata": {},
   "outputs": [],
   "source": [
    "# plt.savefig('../plots/SiPM_VI_curve_zoom_fit.pdf')"
   ]
  },
  {
   "cell_type": "markdown",
   "id": "baa9d421-85ba-408a-8f12-68582ac2ecfa",
   "metadata": {},
   "source": [
    " SiPM | breakdown voltage |\n",
    " ___\n",
    " 2    | 29.67             | \n",
    " ___\n",
    " 1    | 29.19             |"
   ]
  },
  {
   "cell_type": "code",
   "execution_count": null,
   "id": "74217fe7-5ec3-4e9d-bca9-3e6317f5eb7a",
   "metadata": {},
   "outputs": [],
   "source": []
  }
 ],
 "metadata": {
  "kernelspec": {
   "display_name": "jar",
   "language": "python",
   "name": "python3"
  },
  "language_info": {
   "codemirror_mode": {
    "name": "ipython",
    "version": 3
   },
   "file_extension": ".py",
   "mimetype": "text/x-python",
   "name": "python",
   "nbconvert_exporter": "python",
   "pygments_lexer": "ipython3",
   "version": "3.11.8"
  }
 },
 "nbformat": 4,
 "nbformat_minor": 5
}
