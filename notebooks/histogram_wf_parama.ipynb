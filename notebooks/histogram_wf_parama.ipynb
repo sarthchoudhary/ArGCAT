{
 "cells": [
  {
   "cell_type": "markdown",
   "metadata": {},
   "source": [
    "**Table of contents**<a id='toc0_'></a>    \n",
    "- 1. [load pkl files](#toc1_)    \n",
    "- 2. [Exploratory Analysis](#toc2_)    \n",
    "- 3. [concatenate df's](#toc3_)    \n",
    "- 4. [Histograms](#toc4_)    \n",
    "\n",
    "<!-- vscode-jupyter-toc-config\n",
    "\tnumbering=true\n",
    "\tanchor=true\n",
    "\tflat=false\n",
    "\tminLevel=1\n",
    "\tmaxLevel=6\n",
    "\t/vscode-jupyter-toc-config -->\n",
    "<!-- THIS CELL WILL BE REPLACED ON TOC UPDATE. DO NOT WRITE YOUR TEXT IN THIS CELL -->"
   ]
  },
  {
   "cell_type": "markdown",
   "metadata": {},
   "source": [
    "Presently, this notebook only contains wf from ch2"
   ]
  },
  {
   "cell_type": "code",
   "execution_count": null,
   "metadata": {},
   "outputs": [],
   "source": [
    "# import sys\n",
    "import numpy as np\n",
    "# from scipy.optimize import curve_fit\n",
    "# from scipy.stats import chisquare\n",
    "# from scipy.integrate import simpson\n",
    "\n",
    "# import matplotlib\n",
    "import matplotlib.pyplot as plt\n",
    "from matplotlib.offsetbox import AnchoredText\n",
    "# from matplotlib.ticker import AutoMinorLocator\n",
    "# from matplotlib.ticker import FormatStrFormatter\n",
    "\n",
    "from termcolor import colored\n",
    "# import latexify\n",
    "import pandas as pd\n",
    "from tqdm.notebook import tqdm\n",
    "import pickle"
   ]
  },
  {
   "cell_type": "code",
   "execution_count": null,
   "metadata": {},
   "outputs": [],
   "source": [
    "import os"
   ]
  },
  {
   "cell_type": "code",
   "execution_count": null,
   "metadata": {},
   "outputs": [],
   "source": [
    "np.set_printoptions(formatter={'float': lambda x: f\"{x:10.4g}\"})"
   ]
  },
  {
   "cell_type": "code",
   "execution_count": null,
   "metadata": {},
   "outputs": [],
   "source": [
    "%matplotlib ipympl "
   ]
  },
  {
   "cell_type": "markdown",
   "metadata": {},
   "source": [
    "# 1. <a id='toc1_'></a>[load pkl files](#toc0_)"
   ]
  },
  {
   "cell_type": "code",
   "execution_count": null,
   "metadata": {},
   "outputs": [],
   "source": [
    "# all_clean_catalogues = []\n",
    "# for run_number in run_number_ls:\n",
    "#     all_clean_catalogues.append(f'clean_catalogue_run000{run_number}.pkl')"
   ]
  },
  {
   "cell_type": "code",
   "execution_count": null,
   "metadata": {},
   "outputs": [],
   "source": [
    "# selected_clean_catalogue_path = os.path.join(output_folder, all_clean_catalogues[3])\n",
    "# selected_clean_dict = pickle.load(open(selected_fit_catalogue_path, 'rb'))\n",
    "# selected_clean_dict #['ch2']"
   ]
  },
  {
   "cell_type": "code",
   "execution_count": null,
   "metadata": {},
   "outputs": [],
   "source": [
    "output_folder = '/home/sarthak/my_projects/argset/output_folder'\n",
    "# output_folder = '/home/sarthak/my_projects/argset/backup'"
   ]
  },
  {
   "cell_type": "code",
   "execution_count": null,
   "metadata": {},
   "outputs": [],
   "source": [
    "run_number_ls = [52, 53, 54, 61, 62, 63]\n",
    "# run_number_ls = [52, 61]"
   ]
  },
  {
   "cell_type": "code",
   "execution_count": null,
   "metadata": {},
   "outputs": [],
   "source": [
    "all_fit_catalogues = []\n",
    "for run_number in run_number_ls:\n",
    "    all_fit_catalogues.append(f'{output_folder}/fit_catalogue_run000{run_number}.pkl')"
   ]
  },
  {
   "cell_type": "code",
   "execution_count": null,
   "metadata": {},
   "outputs": [],
   "source": [
    "all_fit_catalogues"
   ]
  },
  {
   "cell_type": "code",
   "execution_count": null,
   "metadata": {},
   "outputs": [],
   "source": [
    "fit_dict_52 = pickle.load(open( all_fit_catalogues[0], 'rb'))\n",
    "fit_catalogue_52 = fit_dict_52['ch2']"
   ]
  },
  {
   "cell_type": "code",
   "execution_count": null,
   "metadata": {},
   "outputs": [],
   "source": [
    "fit_dict_53 = pickle.load(open( all_fit_catalogues[1], 'rb'))\n",
    "fit_catalogue_53 = fit_dict_53['ch2']"
   ]
  },
  {
   "cell_type": "code",
   "execution_count": null,
   "metadata": {},
   "outputs": [],
   "source": [
    "fit_dict_54 = pickle.load(open( all_fit_catalogues[2], 'rb'))\n",
    "fit_catalogue_54 = fit_dict_54['ch2']"
   ]
  },
  {
   "cell_type": "code",
   "execution_count": null,
   "metadata": {},
   "outputs": [],
   "source": [
    "fit_dict_61 = pickle.load(open( all_fit_catalogues[3], 'rb'))\n",
    "fit_catalogue_61 = fit_dict_61['ch2']"
   ]
  },
  {
   "cell_type": "code",
   "execution_count": null,
   "metadata": {},
   "outputs": [],
   "source": [
    "fit_dict_62 = pickle.load(open( all_fit_catalogues[4], 'rb'))\n",
    "fit_catalogue_62 = fit_dict_62['ch2']"
   ]
  },
  {
   "cell_type": "code",
   "execution_count": null,
   "metadata": {},
   "outputs": [],
   "source": [
    "fit_dict_63 = pickle.load(open( all_fit_catalogues[4], 'rb'))\n",
    "fit_catalogue_63 = fit_dict_63['ch2']"
   ]
  },
  {
   "cell_type": "markdown",
   "metadata": {},
   "source": [
    "# 2. <a id='toc2_'></a>[Exploratory Analysis](#toc0_)"
   ]
  },
  {
   "cell_type": "code",
   "execution_count": null,
   "metadata": {},
   "outputs": [],
   "source": [
    "fit_catalogue_52.shape"
   ]
  },
  {
   "cell_type": "code",
   "execution_count": null,
   "metadata": {},
   "outputs": [],
   "source": [
    "(fit_catalogue_52['chisqr']<2.0).sum()"
   ]
  },
  {
   "cell_type": "code",
   "execution_count": null,
   "metadata": {},
   "outputs": [],
   "source": [
    "fit_catalogue_53.shape"
   ]
  },
  {
   "cell_type": "code",
   "execution_count": null,
   "metadata": {},
   "outputs": [],
   "source": [
    "749/827"
   ]
  },
  {
   "cell_type": "code",
   "execution_count": null,
   "metadata": {},
   "outputs": [],
   "source": [
    "fit_catalogue_54.shape"
   ]
  },
  {
   "cell_type": "code",
   "execution_count": null,
   "metadata": {},
   "outputs": [],
   "source": [
    "fit_catalogue_61.shape"
   ]
  },
  {
   "cell_type": "code",
   "execution_count": null,
   "metadata": {},
   "outputs": [],
   "source": [
    "fit_catalogue_62.shape"
   ]
  },
  {
   "cell_type": "code",
   "execution_count": null,
   "metadata": {},
   "outputs": [],
   "source": [
    "fit_catalogue_63.shape"
   ]
  },
  {
   "cell_type": "markdown",
   "metadata": {},
   "source": [
    "# 3. <a id='toc3_'></a>[concatenate df's](#toc0_)"
   ]
  },
  {
   "cell_type": "code",
   "execution_count": null,
   "metadata": {},
   "outputs": [],
   "source": [
    "fit_catalogue_concatenated = pd.concat([fit_catalogue_52, fit_catalogue_53, fit_catalogue_54, \\\n",
    "fit_catalogue_61, fit_catalogue_62, fit_catalogue_63], ignore_index=True)"
   ]
  },
  {
   "cell_type": "code",
   "execution_count": null,
   "metadata": {},
   "outputs": [],
   "source": [
    "fit_catalogue_concatenated.shape"
   ]
  },
  {
   "cell_type": "code",
   "execution_count": null,
   "metadata": {},
   "outputs": [],
   "source": [
    "(fit_catalogue_concatenated['chisqr']<2.0).sum()"
   ]
  },
  {
   "cell_type": "code",
   "execution_count": null,
   "metadata": {},
   "outputs": [],
   "source": [
    "20365/22773"
   ]
  },
  {
   "cell_type": "code",
   "execution_count": null,
   "metadata": {},
   "outputs": [],
   "source": [
    "selected_fit_catalogue = fit_catalogue_concatenated"
   ]
  },
  {
   "cell_type": "code",
   "execution_count": null,
   "metadata": {},
   "outputs": [],
   "source": [
    "selected_fit_catalogue['chisqr']"
   ]
  },
  {
   "cell_type": "markdown",
   "metadata": {},
   "source": [
    "the ratio of good fit waveforms to clean forms"
   ]
  },
  {
   "cell_type": "code",
   "execution_count": null,
   "metadata": {},
   "outputs": [],
   "source": [
    "(selected_fit_catalogue['chisqr'] < 2.0).sum()/selected_fit_catalogue.shape[0]"
   ]
  },
  {
   "cell_type": "markdown",
   "metadata": {},
   "source": [
    "How many times fit failed to converge?"
   ]
  },
  {
   "cell_type": "code",
   "execution_count": null,
   "metadata": {},
   "outputs": [],
   "source": [
    "selected_fit_catalogue[selected_fit_catalogue['fit_param'].isnull()]"
   ]
  },
  {
   "cell_type": "code",
   "execution_count": null,
   "metadata": {},
   "outputs": [],
   "source": [
    "selected_fit_catalogue = selected_fit_catalogue.dropna()"
   ]
  },
  {
   "cell_type": "code",
   "execution_count": null,
   "metadata": {},
   "outputs": [],
   "source": [
    "selected_fit_catalogue.shape"
   ]
  },
  {
   "cell_type": "markdown",
   "metadata": {},
   "source": [
    "# 4. <a id='toc4_'></a>[Histograms](#toc0_)"
   ]
  },
  {
   "cell_type": "code",
   "execution_count": null,
   "metadata": {},
   "outputs": [],
   "source": [
    "t0_ls = []\n",
    "sigma_ls = []\n",
    "tau_ls = []\n",
    "scale_ls = []\n",
    "for i in selected_fit_catalogue.index.values:\n",
    "    t0_ls.append(selected_fit_catalogue['fit_param'][i][0])\n",
    "    sigma_ls.append(selected_fit_catalogue['fit_param'][i][1])\n",
    "    tau_ls.append(selected_fit_catalogue['fit_param'][i][2])\n",
    "    scale_ls.append(selected_fit_catalogue['fit_param'][i][3])"
   ]
  },
  {
   "cell_type": "code",
   "execution_count": null,
   "metadata": {},
   "outputs": [],
   "source": [
    "n_param = selected_fit_catalogue['fit_param'][0].shape[0]\n",
    "# param_ls = ['t0_ls', 'sigma_ls', 'tau_ls', 'scale_ls'] # temp\n",
    "param_dict = {\n",
    "'t0': t0_ls, \n",
    "'sigma': sigma_ls, \n",
    "'tau': tau_ls,\n",
    "'scale': scale_ls\n",
    "}"
   ]
  },
  {
   "cell_type": "code",
   "execution_count": null,
   "metadata": {},
   "outputs": [],
   "source": []
  },
  {
   "cell_type": "code",
   "execution_count": null,
   "metadata": {},
   "outputs": [],
   "source": [
    "plt.close(1)\n",
    "plt.figure(1)\n",
    "text_in_box = AnchoredText(f\"statistics = {len(param_dict['t0'])}\", \\\n",
    "                                       loc='upper right')\n",
    "ax = plt.gca()\n",
    "ax.add_artist(text_in_box)\n",
    "plt.hist(param_dict['t0'])\n",
    "plt.title('t0')\n",
    "plt.show()"
   ]
  },
  {
   "cell_type": "code",
   "execution_count": null,
   "metadata": {},
   "outputs": [],
   "source": [
    "plt.close(2)\n",
    "plt.figure(2)\n",
    "plt.hist(param_dict['sigma']) #, bins= np.linspace(1.0, 6.0, 10))\n",
    "text_in_box = AnchoredText(f\"statistics = {len(param_dict['sigma'])}\", \\\n",
    "                                       loc='upper right')\n",
    "ax = plt.gca()\n",
    "ax.add_artist(text_in_box)\n",
    "plt.title('$\\\\sigma$')\n",
    "plt.show()"
   ]
  },
  {
   "cell_type": "code",
   "execution_count": null,
   "metadata": {},
   "outputs": [],
   "source": [
    "plt.close(3)\n",
    "plt.figure(3)\n",
    "plt.hist(param_dict['tau'], bins= np.linspace(0.0, 150.0, 10))\n",
    "text_in_box = AnchoredText(f\"statistics = {len(param_dict['tau'])}\", \\\n",
    "                                       loc='upper right')\n",
    "ax = plt.gca()\n",
    "ax.add_artist(text_in_box)\n",
    "plt.title('$\\\\tau$')\n",
    "plt.show()"
   ]
  },
  {
   "cell_type": "code",
   "execution_count": null,
   "metadata": {},
   "outputs": [],
   "source": [
    "plt.close(4)\n",
    "plt.figure(4)\n",
    "plt.hist(param_dict['scale'], bins= np.linspace(0.4, 1.0, 10))\n",
    "text_in_box = AnchoredText(f\"statistics = {len(param_dict['scale'])}\", \\\n",
    "                                       loc='upper left')\n",
    "ax = plt.gca()\n",
    "ax.add_artist(text_in_box)\n",
    "plt.title('scale')\n",
    "plt.show()"
   ]
  },
  {
   "cell_type": "code",
   "execution_count": null,
   "metadata": {},
   "outputs": [],
   "source": [
    "plt.close(5)\n",
    "plt.figure(5)\n",
    "plt.hist2d(param_dict['scale'], param_dict['sigma'], bins = [np.linspace(0.5, 1.0, 10), np.arange(0., 10., 0.10)], cmap='jet')\n",
    "plt.xlabel('scale')\n",
    "plt.ylabel('$\\sigma$')\n",
    "plt.colorbar()\n",
    "plt.title('$scale\\ vs \\ \\\\sigma$');"
   ]
  },
  {
   "cell_type": "code",
   "execution_count": null,
   "metadata": {},
   "outputs": [],
   "source": [
    "plt.close(6)\n",
    "plt.figure(6)\n",
    "plt.hist2d(param_dict['sigma'], param_dict['tau'], bins = [np.linspace(0.0, 1.0, 10), np.linspace(50e0, 20e3, 10)] , cmap='jet')\n",
    "plt.colorbar()\n",
    "plt.title('$\\\\sigma \\ vs \\ \\\\tau $');"
   ]
  },
  {
   "cell_type": "code",
   "execution_count": null,
   "metadata": {},
   "outputs": [],
   "source": [
    "plt.close(7)\n",
    "plt.figure(7)\n",
    "plt.hist2d(param_dict['tau'], param_dict['scale'], bins = [np.linspace(50, 175, 1000), np.linspace(0.5, 1.0, 10)] , cmap='jet')\n",
    "plt.colorbar()\n",
    "plt.title('$\\\\tau \\ vs \\ scale $');"
   ]
  },
  {
   "cell_type": "code",
   "execution_count": null,
   "metadata": {},
   "outputs": [],
   "source": []
  }
 ],
 "metadata": {
  "kernelspec": {
   "display_name": "jar",
   "language": "python",
   "name": "python3"
  },
  "language_info": {
   "codemirror_mode": {
    "name": "ipython",
    "version": 3
   },
   "file_extension": ".py",
   "mimetype": "text/x-python",
   "name": "python",
   "nbconvert_exporter": "python",
   "pygments_lexer": "ipython3",
   "version": "3.11.8"
  }
 },
 "nbformat": 4,
 "nbformat_minor": 2
}
