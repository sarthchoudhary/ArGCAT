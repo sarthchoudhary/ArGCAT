{
 "cells": [
  {
   "cell_type": "markdown",
   "id": "4f8fefc6",
   "metadata": {},
   "source": [
    "<p style=\"color:#4169E1; font-family:'Roboto'; font-size:48px; text-align: center;\"> \n",
    "Process WLS data\n",
    "</p>"
   ]
  },
  {
   "cell_type": "markdown",
   "id": "da5dd7d2",
   "metadata": {},
   "source": [
    "**Table of contents**<a id='toc0_'></a>    \n",
    "- 1. [Change diary:](#toc1_)    \n",
    "- 2. [Reading pickled event catalogue](#toc2_)    \n",
    "- 3. [initialize Pyreco](#toc3_)    \n",
    "  - 3.1. [Initialize manager](#toc3_1_)    \n",
    "  - 3.2. [Event information](#toc3_2_)    \n",
    "- 4. [Analysis](#toc4_)    \n",
    "  - 4.1. [data selection](#toc4_1_)    \n",
    "  - 4.2. [Plotting data](#toc4_2_)    \n",
    "  - 4.3. [histogramming pretrigger sum values](#toc4_3_)    \n",
    "  - 4.4. [Repetitive pattern seen in Ch-2 data](#toc4_4_)    \n",
    "    - 4.4.1. [Fourier Transform](#toc4_4_1_)    \n",
    "  - 4.5. [simultaneity of pulses](#toc4_5_)    \n",
    "  - 4.6. [Center of Mass for waveforms](#toc4_6_)    \n",
    "  - 4.7. [full waveform sum](#toc4_7_)    \n",
    "- 5. [Exploration](#toc5_)    \n",
    "- 6. [Memory diagnostics](#toc6_)    \n",
    "\n",
    "<!-- vscode-jupyter-toc-config\n",
    "\tnumbering=true\n",
    "\tanchor=true\n",
    "\tflat=false\n",
    "\tminLevel=1\n",
    "\tmaxLevel=6\n",
    "\t/vscode-jupyter-toc-config -->\n",
    "<!-- THIS CELL WILL BE REPLACED ON TOC UPDATE. DO NOT WRITE YOUR TEXT IN THIS CELL -->"
   ]
  },
  {
   "cell_type": "markdown",
   "id": "cd8b8798",
   "metadata": {},
   "source": [
    "<p>\n",
    "<b> Steps to follow: </b>\n",
    "\n",
    "<ol>\n",
    "<li> Event selection cuts </li>\n",
    "<li> Histogram event charge</li>\n",
    "<li> SPE calibration </li>\n",
    "<li> cut efficiency: waveform integration post cut / pre cut bin by bin</li>\n",
    "<li> Light Yield calculation</li>\n",
    "<!-- <li> </li> -->\n",
    "</ol>\n",
    "</p>\n"
   ]
  },
  {
   "cell_type": "markdown",
   "id": "2e07199a",
   "metadata": {},
   "source": [
    "<!-- # MIDAS events reconstruction -->\n",
    "\n",
    "Load packages, setup libraries"
   ]
  },
  {
   "cell_type": "code",
   "execution_count": null,
   "id": "fbc1639a",
   "metadata": {},
   "outputs": [],
   "source": [
    "from time import perf_counter\n",
    "\n",
    "t0 = perf_counter()"
   ]
  },
  {
   "cell_type": "code",
   "execution_count": null,
   "id": "8517b470",
   "metadata": {},
   "outputs": [],
   "source": [
    "import sys\n",
    "import numpy as np\n",
    "# from scipy.optimize import curve_fit\n",
    "# from scipy.stats import chisquare\n",
    "# from scipy.integrate import simpson\n",
    "\n",
    "# import matplotlib\n",
    "import matplotlib.pyplot as plt\n",
    "# from matplotlib.ticker import AutoMinorLocator\n",
    "# from matplotlib.ticker import FormatStrFormatter\n",
    "\n",
    "# from termcolor import colored\n",
    "# import latexify\n",
    "import pandas as pd\n",
    "# from tqdm.notebook import tqdm\n",
    "import pickle"
   ]
  },
  {
   "cell_type": "code",
   "execution_count": null,
   "id": "6b8ebccc",
   "metadata": {},
   "outputs": [],
   "source": [
    "from scipy.signal import find_peaks"
   ]
  },
  {
   "cell_type": "code",
   "execution_count": null,
   "id": "9eb3ea97",
   "metadata": {
    "metadata": {}
   },
   "outputs": [],
   "source": [
    "# from pyreco.manager.manager import Manager"
   ]
  },
  {
   "cell_type": "code",
   "execution_count": null,
   "id": "2d233141",
   "metadata": {},
   "outputs": [],
   "source": [
    "np.set_printoptions(formatter={'float': lambda x: f\"{x:10.4g}\"})"
   ]
  },
  {
   "cell_type": "code",
   "execution_count": null,
   "id": "dd973f7f",
   "metadata": {},
   "outputs": [],
   "source": [
    "%matplotlib ipympl"
   ]
  },
  {
   "cell_type": "markdown",
   "id": "e17bf1ff",
   "metadata": {},
   "source": [
    "# 1. <a id='toc1_'></a>[Change diary:](#toc0_)\n",
    "1. Marcin suggested to use these settings in pyreco for some runs:\n",
    "`n32samples = 9168-1`\n",
    "2. new pyreco branch: zle_4ksamp_length\n",
    "3. Marcin suggested 3 WLS specific cuts\n",
    "4. LY calculation w/o SPE calibration\n",
    "5. LY calculation w/ SPE calibration"
   ]
  },
  {
   "cell_type": "markdown",
   "id": "92844ad1",
   "metadata": {},
   "source": [
    "# 2. <a id='toc2_'></a>[Reading pickled event catalogue](#toc0_)"
   ]
  },
  {
   "cell_type": "code",
   "execution_count": null,
   "id": "daba9a2e",
   "metadata": {},
   "outputs": [],
   "source": [
    "# event_catalogue_file = f'../temp_folder/copy_event_catalogue_run0061.pkl'\n",
    "# event_catalogue_file = f'../temp_folder/event_catalogue_run0061.pkl'\n",
    "# event_catalogue_file = f'../data/event_catalogue_run00061_3ch.pkl'\n",
    "event_catalogue_file = f'/work/chuck/sarthak/argset/event_catalogues/event_catalogue_run00108_first_half.pkl'\n",
    "# event_catalogue_file = f'/work/chuck/sarthak/argset/event_catalogues/event_catalogue_run00152_00.pkl'\n",
    "event_catalogue = pd.read_pickle(event_catalogue_file)"
   ]
  },
  {
   "cell_type": "code",
   "execution_count": null,
   "id": "71da2df2",
   "metadata": {},
   "outputs": [],
   "source": [
    "wfs = event_catalogue['wf']"
   ]
  },
  {
   "cell_type": "code",
   "execution_count": null,
   "id": "ebed991d",
   "metadata": {},
   "outputs": [],
   "source": [
    "# event_catalogue.info()"
   ]
  },
  {
   "cell_type": "code",
   "execution_count": null,
   "id": "568cf1ea",
   "metadata": {},
   "outputs": [],
   "source": [
    "# event_catalogue.shape"
   ]
  },
  {
   "cell_type": "code",
   "execution_count": null,
   "id": "eda3258a",
   "metadata": {},
   "outputs": [],
   "source": [
    "# event_catalogue.head()"
   ]
  },
  {
   "cell_type": "code",
   "execution_count": null,
   "id": "6dc91b8e",
   "metadata": {},
   "outputs": [],
   "source": [
    "# Plotting events\n",
    "plt.figure()\n",
    "# for event_id in range(9900, 9905):\n",
    "for event_id in range(5000, 5001):\n",
    "    for ch in range(3):\n",
    "    # for ch in [2]:\n",
    "        plt.plot(wfs[event_id][ch])"
   ]
  },
  {
   "cell_type": "code",
   "execution_count": null,
   "id": "b9a74e14",
   "metadata": {},
   "outputs": [],
   "source": [
    "# --> 1&2 waveforms shouldn't have maximum shifted by more than ~ 20 ns"
   ]
  },
  {
   "cell_type": "markdown",
   "id": "cc6ba750",
   "metadata": {},
   "source": [
    "# 3. <a id='toc3_'></a>[initialize Pyreco](#toc0_)"
   ]
  },
  {
   "cell_type": "markdown",
   "id": "de0d06b2",
   "metadata": {},
   "source": [
    "Select here midas data, output filename and configuration file"
   ]
  },
  {
   "cell_type": "code",
   "execution_count": null,
   "id": "639f5343",
   "metadata": {},
   "outputs": [],
   "source": [
    "# # filename = '/work/sarthak/argset/data/2024_Mar_27/midas/run00061.mid.lz4'\n",
    "# filename = '/work/sarthak/argset/data/run00108.mid.lz4'\n",
    "# # filename = '/work/sarthak/argset/data/run00124.mid.lz4'\n",
    "# outfile = 'jupyR00108'\n",
    "# confile = 'argset.ini'\n",
    "# # tmin,tmax = 0, 1750"
   ]
  },
  {
   "cell_type": "markdown",
   "id": "87ce9986",
   "metadata": {},
   "source": [
    "## 3.1. <a id='toc3_1_'></a>[Initialize manager](#toc0_)"
   ]
  },
  {
   "cell_type": "code",
   "execution_count": null,
   "id": "51f0879d",
   "metadata": {},
   "outputs": [],
   "source": [
    "# cmdline_args = f'--config {confile} -o {outfile} -i {filename}'\n",
    "# m = Manager( midas=True, cmdline_args=cmdline_args)\n",
    "# # m = Manager( midas=True) #, cmdline_args=cmdline_args)\n",
    "# # baseline_samples = m.config('reco', 'bl_to', 'int')"
   ]
  },
  {
   "cell_type": "markdown",
   "id": "cab9bc78",
   "metadata": {},
   "source": [
    "## 3.2. <a id='toc3_2_'></a>[Event information](#toc0_)"
   ]
  },
  {
   "cell_type": "code",
   "execution_count": null,
   "id": "8d4f0d4d",
   "metadata": {},
   "outputs": [],
   "source": [
    "# # nev_max = m.config('base', 'nevents', 'int')\n",
    "# # nev_max = 2\n",
    "# # nev_max = 455 # diag\n",
    "# # for nev, event in enumerate(m.midas): # oddly doing m.midas shifts the 'pointer' to the next event\n",
    "# for nev, event in enumerate(m.midas):\n",
    "#     #print(nev, event, event.nchannels)\n",
    "#     if nev < 2: continue\n",
    "#     if nev > 1: break\n",
    "#     # if nev > 450: break\n",
    "#     # print(nev)"
   ]
  },
  {
   "cell_type": "code",
   "execution_count": null,
   "id": "9938407f",
   "metadata": {},
   "outputs": [],
   "source": [
    "# event.adc_baseline"
   ]
  },
  {
   "cell_type": "code",
   "execution_count": null,
   "id": "48267d5c",
   "metadata": {},
   "outputs": [],
   "source": [
    "# # to use this cell, run the above cell once\n",
    "# plt.close(1)\n",
    "# plt.figure(1)\n",
    "# #### Note: this way of looping skips one event every time we execute the for loop. Probably better not to use this loop in full code. \n",
    "# for nev, event in enumerate(m.midas): # oddly doing m.midas shifts the 'pointer' to the next event\n",
    "#     if nev > 0: break\n",
    "#     wfs = event.adc_data\n",
    "#     print(event.event_counter)\n",
    "#     for i,wf in enumerate(event.adc_data): # over channels\n",
    "#         if event.event_counter:\n",
    "#             wfs[i] = wf-event.adc_baseline[i]\n",
    "#             print(event.event_counter)\n",
    "#             plt.plot(wfs[i], label=f'{i}')\n",
    "# # plt.xlim(tmin,tmax)\n",
    "# # plt.legend()"
   ]
  },
  {
   "cell_type": "code",
   "execution_count": null,
   "id": "4613720f",
   "metadata": {},
   "outputs": [],
   "source": [
    "# del wf"
   ]
  },
  {
   "cell_type": "code",
   "execution_count": null,
   "id": "ca004d1a",
   "metadata": {},
   "outputs": [],
   "source": [
    "# event.adc_data"
   ]
  },
  {
   "cell_type": "code",
   "execution_count": null,
   "id": "7d1c3335",
   "metadata": {},
   "outputs": [],
   "source": [
    "# event.adc_baseline"
   ]
  },
  {
   "cell_type": "code",
   "execution_count": null,
   "id": "26846ffe",
   "metadata": {},
   "outputs": [],
   "source": [
    "# wf"
   ]
  },
  {
   "cell_type": "code",
   "execution_count": null,
   "id": "e8d0c23b",
   "metadata": {},
   "outputs": [],
   "source": [
    "# wfs[2]"
   ]
  },
  {
   "cell_type": "code",
   "execution_count": null,
   "id": "80bb06f8",
   "metadata": {},
   "outputs": [],
   "source": [
    "# np.sum(wfs[2][:400])"
   ]
  },
  {
   "cell_type": "code",
   "execution_count": null,
   "id": "4b9f5bad",
   "metadata": {},
   "outputs": [],
   "source": [
    "# np.sum(wf[:400])"
   ]
  },
  {
   "cell_type": "code",
   "execution_count": null,
   "id": "7106b907",
   "metadata": {},
   "outputs": [],
   "source": [
    "# for nev, event in enumerate(m.midas): # oddly doing m.midas shifts the 'pointer' to the next event\n",
    "#     if nev > 0: break\n",
    "#     wfs = event.adc_data\n",
    "#     if len(event.adc_data) != 0:\n",
    "#         plt.figure()\n",
    "#         for i,wf in enumerate(event.adc_data): # over channels\n",
    "#             wfs[i] = wf-event.adc_baseline[i]\n",
    "#             plt.plot(wfs[i], label=f'{i}')\n",
    "#             # plt.xlim(tmin,tmax)\n",
    "#             plt.legend()"
   ]
  },
  {
   "cell_type": "code",
   "execution_count": null,
   "id": "8e768484",
   "metadata": {},
   "outputs": [],
   "source": [
    "# event.event_counter\n",
    "# event.adc_data.shape\n",
    "# event.adc_data = np.array([])\n",
    "# len(event.adc_data)\n",
    "# if not event.adc_data:\n",
    "#     print('Yes')\n",
    "# event.adc_baseline\n",
    "# wfs"
   ]
  },
  {
   "cell_type": "code",
   "execution_count": null,
   "id": "3bf14a50",
   "metadata": {},
   "outputs": [],
   "source": [
    "# sys.exit()"
   ]
  },
  {
   "cell_type": "code",
   "execution_count": null,
   "id": "6c48fb30",
   "metadata": {},
   "outputs": [],
   "source": [
    "# m.midas"
   ]
  },
  {
   "cell_type": "code",
   "execution_count": null,
   "id": "033ff4fb",
   "metadata": {},
   "outputs": [],
   "source": [
    "# m.midas.event"
   ]
  },
  {
   "cell_type": "code",
   "execution_count": null,
   "id": "f0bcb901",
   "metadata": {},
   "outputs": [],
   "source": [
    "# non_zero_array_cntr = 0\n",
    "# for arb_iter in range(10000):\n",
    "#     try:\n",
    "#         m.midas.read().__getstate__()\n",
    "#         if m.midas.read().nsamples:\n",
    "#             non_zero_array_cntr +=1 \n",
    "#     except IndexError:\n",
    "#         continue\n",
    "\n",
    "# print(f'non_zero_array_cntr: {non_zero_array_cntr}')"
   ]
  },
  {
   "cell_type": "code",
   "execution_count": null,
   "id": "86a6e598",
   "metadata": {},
   "outputs": [],
   "source": [
    "# non_zero_array_cntr = 0\n",
    "# for arb_iter in range(10000):\n",
    "#     m.midas.read().__getstate__()\n",
    "#     if m.midas.read().nsamples:\n",
    "#         non_zero_array_cntr +=1 \n",
    "\n",
    "# print(f'non_zero_array_cntr: {non_zero_array_cntr}')"
   ]
  },
  {
   "cell_type": "code",
   "execution_count": null,
   "id": "14a6216a",
   "metadata": {},
   "outputs": [],
   "source": [
    "# m.midas.read().__getstate__()\n",
    "# m.midas.read().zlecompressed # This shows whether data is zle compressed.\n",
    "# m.midas.read().nsamples\n",
    "# m.midas.read().nsamples # number of samples\n",
    "# m.midas.read().adc_data.shape\n",
    "### m.midas.read().event_size\n",
    "# m.midas.read().trigger_time\n",
    "# m.midas.read().n32samples # not an attribute\n",
    "# m.midas.nsamples not an attribute"
   ]
  },
  {
   "cell_type": "markdown",
   "id": "7472c4e0",
   "metadata": {},
   "source": [
    "# 4. <a id='toc4_'></a>[Analysis](#toc0_)"
   ]
  },
  {
   "cell_type": "markdown",
   "id": "e2de9cd4",
   "metadata": {},
   "source": [
    "## 4.1. <a id='toc4_1_'></a>[data selection](#toc0_)"
   ]
  },
  {
   "cell_type": "code",
   "execution_count": null,
   "id": "f939be7b",
   "metadata": {
    "metadata": {}
   },
   "outputs": [],
   "source": [
    "event_id = 1000"
   ]
  },
  {
   "cell_type": "code",
   "execution_count": null,
   "id": "f62b1b13",
   "metadata": {},
   "outputs": [],
   "source": [
    "wf = wfs[event_id]"
   ]
  },
  {
   "cell_type": "code",
   "execution_count": null,
   "id": "455e22c4",
   "metadata": {},
   "outputs": [],
   "source": [
    "# n_channel = 2\n",
    "n_channel = 0"
   ]
  },
  {
   "cell_type": "code",
   "execution_count": null,
   "id": "2d57095c",
   "metadata": {},
   "outputs": [],
   "source": [
    "tmin = 0\n",
    "tmax = min(wf[n_channel].shape[0], 4000)"
   ]
  },
  {
   "cell_type": "markdown",
   "id": "19a8e0b6",
   "metadata": {},
   "source": [
    "## 4.2. <a id='toc4_2_'></a>[Plotting data](#toc0_)"
   ]
  },
  {
   "cell_type": "code",
   "execution_count": null,
   "id": "e1548527",
   "metadata": {},
   "outputs": [],
   "source": [
    "# plt.close(2)\n",
    "# plt.figure(2)\n",
    "# plt.title('transformed data')\n",
    "# # from matplotlib.offsetbox import AnchoredText\n",
    "# for _c in range(3):\n",
    "#     plt.plot(wf[_c], label=f'channel {_c}')\n",
    "# # plt.plot(wf, label=f'channel {_c}')\n",
    "\n",
    "# plt.legend()\n",
    "# plt.grid()\n"
   ]
  },
  {
   "cell_type": "code",
   "execution_count": null,
   "id": "ef8880aa",
   "metadata": {},
   "outputs": [],
   "source": [
    "def plooter(x, l):\n",
    "    plt.figure()\n",
    "    for ch_id in range(3):\n",
    "        plt.plot(wfs[x][ch_id], alpha = 1/(1+ 0.5*ch_id),label = f'Channel {ch_id}')\n",
    "    plt.grid()\n",
    "    plt.legend()\n",
    "    plt.title(f'pretrigger sum = {np.sum(wfs[x][ch_id][:400])}')\n",
    "    if l:\n",
    "        plt.xlim([0, 500])"
   ]
  },
  {
   "cell_type": "code",
   "execution_count": null,
   "id": "c31699e5",
   "metadata": {},
   "outputs": [],
   "source": [
    "# def str_line(x):\n",
    "#     return m*x + c"
   ]
  },
  {
   "cell_type": "code",
   "execution_count": null,
   "id": "2f99b6bc",
   "metadata": {},
   "outputs": [],
   "source": [
    "# wf[2]"
   ]
  },
  {
   "cell_type": "code",
   "execution_count": null,
   "id": "7e3485ae",
   "metadata": {},
   "outputs": [],
   "source": [
    "# curve_fit(str_line, np.arange[0,400], wf[2][0:400])"
   ]
  },
  {
   "cell_type": "code",
   "execution_count": null,
   "id": "99e8f6cb",
   "metadata": {},
   "outputs": [],
   "source": [
    "# histogram of pretrigger window"
   ]
  },
  {
   "cell_type": "code",
   "execution_count": null,
   "id": "0f31803d",
   "metadata": {},
   "outputs": [],
   "source": [
    "wfs.shape"
   ]
  },
  {
   "cell_type": "markdown",
   "id": "d1411b05",
   "metadata": {},
   "source": [
    "## 4.3. <a id='toc4_3_'></a>[histogramming pretrigger sum values](#toc0_)"
   ]
  },
  {
   "cell_type": "code",
   "execution_count": null,
   "id": "119ed4fc",
   "metadata": {},
   "outputs": [],
   "source": [
    "ch_x = 0\n",
    "pretrigger_sum_ls = []\n",
    "for event_id in range(wfs.shape[0]):\n",
    "# for event_id in range(1000):\n",
    "    # pretrigger_sum_ls.append(np.sum(wfs[event_id][ch_x][:400]))\n",
    "    pretrigger_sum_ls.append(np.sum(wfs[event_id][ch_x][:350]))"
   ]
  },
  {
   "cell_type": "code",
   "execution_count": null,
   "id": "a5245878",
   "metadata": {},
   "outputs": [],
   "source": [
    "len(pretrigger_sum_ls)"
   ]
  },
  {
   "cell_type": "code",
   "execution_count": null,
   "id": "d7bab767",
   "metadata": {},
   "outputs": [],
   "source": [
    "plt.figure()\n",
    "plt.hist(pretrigger_sum_ls, bins = np.arange(-6000, 200_000, 1000));\n",
    "# plt.hist(pretrigger_sum_ls, bins = np.arange(0, 2_000, 100));\n",
    "plt.title('Histogram pretrigger sum')\n",
    "plt.yscale('log')"
   ]
  },
  {
   "cell_type": "code",
   "execution_count": null,
   "id": "4c8eb552",
   "metadata": {},
   "outputs": [],
   "source": [
    "sum_arr = np.array(pretrigger_sum_ls)"
   ]
  },
  {
   "cell_type": "code",
   "execution_count": null,
   "id": "ca6606c7",
   "metadata": {},
   "outputs": [],
   "source": [
    "# sum_arr[np.where(sum_arr <= 20_000)].shape"
   ]
  },
  {
   "cell_type": "code",
   "execution_count": null,
   "id": "2adc1075",
   "metadata": {},
   "outputs": [],
   "source": [
    "# np.sort(sum_arr[np.where(sum_arr <= 0)])"
   ]
  },
  {
   "cell_type": "code",
   "execution_count": null,
   "id": "f93eb449",
   "metadata": {},
   "outputs": [],
   "source": [
    "# np.sort(sum_arr[np.where(sum_arr <= 3000)])[-100:-10:]"
   ]
  },
  {
   "cell_type": "code",
   "execution_count": null,
   "id": "958f0a47",
   "metadata": {},
   "outputs": [],
   "source": [
    "# sum_arr[np.where(sum_arr <= 3000)].shape"
   ]
  },
  {
   "cell_type": "code",
   "execution_count": null,
   "id": "ef562a70",
   "metadata": {},
   "outputs": [],
   "source": [
    "# l = np.where(sum_arr <= 25000)"
   ]
  },
  {
   "cell_type": "code",
   "execution_count": null,
   "id": "21490f0a",
   "metadata": {},
   "outputs": [],
   "source": [
    "# m = sum_arr[l]"
   ]
  },
  {
   "cell_type": "code",
   "execution_count": null,
   "id": "64f533d9",
   "metadata": {},
   "outputs": [],
   "source": [
    "# m"
   ]
  },
  {
   "cell_type": "code",
   "execution_count": null,
   "id": "f64c1176",
   "metadata": {},
   "outputs": [],
   "source": [
    "# np.sort(m[np.where(m  >= 3000)])[0]"
   ]
  },
  {
   "cell_type": "code",
   "execution_count": null,
   "id": "e718a80b",
   "metadata": {},
   "outputs": [],
   "source": [
    "# np.where(sum_arr <= 6000)"
   ]
  },
  {
   "cell_type": "code",
   "execution_count": null,
   "id": "0eef9f49",
   "metadata": {},
   "outputs": [],
   "source": [
    "# sum_arr[np.where(sum_arr <= 3000)].shape"
   ]
  },
  {
   "cell_type": "code",
   "execution_count": null,
   "id": "9c1d04c5",
   "metadata": {},
   "outputs": [],
   "source": [
    "# sum_arr[np.where(sum_arr <= 6000)].shape"
   ]
  },
  {
   "cell_type": "code",
   "execution_count": null,
   "id": "57358055",
   "metadata": {},
   "outputs": [],
   "source": [
    "# np.where(sum_arr == 2913)"
   ]
  },
  {
   "cell_type": "code",
   "execution_count": null,
   "id": "b776b3ff",
   "metadata": {},
   "outputs": [],
   "source": [
    "# plooter(4699, 0)"
   ]
  },
  {
   "cell_type": "code",
   "execution_count": null,
   "id": "1df99d12",
   "metadata": {},
   "outputs": [],
   "source": [
    "# plooter(4699, 1)"
   ]
  },
  {
   "cell_type": "code",
   "execution_count": null,
   "id": "9a3cf696",
   "metadata": {},
   "outputs": [],
   "source": [
    "# plooter(49971, 0)"
   ]
  },
  {
   "cell_type": "code",
   "execution_count": null,
   "id": "9c385be4",
   "metadata": {},
   "outputs": [],
   "source": [
    "# plooter(49971, 1)"
   ]
  },
  {
   "cell_type": "code",
   "execution_count": null,
   "id": "a2841091",
   "metadata": {},
   "outputs": [],
   "source": [
    "# plooter(43686, 0)"
   ]
  },
  {
   "cell_type": "code",
   "execution_count": null,
   "id": "2b6c5e8e",
   "metadata": {},
   "outputs": [],
   "source": [
    "# plooter(43686, 1)"
   ]
  },
  {
   "cell_type": "code",
   "execution_count": null,
   "id": "7d517030",
   "metadata": {},
   "outputs": [],
   "source": [
    "# plooter(25129, 0)"
   ]
  },
  {
   "cell_type": "code",
   "execution_count": null,
   "id": "6ab8d604",
   "metadata": {},
   "outputs": [],
   "source": [
    "# np.sum(np.abs(wfs[25129][2][:350]))"
   ]
  },
  {
   "cell_type": "code",
   "execution_count": null,
   "id": "e5b5b3b8",
   "metadata": {},
   "outputs": [],
   "source": [
    "# plooter(25129, 1)"
   ]
  },
  {
   "cell_type": "code",
   "execution_count": null,
   "id": "46c2bcff",
   "metadata": {},
   "outputs": [],
   "source": [
    "# plt.figure()\n",
    "# plt.plot(wfs[25129][0], label='0')\n",
    "# plt.plot(wfs[25129][1], label='1')\n",
    "# plt.plot(wfs[25129][2], alpha=0.5, label='2')\n",
    "# plt.title('Event 25129')\n",
    "# plt.grid()\n",
    "# plt.legend()"
   ]
  },
  {
   "cell_type": "code",
   "execution_count": null,
   "id": "c1e7e3cb",
   "metadata": {},
   "outputs": [],
   "source": [
    "# np.sum(wfs[25129][2][:350])"
   ]
  },
  {
   "cell_type": "code",
   "execution_count": null,
   "id": "0781cf24",
   "metadata": {},
   "outputs": [],
   "source": [
    "# plooter(34444, 0)"
   ]
  },
  {
   "cell_type": "markdown",
   "id": "2803afb4",
   "metadata": {},
   "source": [
    "flagged events\n",
    "1. 34444\n",
    "2. 25129"
   ]
  },
  {
   "cell_type": "code",
   "execution_count": null,
   "id": "8270a92f",
   "metadata": {},
   "outputs": [],
   "source": [
    "# plt.figure(figsize=(10, 5))\n",
    "# # plt.plot(wfs[34444][0], label='0')\n",
    "# # plt.plot(wfs[34444][1], label='1')\n",
    "# plt.plot(wfs[34444][2], label='2')\n",
    "# plt.grid()"
   ]
  },
  {
   "cell_type": "code",
   "execution_count": null,
   "id": "f48ea979",
   "metadata": {},
   "outputs": [],
   "source": [
    "# np.sum(wfs[34444][2])"
   ]
  },
  {
   "cell_type": "code",
   "execution_count": null,
   "id": "df7ff334",
   "metadata": {},
   "outputs": [],
   "source": [
    "# np.sum(wfs[34444][2][:350])"
   ]
  },
  {
   "cell_type": "code",
   "execution_count": null,
   "id": "cfc044a7",
   "metadata": {},
   "outputs": [],
   "source": [
    "# plooter(34444, 1)"
   ]
  },
  {
   "cell_type": "code",
   "execution_count": null,
   "id": "c84d82c1",
   "metadata": {},
   "outputs": [],
   "source": [
    "# plooter(25522, 0)"
   ]
  },
  {
   "cell_type": "code",
   "execution_count": null,
   "id": "30180b20",
   "metadata": {},
   "outputs": [],
   "source": [
    "# plooter(25522, 1)"
   ]
  },
  {
   "cell_type": "code",
   "execution_count": null,
   "id": "a15ce05a",
   "metadata": {},
   "outputs": [],
   "source": [
    "# plooter(237, 0)"
   ]
  },
  {
   "cell_type": "code",
   "execution_count": null,
   "id": "a22248fb",
   "metadata": {},
   "outputs": [],
   "source": [
    "# plooter(237, 1)"
   ]
  },
  {
   "cell_type": "code",
   "execution_count": null,
   "id": "1119e72e",
   "metadata": {},
   "outputs": [],
   "source": [
    "# plooter(9370, 0)"
   ]
  },
  {
   "cell_type": "code",
   "execution_count": null,
   "id": "2c608a29",
   "metadata": {},
   "outputs": [],
   "source": [
    "# plooter(9370, 1)"
   ]
  },
  {
   "cell_type": "code",
   "execution_count": null,
   "id": "610d1196",
   "metadata": {},
   "outputs": [],
   "source": [
    "# plooter(39661, 0)"
   ]
  },
  {
   "cell_type": "code",
   "execution_count": null,
   "id": "065b541f",
   "metadata": {},
   "outputs": [],
   "source": [
    "# plooter(39661, 1)"
   ]
  },
  {
   "cell_type": "code",
   "execution_count": null,
   "id": "180943fc",
   "metadata": {},
   "outputs": [],
   "source": [
    "# plooter(49316, 0)"
   ]
  },
  {
   "cell_type": "code",
   "execution_count": null,
   "id": "f6bcfe0f",
   "metadata": {},
   "outputs": [],
   "source": [
    "# plooter(49316, 1)"
   ]
  },
  {
   "cell_type": "code",
   "execution_count": null,
   "id": "5ed121fc",
   "metadata": {},
   "outputs": [],
   "source": [
    "# plooter(29020, 0)"
   ]
  },
  {
   "cell_type": "code",
   "execution_count": null,
   "id": "bb390202",
   "metadata": {},
   "outputs": [],
   "source": [
    "# plooter(29020, 1)"
   ]
  },
  {
   "cell_type": "code",
   "execution_count": null,
   "id": "a9ebf288",
   "metadata": {},
   "outputs": [],
   "source": [
    "# plooter(35670, 0)"
   ]
  },
  {
   "cell_type": "code",
   "execution_count": null,
   "id": "8cf7d31b",
   "metadata": {},
   "outputs": [],
   "source": [
    "# plooter(35670, 1)"
   ]
  },
  {
   "cell_type": "markdown",
   "id": "01119cc0",
   "metadata": {},
   "source": [
    "## 4.4. <a id='toc4_4_'></a>[Repetitive pattern seen in Ch-2 data](#toc0_)"
   ]
  },
  {
   "cell_type": "markdown",
   "id": "ad0dfcd6",
   "metadata": {},
   "source": [
    "Fourier Transform"
   ]
  },
  {
   "cell_type": "code",
   "execution_count": null,
   "id": "b9c131d4",
   "metadata": {},
   "outputs": [],
   "source": [
    "# # event_id = 49998\n",
    "# event_id = 20_000\n",
    "# plt.figure()\n",
    "# for ch in range(3):\n",
    "#     plt.plot(wfs[event_id][ch], label=f'{ch}')\n",
    "# plt.legend()\n",
    "# plt.grid()"
   ]
  },
  {
   "cell_type": "markdown",
   "id": "d0cf9963",
   "metadata": {},
   "source": [
    "### 4.4.1. <a id='toc4_4_1_'></a>[Fourier Transform](#toc0_)"
   ]
  },
  {
   "cell_type": "code",
   "execution_count": null,
   "id": "e9f5ccf5",
   "metadata": {},
   "outputs": [],
   "source": [
    "ft_1 = np.fft.fft(wfs[25129][1])\n",
    "fig_001, ax_001 = plt.subplots(1, 2, figsize=(10, 5))\n",
    "ax_001[0].set_title('hist FT of 1')\n",
    "ax_001[0].hist(ft_1.real, bins=100);\n",
    "ax_001[1].hist(wfs[25129][1], bins=100);"
   ]
  },
  {
   "cell_type": "code",
   "execution_count": null,
   "id": "1d85742e",
   "metadata": {},
   "outputs": [],
   "source": [
    "ft_2 = np.fft.fft(wfs[25129][2])\n",
    "fig_002, ax_002 = plt.subplots(1, 2, figsize=(10, 5))\n",
    "ax_002[0].set_title('hist FT of 2')\n",
    "ax_002[0].hist(ft_2.real, bins=100);\n",
    "ax_002[1].hist(wfs[25129][2], bins=100);"
   ]
  },
  {
   "cell_type": "markdown",
   "id": "d88b355a",
   "metadata": {},
   "source": [
    "## 4.5. <a id='toc4_5_'></a>[simultaneity of pulses](#toc0_)"
   ]
  },
  {
   "cell_type": "code",
   "execution_count": null,
   "id": "957f62c2",
   "metadata": {},
   "outputs": [],
   "source": [
    "plt.close(222)\n",
    "event_id = 1001\n",
    "window_range = np.arange(350, 500)\n",
    "# window_range = np.arange(0, 4000)\n",
    "plt.figure(222)\n",
    "plt.plot(window_range, wfs[event_id][0][window_range], label = '0')\n",
    "plt.plot(window_range, wfs[event_id][1][window_range], label = '1')\n",
    "plt.plot(window_range, wfs[event_id][2][window_range], alpha=0.2, label = '2')\n",
    "plt.legend()\n",
    "plt.grid()"
   ]
  },
  {
   "cell_type": "code",
   "execution_count": null,
   "id": "a63346e0",
   "metadata": {},
   "outputs": [],
   "source": [
    "peaks0 =find_peaks(wfs[event_id][0][window_range])\n",
    "peaks1 =find_peaks(wfs[event_id][1][window_range])\n",
    "peaks2 =find_peaks(wfs[event_id][2][window_range])"
   ]
  },
  {
   "cell_type": "code",
   "execution_count": null,
   "id": "d7328039",
   "metadata": {},
   "outputs": [],
   "source": [
    "plt.figure(222)\n",
    "plt.scatter(window_range[peaks0[0]], wfs[event_id][0][window_range][peaks0[0]], s=None, marker ='*', color='red')\n",
    "plt.scatter(window_range[peaks1[0]], wfs[event_id][1][window_range][peaks1[0]], s=None, marker ='*', color='purple')\n",
    "plt.scatter(window_range[peaks2[0]], wfs[event_id][2][window_range][peaks2[0]], s=None, marker ='*', color='magenta')"
   ]
  },
  {
   "cell_type": "code",
   "execution_count": null,
   "id": "95d97fc4",
   "metadata": {},
   "outputs": [],
   "source": [
    "mp0 = np.argmax(wfs[event_id][0][window_range][peaks0[0]])"
   ]
  },
  {
   "cell_type": "code",
   "execution_count": null,
   "id": "b3f1a744",
   "metadata": {},
   "outputs": [],
   "source": [
    "window_range[peaks0[0]][mp0]"
   ]
  },
  {
   "cell_type": "code",
   "execution_count": null,
   "id": "6101811b",
   "metadata": {},
   "outputs": [],
   "source": [
    "wfs[event_id][0][window_range][peaks0[0]][mp0]"
   ]
  },
  {
   "cell_type": "code",
   "execution_count": null,
   "id": "1b102429",
   "metadata": {},
   "outputs": [],
   "source": [
    "mp1 = np.argmax(wfs[event_id][1][window_range][peaks1[0]])"
   ]
  },
  {
   "cell_type": "code",
   "execution_count": null,
   "id": "5dbd4447",
   "metadata": {},
   "outputs": [],
   "source": [
    "window_range[peaks1[0]][mp1]"
   ]
  },
  {
   "cell_type": "code",
   "execution_count": null,
   "id": "4c644ab8",
   "metadata": {},
   "outputs": [],
   "source": [
    "wfs[event_id][1][window_range][peaks1[0]][mp1]"
   ]
  },
  {
   "cell_type": "code",
   "execution_count": null,
   "id": "23d3e7e6",
   "metadata": {},
   "outputs": [],
   "source": [
    "mp2 = np.argmax(wfs[event_id][2][window_range][peaks2[0]])"
   ]
  },
  {
   "cell_type": "code",
   "execution_count": null,
   "id": "20f8a3b4",
   "metadata": {},
   "outputs": [],
   "source": [
    "window_range[peaks2[0]][mp2]"
   ]
  },
  {
   "cell_type": "code",
   "execution_count": null,
   "id": "50cf3bb6",
   "metadata": {},
   "outputs": [],
   "source": [
    "wfs[event_id][2][window_range][peaks2[0]][mp2]"
   ]
  },
  {
   "cell_type": "code",
   "execution_count": null,
   "id": "8f0b4cae",
   "metadata": {},
   "outputs": [],
   "source": [
    "def pulse_difference(event_id):\n",
    "    window_range = np.arange(350, 500)\n",
    "    peaks0 =find_peaks(wfs[event_id][0][window_range])\n",
    "    peaks1 =find_peaks(wfs[event_id][1][window_range])\n",
    "    peaks2 =find_peaks(wfs[event_id][2][window_range])\n",
    "\n",
    "    mp0 = np.argmax(wfs[event_id][0][window_range][peaks0[0]])\n",
    "    mp1 = np.argmax(wfs[event_id][1][window_range][peaks1[0]])\n",
    "    mp2 = np.argmax(wfs[event_id][2][window_range][peaks2[0]])\n",
    "\n",
    "    sample_mp0 = wfs[event_id][0][window_range][peaks0[0]][mp0]\n",
    "    sample_mp1 = window_range[peaks1[0]][mp1]\n",
    "    sample_mp2 = window_range[peaks2[0]][mp2]\n",
    "\n",
    "    return abs(sample_mp1 - sample_mp2)"
   ]
  },
  {
   "cell_type": "code",
   "execution_count": null,
   "id": "f90ce063",
   "metadata": {},
   "outputs": [],
   "source": [
    "pretrigger_sum_post_cut_ls = []\n",
    "for event_id in range(wfs.shape[0]):\n",
    "    if np.sum(wfs[event_id][ch_x][:350]) <= 20000:\n",
    "        if pulse_difference(event_id) <= 40:\n",
    "            pretrigger_sum_post_cut_ls.append(np.sum(wfs[event_id][ch_x][:350]))"
   ]
  },
  {
   "cell_type": "code",
   "execution_count": null,
   "id": "950c9a71",
   "metadata": {},
   "outputs": [],
   "source": [
    "plt.figure()\n",
    "plt.hist(pretrigger_sum_post_cut_ls, bins = np.arange(-6000, 20000, 200));\n",
    "# plt.hist(pretrigger_sum_ls, bins = np.arange(0, 2_000, 100));\n",
    "plt.title('Histogram pretrigger sum post cut')\n",
    "plt.yscale('log')"
   ]
  },
  {
   "cell_type": "code",
   "execution_count": null,
   "id": "52efb9ed",
   "metadata": {},
   "outputs": [],
   "source": [
    "len(pretrigger_sum_post_cut_ls)"
   ]
  },
  {
   "cell_type": "markdown",
   "id": "0dddbd1c",
   "metadata": {},
   "source": [
    "## 4.6. <a id='toc4_6_'></a>[Center of Mass for waveforms](#toc0_)"
   ]
  },
  {
   "cell_type": "code",
   "execution_count": null,
   "id": "525dc875",
   "metadata": {},
   "outputs": [],
   "source": [
    "# event_id = 49998\n",
    "# event_id = 25129 # 500\n",
    "# wfs[event_id][2]\n",
    "event_id = 276\n",
    "\n",
    "com_array = np.divide(np.sum(np.multiply(wfs[event_id], np.arange(wfs[event_id].shape[1])), axis=1), \n",
    "                      np.sum(wfs[event_id], axis=1)\n",
    "                    )\n",
    "plt.figure()\n",
    "plt.plot(wfs[event_id][1], color='orange', alpha=0.2, label=f'{1}')\n",
    "plt.plot(wfs[event_id][2], color='green', alpha=0.2 , label=f'{2}')\n",
    "for ch_id in range(3):\n",
    "    plt.scatter(com_array[ch_id], np.mean(wfs[event_id], axis=1)[ch_id], marker = '*', label = f'com :{ch_id}')\n",
    "plt.legend()\n",
    "plt.grid()\n",
    "plt.title('Center of Mass approach')"
   ]
  },
  {
   "cell_type": "code",
   "execution_count": null,
   "id": "b5ca2a4a",
   "metadata": {},
   "outputs": [],
   "source": [
    "def calculate_com(event_id):\n",
    "    event_com = np.divide(np.sum(np.multiply(wfs[event_id], np.arange(wfs[event_id].shape[1])), axis=1), \n",
    "                      np.sum(wfs[event_id], axis=1)\n",
    "                )\n",
    "    return event_com"
   ]
  },
  {
   "cell_type": "code",
   "execution_count": null,
   "id": "6b61230d",
   "metadata": {},
   "outputs": [],
   "source": [
    "com_dict = {0: [],\n",
    "            1: [],\n",
    "            2: []\n",
    "            }\n",
    "for event_id in range(wfs.shape[0]):\n",
    "    com_arr = calculate_com(event_id)\n",
    "    com_dict[0].append(com_arr[0])\n",
    "    com_dict[1].append(com_arr[1])\n",
    "    com_dict[2].append(com_arr[2])"
   ]
  },
  {
   "cell_type": "code",
   "execution_count": null,
   "id": "d8e8e908",
   "metadata": {},
   "outputs": [],
   "source": [
    "fig_223, ax_223 = plt.subplots( 3, 1, figsize=(10, 8), sharex=True, sharey = True)\n",
    "for ch_id in range(3):\n",
    "    ax_223[ch_id].hist(com_dict[ch_id], bins=np.arange(-5_000, 5_000, 25), \n",
    "                        color=f'C{ch_id}', label = f'{ch_id}')    \n",
    "    ax_223[ch_id].legend()\n",
    "    ax_223[ch_id].grid()\n",
    "plt.subplots_adjust(wspace=0.025, hspace=0.025)\n",
    "fig_223.suptitle('hist of Center Of Mass')"
   ]
  },
  {
   "cell_type": "code",
   "execution_count": null,
   "id": "5ffd9d2e",
   "metadata": {},
   "outputs": [],
   "source": [
    "# above 1000 and greater than 1900\n",
    "# reject if com in three channels are not simultaneous"
   ]
  },
  {
   "cell_type": "markdown",
   "id": "54c62b8f",
   "metadata": {},
   "source": [
    "## 4.7. <a id='toc4_7_'></a>[full waveform sum](#toc0_)"
   ]
  },
  {
   "cell_type": "code",
   "execution_count": null,
   "id": "91af4374",
   "metadata": {},
   "outputs": [],
   "source": [
    "wf_sum_ls = []\n",
    "for event_id in range(wfs.shape[0]):\n",
    "# for event_id in range(1000):\n",
    "    wf_sum_ls.append(np.sum(wfs[event_id][ch_x]))"
   ]
  },
  {
   "cell_type": "code",
   "execution_count": null,
   "id": "f3f9c86b",
   "metadata": {},
   "outputs": [],
   "source": [
    "plt.figure()\n",
    "plt.hist(wf_sum_ls, bins=500, label = 'Channel 0')\n",
    "plt.legend()\n",
    "plt.grid()\n",
    "plt.title(f'hist of waveform sum')\n",
    "plt.yscale('log')"
   ]
  },
  {
   "cell_type": "code",
   "execution_count": null,
   "id": "fd70f888",
   "metadata": {},
   "outputs": [],
   "source": [
    "wf_sum_post_cut_ls = []\n",
    "event_list_post_cut = []\n",
    "com_post_cut_dict = {0: [],\n",
    "            1: [],\n",
    "            2: []\n",
    "            }\n",
    "\n",
    "com_threshold = 1500\n",
    "\n",
    "for event_id in range(wfs.shape[0]):\n",
    "    # if pretrigger_sum_ls[event_id] <= 4000:\n",
    "    if pretrigger_sum_ls[event_id] <= 20000: # 1st cut: pretrigger sum\n",
    "        if pulse_difference(event_id) <= 40: # 2nd cut: simultaneity  \n",
    "            com_arr = calculate_com(event_id)\n",
    "            if (np.abs(com_arr[0] - com_arr[1]) <= com_threshold) and (np.abs(com_arr[2] - com_arr[1]) <= com_threshold): # 3rd cut: concurrence of COM\n",
    "                event_list_post_cut.append(event_id)\n",
    "                wf_sum_post_cut_ls.append(np.sum(wfs[event_id][ch_x]))\n",
    "                com_post_cut_dict[0].append(com_arr[0])\n",
    "                com_post_cut_dict[1].append(com_arr[1])\n",
    "                com_post_cut_dict[2].append(com_arr[2])"
   ]
  },
  {
   "cell_type": "code",
   "execution_count": null,
   "id": "b2a88463",
   "metadata": {},
   "outputs": [],
   "source": [
    "fig_224, ax_224 = plt.subplots( 3, 1, figsize=(10, 8), sharex=True, sharey = True)\n",
    "for ch_id in range(3):\n",
    "    ax_224[ch_id].hist(com_post_cut_dict[ch_id], bins=np.arange(-5_000, 5_000, 25), \n",
    "                        color=f'C{ch_id}', label = f'{ch_id}')    \n",
    "    ax_224[ch_id].legend()\n",
    "    ax_224[ch_id].grid()\n",
    "plt.subplots_adjust(wspace=0.025, hspace=0.025)\n",
    "fig_224.suptitle('hist of Center Of Mass post cuts')"
   ]
  },
  {
   "cell_type": "code",
   "execution_count": null,
   "id": "5f753bd9",
   "metadata": {},
   "outputs": [],
   "source": [
    "len(com_post_cut_dict[0])"
   ]
  },
  {
   "cell_type": "code",
   "execution_count": null,
   "id": "dffabe5a",
   "metadata": {},
   "outputs": [],
   "source": [
    "plt.figure()\n",
    "plt.hist(wf_sum_post_cut_ls, bins=500, label = 'Channel 0')\n",
    "plt.legend()\n",
    "plt.grid()\n",
    "plt.title(f'hist of waveform sum post 3 cuts')\n",
    "plt.yscale('log')"
   ]
  },
  {
   "cell_type": "code",
   "execution_count": null,
   "id": "4cb364ff",
   "metadata": {},
   "outputs": [],
   "source": [
    "len(wf_sum_post_cut_ls)"
   ]
  },
  {
   "cell_type": "code",
   "execution_count": null,
   "id": "0368ca6d",
   "metadata": {},
   "outputs": [],
   "source": [
    "500 in event_list_post_cut"
   ]
  },
  {
   "cell_type": "code",
   "execution_count": null,
   "id": "64487573",
   "metadata": {},
   "outputs": [],
   "source": [
    "34444 in event_list_post_cut"
   ]
  },
  {
   "cell_type": "code",
   "execution_count": null,
   "id": "0bde77dd",
   "metadata": {},
   "outputs": [],
   "source": [
    "25129 in event_list_post_cut"
   ]
  },
  {
   "cell_type": "code",
   "execution_count": null,
   "id": "c0b348ab",
   "metadata": {},
   "outputs": [],
   "source": [
    "event_list_post_cut[-1::-1]"
   ]
  },
  {
   "cell_type": "code",
   "execution_count": null,
   "id": "0697a07a",
   "metadata": {},
   "outputs": [],
   "source": [
    "50000 in event_list_post_cut"
   ]
  },
  {
   "cell_type": "code",
   "execution_count": null,
   "id": "e9096c56",
   "metadata": {},
   "outputs": [],
   "source": [
    "len(wf_sum_post_cut_ls)"
   ]
  },
  {
   "cell_type": "code",
   "execution_count": null,
   "id": "5eda5208",
   "metadata": {},
   "outputs": [],
   "source": [
    "bad_event_ls = [49971, 43686, 25129, 34444, 25522, 39661, 49316, 29020, 35670, 35670, 49998]"
   ]
  },
  {
   "cell_type": "code",
   "execution_count": null,
   "id": "7565774a",
   "metadata": {},
   "outputs": [],
   "source": [
    "int_index = 0\n",
    "for be in bad_event_ls:\n",
    "    if  be in event_list_post_cut:\n",
    "        int_index += 1\n",
    "        print(f'Bad Event Count:{int_index}. Bad event id: {be}')"
   ]
  },
  {
   "cell_type": "code",
   "execution_count": null,
   "id": "ce865687",
   "metadata": {},
   "outputs": [],
   "source": [
    "perf_counter() - t0"
   ]
  },
  {
   "cell_type": "code",
   "execution_count": null,
   "id": "883ae414",
   "metadata": {},
   "outputs": [],
   "source": [
    "sys.exit()"
   ]
  },
  {
   "cell_type": "markdown",
   "id": "a6900a54",
   "metadata": {},
   "source": [
    "# 5. <a id='toc5_'></a>[Exploration](#toc0_)"
   ]
  },
  {
   "cell_type": "code",
   "execution_count": null,
   "id": "99da9c19",
   "metadata": {},
   "outputs": [],
   "source": [
    "wfs.shape"
   ]
  },
  {
   "cell_type": "code",
   "execution_count": null,
   "id": "e4a55854",
   "metadata": {},
   "outputs": [],
   "source": [
    "event_id = 45000"
   ]
  },
  {
   "cell_type": "code",
   "execution_count": null,
   "id": "d83795c7",
   "metadata": {},
   "outputs": [],
   "source": [
    "# for i in range(100_000):\n",
    "event_id += 1\n",
    "plooter(event_id, 0)"
   ]
  },
  {
   "cell_type": "code",
   "execution_count": null,
   "id": "7c3fd402",
   "metadata": {},
   "outputs": [],
   "source": [
    "event_id"
   ]
  },
  {
   "cell_type": "markdown",
   "id": "d96d8e99",
   "metadata": {},
   "source": [
    "# 6. <a id='toc6_'></a>[Memory diagnostics](#toc0_)"
   ]
  },
  {
   "cell_type": "code",
   "execution_count": null,
   "id": "8a55a1a6",
   "metadata": {},
   "outputs": [],
   "source": [
    "# ## see memory usage\n",
    "!cat /proc/meminfo"
   ]
  },
  {
   "cell_type": "code",
   "execution_count": null,
   "id": "d5b7e985",
   "metadata": {},
   "outputs": [],
   "source": [
    "# event_catalogue.info(memory_usage='deep')"
   ]
  },
  {
   "cell_type": "code",
   "execution_count": null,
   "id": "e2387ddb",
   "metadata": {},
   "outputs": [],
   "source": [
    "# del event_catalogue"
   ]
  },
  {
   "cell_type": "code",
   "execution_count": null,
   "id": "96c7800d",
   "metadata": {},
   "outputs": [],
   "source": [
    "# !cat /proc/meminfo"
   ]
  },
  {
   "cell_type": "code",
   "execution_count": null,
   "id": "e54f1448",
   "metadata": {},
   "outputs": [],
   "source": [
    "# import gc\n",
    "# gc.isenabled()"
   ]
  },
  {
   "cell_type": "code",
   "execution_count": null,
   "id": "ff4d450b",
   "metadata": {},
   "outputs": [],
   "source": [
    "# gc.collect()"
   ]
  }
 ],
 "metadata": {
  "kernelspec": {
   "display_name": "jar",
   "language": "python",
   "name": "python3"
  },
  "language_info": {
   "codemirror_mode": {
    "name": "ipython",
    "version": 3
   },
   "file_extension": ".py",
   "mimetype": "text/x-python",
   "name": "python",
   "nbconvert_exporter": "python",
   "pygments_lexer": "ipython3",
   "version": "3.11.8"
  }
 },
 "nbformat": 4,
 "nbformat_minor": 5
}
