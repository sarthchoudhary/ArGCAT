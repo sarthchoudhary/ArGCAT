{
 "cells": [
  {
   "cell_type": "markdown",
   "id": "4f8fefc6",
   "metadata": {},
   "source": [
    "<p style=\"color:#4169E1; font-family:'Roboto'; font-size:48px; text-align: center;\"> \n",
    "Process WLS data\n",
    "</p>"
   ]
  },
  {
   "cell_type": "markdown",
   "id": "b8d0fae7",
   "metadata": {},
   "source": [
    "<span style='font-size:32px; color:magenta;'>This is prototype code for process_wls_data.py script.</span>"
   ]
  },
  {
   "cell_type": "markdown",
   "id": "404ff639",
   "metadata": {},
   "source": [
    "**Table of contents**<a id='toc0_'></a>    \n",
    "- 1. [Change diary:](#toc1_)    \n",
    "- 2. [Reading pickled event catalogue](#toc2_)    \n",
    "- 3. [initialize Pyreco](#toc3_)    \n",
    "  - 3.1. [Event information](#toc3_1_)    \n",
    "- 4. [Analysis](#toc4_)    \n",
    "  - 4.1. [data selection](#toc4_1_)    \n",
    "  - 4.2. [Plotting data](#toc4_2_)    \n",
    "  - 4.3. [waveform sum](#toc4_3_)    \n",
    "    - 4.3.1. [filtered waveform sum](#toc4_3_1_)    \n",
    "    - 4.3.2. [pretrigger sum](#toc4_3_2_)    \n",
    "    - 4.3.3. [negative wf sum](#toc4_3_3_)    \n",
    "    - 4.3.4. [Repetitive pattern seen in ch-2 data](#toc4_3_4_)    \n",
    "      - 4.3.4.1. [Fourier Transform](#toc4_3_4_1_)    \n",
    "  - 4.4. [simultaneity of pulses](#toc4_4_)    \n",
    "    - 4.4.1. [Create Pulse difference Distribution](#toc4_4_1_)    \n",
    "  - 4.5. [Center of Mass for waveforms](#toc4_5_)    \n",
    "  - 4.6. [full waveform sum](#toc4_6_)    \n",
    "  - 4.7. [Cuts](#toc4_7_)    \n",
    "- 5. [Exploration](#toc5_)    \n",
    "- 6. [time constant](#toc6_)    \n",
    "- 7. [Memory diagnostics](#toc7_)    \n",
    "\n",
    "<!-- vscode-jupyter-toc-config\n",
    "\tnumbering=true\n",
    "\tanchor=true\n",
    "\tflat=false\n",
    "\tminLevel=1\n",
    "\tmaxLevel=6\n",
    "\t/vscode-jupyter-toc-config -->\n",
    "<!-- THIS CELL WILL BE REPLACED ON TOC UPDATE. DO NOT WRITE YOUR TEXT IN THIS CELL -->"
   ]
  },
  {
   "cell_type": "markdown",
   "id": "cd8b8798",
   "metadata": {},
   "source": [
    "<p>\n",
    "<b> Steps to follow: </b>\n",
    "\n",
    "<ol>\n",
    "<li> Event selection cuts </li>\n",
    "<li> Histogram event charge</li>\n",
    "<li> SPE calibration </li>\n",
    "<li> cut efficiency: waveform integration post cut / pre cut bin by bin</li>\n",
    "<li> Light Yield calculation</li>\n",
    "<!-- <li> </li> -->\n",
    "</ol>\n",
    "</p>\n"
   ]
  },
  {
   "cell_type": "markdown",
   "id": "2e07199a",
   "metadata": {},
   "source": [
    "<!-- # MIDAS events reconstruction -->\n",
    "\n",
    "Load packages, setup libraries"
   ]
  },
  {
   "cell_type": "code",
   "execution_count": null,
   "id": "fbc1639a",
   "metadata": {},
   "outputs": [],
   "source": [
    "from time import perf_counter\n",
    "t0 = perf_counter()"
   ]
  },
  {
   "cell_type": "code",
   "execution_count": null,
   "id": "8517b470",
   "metadata": {},
   "outputs": [],
   "source": [
    "import sys\n",
    "import numpy as np\n",
    "from scipy.optimize import curve_fit\n",
    "# from scipy.stats import chisquare\n",
    "# from scipy.integrate import simpson\n",
    "# import matplotlib\n",
    "import matplotlib.pyplot as plt\n",
    "# from matplotlib.ticker import AutoMinorLocator\n",
    "# from matplotlib.ticker import FormatStrFormatter\n",
    "# from termcolor import colored\n",
    "# import latexify\n",
    "import pandas as pd\n",
    "# from tqdm.notebook import tqdm\n",
    "import pickle\n",
    "from os import path\n",
    "from scipy.signal import find_peaks"
   ]
  },
  {
   "cell_type": "code",
   "execution_count": null,
   "id": "2d233141",
   "metadata": {},
   "outputs": [],
   "source": [
    "np.set_printoptions(formatter={'float': lambda x: f\"{x:10.4g}\"})"
   ]
  },
  {
   "cell_type": "code",
   "execution_count": null,
   "id": "fd7af27c",
   "metadata": {},
   "outputs": [],
   "source": [
    "%matplotlib ipympl"
   ]
  },
  {
   "cell_type": "markdown",
   "id": "a7eb23b6",
   "metadata": {},
   "source": [
    "# 1. <a id='toc1_'></a>[Change diary:](#toc0_)\n",
    "1. Marcin suggested to use these settings in pyreco for some runs:\n",
    "`n32samples = 9168-1`\n",
    "2. new pyreco branch: zle_4ksamp_length\n",
    "3. Marcin suggested 3 WLS specific cuts\n",
    "4. LY calculation w/o SPE calibration\n",
    "5. LY calculation w/ SPE calibration"
   ]
  },
  {
   "cell_type": "markdown",
   "id": "52d552b0",
   "metadata": {},
   "source": [
    "# 2. <a id='toc2_'></a>[Reading pickled event catalogue](#toc0_)"
   ]
  },
  {
   "cell_type": "code",
   "execution_count": null,
   "id": "daba9a2e",
   "metadata": {},
   "outputs": [],
   "source": [
    "# event_catalogue_file = '../temp_folder/copy_event_catalogue_run0061.pkl'\n",
    "# filename = 'event_catalogue_run0061.pkl'\n",
    "# event_catalogue_file = '../data/event_catalogue_run00061_3ch.pkl'\n",
    "# filename = 'event_catalogue_run00108_first_half.pkl'\n",
    "# filename = 'event_catalogue_run00126_part.pkl'\n",
    "# filename = 'event_catalogue_run00152_00.pkl'\n",
    "# filename = 'event_catalogue_run00162_00.pkl'\n",
    "# filename = 'event_catalogue_run00126.pkl'\n",
    "filename = 'event_catalogue_run00126_part.pkl'\n",
    "\n",
    "data_dir = '/work/chuck/sarthak/argset/event_catalogues'\n",
    "event_catalogue_file = path.join(data_dir, filename)\n",
    "event_catalogue = pd.read_pickle(event_catalogue_file)\n",
    "wfs = event_catalogue['wf']\n",
    "del event_catalogue"
   ]
  },
  {
   "cell_type": "code",
   "execution_count": null,
   "id": "6dc91b8e",
   "metadata": {},
   "outputs": [],
   "source": [
    "# Plotting events\n",
    "plt.figure()\n",
    "# for event_id in range(9900, 9905):\n",
    "for event_id in range(5000, 5001):\n",
    "    for ch in range(3):\n",
    "    # for ch in [2]:\n",
    "        plt.plot(wfs[event_id][ch])"
   ]
  },
  {
   "cell_type": "code",
   "execution_count": null,
   "id": "b9a74e14",
   "metadata": {},
   "outputs": [],
   "source": [
    "# --> 1&2 waveforms shouldn't have maximum shifted by more than ~ 20 ns"
   ]
  },
  {
   "cell_type": "markdown",
   "id": "2cf907a0",
   "metadata": {},
   "source": [
    "# 3. <a id='toc3_'></a>[initialize Pyreco](#toc0_)"
   ]
  },
  {
   "cell_type": "markdown",
   "id": "de0d06b2",
   "metadata": {},
   "source": [
    "Select here midas data, output filename and configuration file"
   ]
  },
  {
   "cell_type": "code",
   "execution_count": null,
   "id": "9eb3ea97",
   "metadata": {
    "metadata": {}
   },
   "outputs": [],
   "source": [
    "from pyreco.manager.manager import Manager\n",
    "\n",
    "# # filename = '/work/sarthak/argset/data/2024_Mar_27/midas/run00061.mid.lz4'\n",
    "filename = '/work/sarthak/argset/data/run00152_00.mid.lz4'\n",
    "# filename = '/work/sarthak/argset/data/run00152.mid.lz4'\n",
    "outfile = 'jupyR00152'\n",
    "confile = 'argset.ini'\n",
    "tmin,tmax = 0, 4000\n",
    "# # tmin,tmax = 0, 1750\n",
    "cmdline_args = f'--config {confile} -o {outfile} -i {filename}'\n",
    "m = Manager( midas=True, cmdline_args=cmdline_args)\n",
    "# m = Manager( midas=True) #, cmdline_args=cmdline_args)\n",
    "# baseline_samples = m.config('reco', 'bl_to', 'int')\n",
    "from pyreco.reco.filtering import WFFilter\n",
    "mfilter = WFFilter(m.config)"
   ]
  },
  {
   "cell_type": "code",
   "execution_count": null,
   "id": "6c0ff2ad",
   "metadata": {},
   "outputs": [],
   "source": [
    "%matplotlib ipympl"
   ]
  },
  {
   "cell_type": "code",
   "execution_count": null,
   "id": "3fa1bea8",
   "metadata": {},
   "outputs": [],
   "source": [
    "def perform_arma(og_wf):\n",
    "    flt = np.reshape(mfilter.numba_fast_filter(og_wf), newshape=og_wf.shape)\n",
    "    # mas = m.algos.running_mean(flt, gate=60)\n",
    "    # return flt - mas\n",
    "    return flt"
   ]
  },
  {
   "cell_type": "code",
   "execution_count": null,
   "id": "74c24e2b",
   "metadata": {},
   "outputs": [],
   "source": [
    "event_id = 49959\n",
    "\n",
    "fig_11, ax_11 = plt.subplots(2,1)\n",
    "for ch_id in range(3):\n",
    "    ax_11[0].plot(wfs[event_id][ch_id], label = f'og {ch_id}')\n",
    "    ax_11[0].legend()\n",
    "    ax_11[1].plot(perform_arma(wfs[event_id])[ch_id], label = f'flt {ch_id}')\n",
    "    ax_11[1].legend()\n",
    "plt.show()"
   ]
  },
  {
   "cell_type": "code",
   "execution_count": null,
   "id": "236863ca",
   "metadata": {},
   "outputs": [],
   "source": [
    "# fig_11, ax_11 = plt.subplots(2,1, figsize=(15, 12))\n",
    "# for ch_id in range(3):\n",
    "#     ax_11[0].scatter(np.arange(50_000), np.array(wf_sum_dict[ch_id]), marker='o', color='green', label = f'og {ch_id}')\n",
    "#     ax_11[0].scatter(negative_sums, np.array(wf_sum_dict[ch_id])[negative_sums], marker='+', color='red', label = f'og {ch_id}')\n",
    "#     # ax_11[0].legend()\n",
    "#     ax_11[0].set_xlim((0, 5000))\n",
    "#     ax_11[0].set_ylim(-0.5E6, 0.5E6)\n",
    "#     ax_11[1].scatter(np.arange(50_000), np.array(flt_wf_sum[ch_id]), marker='o', color='green', label = f'og {ch_id}')\n",
    "#     ax_11[1].scatter(negative_sums, np.array(flt_wf_sum[ch_id])[negative_sums], marker='+', color='blue', label = f'flt {ch_id}')\n",
    "#     # ax_11[1].legend()\n",
    "#     ax_11[1].set_xlim((0, 5000))\n",
    "#     ax_11[1].set_ylim(-5, 5)\n",
    "# # plt.show()\n",
    "# fig_11.suptitle('sum flt vs original for negative wf sum events')"
   ]
  },
  {
   "cell_type": "code",
   "execution_count": null,
   "id": "67ec74f9",
   "metadata": {},
   "outputs": [],
   "source": [
    "# del Manager, m"
   ]
  },
  {
   "cell_type": "code",
   "execution_count": null,
   "id": "19286544",
   "metadata": {},
   "outputs": [],
   "source": [
    "# sys.exit"
   ]
  },
  {
   "cell_type": "markdown",
   "id": "739e3ae4",
   "metadata": {},
   "source": [
    "## 3.1. <a id='toc3_1_'></a>[Event information](#toc0_)"
   ]
  },
  {
   "cell_type": "code",
   "execution_count": null,
   "id": "8d4f0d4d",
   "metadata": {},
   "outputs": [],
   "source": [
    "# # nev_max = m.config('base', 'nevents', 'int')\n",
    "# # nev_max = 2\n",
    "# # nev_max = 455 # diag\n",
    "# # for nev, event in enumerate(m.midas): # oddly doing m.midas shifts the 'pointer' to the next event\n",
    "# for nev, event in enumerate(m.midas):\n",
    "#     #print(nev, event, event.nchannels)\n",
    "#     if nev < 2: continue\n",
    "#     if nev > 1: break\n",
    "#     # if nev > 450: break\n",
    "#     # print(nev)"
   ]
  },
  {
   "cell_type": "code",
   "execution_count": null,
   "id": "9938407f",
   "metadata": {},
   "outputs": [],
   "source": [
    "# event.adc_baseline"
   ]
  },
  {
   "cell_type": "code",
   "execution_count": null,
   "id": "48267d5c",
   "metadata": {},
   "outputs": [],
   "source": [
    "# # to use this cell, run the above cell once\n",
    "# plt.close(1)\n",
    "# plt.figure(1)\n",
    "# #### Note: this way of looping skips one event every time we execute the for loop. Probably better not to use this loop in full code. \n",
    "# for nev, event in enumerate(m.midas): # oddly doing m.midas shifts the 'pointer' to the next event\n",
    "#     if nev > 0: break\n",
    "#     wfs = event.adc_data\n",
    "#     print(event.event_counter)\n",
    "#     for i,wf in enumerate(event.adc_data): # over channels\n",
    "#         if event.event_counter:\n",
    "#             wfs[i] = wf-event.adc_baseline[i]\n",
    "#             print(event.event_counter)\n",
    "#             plt.plot(wfs[i], label=f'{i}')\n",
    "# # plt.xlim(tmin,tmax)\n",
    "# # plt.legend()"
   ]
  },
  {
   "cell_type": "code",
   "execution_count": null,
   "id": "4613720f",
   "metadata": {},
   "outputs": [],
   "source": [
    "# del wf\n",
    "# event.adc_data\n",
    "# event.adc_baseline\n",
    "# wf\n",
    "# wfs[2]\n",
    "# np.sum(wfs[2][:400])\n",
    "# np.sum(wf[:400])"
   ]
  },
  {
   "cell_type": "code",
   "execution_count": null,
   "id": "7106b907",
   "metadata": {},
   "outputs": [],
   "source": [
    "# for nev, event in enumerate(m.midas): # oddly doing m.midas shifts the 'pointer' to the next event\n",
    "#     if nev > 0: break\n",
    "#     wfs = event.adc_data\n",
    "#     if len(event.adc_data) != 0:\n",
    "#         plt.figure()\n",
    "#         for i,wf in enumerate(event.adc_data): # over channels\n",
    "#             wfs[i] = wf-event.adc_baseline[i]\n",
    "#             plt.plot(wfs[i], label=f'{i}')\n",
    "#             # plt.xlim(tmin,tmax)\n",
    "#             plt.legend()"
   ]
  },
  {
   "cell_type": "code",
   "execution_count": null,
   "id": "8e768484",
   "metadata": {},
   "outputs": [],
   "source": [
    "# event.event_counter\n",
    "# event.adc_data.shape\n",
    "# event.adc_data = np.array([])\n",
    "# len(event.adc_data)\n",
    "# if not event.adc_data:\n",
    "#     print('Yes')\n",
    "# event.adc_baseline\n",
    "# wfs"
   ]
  },
  {
   "cell_type": "code",
   "execution_count": null,
   "id": "3bf14a50",
   "metadata": {},
   "outputs": [],
   "source": [
    "# sys.exit()"
   ]
  },
  {
   "cell_type": "code",
   "execution_count": null,
   "id": "6c48fb30",
   "metadata": {},
   "outputs": [],
   "source": [
    "# m.midas\n",
    "# m.midas.event"
   ]
  },
  {
   "cell_type": "code",
   "execution_count": null,
   "id": "f0bcb901",
   "metadata": {},
   "outputs": [],
   "source": [
    "# non_zero_array_cntr = 0\n",
    "# for arb_iter in range(10000):\n",
    "#     try:\n",
    "#         m.midas.read().__getstate__()\n",
    "#         if m.midas.read().nsamples:\n",
    "#             non_zero_array_cntr +=1 \n",
    "#     except IndexError:\n",
    "#         continue\n",
    "\n",
    "# print(f'non_zero_array_cntr: {non_zero_array_cntr}')"
   ]
  },
  {
   "cell_type": "code",
   "execution_count": null,
   "id": "86a6e598",
   "metadata": {},
   "outputs": [],
   "source": [
    "# non_zero_array_cntr = 0\n",
    "# for arb_iter in range(10000):\n",
    "#     m.midas.read().__getstate__()\n",
    "#     if m.midas.read().nsamples:\n",
    "#         non_zero_array_cntr +=1 \n",
    "\n",
    "# print(f'non_zero_array_cntr: {non_zero_array_cntr}')"
   ]
  },
  {
   "cell_type": "code",
   "execution_count": null,
   "id": "14a6216a",
   "metadata": {},
   "outputs": [],
   "source": [
    "# m.midas.read().__getstate__()\n",
    "# m.midas.read().zlecompressed # This shows whether data is zle compressed.\n",
    "# m.midas.read().nsamples\n",
    "# m.midas.read().nsamples # number of samples\n",
    "# m.midas.read().adc_data.shape\n",
    "### m.midas.read().event_size\n",
    "# m.midas.read().trigger_time\n",
    "# m.midas.read().n32samples # not an attribute\n",
    "# m.midas.nsamples not an attribute"
   ]
  },
  {
   "cell_type": "markdown",
   "id": "6ec8b911",
   "metadata": {},
   "source": [
    "# 4. <a id='toc4_'></a>[Analysis](#toc0_)"
   ]
  },
  {
   "cell_type": "markdown",
   "id": "f0995260",
   "metadata": {},
   "source": [
    "## 4.1. <a id='toc4_1_'></a>[data selection](#toc0_)"
   ]
  },
  {
   "cell_type": "code",
   "execution_count": null,
   "id": "f939be7b",
   "metadata": {
    "metadata": {}
   },
   "outputs": [],
   "source": [
    "# event_id = 1000"
   ]
  },
  {
   "cell_type": "code",
   "execution_count": null,
   "id": "f62b1b13",
   "metadata": {},
   "outputs": [],
   "source": [
    "# wf = wfs[event_id]"
   ]
  },
  {
   "cell_type": "code",
   "execution_count": null,
   "id": "455e22c4",
   "metadata": {},
   "outputs": [],
   "source": [
    "# # n_channel = 2\n",
    "# n_channel = 0"
   ]
  },
  {
   "cell_type": "code",
   "execution_count": null,
   "id": "2d57095c",
   "metadata": {},
   "outputs": [],
   "source": [
    "# tmin = 0\n",
    "# tmax = min(wf[n_channel].shape[0], 4000)"
   ]
  },
  {
   "cell_type": "markdown",
   "id": "fd8bbbb3",
   "metadata": {},
   "source": [
    "## 4.2. <a id='toc4_2_'></a>[Plotting data](#toc0_)"
   ]
  },
  {
   "cell_type": "code",
   "execution_count": null,
   "id": "e1548527",
   "metadata": {},
   "outputs": [],
   "source": [
    "# plt.close(2)\n",
    "# plt.figure(2)\n",
    "# plt.title('transformed data')\n",
    "# # from matplotlib.offsetbox import AnchoredText\n",
    "# for _c in range(3):\n",
    "#     plt.plot(wf[_c], label=f'channel {_c}')\n",
    "# # plt.plot(wf, label=f'channel {_c}')\n",
    "\n",
    "# plt.legend()\n",
    "# plt.grid()\n"
   ]
  },
  {
   "cell_type": "code",
   "execution_count": null,
   "id": "ef8880aa",
   "metadata": {},
   "outputs": [],
   "source": [
    "def plooter(x, l):\n",
    "    plt.figure()\n",
    "    for ch_id in range(3):\n",
    "        plt.plot(wfs[x][ch_id], alpha = 1/(1+ 0.5*ch_id),label = f'Channel {ch_id}')\n",
    "    plt.grid()\n",
    "    plt.legend()\n",
    "    plt.title(f'pretrigger sum = {np.sum(wfs[x][ch_id][:400])}')\n",
    "    if l:\n",
    "        plt.xlim([0, 500])"
   ]
  },
  {
   "cell_type": "code",
   "execution_count": null,
   "id": "c31699e5",
   "metadata": {},
   "outputs": [],
   "source": [
    "# def str_line(x):\n",
    "#     return m*x + c"
   ]
  },
  {
   "cell_type": "code",
   "execution_count": null,
   "id": "2f99b6bc",
   "metadata": {},
   "outputs": [],
   "source": [
    "# wf[2]"
   ]
  },
  {
   "cell_type": "code",
   "execution_count": null,
   "id": "7e3485ae",
   "metadata": {},
   "outputs": [],
   "source": [
    "# curve_fit(str_line, np.arange[0,400], wf[2][0:400])"
   ]
  },
  {
   "cell_type": "code",
   "execution_count": null,
   "id": "99e8f6cb",
   "metadata": {},
   "outputs": [],
   "source": [
    "# histogram of pretrigger window"
   ]
  },
  {
   "cell_type": "code",
   "execution_count": null,
   "id": "0f31803d",
   "metadata": {},
   "outputs": [],
   "source": [
    "# wfs.shape"
   ]
  },
  {
   "cell_type": "markdown",
   "id": "39a1b237",
   "metadata": {},
   "source": [
    "## 4.3. <a id='toc4_3_'></a>[waveform sum](#toc0_)"
   ]
  },
  {
   "cell_type": "markdown",
   "id": "e02e9f69",
   "metadata": {},
   "source": [
    "### 4.3.1. <a id='toc4_3_1_'></a>[filtered waveform sum](#toc0_)"
   ]
  },
  {
   "cell_type": "code",
   "execution_count": null,
   "id": "e29bbcd1",
   "metadata": {},
   "outputs": [],
   "source": [
    "flt_wf_sum = {\n",
    "    0: [],\n",
    "    1: [],\n",
    "    2: []\n",
    "}\n",
    "\n",
    "for event_id in range(wfs.shape[0]):\n",
    "    flt_wf =  np.sum(perform_arma(wfs[event_id]), axis=1)\n",
    "    flt_wf_sum[1].append( flt_wf[1] )\n",
    "    flt_wf_sum[2].append( flt_wf[2] )\n",
    "    flt_wf_sum[0].append( flt_wf[0] )"
   ]
  },
  {
   "cell_type": "code",
   "execution_count": null,
   "id": "5be2dcd1",
   "metadata": {},
   "outputs": [],
   "source": [
    "flt_wf_sum[1]"
   ]
  },
  {
   "cell_type": "code",
   "execution_count": null,
   "id": "e42338f3",
   "metadata": {},
   "outputs": [],
   "source": [
    "wf_sum_dict[1][0]"
   ]
  },
  {
   "cell_type": "code",
   "execution_count": null,
   "id": "982cb174",
   "metadata": {},
   "outputs": [],
   "source": [
    "hist_plot_range = (-100, 275)\n",
    "fig_3, ax_3 = plt.subplots( 1, 1, figsize=(10, 8), sharex=True, sharey = False)\n",
    "bin_content_0, bin_edges, _PlotsObjects = ax_3.hist(flt_wf_sum[0], bins=100, range=hist_plot_range, label = 'filtered wf sum 0')"
   ]
  },
  {
   "cell_type": "markdown",
   "id": "20419cba",
   "metadata": {},
   "source": [
    "### 4.3.2. <a id='toc4_3_2_'></a>[pretrigger sum](#toc0_)"
   ]
  },
  {
   "cell_type": "code",
   "execution_count": null,
   "id": "119ed4fc",
   "metadata": {},
   "outputs": [],
   "source": [
    "ch_x = 1\n",
    "# wf_sum_ls = []\n",
    "wf_sum_dict = {\n",
    "    1: [],\n",
    "    2: [],\n",
    "    0: []\n",
    "}\n",
    "# pretrigger_sum_ls = []\n",
    "pretrigger_sum_dict = {\n",
    "    1: [],\n",
    "    2: [],\n",
    "    0: []\n",
    "}\n",
    "negative_sums = []\n",
    "for event_id in range(wfs.shape[0]):\n",
    "    for ch_id in range(3):\n",
    "# for event_id in range(1000):\n",
    "    # pretrigger_sum_ls.append(np.sum(wfs[event_id][ch_x][:400]))\n",
    "    # pretrigger_sum_ls.append(np.sum(wfs[event_id][ch_x][:350]))\n",
    "    # wf_sum_ls.append(np.sum(wfs[event_id], axis=1))\n",
    "        wf_sum_dict[ch_id].append(np.sum(wfs[event_id][ch_id]))\n",
    "        pretrigger_sum_dict[ch_id].append(np.sum(wfs[event_id][ch_id][:350]))"
   ]
  },
  {
   "cell_type": "code",
   "execution_count": null,
   "id": "5493734c",
   "metadata": {},
   "outputs": [],
   "source": [
    "# com_negative_sum_ls = []\n",
    "# sum_negative_sum_ls = []\n",
    "# for negative_i in negative_sums:\n",
    "#     com_negative_sum_ls.append(calculate_com(negative_i)[ch_x])\n",
    "#     sum_negative_sum_ls.append(np.mean(wfs[negative_i][ch_x]))\n",
    "wf_sum_ls"
   ]
  },
  {
   "cell_type": "code",
   "execution_count": null,
   "id": "5120ce26",
   "metadata": {},
   "outputs": [],
   "source": [
    "pretrigger_sum = {\n",
    "    0: [],\n",
    "    1: [],\n",
    "    2: []\n",
    "}\n",
    "\n",
    "for event_x in range(wfs.shape[0]):\n",
    "    # wf_sum_ls.append(np.sum(wfs[event_x][ch_id])) # channel 0 sum\n",
    "    pretrigger_sum[1].append( np.sum(wfs[event_x][1][:350]) )\n",
    "    pretrigger_sum[2].append( np.sum(wfs[event_x][2][:350]) )\n",
    "    pretrigger_sum[0].append( np.sum(wfs[event_x][0][:350]) )"
   ]
  },
  {
   "cell_type": "code",
   "execution_count": null,
   "id": "810e9684",
   "metadata": {},
   "outputs": [],
   "source": [
    "fig_0, ax_0 = plt.subplots( 3, 1, figsize=(10, 8), sharex=True, sharey = False)\n",
    "for ch_x in range(3):\n",
    "    ax_0[ch_x].hist(pretrigger_sum[ch_x], bins = np.arange(-6000, 200_000, 1000), \n",
    "                            color=f'C{ch_x}', label = f'pretrigger sum in channel {ch_x}')\n",
    "    ax_0[ch_x].set_yscale('log')\n",
    "    ax_0[ch_x].legend()\n",
    "    ax_0[ch_x].grid()\n",
    "    plt.subplots_adjust(wspace=0.025, hspace=0.025)\n",
    "    fig_0.suptitle('hist of pretrigger sum')\n",
    "# fig_0.savefig('hist_pretrigger_sum.pdf')\n",
    "# plt.close(fig_0)"
   ]
  },
  {
   "cell_type": "code",
   "execution_count": null,
   "id": "4c8eb552",
   "metadata": {},
   "outputs": [],
   "source": [
    "# sum_arr = np.array(pretrigger_sum_ls)\n",
    "# sum_arr[np.where(sum_arr <= 20_000)].shape\n",
    "# np.sort(sum_arr[np.where(sum_arr <= 0)])\n",
    "# np.sort(sum_arr[np.where(sum_arr <= 3000)])[-100:-10:]\n",
    "# sum_arr[np.where(sum_arr <= 3000)].shape\n",
    "# l = np.where(sum_arr <= 25000)\n",
    "# m = sum_arr[l]\n",
    "# m\n",
    "# np.sort(m[np.where(m  >= 3000)])[0]\n",
    "# np.where(sum_arr <= 6000)\n",
    "# sum_arr[np.where(sum_arr <= 3000)].shape\n",
    "# sum_arr[np.where(sum_arr <= 6000)].shape\n",
    "# np.where(sum_arr == 2913)\n",
    "# plooter(4699, 0)\n",
    "# plooter(4699, 1)\n",
    "# plooter(49971, 0)\n",
    "# plooter(49971, 1)\n",
    "# plooter(43686, 0)\n",
    "# plooter(43686, 1)\n",
    "# plooter(25129, 0)\n",
    "# np.sum(np.abs(wfs[25129][2][:350]))\n",
    "# plooter(25129, 1)"
   ]
  },
  {
   "cell_type": "code",
   "execution_count": null,
   "id": "46c2bcff",
   "metadata": {},
   "outputs": [],
   "source": [
    "# plt.figure()\n",
    "# plt.plot(wfs[25129][0], label='0')\n",
    "# plt.plot(wfs[25129][1], label='1')\n",
    "# plt.plot(wfs[25129][2], alpha=0.5, label='2')\n",
    "# plt.title('Event 25129')\n",
    "# plt.grid()\n",
    "# plt.legend()"
   ]
  },
  {
   "cell_type": "code",
   "execution_count": null,
   "id": "c1e7e3cb",
   "metadata": {},
   "outputs": [],
   "source": [
    "# np.sum(wfs[25129][2][:350])\n",
    "# plooter(34444, 0)"
   ]
  },
  {
   "cell_type": "markdown",
   "id": "2803afb4",
   "metadata": {},
   "source": [
    "flagged events\n",
    "1. 34444\n",
    "2. 25129"
   ]
  },
  {
   "cell_type": "code",
   "execution_count": null,
   "id": "8270a92f",
   "metadata": {},
   "outputs": [],
   "source": [
    "# plt.figure(figsize=(10, 5))\n",
    "# # plt.plot(wfs[34444][0], label='0')\n",
    "# # plt.plot(wfs[34444][1], label='1')\n",
    "# plt.plot(wfs[34444][2], label='2')\n",
    "# plt.grid()"
   ]
  },
  {
   "cell_type": "code",
   "execution_count": null,
   "id": "f48ea979",
   "metadata": {},
   "outputs": [],
   "source": [
    "# np.sum(wfs[34444][2])\n",
    "\n",
    "# np.sum(wfs[34444][2][:350])\n",
    "# plooter(34444, 1)\n",
    "# plooter(25522, 0)\n",
    "# plooter(25522, 1)\n",
    "# plooter(237, 0)\n",
    "# plooter(237, 1)\n",
    "# plooter(9370, 0)\n",
    "# plooter(9370, 1)\n",
    "# plooter(39661, 0)\n",
    "# plooter(39661, 1)\n",
    "# plooter(49316, 0)\n",
    "# plooter(49316, 1)\n",
    "# plooter(29020, 0)\n",
    "# plooter(29020, 1)\n",
    "# plooter(35670, 0)\n",
    "# plooter(35670, 1)"
   ]
  },
  {
   "cell_type": "markdown",
   "id": "631c6ff6",
   "metadata": {},
   "source": [
    "### 4.3.3. <a id='toc4_3_3_'></a>[negative wf sum](#toc0_)"
   ]
  },
  {
   "cell_type": "markdown",
   "id": "773bf80c",
   "metadata": {},
   "source": [
    "merely an investigation"
   ]
  },
  {
   "cell_type": "code",
   "execution_count": null,
   "id": "11b1bc05",
   "metadata": {},
   "outputs": [],
   "source": [
    "ch_x = 2"
   ]
  },
  {
   "cell_type": "code",
   "execution_count": null,
   "id": "ce4479e2",
   "metadata": {},
   "outputs": [],
   "source": [
    "negative_sums = np.where(np.array(wf_sum_dict[ch_x]) < 0)[0]"
   ]
  },
  {
   "cell_type": "code",
   "execution_count": null,
   "id": "21bdef63",
   "metadata": {},
   "outputs": [],
   "source": [
    "plt.figure()\n",
    "plt.hist(pretrigger_sum_dict[ch_x], bins = 1000)# bins = np.arange(-6000, 200_000, 1000));\n",
    "# plt.hist(pretrigger_sum_ls, bins = np.arange(0, 2_000, 100));\n",
    "plt.title('Histogram pretrigger sum')\n",
    "plt.yscale('log')"
   ]
  },
  {
   "cell_type": "code",
   "execution_count": null,
   "id": "08df09ed",
   "metadata": {},
   "outputs": [],
   "source": [
    "plt.figure()\n",
    "plt.plot(wfs[negative_sums[100]][ch_x])"
   ]
  },
  {
   "cell_type": "code",
   "execution_count": null,
   "id": "ee376605",
   "metadata": {},
   "outputs": [],
   "source": [
    "def calculate_com(event_id):\n",
    "    event_com = np.divide(np.sum(np.multiply(wfs[event_id], np.arange(wfs[event_id].shape[1])), axis=1), \n",
    "                      np.sum(wfs[event_id], axis=1)\n",
    "                )\n",
    "    return event_com"
   ]
  },
  {
   "cell_type": "code",
   "execution_count": null,
   "id": "e76bc4e9",
   "metadata": {},
   "outputs": [],
   "source": [
    "calculate_com(negative_sums[100])"
   ]
  },
  {
   "cell_type": "code",
   "execution_count": null,
   "id": "df637894",
   "metadata": {},
   "outputs": [],
   "source": [
    "com_negative_sum_ls = []\n",
    "sum_negative_sum_ls = []\n",
    "for negative_i in negative_sums:\n",
    "    com_negative_sum_ls.append(calculate_com(negative_i)[ch_x])\n",
    "    sum_negative_sum_ls.append(np.mean(wfs[negative_i][ch_x]))\n"
   ]
  },
  {
   "cell_type": "code",
   "execution_count": null,
   "id": "2b90a821",
   "metadata": {},
   "outputs": [],
   "source": [
    "plt.figure()\n",
    "# plt.scatter(negative_sums, sum_negative_sum_ls, label = 'sum')\n",
    "# plt.scatter(negative_sums, com_negative_sum_ls, label = 'com')\n",
    "plt.scatter(sum_negative_sum_ls, com_negative_sum_ls, label = 'mean vs com')\n",
    "plt.legend()"
   ]
  },
  {
   "cell_type": "code",
   "execution_count": null,
   "id": "3e13e45d",
   "metadata": {},
   "outputs": [],
   "source": [
    "plt.figure()\n",
    "# plt.scatter(negative_sums, sum_negative_sum_ls, label = 'sum')\n",
    "# plt.scatter(negative_sums, com_negative_sum_ls, label = 'com')\n",
    "plt.scatter(wf_sum_dict[ch_x], com_dict[ch_x], label = 'sum vs com')\n",
    "plt.xlim(-1e4, 1.5e4)\n",
    "plt.ylim(-7e3, 1.5e4)\n",
    "plt.legend()"
   ]
  },
  {
   "cell_type": "code",
   "execution_count": null,
   "id": "1f779406",
   "metadata": {},
   "outputs": [],
   "source": [
    "mean_com_condition = []\n",
    "for an_event_id, wf_sum_x in enumerate(wf_sum_dict[ch_x]):\n",
    "    if wf_sum_x > 0 and com_dict[ch_x][an_event_id] < 0:\n",
    "        # print(wf_sum_x)\n",
    "        # print(an_event_id)\n",
    "        mean_com_condition.append(an_event_id)"
   ]
  },
  {
   "cell_type": "code",
   "execution_count": null,
   "id": "b16793f8",
   "metadata": {},
   "outputs": [],
   "source": [
    "len(mean_com_condition)"
   ]
  },
  {
   "cell_type": "code",
   "execution_count": null,
   "id": "09631649",
   "metadata": {},
   "outputs": [],
   "source": [
    "fig_1, ax_1 = plt.subplots(3, 1, figsize=(10,8))\n",
    "for ch_id in range(3):\n",
    "    ax_1[ch_id].plot(wfs[mean_com_condition[70]][ch_id], color=f'C{ch_id}')"
   ]
  },
  {
   "cell_type": "markdown",
   "id": "64a0e3f5",
   "metadata": {},
   "source": [
    "### 4.3.4. <a id='toc4_3_4_'></a>[Repetitive pattern seen in ch-2 data](#toc0_)"
   ]
  },
  {
   "cell_type": "markdown",
   "id": "ad0dfcd6",
   "metadata": {},
   "source": [
    "Fourier Transform"
   ]
  },
  {
   "cell_type": "code",
   "execution_count": null,
   "id": "b9c131d4",
   "metadata": {},
   "outputs": [],
   "source": [
    "# # event_id = 49998\n",
    "# event_id = 20_000\n",
    "# plt.figure()\n",
    "# for ch in range(3):\n",
    "#     plt.plot(wfs[event_id][ch], label=f'{ch}')\n",
    "# plt.legend()\n",
    "# plt.grid()"
   ]
  },
  {
   "cell_type": "markdown",
   "id": "c45948fe",
   "metadata": {},
   "source": [
    "#### 4.3.4.1. <a id='toc4_3_4_1_'></a>[Fourier Transform](#toc0_)"
   ]
  },
  {
   "cell_type": "code",
   "execution_count": null,
   "id": "e9f5ccf5",
   "metadata": {},
   "outputs": [],
   "source": [
    "ft_1 = np.fft.fft(wfs[25129][1])\n",
    "    001, ax_001 = plt.subplots(1, 2, figsize=(10, 5))\n",
    "ax_001[0].set_title('hist FT of 1')\n",
    "ax_001[0].hist(ft_1.real, bins=100);\n",
    "ax_001[1].hist(wfs[25129][1], bins=100);"
   ]
  },
  {
   "cell_type": "code",
   "execution_count": null,
   "id": "1d85742e",
   "metadata": {},
   "outputs": [],
   "source": [
    "ft_2 = np.fft.fft(wfs[25129][2])\n",
    "fig_002, ax_002 = plt.subplots(1, 2, figsize=(10, 5))\n",
    "ax_002[0].set_title('hist FT of 2')\n",
    "ax_002[0].hist(ft_2.real, bins=100);\n",
    "ax_002[1].hist(wfs[25129][2], bins=100);"
   ]
  },
  {
   "cell_type": "markdown",
   "id": "6e52a322",
   "metadata": {},
   "source": [
    "## 4.4. <a id='toc4_4_'></a>[simultaneity of pulses](#toc0_)"
   ]
  },
  {
   "cell_type": "code",
   "execution_count": null,
   "id": "e061d358",
   "metadata": {},
   "outputs": [],
   "source": [
    "def pulse_difference(event_x, use_flt_wf:bool):\n",
    "    if not use_flt_wf:\n",
    "        # window_range = np.arange(350, 500)\n",
    "        window_range = np.arange(350, 4000)\n",
    "        peaks0 =find_peaks(wfs[event_x][0][window_range])\n",
    "        peaks1 =find_peaks(wfs[event_x][1][window_range])\n",
    "        peaks2 =find_peaks(wfs[event_x][2][window_range])\n",
    "        mp0 = np.argmax(wfs[event_x][0][window_range][peaks0[0]])\n",
    "        mp1 = np.argmax(wfs[event_x][1][window_range][peaks1[0]])\n",
    "        mp2 = np.argmax(wfs[event_x][2][window_range][peaks2[0]])\n",
    "        sample_mp0 = wfs[event_x][0][window_range][peaks0[0]][mp0]\n",
    "        # sample_mp1 = window_range[peaks1[0]][mp1]\n",
    "        # sample_mp2 = window_range[peaks2[0]][mp2]\n",
    "\n",
    "    if use_flt_wf:\n",
    "        # window_range = np.arange(350, 500)\n",
    "        window_range = np.arange(350, 4000)\n",
    "        peaks0 =find_peaks(flt_dict[0][event_x][window_range]) # TODO: better code\n",
    "        peaks1 =find_peaks(flt_dict[1][event_x][window_range]) # same\n",
    "        peaks2 =find_peaks(flt_dict[2][event_x][window_range]) # same\n",
    "        mp0 = np.argmax(flt_dict[0][event_x][window_range][peaks0[0]])\n",
    "        mp1 = np.argmax(flt_dict[1][event_x][window_range][peaks1[0]])\n",
    "        mp2 = np.argmax(flt_dict[2][event_x][window_range][peaks2[0]])\n",
    "        sample_mp0 = flt_dict[0][event_x][window_range][peaks0[0]][mp0]\n",
    "    \n",
    "    sample_mp1 = window_range[peaks1[0]][mp1]\n",
    "    sample_mp2 = window_range[peaks2[0]][mp2]\n",
    "    # ax_222[1].scatter(window_range[peaks0[0][mp0]], wf_ar[0][window_range][peaks0[0][mp0]], s=2000., marker ='|', color='blue')\n",
    "    # ax_222[1].scatter(window_range[peaks1[0][mp1]], wf_ar[1][window_range][peaks1[0][mp1]], s=2000., marker ='|', color='orange')\n",
    "    # ax_222[1].scatter(window_range[peaks2[0][mp2]], wf_ar[2][window_range][peaks2[0][mp2]], s=2000., marker ='|', color='green')\n",
    "\n",
    "    return abs(sample_mp1 - sample_mp2)"
   ]
  },
  {
   "cell_type": "code",
   "execution_count": null,
   "id": "cfae4975",
   "metadata": {},
   "outputs": [],
   "source": [
    "def create_flt_wfs(wfs):\n",
    "    flt_dict = {0: [], \n",
    "                1: [],\n",
    "                2: []}\n",
    "    for og_wf in wfs:\n",
    "        flt_wf = perform_arma(og_wf)\n",
    "        for ch_id in range(3):\n",
    "            flt_dict[ch_id].append(flt_wf[ch_id])\n",
    "    return flt_dict\n",
    "\n",
    "flt_dict = create_flt_wfs(wfs)"
   ]
  },
  {
   "cell_type": "markdown",
   "id": "c061d1b2",
   "metadata": {},
   "source": [
    "### 4.4.1. <a id='toc4_4_1_'></a>[Create Pulse difference Distribution](#toc0_)"
   ]
  },
  {
   "cell_type": "code",
   "execution_count": null,
   "id": "4bb3e071",
   "metadata": {},
   "outputs": [],
   "source": [
    "pulse_difference_ls = []\n",
    "for event_id in range(wfs.shape[0]):\n",
    "    pulse_difference_ls.append( pulse_difference(event_id, use_flt_wf=True) )"
   ]
  },
  {
   "cell_type": "code",
   "execution_count": null,
   "id": "6445f459",
   "metadata": {},
   "outputs": [],
   "source": [
    "fig_226, ax_226 = plt.subplots(1, figsize = (10, 8))\n",
    "fig_226.suptitle('Histogram of Pulse differnce between channel 1 and channel 2')\n",
    "ax_226.hist(pulse_difference_ls, bins=np.arange(0, 2500, 5),\n",
    "            color=f'C0', label='channels 1 & 2');\n",
    "ax_226.axvline(x = 40, linestyle='--', color='red')\n",
    "ax_226.set_yscale('log')\n",
    "ax_226.set_xlabel('pulse maxima difference in bin units')"
   ]
  },
  {
   "cell_type": "code",
   "execution_count": null,
   "id": "3cf821c1",
   "metadata": {},
   "outputs": [],
   "source": [
    "type(fig_226)"
   ]
  },
  {
   "cell_type": "code",
   "execution_count": null,
   "id": "957f62c2",
   "metadata": {},
   "outputs": [],
   "source": [
    "counter_tk = 0"
   ]
  },
  {
   "cell_type": "code",
   "execution_count": null,
   "id": "df32c7ab",
   "metadata": {},
   "outputs": [],
   "source": [
    "event_id = event_Fail_array[counter_tk] #66 # 16000\n",
    "wf_ar = perform_arma( wfs[event_id])\n",
    "# window_range = np.arange(350, 500)\n",
    "# window_range = np.arange(350, 4000)\n",
    "window_range = np.arange(0, 4000)\n",
    "fig_222, ax_222 = plt.subplots(2, 1, figsize=(10, 8))\n",
    "ax_222[0].plot(window_range, wfs[event_id][0][window_range], alpha=0.5, label = '0')\n",
    "ax_222[0].plot(window_range, wfs[event_id][1][window_range], alpha=0.5, label = '1')\n",
    "ax_222[0].plot(window_range, wfs[event_id][2][window_range], alpha=0.5, label = '2')\n",
    "ax_222[1].plot(window_range, wf_ar[0][window_range], alpha=0.5, label = '0')\n",
    "ax_222[1].plot(window_range, wf_ar[1][window_range], alpha=0.5, label = '1')\n",
    "ax_222[1].plot(window_range, wf_ar[2][window_range], alpha=0.5, label = '2')\n",
    "ax_222[0].legend()\n",
    "ax_222[1].legend()\n",
    "ax_222[0].grid()\n",
    "ax_222[1].grid()\n",
    "ax_222[0].set_title('original wf')\n",
    "ax_222[1].set_title('filtered wf')\n",
    "# ax_222[0].set_xlim(0, 350)\n",
    "# ax_222[1].set_xlim(0, 350)\n",
    "counter_tk += 100\n",
    "fig_222.suptitle(f'peaks for {event_id}')\n",
    "print('AR pulse difference:', pulse_difference(event_id, True))"
   ]
  },
  {
   "cell_type": "code",
   "execution_count": null,
   "id": "b10e63ad",
   "metadata": {},
   "outputs": [],
   "source": [
    "event_id"
   ]
  },
  {
   "cell_type": "code",
   "execution_count": null,
   "id": "a63346e0",
   "metadata": {},
   "outputs": [],
   "source": [
    "peaks0 =find_peaks(wf_ar[0][window_range])\n",
    "peaks1 =find_peaks(wf_ar[1][window_range])\n",
    "peaks2 =find_peaks(wf_ar[2][window_range])"
   ]
  },
  {
   "cell_type": "code",
   "execution_count": null,
   "id": "d7328039",
   "metadata": {},
   "outputs": [],
   "source": [
    "# ax_222[1].scatter(window_range[peaks0[0]], wf_ar[0][window_range][peaks0[0]], s=None, marker ='o', color='red')\n",
    "# ax_222[1].scatter(window_range[peaks1[0]], wf_ar[1][window_range][peaks1[0]], s=None, marker ='+', color='purple')\n",
    "# ax_222[1].scatter(window_range[peaks2[0]], wf_ar[2][window_range][peaks2[0]], s=None, marker ='*', color='magenta')"
   ]
  },
  {
   "cell_type": "code",
   "execution_count": null,
   "id": "95d97fc4",
   "metadata": {},
   "outputs": [],
   "source": [
    "mp0 = np.argmax(wf_ar[0][window_range][peaks0[0]])\n",
    "mp1 = np.argmax(wf_ar[1][window_range][peaks1[0]])\n",
    "mp2 = np.argmax(wf_ar[2][window_range][peaks2[0]])"
   ]
  },
  {
   "cell_type": "code",
   "execution_count": null,
   "id": "30059dd7",
   "metadata": {},
   "outputs": [],
   "source": []
  },
  {
   "cell_type": "code",
   "execution_count": null,
   "id": "8ed162b8",
   "metadata": {},
   "outputs": [],
   "source": [
    "pulse_difference(event_id, False)"
   ]
  },
  {
   "cell_type": "code",
   "execution_count": null,
   "id": "4a6c4668",
   "metadata": {},
   "outputs": [],
   "source": [
    "pulse_difference(event_id, True) # ar-161 wf-405 is too much"
   ]
  },
  {
   "cell_type": "code",
   "execution_count": null,
   "id": "302da2b1",
   "metadata": {},
   "outputs": [],
   "source": [
    "np.sum(wfs[event_id][0][:350])"
   ]
  },
  {
   "cell_type": "code",
   "execution_count": null,
   "id": "f90ce063",
   "metadata": {},
   "outputs": [],
   "source": [
    "# pretrigger_sum_post_cut_ls = []\n",
    "# for event_id in range(wfs.shape[0]):\n",
    "#     if np.sum(wfs[event_id][ch_x][:350]) <= 20000:\n",
    "#         if pulse_difference(event_id) <= 40:\n",
    "#             pretrigger_sum_post_cut_ls.append(np.sum(wfs[event_id][ch_x][:350]))"
   ]
  },
  {
   "cell_type": "code",
   "execution_count": null,
   "id": "950c9a71",
   "metadata": {},
   "outputs": [],
   "source": [
    "# plt.figure()\n",
    "# plt.hist(pretrigger_sum_post_cut_ls, bins = np.arange(-6000, 20000, 200));\n",
    "# # plt.hist(pretrigger_sum_ls, bins = np.arange(0, 2_000, 100));\n",
    "# plt.title('Histogram pretrigger sum post cut')\n",
    "# plt.yscale('log')"
   ]
  },
  {
   "cell_type": "code",
   "execution_count": null,
   "id": "52efb9ed",
   "metadata": {},
   "outputs": [],
   "source": [
    "# len(pretrigger_sum_post_cut_ls)"
   ]
  },
  {
   "cell_type": "markdown",
   "id": "c1f8b616",
   "metadata": {},
   "source": [
    "## 4.5. <a id='toc4_5_'></a>[Center of Mass for waveforms](#toc0_)"
   ]
  },
  {
   "cell_type": "code",
   "execution_count": null,
   "id": "525dc875",
   "metadata": {},
   "outputs": [],
   "source": [
    "# event_id = 49998\n",
    "# event_id = 25129 # 500\n",
    "# wfs[event_id][2]\n",
    "event_id = 276\n",
    "# event_id = 278\n",
    "\n",
    "com_array = np.divide(np.sum(np.multiply(wfs[event_id], np.arange(wfs[event_id].shape[1])), axis=1), \n",
    "                      np.sum(wfs[event_id], axis=1)\n",
    "                    )\n",
    "plt.figure()\n",
    "plt.plot(wfs[event_id][0], color='blue', alpha=0.2 , label=f'{0}')\n",
    "plt.plot(wfs[event_id][1], color='orange', alpha=0.2, label=f'{1}')\n",
    "plt.plot(wfs[event_id][2], color='green', alpha=0.2 , label=f'{2}')\n",
    "for ch_id in range(3):\n",
    "    plt.scatter(com_array[ch_id], np.mean(wfs[event_id], axis=1)[ch_id], marker = '*', label = f'com :{ch_id}')\n",
    "plt.legend()\n",
    "plt.grid()\n",
    "plt.title('Center of Mass approach')"
   ]
  },
  {
   "cell_type": "code",
   "execution_count": null,
   "id": "b5ca2a4a",
   "metadata": {},
   "outputs": [],
   "source": [
    "def calculate_com(event_id):\n",
    "    event_com = np.divide(np.sum(np.multiply(wfs[event_id], np.arange(wfs[event_id].shape[1])), axis=1), \n",
    "                      np.sum(wfs[event_id], axis=1)\n",
    "                )\n",
    "    return event_com"
   ]
  },
  {
   "cell_type": "code",
   "execution_count": null,
   "id": "6b61230d",
   "metadata": {},
   "outputs": [],
   "source": [
    "com_dict = {0: [],\n",
    "            1: [],\n",
    "            2: []\n",
    "            }\n",
    "for event_id in range(wfs.shape[0]):\n",
    "    com_arr = calculate_com(event_id)\n",
    "    com_dict[0].append(com_arr[0])\n",
    "    com_dict[1].append(com_arr[1])\n",
    "    com_dict[2].append(com_arr[2])\n",
    "del com_arr"
   ]
  },
  {
   "cell_type": "code",
   "execution_count": null,
   "id": "d8e8e908",
   "metadata": {},
   "outputs": [],
   "source": [
    "hist_features = {\n",
    "    0: [],\n",
    "    1: [],\n",
    "    2: [],\n",
    "}\n",
    "\n",
    "fig_223, ax_223 = plt.subplots( 3, 1, figsize=(10, 8), sharex=True, sharey = True)\n",
    "for ch_id in range(3):\n",
    "    hist_features[ch_id] = ( ax_223[ch_id].hist(com_dict[ch_id], bins=np.arange(-5_000, 5_000, 25), \n",
    "                        color=f'C{ch_id}', label = f'{ch_id}')\n",
    "    )\n",
    "    ax_223[ch_id].legend()\n",
    "    ax_223[ch_id].grid()\n",
    "plt.subplots_adjust(wspace=0.025, hspace=0.025)\n",
    "fig_223.suptitle('hist of Center Of Mass')"
   ]
  },
  {
   "cell_type": "code",
   "execution_count": null,
   "id": "5ffd9d2e",
   "metadata": {},
   "outputs": [],
   "source": [
    "# above 1000 and greater than 1900\n",
    "# reject if com in three channels are not concurrent --> change approach"
   ]
  },
  {
   "cell_type": "code",
   "execution_count": null,
   "id": "32e74e4e",
   "metadata": {},
   "outputs": [],
   "source": [
    "def red_chisq(f_obs, f_exp, fittedparameters):\n",
    "    chisqr = np.sum((f_obs - f_exp)**2 / f_exp)\n",
    "    ndf = f_obs.shape[0]\n",
    "    print('reducde chisqr:', chisqr/(ndf -fittedparameters.shape[0]), '\\n')\n",
    "    return chisqr/(ndf -fittedparameters.shape[0])"
   ]
  },
  {
   "cell_type": "code",
   "execution_count": null,
   "id": "81b55754",
   "metadata": {},
   "outputs": [],
   "source": [
    "def fit_com_peak(ch_id):\n",
    "    \n",
    "    def f_gauss(x, f_mean, f_sigma, f_k):\n",
    "        return f_k*(1/(f_sigma*np.sqrt(2*np.pi)))*np.exp(-0.5*((x-f_mean)/f_sigma)**2)\n",
    "    \n",
    "    hist_content, hist_edges, histObjects = hist_features[ch_id]\n",
    "    # x_range = np.arange(235, 270)\n",
    "    x_range = np.arange(239, 268)\n",
    "\n",
    "    p0_input = [1270, 208, 1e6]\n",
    "    # x_range = np.arange(220, 281)\n",
    "\n",
    "    fitted_parameters, pcov = curve_fit(f_gauss, \n",
    "                                # hist_edges[:-1], hist_content,\n",
    "                                hist_edges[x_range], hist_content[x_range], \\\n",
    "                                p0 = p0_input,\n",
    "                                # bounds = bounds_input,\n",
    "                                # sigma = np.sqrt(hist_content[x_range]),\n",
    "                                # absolute_sigma=True,\n",
    "                                )\n",
    "\n",
    "    red_chisqr_value = red_chisq(hist_content[x_range], \\\n",
    "        f_gauss(hist_edges[x_range], *fitted_parameters), fitted_parameters\n",
    "        )\n",
    "\n",
    "    ax_223[ch_id].plot(hist_edges[x_range], f_gauss(hist_edges[x_range], *fitted_parameters), label='fit', color='red')\n",
    "    ax_223[ch_id].legend()\n",
    "\n",
    "\n",
    "    print(f'red_chisqr_value: {red_chisqr_value}')\n",
    "    print(f'fitted_parameters for {ch_id}: {fitted_parameters}')\n",
    "    print('\\n')\n",
    "    return fitted_parameters[0], fitted_parameters[1]"
   ]
  },
  {
   "cell_type": "code",
   "execution_count": null,
   "id": "aa09c8b8",
   "metadata": {},
   "outputs": [],
   "source": [
    "# com_mean_arr = {\n",
    "#     0:0,\n",
    "#     1:1,\n",
    "#     2:2\n",
    "# }\n",
    "\n",
    "# com_std_arr = {\n",
    "#     0:0,\n",
    "#     1:1,\n",
    "#     2:2\n",
    "# }\n",
    "\n",
    "com_mean_arr = np.zeros([3,])\n",
    "com_std_arr = np.zeros([3,])\n",
    "for ch_id in range(3):\n",
    "    com_mean_arr[ch_id], com_std_arr[ch_id] = fit_com_peak(ch_id)"
   ]
  },
  {
   "cell_type": "code",
   "execution_count": null,
   "id": "6d1de756",
   "metadata": {},
   "outputs": [],
   "source": [
    "del hist_features"
   ]
  },
  {
   "cell_type": "code",
   "execution_count": null,
   "id": "cde631f9",
   "metadata": {},
   "outputs": [],
   "source": [
    "com_mean_arr"
   ]
  },
  {
   "cell_type": "code",
   "execution_count": null,
   "id": "50350599",
   "metadata": {},
   "outputs": [],
   "source": [
    "com_std_arr"
   ]
  },
  {
   "cell_type": "markdown",
   "id": "caec7423",
   "metadata": {},
   "source": [
    "## 4.6. <a id='toc4_6_'></a>[full waveform sum](#toc0_)"
   ]
  },
  {
   "cell_type": "code",
   "execution_count": null,
   "id": "91af4374",
   "metadata": {},
   "outputs": [],
   "source": [
    "wf_sum_ls = []\n",
    "for event_id in range(wfs.shape[0]):\n",
    "# for event_id in range(1000):\n",
    "    wf_sum_ls.append(np.sum(wfs[event_id][ch_x]))"
   ]
  },
  {
   "cell_type": "code",
   "execution_count": null,
   "id": "f3f9c86b",
   "metadata": {},
   "outputs": [],
   "source": [
    "plt.figure()\n",
    "plt.hist(wf_sum_ls, bins=500, label = 'Channel 0')\n",
    "plt.legend()\n",
    "plt.grid()\n",
    "plt.title(f'hist of waveform sum')\n",
    "plt.yscale('log')"
   ]
  },
  {
   "cell_type": "code",
   "execution_count": null,
   "id": "fd70f888",
   "metadata": {},
   "outputs": [],
   "source": [
    "pretrigger_sum = {\n",
    "    0: [],\n",
    "    1: [],\n",
    "    2: []\n",
    "}\n",
    "wf_sum_ls = []\n",
    "com_dict = {0: [],\n",
    "            1: [],\n",
    "            2: []\n",
    "            }\n",
    "\n",
    "for event_id in range(wfs.shape[0]):\n",
    "    pretrigger_sum[1].append( np.sum(wfs[event_id][1][:350]) )\n",
    "    pretrigger_sum[2].append( np.sum(wfs[event_id][2][:350]) )\n",
    "    pretrigger_sum[0].append( np.sum(wfs[event_id][0][:350]) )\n",
    "    wf_sum_ls.append( np.sum(wfs[event_id], axis=1) )\n",
    "    com_arr = calculate_com(event_id)\n",
    "    com_dict[0].append(com_arr[0])\n",
    "    com_dict[1].append(com_arr[1])\n",
    "    com_dict[2].append(com_arr[2])"
   ]
  },
  {
   "cell_type": "code",
   "execution_count": null,
   "id": "1ddceb48",
   "metadata": {},
   "outputs": [],
   "source": [
    "del com_arr"
   ]
  },
  {
   "cell_type": "markdown",
   "id": "1d4da566",
   "metadata": {},
   "source": [
    "## 4.7. <a id='toc4_7_'></a>[Cuts](#toc0_)"
   ]
  },
  {
   "cell_type": "code",
   "execution_count": null,
   "id": "1bc08f8f",
   "metadata": {},
   "outputs": [],
   "source": [
    "### cuts\n",
    "### with cut efficieincy\n",
    "\n",
    "com_threshold = 300\n",
    "ch_x = 1\n",
    "com_below_xsigma = com_mean_arr - 2*com_std_arr\n",
    "com_above_xsigma = com_mean_arr + 2*com_std_arr\n",
    "wf_sum_post_1_cut_ls = []\n",
    "wf_sum_post_2_cut_ls = []\n",
    "wf_sum_post_3_cut_ls = []\n",
    "com_post_cut_dict = {0: [],\n",
    "            1: [],\n",
    "            2: []\n",
    "            }\n",
    "event_list_post_cut = []\n",
    "wf_sum_post_cut_ls = []\n",
    "\n",
    "for event_id in range(wfs.shape[0]):\n",
    "    if pretrigger_sum[0][event_id] <= 4000: # 1st cut: pretrigger sum\n",
    "        wf_sum_post_1_cut_ls.append(wf_sum_ls[event_id][0])\n",
    "        if pulse_difference(event_id) <= 40: # 2nd cut: simultaneity of pulses\n",
    "        # if True:\n",
    "            wf_sum_post_2_cut_ls.append(wf_sum_ls[event_id][0])\n",
    "            # if (np.abs(com_dict[0][event_id] - com_dict[1][event_id]) <= com_threshold) and (np.abs(com_dict[2][event_id] - com_dict[1][event_id]) <= com_threshold): # 3rd cut: concurrence of COM\n",
    "            if (com_dict[ch_x][event_id] <= com_above_xsigma)[ch_x] and (com_dict[ch_x][event_id] >= com_below_xsigma[ch_x]): # 3rd cut: distance from mean COM\n",
    "                wf_sum_post_3_cut_ls.append(wf_sum_ls[event_id][0])\n",
    "                event_list_post_cut.append(event_id)\n",
    "                wf_sum_post_cut_ls.append(np.sum(wfs[event_id][ch_x]))\n",
    "                com_post_cut_dict[0].append(com_dict[0][event_id])\n",
    "                com_post_cut_dict[1].append(com_dict[1][event_id])\n",
    "                com_post_cut_dict[2].append(com_dict[2][event_id])"
   ]
  },
  {
   "cell_type": "code",
   "execution_count": null,
   "id": "bf34146b",
   "metadata": {},
   "outputs": [],
   "source": [
    "com_mean_arr - 1*com_std_arr"
   ]
  },
  {
   "cell_type": "code",
   "execution_count": null,
   "id": "cdeadd80",
   "metadata": {},
   "outputs": [],
   "source": [
    "com_mean_arr + 1*com_std_arr"
   ]
  },
  {
   "cell_type": "code",
   "execution_count": null,
   "id": "a99f7066",
   "metadata": {},
   "outputs": [],
   "source": [
    "# hist_plot_range = (-6000, 0.5e6)\n",
    "# hist_plot_range = (1e6, 1e7)\n",
    "hist_plot_range = (0e6, 7.5e6)\n",
    "\n",
    "fig_225, ax_225 = plt.subplots( 4, 1, figsize=(10, 8), sharex=True, sharey = False)\n",
    "\n",
    "bin_content_1, bin_edges, _PlotsObjects = ax_225[0].hist(wf_sum_post_1_cut_ls, bins=500, range = hist_plot_range, label = '1st cut [Channel 0]')\n",
    "bin_content_2, bin_edges, _PlotsObjects  = ax_225[1].hist(wf_sum_post_2_cut_ls, bins=bin_edges, label = '2nd cut [Channel 0]')\n",
    "bin_content_3, bin_edges, _PlotsObjects  = ax_225[2].hist(wf_sum_post_3_cut_ls, bins=bin_edges, label = '3rd cut [Channel 0]')\n",
    "\n",
    "plt.subplots_adjust(wspace=0.025, hspace=0.025)\n",
    "fig_225.suptitle('successive cuts')\n",
    "for subplot_id in range(3):\n",
    "    ax_225[subplot_id].legend()\n",
    "    ax_225[subplot_id].grid()\n",
    "eff_2_1 = np.divide(bin_content_2, bin_content_1, out=np.zeros_like(bin_content_2), where=bin_content_1!=0)\n",
    "ax_225[3].plot(bin_edges[:-1], eff_2_1, alpha=0.5, color='red', label = 'cut_2/cut_1')\n",
    "eff_3_2 = np.divide(bin_content_3, bin_content_2, out=np.zeros_like(bin_content_3), where=bin_content_2!=0)\n",
    "ax_225[3].plot(bin_edges[:-1], eff_3_2, alpha=0.5, color='magenta', label = 'cut_3/cut_2')\n",
    "\n",
    "ax_225[3].legend()\n",
    "# ax_225[3].set_yscale('log')\n",
    "# ax_225[3].set_yscale('linear')\n",
    "ax_225[0].set_ylabel('counts')\n",
    "ax_225[1].set_ylabel('counts')\n",
    "ax_225[2].set_ylabel('counts')\n",
    "ax_225[3].set_ylabel('ratio')\n",
    "ax_225[3].set_xlabel('wf sum bin')"
   ]
  },
  {
   "cell_type": "code",
   "execution_count": null,
   "id": "d617d44e",
   "metadata": {},
   "outputs": [],
   "source": [
    "# plt.savefig()\n",
    "# fig_225.savefig('successive_cuts.pdf')\n",
    "# plt.close(fig_225)"
   ]
  },
  {
   "cell_type": "code",
   "execution_count": null,
   "id": "b30b8292",
   "metadata": {},
   "outputs": [],
   "source": [
    "# del event_list_post_cut, wf_sum_post_1_cut_ls, wf_sum_post_2_cut_ls, wf_sum_post_3_cut_ls"
   ]
  },
  {
   "cell_type": "code",
   "execution_count": null,
   "id": "4fd9e506",
   "metadata": {},
   "outputs": [],
   "source": [
    "len(wf_sum_post_1_cut_ls)"
   ]
  },
  {
   "cell_type": "code",
   "execution_count": null,
   "id": "01d81c49",
   "metadata": {},
   "outputs": [],
   "source": [
    "len(wf_sum_post_2_cut_ls)"
   ]
  },
  {
   "cell_type": "code",
   "execution_count": null,
   "id": "a0aa9e88",
   "metadata": {},
   "outputs": [],
   "source": [
    "len(wf_sum_post_3_cut_ls)"
   ]
  },
  {
   "cell_type": "code",
   "execution_count": null,
   "id": "ce710309",
   "metadata": {},
   "outputs": [],
   "source": [
    "# ### for preservation\n",
    "# # wf_sum_post_cut_ls = []\n",
    "# # event_list_post_cut = []\n",
    "# # com_threshold = 1500\n",
    "\n",
    "# com_post_cut_dict = {0: [],\n",
    "#             1: [],\n",
    "#             2: []\n",
    "#             }\n",
    "\n",
    "# for event_id in range(wfs.shape[0]):\n",
    "#     # if pretrigger_sum_ls[event_id] <= 4000:\n",
    "#     if pretrigger_sum_ls[event_id] <= 20000: # 1st cut: pretrigger sum\n",
    "#         if pulse_difference(event_id) <= 40: # 2nd cut: simultaneity  \n",
    "#             com_arr = calculate_com(event_id)\n",
    "#             # if (np.abs(com_arr[0] - com_arr[1]) <= com_threshold) and (np.abs(com_arr[2] - com_arr[1]) <= com_threshold): # 3rd cut: concurrence of COM\n",
    "#             if (com_dict[ch_x][event_id] <= com_above_xsigma)[ch_x] and (com_dict[ch_x][event_id] >= com_below_xsigma[ch_x]): # 3rd cut: distance from mean COM\n",
    "#                 event_list_post_cut.append(event_id)\n",
    "#                 wf_sum_post_cut_ls.append(np.sum(wfs[event_id][ch_x]))\n",
    "#                 com_post_cut_dict[0].append(com_arr[0])\n",
    "#                 com_post_cut_dict[1].append(com_arr[1])\n",
    "#                 com_post_cut_dict[2].append(com_arr[2])"
   ]
  },
  {
   "cell_type": "code",
   "execution_count": null,
   "id": "0f07c428",
   "metadata": {},
   "outputs": [],
   "source": [
    "com_post_cut_dict[0]"
   ]
  },
  {
   "cell_type": "code",
   "execution_count": null,
   "id": "b2a88463",
   "metadata": {},
   "outputs": [],
   "source": [
    "fig_224, ax_224 = plt.subplots( 3, 1, figsize=(10, 8), sharex=True, sharey = True)\n",
    "for ch_id in range(3):\n",
    "    ax_224[ch_id].hist(com_post_cut_dict[ch_id], bins=np.arange(-5_000, 5_000, 25), \n",
    "                        color=f'C{ch_id}', label = f'{ch_id}')    \n",
    "    ax_224[ch_id].legend()\n",
    "    ax_224[ch_id].grid()\n",
    "plt.subplots_adjust(wspace=0.025, hspace=0.025)\n",
    "fig_224.suptitle('hist of Center Of Mass post cuts')"
   ]
  },
  {
   "cell_type": "code",
   "execution_count": null,
   "id": "5f753bd9",
   "metadata": {},
   "outputs": [],
   "source": [
    "len(com_post_cut_dict[0])"
   ]
  },
  {
   "cell_type": "code",
   "execution_count": null,
   "id": "dffabe5a",
   "metadata": {},
   "outputs": [],
   "source": [
    "plt.figure()\n",
    "plt.hist(wf_sum_post_cut_ls, bins=500, range = (-27e3, 2.75e6), label = 'Channel 0')\n",
    "plt.legend()\n",
    "plt.grid()\n",
    "plt.title(f'hist of waveform sum post 3 cuts')\n",
    "plt.yscale('log')"
   ]
  },
  {
   "cell_type": "code",
   "execution_count": null,
   "id": "3be44d33",
   "metadata": {},
   "outputs": [],
   "source": [
    "sys.exit()"
   ]
  },
  {
   "cell_type": "code",
   "execution_count": null,
   "id": "4cb364ff",
   "metadata": {},
   "outputs": [],
   "source": [
    "# len(wf_sum_post_cut_ls)"
   ]
  },
  {
   "cell_type": "code",
   "execution_count": null,
   "id": "0368ca6d",
   "metadata": {},
   "outputs": [],
   "source": [
    "# 500 in event_list_post_cut"
   ]
  },
  {
   "cell_type": "code",
   "execution_count": null,
   "id": "64487573",
   "metadata": {},
   "outputs": [],
   "source": [
    "# 34444 in event_list_post_cut"
   ]
  },
  {
   "cell_type": "code",
   "execution_count": null,
   "id": "0bde77dd",
   "metadata": {},
   "outputs": [],
   "source": [
    "# 25129 in event_list_post_cut"
   ]
  },
  {
   "cell_type": "code",
   "execution_count": null,
   "id": "c0b348ab",
   "metadata": {},
   "outputs": [],
   "source": [
    "# event_list_post_cut[-1::-1]"
   ]
  },
  {
   "cell_type": "code",
   "execution_count": null,
   "id": "0697a07a",
   "metadata": {},
   "outputs": [],
   "source": [
    "50000 in event_list_post_cut"
   ]
  },
  {
   "cell_type": "code",
   "execution_count": null,
   "id": "e9096c56",
   "metadata": {},
   "outputs": [],
   "source": [
    "len(wf_sum_post_cut_ls)"
   ]
  },
  {
   "cell_type": "code",
   "execution_count": null,
   "id": "5eda5208",
   "metadata": {},
   "outputs": [],
   "source": [
    "bad_event_ls = [49971, 43686, 25129, 34444, 25522, 39661, 49316, 29020, 35670, 35670, 49998]"
   ]
  },
  {
   "cell_type": "code",
   "execution_count": null,
   "id": "7565774a",
   "metadata": {},
   "outputs": [],
   "source": [
    "int_index = 0\n",
    "for be in bad_event_ls:\n",
    "    if  be in event_list_post_cut:\n",
    "        int_index += 1\n",
    "        print(f'Bad Event Count:{int_index}. Bad event id: {be}')"
   ]
  },
  {
   "cell_type": "code",
   "execution_count": null,
   "id": "ce865687",
   "metadata": {},
   "outputs": [],
   "source": [
    "perf_counter() - t0"
   ]
  },
  {
   "cell_type": "code",
   "execution_count": null,
   "id": "883ae414",
   "metadata": {},
   "outputs": [],
   "source": [
    "sys.exit()"
   ]
  },
  {
   "cell_type": "markdown",
   "id": "a6cee052",
   "metadata": {},
   "source": [
    "# 5. <a id='toc5_'></a>[Exploration](#toc0_)"
   ]
  },
  {
   "cell_type": "code",
   "execution_count": null,
   "id": "99da9c19",
   "metadata": {},
   "outputs": [],
   "source": [
    "wfs.shape"
   ]
  },
  {
   "cell_type": "code",
   "execution_count": null,
   "id": "e4a55854",
   "metadata": {},
   "outputs": [],
   "source": [
    "event_id = 45000"
   ]
  },
  {
   "cell_type": "code",
   "execution_count": null,
   "id": "d83795c7",
   "metadata": {},
   "outputs": [],
   "source": [
    "# for i in range(100_000):\n",
    "event_id += 1\n",
    "plooter(event_id, 0)"
   ]
  },
  {
   "cell_type": "code",
   "execution_count": null,
   "id": "7c3fd402",
   "metadata": {},
   "outputs": [],
   "source": [
    "event_id"
   ]
  },
  {
   "cell_type": "code",
   "execution_count": null,
   "id": "fc7b806f",
   "metadata": {},
   "outputs": [],
   "source": [
    "problem_array = np.load('../scripts/problem_event_169758.npy')\n",
    "sum_hist_content = np.load('../scripts/wf_sum_0_content.npy')\n",
    "sum_hist_edges = np.load('../scripts/wf_sum_0_edges.npy')"
   ]
  },
  {
   "cell_type": "code",
   "execution_count": null,
   "id": "10589c6b",
   "metadata": {},
   "outputs": [],
   "source": [
    "### events post selection cuts\n",
    "event_Pass_array = np.load('../output/event_PassList.npy')\n",
    "event_Fail_array = np.load('../output/event_FailList.npy')"
   ]
  },
  {
   "cell_type": "code",
   "execution_count": null,
   "id": "858a7244",
   "metadata": {},
   "outputs": [],
   "source": [
    "event_Pass_array.shape"
   ]
  },
  {
   "cell_type": "code",
   "execution_count": null,
   "id": "b79c99da",
   "metadata": {},
   "outputs": [],
   "source": [
    "event_Fail_array.shape"
   ]
  },
  {
   "cell_type": "code",
   "execution_count": null,
   "id": "302c7b81",
   "metadata": {},
   "outputs": [],
   "source": [
    "problem_array.shape"
   ]
  },
  {
   "cell_type": "code",
   "execution_count": null,
   "id": "430dc7f1",
   "metadata": {},
   "outputs": [],
   "source": [
    "plt.figure()\n",
    "plt.plot(problem_array, label='0')\n",
    "# plt.xlim(0, 500)\n",
    "plt.legend()"
   ]
  },
  {
   "cell_type": "code",
   "execution_count": null,
   "id": "17a992ae",
   "metadata": {},
   "outputs": [],
   "source": [
    "np.sum(problem_array[:350])"
   ]
  },
  {
   "cell_type": "code",
   "execution_count": null,
   "id": "222734e1",
   "metadata": {},
   "outputs": [],
   "source": [
    "plt.figure()\n",
    "plt.plot(sum_hist_edges[:-1], sum_hist_content)"
   ]
  },
  {
   "cell_type": "markdown",
   "id": "d72752db",
   "metadata": {},
   "source": [
    "# 6. <a id='toc6_'></a>[time constant](#toc0_)"
   ]
  },
  {
   "cell_type": "code",
   "execution_count": null,
   "id": "3c4da51a",
   "metadata": {},
   "outputs": [],
   "source": [
    "event_Pass_array = np.load('../output/00126_part_output/event_PassList.npy')"
   ]
  },
  {
   "cell_type": "code",
   "execution_count": null,
   "id": "2993e5fa",
   "metadata": {},
   "outputs": [],
   "source": [
    "# # summed_flt_wf_dict = {\n",
    "# stacked_flt_wf_dict = {\n",
    "# 0:np.zeros_like(wfs[0][0]),\n",
    "# 1:np.zeros_like(wfs[0][0]),\n",
    "# 2:np.zeros_like(wfs[0][0]),\n",
    "# }\n",
    "# for ch_id in range(3):\n",
    "#     # summed_flt_wf_dict[ch_id] = np.sum(np.array(flt_dict[ch_id]),axis=0)\n",
    "#     for event_id in event_Pass_array:\n",
    "#         stacked_flt_wf_dict[ch_id] += flt_dict[ch_id][event_id]"
   ]
  },
  {
   "cell_type": "code",
   "execution_count": null,
   "id": "eb0876eb",
   "metadata": {},
   "outputs": [],
   "source": [
    "# stacked_wf_dict = {\n",
    "#     0:np.zeros_like(wfs[0][0]),\n",
    "#     1:np.zeros_like(wfs[0][0]),\n",
    "#     2:np.zeros_like(wfs[0][0])\n",
    "# }\n",
    "# for ch_id in range(3):\n",
    "#     for event_id in range(wfs.shape[0]):\n",
    "#         stacked_wf_dict[ch_id] += wfs[event_id][ch_id]"
   ]
  },
  {
   "cell_type": "code",
   "execution_count": null,
   "id": "e6a2cd22",
   "metadata": {},
   "outputs": [],
   "source": [
    "stacked_flt_wf_dict = pickle.load(open('../output/00126_part_output/stacked_flt_wf_dict.pkl', 'rb'))"
   ]
  },
  {
   "cell_type": "code",
   "execution_count": null,
   "id": "f42271de",
   "metadata": {},
   "outputs": [],
   "source": [
    "# stacked_wf_dict = pickle.load(open('../output/00126_part_output/stacked_wf_dict.pkl', 'rb'))"
   ]
  },
  {
   "cell_type": "code",
   "execution_count": null,
   "id": "176dd4ee",
   "metadata": {},
   "outputs": [],
   "source": [
    "import latexify"
   ]
  },
  {
   "cell_type": "code",
   "execution_count": null,
   "id": "5fea3b77",
   "metadata": {},
   "outputs": [],
   "source": [
    "@latexify.function\n",
    "# def f1_func(x, a0, a1, a2, a3, a4):\n",
    "#     # x = x + 424\n",
    "#     a1 = 424\n",
    "#     return (a0/a2)*np.exp(-(x-a1)/a2) + (a3/a4)*np.exp(-(x-a1)/a4)\n",
    "def f1_func(x, a0, a2, a3, a4):\n",
    "    return (a0)*np.exp(-(x)/a2) + (a3)*np.exp(-(x)/a4)"
   ]
  },
  {
   "cell_type": "code",
   "execution_count": null,
   "id": "c3afbb50",
   "metadata": {},
   "outputs": [],
   "source": [
    "def red_chisq(f_obs, f_exp, fittedparameters):\n",
    "    chisqr = np.sum((f_obs - f_exp)**2 / f_exp)\n",
    "    ndf = f_obs.shape[0]\n",
    "    print('reducde chisqr:', chisqr/(ndf -fittedparameters.shape[0]), '\\n')\n",
    "    return chisqr/(ndf -fittedparameters.shape[0])"
   ]
  },
  {
   "cell_type": "code",
   "execution_count": null,
   "id": "e84b9eaf",
   "metadata": {},
   "outputs": [],
   "source": [
    "ch_id = 1\n",
    "# fit_begin, fit_end = (575, 1600) # 1100\n",
    "# # fit_begin, fit_end = (800, 2050)\n",
    "# # f1_range[fit_begin:fit_end]\n",
    "# bounds_input = ([10.0, 424., 0.0, 0.0, 0.0], [100_000, 425., 1_000.0, 5_000., 10_000.0]) ## ch1\n",
    "# p0_input = [10000, 3000, 5000, 100]\n",
    "def perform_fit():\n",
    "    fitted_parameters, pcov = curve_fit(f1_func,\n",
    "    # fitted_parameters, pcov = curve_fit(fit_f2, \n",
    "                                # f1_range[fit_begin:fit_end], stacked_flt_wf_dict[ch_id][f1_range][fit_begin:fit_end], \\\n",
    "                                f1_range[fit_begin:fit_end], shifted_wf[ch_id][f1_range][fit_begin:fit_end], \\\n",
    "                                p0 = p0_input,\n",
    "                                # bounds = bounds_input,\n",
    "                                # sigma = np.sqrt(hist_content[x_range]),\n",
    "                                # absolute_sigma=True,\n",
    "                                )\n",
    "    ax_227[1].plot(f1_range[fit_begin:fit_end], f1_func(f1_range[fit_begin:fit_end], *fitted_parameters), label='fit')\n",
    "    ax_227[1].legend()\n",
    "    red_chisq(shifted_wf[ch_id][f1_range][fit_begin:fit_end], \n",
    "          f1_func(f1_range[fit_begin:fit_end], *fitted_parameters), \n",
    "          fitted_parameters)\n",
    "    return fitted_parameters\n",
    "# fitted_parameters = perform_fit()\n",
    "# ax_227[1].set_yscale('log')"
   ]
  },
  {
   "cell_type": "code",
   "execution_count": null,
   "id": "1123f5ab",
   "metadata": {},
   "outputs": [],
   "source": [
    "# p0_input = [10000, 0, 3000, 5000, 100]\n",
    "# p0_input[1] = 4*np.argmax(stacked_flt_wf_dict[ch_id])\n",
    "# # # p0_input = [10000,0,3000, 5000, 100]\n",
    "# # # p0_input = [10000,425,3000]\n",
    "# # p0_input = [p0/4.0 for p0 in p0_input]\n",
    "# # p0_input[0] = 250*10**5\n",
    "# # p0_input[3] = 300*10**3"
   ]
  },
  {
   "cell_type": "code",
   "execution_count": null,
   "id": "cf54b7be",
   "metadata": {},
   "outputs": [],
   "source": [
    "# fitted_parameters"
   ]
  },
  {
   "cell_type": "code",
   "execution_count": null,
   "id": "12bfcd06",
   "metadata": {},
   "outputs": [],
   "source": [
    "f1_func"
   ]
  },
  {
   "cell_type": "code",
   "execution_count": null,
   "id": "3fc13f46",
   "metadata": {},
   "outputs": [],
   "source": [
    "# p0_input"
   ]
  },
  {
   "cell_type": "code",
   "execution_count": null,
   "id": "626389d7",
   "metadata": {},
   "outputs": [],
   "source": [
    "# bounds_input"
   ]
  },
  {
   "cell_type": "code",
   "execution_count": null,
   "id": "eb98de94",
   "metadata": {},
   "outputs": [],
   "source": [
    "# ax_227[1].plot(f1_range, f1_func(f1_range, *p0_input), label = 'function')\n",
    "# ax_227[1].legend()"
   ]
  },
  {
   "cell_type": "code",
   "execution_count": null,
   "id": "aa9a9865",
   "metadata": {},
   "outputs": [],
   "source": [
    "f1_range = np.arange(0, 3576)"
   ]
  },
  {
   "cell_type": "code",
   "execution_count": null,
   "id": "c2325569",
   "metadata": {},
   "outputs": [],
   "source": [
    "ch_id = 0\n",
    "fig_227, ax_227 = plt.subplots(2,1, figsize=(10,8))\n",
    "for ch_id in range(3):\n",
    "    ax_227[0].plot(stacked_flt_wf_dict[ch_id], label = f'{ch_id}') \n",
    "ax_227[0].legend()\n",
    "ax_227[0].set_title('stacked wf vs fit of selected events')\n",
    "ax_227[0].set_yscale('log')\n",
    "ax_227[0].grid()\n",
    "\n",
    "shifted_wf = {\n",
    "    0:0,\n",
    "    1:1,\n",
    "    2:2\n",
    "}\n",
    "for ch_id in range(3):\n",
    "    shifted_wf[ch_id] = stacked_flt_wf_dict[ch_id][0+424:4000+424]\n",
    "    ax_227[1].plot(shifted_wf[ch_id], label = f'{ch_id}')\n",
    "ax_227[1].set_title('shifted wf')\n",
    "ax_227[1].legend()\n",
    "ax_227[1].set_yscale('log')\n",
    "ax_227[1].grid()"
   ]
  },
  {
   "cell_type": "code",
   "execution_count": null,
   "id": "a5452be7",
   "metadata": {},
   "outputs": [],
   "source": [
    "ch_id = 0\n",
    "# fit_begin, fit_end = (40, 1250)\n",
    "# fit_begin, fit_end = (10, 500)\n",
    "fit_begin, fit_end = (550, 2050)\n",
    "# fit_begin, fit_end = (500, 1900)# ch1 chisqr=5.56\n",
    "\n",
    "bounds_input = ([1.0E3, 1E2, 1.0E3, 1E0], [1.0E09, 1.0E6, 1.0E09, 1.0E4]) ## ch1\n",
    "p0_input = [2500, 4000, 5000, 100]\n",
    "\n",
    "fitted_parameters, pcov = curve_fit(f1_func,\n",
    "                            f1_range[fit_begin:fit_end], shifted_wf[ch_id][f1_range][fit_begin:fit_end], \\\n",
    "                            p0 = p0_input,\n",
    "                            bounds = bounds_input,\n",
    "                            )\n",
    "ax_227[1].plot(f1_range[fit_begin:fit_end], f1_func(f1_range[fit_begin:fit_end], *fitted_parameters), label='fit')\n",
    "ax_227[1].legend()\n",
    "red_chisq(shifted_wf[ch_id][f1_range][fit_begin:fit_end], \n",
    "        f1_func(f1_range[fit_begin:fit_end], *fitted_parameters), \n",
    "        fitted_parameters)"
   ]
  },
  {
   "cell_type": "code",
   "execution_count": null,
   "id": "0720fd29",
   "metadata": {},
   "outputs": [],
   "source": [
    "ch_id"
   ]
  },
  {
   "cell_type": "code",
   "execution_count": null,
   "id": "8dc85f17",
   "metadata": {},
   "outputs": [],
   "source": [
    "fitted_parameters"
   ]
  },
  {
   "cell_type": "code",
   "execution_count": null,
   "id": "329a1504",
   "metadata": {},
   "outputs": [],
   "source": [
    "np.argmax(f1_func(f1_range, *p0_input))"
   ]
  },
  {
   "cell_type": "code",
   "execution_count": null,
   "id": "ea5ab742",
   "metadata": {},
   "outputs": [],
   "source": [
    "for i in range(3):\n",
    "    print(np.argmax(stacked_flt_wf_dict[i]))"
   ]
  },
  {
   "cell_type": "code",
   "execution_count": null,
   "id": "5d4267bb",
   "metadata": {},
   "outputs": [],
   "source": [
    "ch_id"
   ]
  },
  {
   "cell_type": "code",
   "execution_count": null,
   "id": "27ba671a",
   "metadata": {},
   "outputs": [],
   "source": [
    "###Todo: fit raw waveform"
   ]
  },
  {
   "cell_type": "code",
   "execution_count": null,
   "id": "8f0d8c8c",
   "metadata": {},
   "outputs": [],
   "source": [
    "ch_id =1\n",
    "ax_227[0].scatter(p0_input[1], stacked_flt_wf_dict[ch_id][int(p0_input[1])], s=200,marker='+', color='magenta')"
   ]
  },
  {
   "cell_type": "code",
   "execution_count": null,
   "id": "4da41547",
   "metadata": {},
   "outputs": [],
   "source": [
    "p0_input"
   ]
  },
  {
   "cell_type": "code",
   "execution_count": null,
   "id": "48373f92",
   "metadata": {},
   "outputs": [],
   "source": [
    "sys.exit()"
   ]
  },
  {
   "cell_type": "markdown",
   "id": "c10196e3",
   "metadata": {},
   "source": [
    "# 7. <a id='toc7_'></a>[Memory diagnostics](#toc0_)"
   ]
  },
  {
   "cell_type": "code",
   "execution_count": null,
   "id": "8a55a1a6",
   "metadata": {},
   "outputs": [],
   "source": [
    "# ## see memory usage\n",
    "!cat /proc/meminfo"
   ]
  },
  {
   "cell_type": "code",
   "execution_count": null,
   "id": "d5b7e985",
   "metadata": {},
   "outputs": [],
   "source": [
    "# event_catalogue.info(memory_usage='deep')"
   ]
  },
  {
   "cell_type": "code",
   "execution_count": null,
   "id": "e2387ddb",
   "metadata": {},
   "outputs": [],
   "source": [
    "# del event_catalogue"
   ]
  },
  {
   "cell_type": "code",
   "execution_count": null,
   "id": "96c7800d",
   "metadata": {},
   "outputs": [],
   "source": [
    "# !cat /proc/meminfo"
   ]
  },
  {
   "cell_type": "code",
   "execution_count": null,
   "id": "e54f1448",
   "metadata": {},
   "outputs": [],
   "source": [
    "# import gc\n",
    "# gc.isenabled()"
   ]
  },
  {
   "cell_type": "code",
   "execution_count": null,
   "id": "ff4d450b",
   "metadata": {},
   "outputs": [],
   "source": [
    "# gc.collect()"
   ]
  }
 ],
 "metadata": {
  "kernelspec": {
   "display_name": "jar",
   "language": "python",
   "name": "python3"
  },
  "language_info": {
   "codemirror_mode": {
    "name": "ipython",
    "version": 3
   },
   "file_extension": ".py",
   "mimetype": "text/x-python",
   "name": "python",
   "nbconvert_exporter": "python",
   "pygments_lexer": "ipython3",
   "version": "3.11.8"
  }
 },
 "nbformat": 4,
 "nbformat_minor": 5
}
