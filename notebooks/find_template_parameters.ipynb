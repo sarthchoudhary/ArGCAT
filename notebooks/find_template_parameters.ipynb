{
 "cells": [
  {
   "cell_type": "markdown",
   "id": "4f8fefc6",
   "metadata": {},
   "source": [
    "<span style=\"color:yellow; font-family:'Roboto'; font-size:24px\"> \n",
    "Calibration of ArGSet SiPM's \n",
    "</span>"
   ]
  },
  {
   "cell_type": "markdown",
   "id": "6a329e1f",
   "metadata": {},
   "source": [
    "**Table of contents**<a id='toc0_'></a>    \n",
    "- 1. [Pyreco part](#toc1_)    \n",
    "  - 1.1. [Initialize manager](#toc1_1_)    \n",
    "  - 1.2. [Event loop](#toc1_2_)    \n",
    "- 2. [Numpy part](#toc2_)    \n",
    "  - 2.1. [data selection](#toc2_1_)    \n",
    "  - 2.2. [data preprocessing](#toc2_2_)    \n",
    "  - 2.3. [Plotting npy data](#toc2_3_)    \n",
    "  - 2.4. [Template function](#toc2_4_)    \n",
    "  - 2.5. [Fit range](#toc2_5_)    \n",
    "  - 2.6. [Fitter](#toc2_6_)    \n",
    "    - 2.6.1. [Chi-Square](#toc2_6_1_)    \n",
    "    - 2.6.2. [Getting back actual parameters](#toc2_6_2_)    \n",
    "    - 2.6.3. [plotting original data vs template with transformed parameters](#toc2_6_3_)    \n",
    "- 3. [ARMA Filter](#toc3_)    \n",
    "- 4. [Read pickled clean event catalogue](#toc4_)    \n",
    "  - 4.1. [How to increase statistics for parameters](#toc4_1_)    \n",
    "- 5. [Reading pickled event catalogue](#toc5_)    \n",
    "- 6. [trash this](#toc6_)    \n",
    "- 7. [altenative file formats](#toc7_)    \n",
    "  - 7.1. [npz](#toc7_1_)    \n",
    "  - 7.2. [HDF5](#toc7_2_)    \n",
    "  - 7.3. [parquet](#toc7_3_)    \n",
    "  - 7.4. [h5py on numpy array](#toc7_4_)    \n",
    "    - 7.4.1. [write h5 file](#toc7_4_1_)    \n",
    "    - 7.4.2. [read h5 file](#toc7_4_2_)    \n",
    "- 8. [Memory diagnostics](#toc8_)    \n",
    "- 9. [reading pickle file](#toc9_)    \n",
    "- 10. [Read auxiliary files](#toc10_)    \n",
    "- 11. [reading old auxiliary catalogue file.:](#toc11_)    \n",
    "\n",
    "<!-- vscode-jupyter-toc-config\n",
    "\tnumbering=true\n",
    "\tanchor=true\n",
    "\tflat=false\n",
    "\tminLevel=1\n",
    "\tmaxLevel=6\n",
    "\t/vscode-jupyter-toc-config -->\n",
    "<!-- THIS CELL WILL BE REPLACED ON TOC UPDATE. DO NOT WRITE YOUR TEXT IN THIS CELL -->"
   ]
  },
  {
   "cell_type": "markdown",
   "id": "cd8b8798",
   "metadata": {},
   "source": [
    "<p>\n",
    "<b> Steps to follow: </b>\n",
    "<ol>\n",
    "\n",
    "<li> Manually procedure </li>\n",
    "<ol>\n",
    "<li> collect 10 good events: single prominent peak.✅</li>\n",
    "<li> database of hand picked good events. ✅</li>\n",
    "<li> Fit the template to all events individually. ✅</li>\n",
    "<li> Improve fitting. ✅</li>\n",
    "<!-- <li>  </li> -->\n",
    "</ol>\n",
    "\n",
    "<!-- <ul> -->\n",
    "<li> Algorithm to select good events.\n",
    "<ol>\n",
    "<li> Get clean events ✅</li>\n",
    "<li> Get a rough estimate of peak position ✅</li>\n",
    "</li>\n",
    "</ol>\n",
    "<li> Take mean of all template parameters found in this manner. </li>\n",
    "<li> read midas documentation to figure out a way of dealing with eof</li>\n",
    "<!-- <li> </li> -->\n",
    "</ol>\n",
    "</p>\n"
   ]
  },
  {
   "cell_type": "markdown",
   "id": "2e07199a",
   "metadata": {},
   "source": [
    "<!-- # MIDAS events reconstruction -->\n",
    "\n",
    "Load packages, setup libraries"
   ]
  },
  {
   "cell_type": "code",
   "execution_count": null,
   "id": "fbc1639a",
   "metadata": {},
   "outputs": [],
   "source": [
    "# import sys\n",
    "import numpy as np\n",
    "from scipy.optimize import curve_fit\n",
    "# from scipy.stats import chisquare\n",
    "# from scipy.integrate import simpson\n",
    "\n",
    "# import matplotlib\n",
    "import matplotlib.pyplot as plt\n",
    "# from matplotlib.ticker import AutoMinorLocator\n",
    "from matplotlib.ticker import FormatStrFormatter\n",
    "\n",
    "from termcolor import colored\n",
    "# import latexify\n",
    "import pandas as pd\n",
    "from tqdm.notebook import tqdm\n",
    "import pickle"
   ]
  },
  {
   "cell_type": "code",
   "execution_count": null,
   "id": "2d233141",
   "metadata": {},
   "outputs": [],
   "source": [
    "np.set_printoptions(formatter={'float': lambda x: f\"{x:10.4g}\"})"
   ]
  },
  {
   "cell_type": "code",
   "execution_count": null,
   "id": "9eb3ea97",
   "metadata": {
    "metadata": {}
   },
   "outputs": [],
   "source": [
    "from pyreco.manager.manager import Manager"
   ]
  },
  {
   "cell_type": "code",
   "execution_count": null,
   "id": "dd973f7f",
   "metadata": {},
   "outputs": [],
   "source": [
    "%matplotlib ipympl"
   ]
  },
  {
   "cell_type": "markdown",
   "id": "84595ffc",
   "metadata": {},
   "source": [
    "# 1. <a id='toc1_'></a>[Pyreco part](#toc0_)"
   ]
  },
  {
   "cell_type": "markdown",
   "id": "de0d06b2",
   "metadata": {},
   "source": [
    "Select here midas data, output filename and configuration file"
   ]
  },
  {
   "cell_type": "code",
   "execution_count": null,
   "id": "639f5343",
   "metadata": {},
   "outputs": [],
   "source": [
    "filename = '/work/sarthak/ArgSet/2024_Mar_27/midas/run00061.mid.lz4'\n",
    "outfile = 'jupyR00061'\n",
    "confile = 'argset.ini'\n",
    "# tmin,tmax = 0, 1750"
   ]
  },
  {
   "cell_type": "markdown",
   "id": "bb1d278d",
   "metadata": {},
   "source": [
    "## 1.1. <a id='toc1_1_'></a>[Initialize manager](#toc0_)"
   ]
  },
  {
   "cell_type": "code",
   "execution_count": null,
   "id": "51f0879d",
   "metadata": {},
   "outputs": [],
   "source": [
    "cmdline_args = f'--config {confile} -o {outfile} -i {filename}'\n",
    "m = Manager( midas=True, cmdline_args=cmdline_args)\n",
    "# m = Manager( midas=True) #, cmdline_args=cmdline_args)\n",
    "# baseline_samples = m.config('reco', 'bl_to', 'int')"
   ]
  },
  {
   "cell_type": "markdown",
   "id": "7ec8477a",
   "metadata": {},
   "source": [
    "## 1.2. <a id='toc1_2_'></a>[Event loop](#toc0_)"
   ]
  },
  {
   "cell_type": "code",
   "execution_count": null,
   "id": "8d4f0d4d",
   "metadata": {},
   "outputs": [],
   "source": [
    "# # nev_max = m.config('base', 'nevents', 'int')\n",
    "# # nev_max = 2\n",
    "# # nev_max = 455 # diag\n",
    "# # for nev, event in enumerate(m.midas): # oddly doing m.midas shifts the 'pointer' to the next event\n",
    "# for nev, event in enumerate(m.midas):\n",
    "#     #print(nev, event, event.nchannels)\n",
    "#     if nev < 2: continue\n",
    "#     if nev > 1: break\n",
    "#     # if nev > 450: break\n",
    "#     # print(nev)"
   ]
  },
  {
   "cell_type": "code",
   "execution_count": null,
   "id": "48267d5c",
   "metadata": {},
   "outputs": [],
   "source": [
    "## to use this cell, run the above cell once\n",
    "plt.close(1)\n",
    "plt.figure(1)\n",
    "#### Note: this way of looping skips one event every time we execute the for loop. Probably better not to use this loop in full code. \n",
    "for nev, event in enumerate(m.midas): # oddly doing m.midas shifts the 'pointer' to the next event\n",
    "    if nev > 0: break\n",
    "    wfs = event.adc_data\n",
    "    for i,wf in enumerate(event.adc_data): # over channels\n",
    "        wfs[i] = wf-event.adc_baseline[i]\n",
    "        plt.plot(wfs[i], label=f'{i}')\n",
    "# plt.xlim(tmin,tmax)\n",
    "plt.legend()"
   ]
  },
  {
   "cell_type": "markdown",
   "id": "48e99617",
   "metadata": {},
   "source": [
    "# 2. <a id='toc2_'></a>[Numpy part](#toc0_)"
   ]
  },
  {
   "cell_type": "markdown",
   "id": "9c0322e0",
   "metadata": {},
   "source": [
    "- we use numpy file from here onwards!"
   ]
  },
  {
   "cell_type": "code",
   "execution_count": null,
   "id": "41e227e7",
   "metadata": {},
   "outputs": [],
   "source": [
    "wfs_arr = np.load(\"../finger_plots/midas_wfs_ls.npy\", allow_pickle=True) # all preselected events for processing"
   ]
  },
  {
   "cell_type": "code",
   "execution_count": null,
   "id": "abfc29f8",
   "metadata": {},
   "outputs": [],
   "source": [
    "## we are saving select waveforms\n",
    "# new_wfs_ls.append(wfs)\n",
    "# new_wfs_ls = list(new_wfs_ls)\n",
    "# print(new_wfs_ls)\n",
    "# len(new_wfs_ls)\n",
    "# np.save(\"../finger_plots/midas_wfs_ls.npy\", new_wfs_ls, allow_pickle=True)"
   ]
  },
  {
   "cell_type": "markdown",
   "id": "00d75ae5",
   "metadata": {},
   "source": [
    "## 2.1. <a id='toc2_1_'></a>[data selection](#toc0_)"
   ]
  },
  {
   "cell_type": "code",
   "execution_count": null,
   "id": "c41d27bc",
   "metadata": {},
   "outputs": [],
   "source": [
    "og_wfs = wfs_arr[0].copy() # had success with [3] # [2] has multiple peaks"
   ]
  },
  {
   "cell_type": "code",
   "execution_count": null,
   "id": "f939be7b",
   "metadata": {
    "metadata": {}
   },
   "outputs": [],
   "source": [
    "n_channel = 2"
   ]
  },
  {
   "cell_type": "code",
   "execution_count": null,
   "id": "2d57095c",
   "metadata": {},
   "outputs": [],
   "source": [
    "tmin = 0\n",
    "tmax = min(og_wfs[n_channel].shape[0], 1750)"
   ]
  },
  {
   "cell_type": "markdown",
   "id": "54055ce9",
   "metadata": {},
   "source": [
    "## 2.2. <a id='toc2_2_'></a>[data preprocessing](#toc0_)"
   ]
  },
  {
   "cell_type": "code",
   "execution_count": null,
   "id": "08ba3740",
   "metadata": {},
   "outputs": [],
   "source": [
    "## this approach is not going to be used.\n",
    "# # dividng by area under the curve so that new area under the curve = 1\n",
    "# for _c in range(3):\n",
    "#     wfs[_c] = np.divide( wfs[_c], simpson(wfs[_c] ) )"
   ]
  },
  {
   "cell_type": "code",
   "execution_count": null,
   "id": "7f6d42fe",
   "metadata": {
    "metadata": {}
   },
   "outputs": [],
   "source": [
    "# temp\n",
    "# simpson(wfs[2])"
   ]
  },
  {
   "cell_type": "code",
   "execution_count": null,
   "id": "f175e4a1",
   "metadata": {
    "metadata": {}
   },
   "outputs": [],
   "source": [
    "# temp\n",
    "# 0.0010*simpson(wfs[2])"
   ]
  },
  {
   "cell_type": "code",
   "execution_count": null,
   "id": "c52dfa32",
   "metadata": {
    "metadata": {}
   },
   "outputs": [],
   "source": [
    "### shifting\n",
    "def transform_shift_wfs(og_wfs:np.ndarray) -> tuple:\n",
    "    wfs = np.copy(og_wfs)\n",
    "    shift_values = {}\n",
    "    for _c in range(3):\n",
    "        a = np.min(og_wfs[_c])\n",
    "        if a < 0:\n",
    "            print(f\"channel {_c} below {0}: value of min element = {a}.\")\n",
    "            wfs[_c] = og_wfs[_c] + np.abs(a)\n",
    "            shift_values[str(_c)] = a\n",
    "        else:\n",
    "            shift_values[str(_c)] = 0\n",
    "    return (wfs, shift_values)"
   ]
  },
  {
   "cell_type": "code",
   "execution_count": null,
   "id": "a935e56a",
   "metadata": {
    "metadata": {}
   },
   "outputs": [],
   "source": [
    "wfs, shift_values = transform_shift_wfs(og_wfs)\n",
    "# wfs[2]"
   ]
  },
  {
   "cell_type": "code",
   "execution_count": null,
   "id": "dd5a29e1",
   "metadata": {},
   "outputs": [],
   "source": [
    "shift_values"
   ]
  },
  {
   "cell_type": "markdown",
   "id": "604a296b",
   "metadata": {},
   "source": [
    "## 2.3. <a id='toc2_3_'></a>[Plotting npy data](#toc0_)"
   ]
  },
  {
   "cell_type": "code",
   "execution_count": null,
   "id": "e1548527",
   "metadata": {},
   "outputs": [],
   "source": [
    "plt.close(2)\n",
    "plt.figure(2)\n",
    "plt.title('transformed data')\n",
    "from matplotlib.offsetbox import AnchoredText\n",
    "for _c in range(3):\n",
    "    plt.plot(wfs[_c], label=f'channel {_c}')\n",
    "\n",
    "plt.legend()\n",
    "\n",
    "plt.grid()"
   ]
  },
  {
   "cell_type": "markdown",
   "id": "f29880d8",
   "metadata": {},
   "source": [
    "## 2.4. <a id='toc2_4_'></a>[Template function](#toc0_)"
   ]
  },
  {
   "cell_type": "code",
   "execution_count": null,
   "id": "24eb5761",
   "metadata": {},
   "outputs": [],
   "source": [
    "# template as original given passed by Marcin\n",
    "# def simplesum(t, t0, sigma, tau, scale):\n",
    "#     return (1-scale)/(sigma*np.sqrt(2*np.pi))*np.exp(-((t-t0)/(sigma))**2/2) + scale*np.heaviside(t-t0,1)/tau*np.exp(-(t-t0)/tau)\n",
    "\n",
    "# @latexify.function\n",
    "def simplesum(t, t0, sigma, tau, scale, baseline, K):\n",
    "    return baseline + K*((1-scale)/(sigma*np.sqrt(2*np.pi))*np.exp(-((t-t0)/(sigma))**2/2) + scale*np.heaviside(t-t0,0)/tau*np.exp(-(t-t0)/tau))"
   ]
  },
  {
   "cell_type": "code",
   "execution_count": null,
   "id": "fe1ff39c",
   "metadata": {},
   "outputs": [],
   "source": [
    "# @latexify.function()\n",
    "# simplesum"
   ]
  },
  {
   "cell_type": "markdown",
   "id": "c2c58f05",
   "metadata": {},
   "source": [
    "## 2.5. <a id='toc2_5_'></a>[Fit range](#toc0_)"
   ]
  },
  {
   "cell_type": "code",
   "execution_count": null,
   "id": "3da2d98c",
   "metadata": {},
   "outputs": [],
   "source": [
    "# fit_begin = 400\n",
    "# fit_end = 600\n",
    "# fit_begin = 325 # 400 #350\n",
    "# fit_end = 775 # 600 # THIS gives best result # 650  # this must be optimal\n",
    "fit_begin = 0\n",
    "fit_end = wfs[2].shape[0] -1 \n",
    "x_values = np.arange(tmin, tmax+1)\n",
    "# x_values = np.arange(tmin, tmax)"
   ]
  },
  {
   "cell_type": "markdown",
   "id": "d37b3b83",
   "metadata": {},
   "source": [
    "## 2.6. <a id='toc2_6_'></a>[Fitter](#toc0_)"
   ]
  },
  {
   "cell_type": "code",
   "execution_count": null,
   "id": "8e274214",
   "metadata": {},
   "outputs": [],
   "source": [
    "mse_700_800 = np.std(wfs[2][700:800])/np.sqrt(wfs[2][700:800].shape[0])"
   ]
  },
  {
   "cell_type": "code",
   "execution_count": null,
   "id": "4391087d",
   "metadata": {},
   "outputs": [],
   "source": [
    "np.std(wfs, axis=1)"
   ]
  },
  {
   "cell_type": "code",
   "execution_count": null,
   "id": "d00be2fc",
   "metadata": {},
   "outputs": [],
   "source": [
    "np.std(wfs[2][600:700])"
   ]
  },
  {
   "cell_type": "code",
   "execution_count": null,
   "id": "56414b23",
   "metadata": {},
   "outputs": [],
   "source": [
    "# np.std(wfs[2][700:800])/np.sqrt(wfs[2][700:800].shape[0])"
   ]
  },
  {
   "cell_type": "code",
   "execution_count": null,
   "id": "cb3c848e",
   "metadata": {
    "metadata": {}
   },
   "outputs": [],
   "source": [
    "## use rmse_700_800 into the curve_fit"
   ]
  },
  {
   "cell_type": "code",
   "execution_count": null,
   "id": "36d9b7da",
   "metadata": {
    "metadata": {}
   },
   "outputs": [],
   "source": [
    "p0_input = [440.0,   2.5,  80.0,   0.95, 0.0, 10000.0] #t0=416, sigma=1.85, tau=87, scale=0.98, baseline=0.0002, K=12560\n",
    "\n",
    "fittedparameters, pcov = curve_fit(simplesum, x_values[fit_begin:fit_end+1], wfs[2][fit_begin:fit_end+1], \\\n",
    "                                    p0 = p0_input, \\\n",
    "                                    sigma=mse_700_800*np.ones(wfs[2].shape), \\\n",
    "                                    bounds = ([0, 0, 0, 0, -np.inf, 0], \\\n",
    "                                              [np.inf, 10, np.inf, 1, np.inf, np.inf])\n",
    "                                    )"
   ]
  },
  {
   "cell_type": "code",
   "execution_count": null,
   "id": "830e0f79",
   "metadata": {
    "metadata": {}
   },
   "outputs": [],
   "source": [
    "fittedparameters"
   ]
  },
  {
   "cell_type": "code",
   "execution_count": null,
   "id": "5dee7052",
   "metadata": {
    "metadata": {}
   },
   "outputs": [],
   "source": [
    "# pcov"
   ]
  },
  {
   "cell_type": "code",
   "execution_count": null,
   "id": "5c436c32",
   "metadata": {},
   "outputs": [],
   "source": [
    "x_values = x_values[:wfs[1].shape[0]]\n",
    "\n",
    "plt.close(3)\n",
    "plt.figure(3, figsize=(8,6))\n",
    "plt.title('fit vs data')\n",
    "plt.plot(x_values, wfs[2], '.--', color='black', alpha=1.0, label='whatever is selected')\n",
    "# plt.plot(x_values[fit_begin:fit_end+1], wfs[2][fit_begin:fit_end+1], '.--', color='C2', alpha=0.1, label='whatever is selected')\n",
    "# plt.plot(x_values[fit_begin:fit_end+1], wfs[2][fit_begin:fit_end+1]/auc, '.--', color='C2', alpha=0.1, label='whatever is selected')\n",
    "plt.plot(x_values[fit_begin:fit_end+1], simplesum(x_values[fit_begin:fit_end+1], *fittedparameters), \\\n",
    "        '-', color='red', alpha=1.0, label='best fit template');\n",
    "\n",
    "# plt.plot(x_values[fit_begin:fit_end+1], simplesum(x_values[fit_begin:fit_end+1], t0=400, sigma=10, tau=10, scale=0.9), \\\n",
    "#          '.-', color='purple', label='neat');\n",
    "\n",
    "# plt.xlim(300, 800)\n",
    "# plt.xticks()\n",
    "plt.legend()\n",
    "plt.minorticks_on()\n",
    "ax = plt.gca()\n",
    "# ax.set_xticks(x_values[:50:], minor=True)\n",
    "## ax.xaxis.set_minor_locator(plt.MaxNLocator(5))\n",
    "# ax.xaxis.set_minor_locator(AutoMinorLocator())\n",
    "# ax.xaxis.set_minor_formatter(FormatStrFormatter(\"%i\"))\n",
    "# ax.tick_params(axis=\"x\", which=\"both\", rotation=90)\n",
    "# plt.xlim(200, 1000)\n",
    "plt.show()"
   ]
  },
  {
   "cell_type": "markdown",
   "id": "eea9522a",
   "metadata": {},
   "source": [
    "### 2.6.1. <a id='toc2_6_1_'></a>[Chi-Square](#toc0_)"
   ]
  },
  {
   "cell_type": "code",
   "execution_count": null,
   "id": "f295f335",
   "metadata": {},
   "outputs": [],
   "source": [
    "### As usual, scipy.stat chisquare doesn't work for me.\n",
    "# chisquare(wfs[2][fit_begin:fit_end+1], simplesum(x_values[fit_begin:fit_end+1], *fittedparameters))"
   ]
  },
  {
   "cell_type": "code",
   "execution_count": null,
   "id": "5541a9b1",
   "metadata": {
    "metadata": {}
   },
   "outputs": [],
   "source": [
    "def red_chisq(f_obs, f_exp, fittedparameters):\n",
    "    # chisqr = np.sum((f_obs - f_exp)**2 / f_exp)\n",
    "    chisqr = np.sum((f_obs - f_exp)**2 / np.abs(f_exp)) # changed\n",
    "    ndf = f_obs.shape[0]\n",
    "    return chisqr/(ndf -fittedparameters.shape[0])"
   ]
  },
  {
   "cell_type": "code",
   "execution_count": null,
   "id": "96f1809e",
   "metadata": {},
   "outputs": [],
   "source": [
    "print( colored('Reducded Chisquare:', 'red', attrs = ['blink', 'bold']) )\n",
    "print( colored(red_chisq(wfs[2][fit_begin:fit_end+1], \\\n",
    "            simplesum(x_values[fit_begin:fit_end+1], *fittedparameters), \\\n",
    "            fittedparameters \n",
    "          )\n",
    ", 'cyan', attrs= ['bold'])\n",
    ")"
   ]
  },
  {
   "cell_type": "markdown",
   "id": "94bc02ef",
   "metadata": {},
   "source": [
    "### 2.6.2. <a id='toc2_6_2_'></a>[Getting back actual parameters](#toc0_)"
   ]
  },
  {
   "cell_type": "code",
   "execution_count": null,
   "id": "57736628",
   "metadata": {},
   "outputs": [],
   "source": [
    "def reverse_transform_param(fittedparameters:np.ndarray, shift_values:dict, n_channel:int)->np.ndarray:\n",
    "    fittedparameters[4] = fittedparameters[4] + shift_values[str(n_channel)]\n",
    "    return fittedparameters"
   ]
  },
  {
   "cell_type": "code",
   "execution_count": null,
   "id": "0aaa4430",
   "metadata": {
    "metadata": {}
   },
   "outputs": [],
   "source": [
    "fittedparameters_transformed  = reverse_transform_param(fittedparameters, shift_values, n_channel)"
   ]
  },
  {
   "cell_type": "code",
   "execution_count": null,
   "id": "c50ef93a",
   "metadata": {},
   "outputs": [],
   "source": [
    "fittedparameters_transformed"
   ]
  },
  {
   "cell_type": "markdown",
   "id": "bcc664a5",
   "metadata": {},
   "source": [
    "### 2.6.3. <a id='toc2_6_3_'></a>[plotting original data vs template with transformed parameters](#toc0_)"
   ]
  },
  {
   "cell_type": "code",
   "execution_count": null,
   "id": "3beb4556",
   "metadata": {},
   "outputs": [],
   "source": [
    "plt.title('best fit overlayed on untransformed data')\n",
    "plt.close(4)\n",
    "plt.figure(4, figsize=(8,6))\n",
    "plt.plot(x_values, og_wfs[2], '.--', color='green', alpha=0.65, label=f'channel {n_channel}')\n",
    "# plt.plot(x_values[fit_begin:fit_end+1], simplesum(x_values[fit_begin:fit_end+1], t0=416, sigma=2.5, tau=84, scale=0.97), \\\n",
    "#          '+', color='purple', label='neat');\n",
    "plt.plot(x_values[fit_begin:fit_end+1], \\\n",
    "                    simplesum(x_values[fit_begin:fit_end+1], *fittedparameters_transformed), \\\n",
    "                                                    # simplesum(x_values[fit_begin:fit_end+1],                     \n",
    "                                                #   t0=416, sigma=1.85, tau=100, scale=0.98, \n",
    "                                                #   baseline_pre=0.0013, \n",
    "                                                #   baseline_post = 0.000005, \n",
    "                                                #   K=12560), \\\n",
    "         '-', color='red',alpha=1.0, label='transformed parameters');\n",
    "\n",
    "plt.xlim(200, 1000)\n",
    "plt.legend()\n",
    "# plt.show()"
   ]
  },
  {
   "cell_type": "markdown",
   "id": "462276fa",
   "metadata": {},
   "source": [
    "# 3. <a id='toc3_'></a>[ARMA Filter](#toc0_)\n",
    "This method will be used in a function to generate a catalog of clean waveforms.\n",
    "\n",
    "**Tasks**: \n",
    "- find number of peaks & if n_peaks > 1 -> reject waveform\n",
    "- Avoid edges\n",
    "- Avoid double peaks?"
   ]
  },
  {
   "cell_type": "markdown",
   "id": "a5b491f3",
   "metadata": {},
   "source": [
    "ARMA:"
   ]
  },
  {
   "cell_type": "code",
   "execution_count": null,
   "id": "db44c04d",
   "metadata": {
    "metadata": {}
   },
   "outputs": [],
   "source": [
    "from pyreco.reco.filtering import WFFilter\n",
    "mfilter = WFFilter(m.config) # ToDo verify the that we are using the right config file."
   ]
  },
  {
   "cell_type": "code",
   "execution_count": null,
   "id": "fa813faf",
   "metadata": {
    "metadata": {}
   },
   "outputs": [],
   "source": [
    "flt = np.reshape(mfilter.numba_fast_filter(wfs),newshape=wfs.shape)\n",
    "plt.close(5)\n",
    "plt.figure(5, figsize=(8,6))\n",
    "for i,wf in enumerate(flt):\n",
    "        plt.plot(wf, label=f'{i}')\n",
    "# flt = mfilter.numba_fast_filter(wfs[n_channel])\n",
    "# plt.plot(flt, label=f'{n_channel}')\n",
    "# plt.legend()\n",
    "# plt.xlim(tmin,tmax)\n",
    "plt.show()"
   ]
  },
  {
   "cell_type": "markdown",
   "id": "e486fa55",
   "metadata": {},
   "source": [
    "Running average filter:"
   ]
  },
  {
   "cell_type": "code",
   "execution_count": null,
   "id": "90deb25d",
   "metadata": {},
   "outputs": [],
   "source": [
    "mas.shape"
   ]
  },
  {
   "cell_type": "code",
   "execution_count": null,
   "id": "78a07210",
   "metadata": {
    "metadata": {}
   },
   "outputs": [],
   "source": [
    "mas = m.algos.running_mean(flt, gate=60)"
   ]
  },
  {
   "cell_type": "code",
   "execution_count": null,
   "id": "9301d65f",
   "metadata": {
    "metadata": {}
   },
   "outputs": [],
   "source": [
    "flt_proc = np.copy(flt[n_channel])"
   ]
  },
  {
   "cell_type": "code",
   "execution_count": null,
   "id": "d123fb18",
   "metadata": {},
   "outputs": [],
   "source": [
    "flt_proc_all = np.copy(flt) # temp"
   ]
  },
  {
   "cell_type": "code",
   "execution_count": null,
   "id": "45d18607",
   "metadata": {},
   "outputs": [],
   "source": [
    "# _all\n",
    "flt_proc_all = flt - mas"
   ]
  },
  {
   "cell_type": "code",
   "execution_count": null,
   "id": "18758072",
   "metadata": {},
   "outputs": [],
   "source": [
    "flt_proc_all"
   ]
  },
  {
   "cell_type": "code",
   "execution_count": null,
   "id": "daf57d6b",
   "metadata": {},
   "outputs": [],
   "source": [
    "# _all\n",
    "flt_proc_all = np.where(flt_proc_all>0,flt_proc_all, 0)\n",
    "flt_proc_all"
   ]
  },
  {
   "cell_type": "code",
   "execution_count": null,
   "id": "73ace58e",
   "metadata": {},
   "outputs": [],
   "source": [
    "# _all\n",
    "rms_all = m.algos.get_rms(flt_proc_all)\n",
    "flt_above_3rms_all = np.where(flt_proc_all > 3*rms_all, flt_proc_all, 0)"
   ]
  },
  {
   "cell_type": "code",
   "execution_count": null,
   "id": "618c5e01",
   "metadata": {},
   "outputs": [],
   "source": [
    "# _all\n",
    "plt.close(101)\n",
    "plt.figure(101)\n",
    "# plt.plot(flt_proc, label='flt_proc', color='green')\n",
    "for i in range(3):\n",
    "    plt.plot(flt_above_3rms_all[i], label=f'{i}') #, title =str(i) )\n",
    "plt.legend()"
   ]
  },
  {
   "cell_type": "code",
   "execution_count": null,
   "id": "b548785c",
   "metadata": {},
   "outputs": [],
   "source": [
    "# _all\n",
    "len(find_peaks(flt_above_3rms_all[1])[0])"
   ]
  },
  {
   "cell_type": "code",
   "execution_count": null,
   "id": "8f2159fa",
   "metadata": {},
   "outputs": [],
   "source": [
    "flt_proc = flt[n_channel] - mas[n_channel]\n",
    "flt_proc = np.where(flt_proc>0,flt_proc, 0)\n",
    "rms = m.algos.get_rms(flt_proc)\n",
    "flt_above_3rms = np.where(flt_proc > 3*rms, flt_proc, 0) # TODO: trying changing this rms\n",
    "## might not to be a good idea to rely on arma for tuning arma\n",
    "plt.close(6)\n",
    "plt.figure(6)\n",
    "# plt.plot(flt_proc, label='flt_proc', color='green')\n",
    "plt.plot(flt_above_3rms, label=f'{n_channel}', color='red')\n",
    "plt.legend()"
   ]
  },
  {
   "cell_type": "code",
   "execution_count": null,
   "id": "ba9dfb85",
   "metadata": {
    "metadata": {}
   },
   "outputs": [],
   "source": [
    "# function\n",
    "# someway to find peaks in the rms time series\n",
    "from scipy.signal import find_peaks"
   ]
  },
  {
   "cell_type": "code",
   "execution_count": null,
   "id": "d48678c2",
   "metadata": {},
   "outputs": [],
   "source": [
    "len(find_peaks(flt_above_3rms)[0])"
   ]
  },
  {
   "cell_type": "code",
   "execution_count": null,
   "id": "23803c91",
   "metadata": {},
   "outputs": [],
   "source": [
    "flt_above_3rms"
   ]
  },
  {
   "cell_type": "code",
   "execution_count": null,
   "id": "576cc91a",
   "metadata": {},
   "outputs": [],
   "source": [
    "np.where(flt_above_3rms > 0)[0]"
   ]
  },
  {
   "cell_type": "code",
   "execution_count": null,
   "id": "50bf6be0",
   "metadata": {},
   "outputs": [],
   "source": [
    "np.ceil(np.mean(np.where(flt_above_3rms != 0)))"
   ]
  },
  {
   "cell_type": "code",
   "execution_count": null,
   "id": "d26839ec",
   "metadata": {},
   "outputs": [],
   "source": [
    "plt.close(7)\n",
    "plt.figure(7)\n",
    "flt = flt - mas\n",
    "flt = np.where(flt>0,flt, 0)\n",
    "for i,wf in enumerate(flt):\n",
    "    rms = m.algos.get_rms(wf)    \n",
    "    plt.plot(np.where(wf > 3*rms, wf, 0), label=f'{i}')\n",
    "plt.xlim(tmin,tmax)\n",
    "plt.show()"
   ]
  },
  {
   "cell_type": "markdown",
   "id": "128a2513",
   "metadata": {},
   "source": [
    "# 4. <a id='toc4_'></a>[Read pickled clean event catalogue](#toc0_)\n",
    "<p>  pickle file generated by calculate_wf_param.py </p>"
   ]
  },
  {
   "cell_type": "code",
   "execution_count": null,
   "id": "c41f7626",
   "metadata": {},
   "outputs": [],
   "source": [
    "# import pandas as pd\n",
    "# saved_pkl_file = '../data/argset_clean_catalogue_100_000.pkl' \n",
    "# current_pkl_file = \"../temp_folder/argset_wfs_catalogue.pkl\"\n",
    "current_pkl_file = \"../temp_folder/argset_wfs_catalogue_100_1000.pkl\"\n",
    "# df_file = pd.read_pickle(saved_pkl_file)\n",
    "df_file = pd.read_pickle(current_pkl_file)"
   ]
  },
  {
   "cell_type": "code",
   "execution_count": null,
   "id": "69597270",
   "metadata": {},
   "outputs": [],
   "source": [
    "df_file.shape"
   ]
  },
  {
   "cell_type": "code",
   "execution_count": null,
   "id": "3d32dcc7",
   "metadata": {},
   "outputs": [],
   "source": [
    "(df_file['chisqr_ch2'] < 2.0).sum()/(df_file['chisqr_ch2'].shape[0])"
   ]
  },
  {
   "cell_type": "code",
   "execution_count": null,
   "id": "f56721b4",
   "metadata": {},
   "outputs": [],
   "source": [
    "n_channel = 2\n",
    "param_ch2 = df_file.iloc[3]['fit_param_ch2']\n",
    "clean_wf = df_file.iloc[3]['wf'][2]\n",
    "a = np.min(clean_wf)\n",
    "\n",
    "plt.title('clean waveforms')\n",
    "plt.close(8)\n",
    "plt.figure(8, figsize=(8,6))\n",
    "plt.plot(clean_wf+np.abs(a), '-', color='green', alpha=0.65, label=f'channel {n_channel}')\n",
    "plt.plot(simplesum(x_values, *param_ch2), '-', color='red', alpha=0.65, label=f'template')\n",
    "\n",
    "plt.legend()\n",
    "plt.show()"
   ]
  },
  {
   "cell_type": "code",
   "execution_count": null,
   "id": "097e4d8a",
   "metadata": {},
   "outputs": [],
   "source": [
    "t0_ls = []\n",
    "sigma_ls = []\n",
    "tau_ls = []\n",
    "scale_ls = []\n",
    "for i in range(df_file.shape[0]):\n",
    "    t0_ls.append(df_file['fit_param_ch2'][i][0])\n",
    "    sigma_ls.append(df_file['fit_param_ch2'][i][1])\n",
    "    tau_ls.append(df_file['fit_param_ch2'][i][2])\n",
    "    scale_ls.append(df_file['fit_param_ch2'][i][3])\n"
   ]
  },
  {
   "cell_type": "code",
   "execution_count": null,
   "id": "de94a41c",
   "metadata": {},
   "outputs": [],
   "source": [
    "n_param = df_file['fit_param_ch2'][0].shape[0]\n",
    "# param_ls = ['t0_ls', 'sigma_ls', 'tau_ls', 'scale_ls'] # temp\n",
    "param_dict = {\n",
    "'t0': t0_ls, \n",
    "'sigma': sigma_ls, \n",
    "'tau': tau_ls,\n",
    "'scale': scale_ls\n",
    "}\n",
    "# for _i in range(n_param):\n",
    "# for _i in range(len(param_ls)):\n",
    "# _i = 0\n",
    "# for param_key, param in param_dict:\n",
    "# for _i, param_key in enumerate(param_dict):\n",
    "#     plt.figure(9+_i)\n",
    "#     plt.hist(param_dict[param_key])\n",
    "#     plt.title(param_key)\n",
    "#     plt.show()\n"
   ]
  },
  {
   "cell_type": "code",
   "execution_count": null,
   "id": "d3f5f100",
   "metadata": {},
   "outputs": [],
   "source": [
    "plt.close(9)\n",
    "plt.figure(9)\n",
    "plt.hist(param_dict['t0'])\n",
    "plt.title('to')\n",
    "plt.show()"
   ]
  },
  {
   "cell_type": "code",
   "execution_count": null,
   "id": "da0c1653",
   "metadata": {},
   "outputs": [],
   "source": [
    "plt.close(10)\n",
    "plt.figure(10)\n",
    "plt.hist(param_dict['sigma']) #, bins= np.linspace(1.0, 6.0, 10))\n",
    "plt.title('sigma')\n",
    "plt.show()"
   ]
  },
  {
   "cell_type": "code",
   "execution_count": null,
   "id": "d3f668f3",
   "metadata": {},
   "outputs": [],
   "source": [
    "plt.close(11)\n",
    "plt.figure(11)\n",
    "plt.hist(param_dict['tau'], bins= np.linspace(0.0, 150.0, 10))\n",
    "plt.title('tau')\n",
    "plt.show()"
   ]
  },
  {
   "cell_type": "code",
   "execution_count": null,
   "id": "89050379",
   "metadata": {},
   "outputs": [],
   "source": [
    "plt.close(12)\n",
    "plt.figure(12)\n",
    "plt.hist(param_dict['scale'], bins= np.linspace(0.4, 1.0, 10))\n",
    "plt.title('scale')\n",
    "plt.show()"
   ]
  },
  {
   "cell_type": "code",
   "execution_count": null,
   "id": "90e3cdcf",
   "metadata": {},
   "outputs": [],
   "source": [
    "# 5 of 100\n",
    "# 50,000 # incorrect\n",
    "# 2500 clean events\n",
    "# -> 100, 000\n",
    "# -> 2 Millions events in total"
   ]
  },
  {
   "cell_type": "code",
   "execution_count": null,
   "id": "27b94c11",
   "metadata": {},
   "outputs": [],
   "source": [
    "## selection on values\n",
    "## https://pandas.pydata.org/docs/getting_started/intro_tutorials/03_subset_data.html"
   ]
  },
  {
   "cell_type": "code",
   "execution_count": null,
   "id": "1c90531b",
   "metadata": {},
   "outputs": [],
   "source": [
    "df_file[(df_file['chisqr_ch2'] < 2) & (df_file['chisqr_ch2'] >= 1.0)].shape"
   ]
  },
  {
   "cell_type": "markdown",
   "id": "b0930459",
   "metadata": {},
   "source": [
    "## 4.1. <a id='toc4_1_'></a>[How to increase statistics for parameters](#toc0_)"
   ]
  },
  {
   "cell_type": "code",
   "execution_count": null,
   "id": "b3493114",
   "metadata": {},
   "outputs": [],
   "source": [
    "clean_target = 100000\n",
    "success_rate_of_search_algorithm = 0.91\n",
    "clean_ratio = 0.05\n",
    "\n",
    "# @latexify.function\n",
    "def total_events_tobe_scanned(clean_target, clean_ratio, success_rate_of_search_algorithm):\n",
    "    # total_events = clean_target * 1/clean_ratio *1/success_rate_of_search_algorithm\n",
    "    # return total_events\n",
    "    return clean_target * 1/clean_ratio *1/success_rate_of_search_algorithm"
   ]
  },
  {
   "cell_type": "code",
   "execution_count": null,
   "id": "09dfc9fc",
   "metadata": {},
   "outputs": [],
   "source": [
    "total_events_tobe_scanned(clean_target, clean_ratio, success_rate_of_search_algorithm)\n"
   ]
  },
  {
   "cell_type": "code",
   "execution_count": null,
   "id": "06650ba5",
   "metadata": {},
   "outputs": [],
   "source": [
    "f'number of files {(total_events_tobe_scanned(clean_target, clean_ratio, success_rate_of_search_algorithm))/(100000)}'"
   ]
  },
  {
   "cell_type": "markdown",
   "id": "0701c3a3",
   "metadata": {},
   "source": [
    "# 5. <a id='toc5_'></a>[Reading pickled event catalogue](#toc0_)"
   ]
  },
  {
   "cell_type": "code",
   "execution_count": null,
   "id": "2934f1ea",
   "metadata": {},
   "outputs": [],
   "source": [
    "# event_catalogue_file = f'../temp_folder/copy_event_catalogue_run0061.pkl'\n",
    "# event_catalogue_file = f'../temp_folder/event_catalogue_run0061.pkl'\n",
    "event_catalogue_file = f'../data/event_catalogue_run00061_3ch.pkl'\n",
    "event_catalogue = pd.read_pickle(event_catalogue_file)"
   ]
  },
  {
   "cell_type": "code",
   "execution_count": null,
   "id": "d1202468",
   "metadata": {},
   "outputs": [],
   "source": [
    "event_catalogue.info()"
   ]
  },
  {
   "cell_type": "code",
   "execution_count": null,
   "id": "d81845ef",
   "metadata": {},
   "outputs": [],
   "source": [
    "event_catalogue.shape"
   ]
  },
  {
   "cell_type": "code",
   "execution_count": null,
   "id": "c8168c4f",
   "metadata": {},
   "outputs": [],
   "source": [
    "wf_ch2 = event_catalogue['wf_ch2']"
   ]
  },
  {
   "cell_type": "code",
   "execution_count": null,
   "id": "fa5ad945",
   "metadata": {},
   "outputs": [],
   "source": [
    "wf_ch2[1]"
   ]
  },
  {
   "cell_type": "code",
   "execution_count": null,
   "id": "5cccf9b1",
   "metadata": {},
   "outputs": [],
   "source": [
    "# wf_1.iloc[1]"
   ]
  },
  {
   "cell_type": "code",
   "execution_count": null,
   "id": "bad7b80b",
   "metadata": {},
   "outputs": [],
   "source": [
    "# event_catalogue.iloc[1]['wf'][2]"
   ]
  },
  {
   "cell_type": "markdown",
   "id": "b796a67e",
   "metadata": {},
   "source": [
    "# 6. <a id='toc6_'></a>[trash this](#toc0_)"
   ]
  },
  {
   "cell_type": "code",
   "execution_count": null,
   "id": "2f9186ac",
   "metadata": {},
   "outputs": [],
   "source": [
    "### temp\n",
    "a_index = [1,2,3,4,5,10,11]\n",
    "a_data = ['Delhi', 'Kolkata', 'New YOrk', 'London', \\\n",
    "    'Yorkshire', 'Warsaw', 'Sidney']\n",
    "b_index = [1,2,3,7,8,9,10,12]\n",
    "b_data = ['Amy', 'Amelia', 'Angela', 'Khushi', \\\n",
    "    'Aishwarya', 'Barbara', 'Anshu', 'Amanda']\n",
    "a_dict = {'index': a_index, 'city': a_data}\n",
    "b_dict = {'index': b_index, 'person': b_data}\n",
    "a_df = pd.DataFrame.from_dict(a_dict)\n",
    "b_df = pd.DataFrame.from_dict(b_dict)\n",
    "# df_a = pd.DataFrame()"
   ]
  },
  {
   "cell_type": "code",
   "execution_count": null,
   "id": "4147c81a",
   "metadata": {},
   "outputs": [],
   "source": [
    "a_df"
   ]
  },
  {
   "cell_type": "code",
   "execution_count": null,
   "id": "2615c6e0",
   "metadata": {},
   "outputs": [],
   "source": [
    "b_df"
   ]
  },
  {
   "cell_type": "code",
   "execution_count": null,
   "id": "e0e8fdb0",
   "metadata": {},
   "outputs": [],
   "source": [
    "a_df.join(b_df.set_index('index'), on= 'index', how='outer')"
   ]
  },
  {
   "cell_type": "code",
   "execution_count": null,
   "id": "25ac4f1f",
   "metadata": {},
   "outputs": [],
   "source": []
  },
  {
   "cell_type": "markdown",
   "id": "72d7fa16",
   "metadata": {},
   "source": [
    "# 7. <a id='toc7_'></a>[altenative file formats](#toc0_)"
   ]
  },
  {
   "cell_type": "markdown",
   "id": "ef7f36f1",
   "metadata": {},
   "source": [
    "## 7.1. <a id='toc7_1_'></a>[npz](#toc0_)"
   ]
  },
  {
   "cell_type": "markdown",
   "id": "dc4434b2",
   "metadata": {},
   "source": [
    "<p>\n",
    "z is compressed.\n",
    "</p>"
   ]
  },
  {
   "cell_type": "code",
   "execution_count": null,
   "id": "9b12e60c",
   "metadata": {},
   "outputs": [],
   "source": [
    "event_index_arr = np.array(event_catalogue['event_index'])"
   ]
  },
  {
   "cell_type": "code",
   "execution_count": null,
   "id": "26d21074",
   "metadata": {},
   "outputs": [],
   "source": [
    "event_counter_arr = np.array(event_catalogue['event_counter'])"
   ]
  },
  {
   "cell_type": "code",
   "execution_count": null,
   "id": "378f86db",
   "metadata": {},
   "outputs": [],
   "source": [
    "wf_arr = np.array(event_catalogue['wf'], dtype=np.ndarray)"
   ]
  },
  {
   "cell_type": "code",
   "execution_count": null,
   "id": "f585b65f",
   "metadata": {},
   "outputs": [],
   "source": [
    "wf_arr"
   ]
  },
  {
   "cell_type": "code",
   "execution_count": null,
   "id": "b9ad6604",
   "metadata": {},
   "outputs": [],
   "source": [
    "# np.savez_compressed('../temp_folder/event_catalogue.npz', event_index=event_index_arr, \\\n",
    "#                     event_counter=event_counter_arr, wf = wf_arr)"
   ]
  },
  {
   "cell_type": "code",
   "execution_count": null,
   "id": "fb5e4519",
   "metadata": {},
   "outputs": [],
   "source": [
    "loaded = np.load('../data/event_catalogue_run00061.npz', allow_pickle = True)"
   ]
  },
  {
   "cell_type": "code",
   "execution_count": null,
   "id": "56f8bd15",
   "metadata": {},
   "outputs": [],
   "source": [
    "loaded"
   ]
  },
  {
   "cell_type": "code",
   "execution_count": null,
   "id": "1abe47d3",
   "metadata": {},
   "outputs": [],
   "source": [
    "wf = loaded['wf']"
   ]
  },
  {
   "cell_type": "code",
   "execution_count": null,
   "id": "5d7a420f",
   "metadata": {},
   "outputs": [],
   "source": [
    "wf.shape"
   ]
  },
  {
   "cell_type": "code",
   "execution_count": null,
   "id": "0790c5b0",
   "metadata": {},
   "outputs": [],
   "source": [
    "wf[1]"
   ]
  },
  {
   "cell_type": "code",
   "execution_count": null,
   "id": "46567273",
   "metadata": {},
   "outputs": [],
   "source": [
    "loaded['event_counter'].shape[0]"
   ]
  },
  {
   "cell_type": "code",
   "execution_count": null,
   "id": "9d21fe73",
   "metadata": {},
   "outputs": [],
   "source": [
    "# wf[0][2]"
   ]
  },
  {
   "cell_type": "code",
   "execution_count": null,
   "id": "413cceaa",
   "metadata": {},
   "outputs": [],
   "source": [
    "# wf.shape"
   ]
  },
  {
   "cell_type": "code",
   "execution_count": null,
   "id": "4595568d",
   "metadata": {},
   "outputs": [],
   "source": [
    "# loaded['event_index']"
   ]
  },
  {
   "cell_type": "code",
   "execution_count": null,
   "id": "ae9dec47",
   "metadata": {},
   "outputs": [],
   "source": [
    "# loaded['event_counter']"
   ]
  },
  {
   "cell_type": "markdown",
   "id": "7eb4bdfa",
   "metadata": {},
   "source": [
    "## 7.2. <a id='toc7_2_'></a>[HDF5](#toc0_)"
   ]
  },
  {
   "cell_type": "code",
   "execution_count": null,
   "id": "499400e1",
   "metadata": {},
   "outputs": [],
   "source": [
    "# event_catalogue_hdf_filename = f'../temp_folder/event_catalogue_run0061.hdf'\n",
    "# event_catalogue.to_hdf(event_catalogue_hdf_filename, key='event_catalogue', mode='a')\n"
   ]
  },
  {
   "cell_type": "markdown",
   "id": "83805e07",
   "metadata": {},
   "source": [
    "## 7.3. <a id='toc7_3_'></a>[parquet](#toc0_)"
   ]
  },
  {
   "cell_type": "code",
   "execution_count": null,
   "id": "59fcc48c",
   "metadata": {},
   "outputs": [],
   "source": [
    "# event_catalogue_par_filename = f'../temp_folder/event_catalogue_run0061.parquet'\n",
    "# event_catalogue.to_parquet(event_catalogue_par_filename)"
   ]
  },
  {
   "cell_type": "markdown",
   "id": "63170583",
   "metadata": {},
   "source": [
    "## 7.4. <a id='toc7_4_'></a>[h5py on numpy array](#toc0_)"
   ]
  },
  {
   "cell_type": "code",
   "execution_count": null,
   "id": "d9963fd5",
   "metadata": {},
   "outputs": [],
   "source": [
    "## Doesn't works for array of arrays\n",
    "# import h5py"
   ]
  },
  {
   "cell_type": "code",
   "execution_count": null,
   "id": "c4f00599",
   "metadata": {},
   "outputs": [],
   "source": [
    "import h5py"
   ]
  },
  {
   "cell_type": "markdown",
   "id": "52250f85",
   "metadata": {},
   "source": [
    "### 7.4.1. <a id='toc7_4_1_'></a>[write h5 file](#toc0_)"
   ]
  },
  {
   "cell_type": "code",
   "execution_count": null,
   "id": "9f9c0287",
   "metadata": {},
   "outputs": [],
   "source": [
    "# with h5py.File('demo.h5', 'w') as dem:\n",
    "#     dem.create_dataset('event_counter', data = event_counter, compression=\"gzip\")\n",
    "#     dem.create_dataset('wf_ch0', data = wf_ch0, compression=\"gzip\")\n",
    "#     dem.create_dataset('wf_ch1', data = wf_ch1, compression=\"gzip\")\n",
    "#     dem.create_dataset('wf_ch2', data = wf_ch2, compression=\"gzip\")"
   ]
  },
  {
   "cell_type": "markdown",
   "id": "08c59d88",
   "metadata": {},
   "source": [
    "### 7.4.2. <a id='toc7_4_2_'></a>[read h5 file](#toc0_)"
   ]
  },
  {
   "cell_type": "code",
   "execution_count": null,
   "id": "20300ccf",
   "metadata": {},
   "outputs": [],
   "source": [
    "# event_h5 = h5py.File('../data/event_catalogue_run00061_3Ch.h5', 'r')\n",
    "event_h5 = h5py.File('../temp_folder/argset_clean_catalogue.h5', 'r')"
   ]
  },
  {
   "cell_type": "code",
   "execution_count": null,
   "id": "ffb755c8",
   "metadata": {},
   "outputs": [],
   "source": [
    "event_h5['clean_ch1']\n",
    "#.close()"
   ]
  },
  {
   "cell_type": "code",
   "execution_count": null,
   "id": "68303996",
   "metadata": {},
   "outputs": [],
   "source": [
    "event_h5['clean_ch2']"
   ]
  },
  {
   "cell_type": "code",
   "execution_count": null,
   "id": "40922d35",
   "metadata": {},
   "outputs": [],
   "source": [
    "event_h5.close()"
   ]
  },
  {
   "cell_type": "code",
   "execution_count": null,
   "id": "d80e5437",
   "metadata": {},
   "outputs": [],
   "source": [
    "event_counter = np.array(event_h5['event_counter'])"
   ]
  },
  {
   "cell_type": "code",
   "execution_count": null,
   "id": "703e1d0e",
   "metadata": {},
   "outputs": [],
   "source": [
    "event_counter = event_h5.get('event_counter')"
   ]
  },
  {
   "cell_type": "code",
   "execution_count": null,
   "id": "1da450c8",
   "metadata": {},
   "outputs": [],
   "source": [
    "event_counter"
   ]
  },
  {
   "cell_type": "code",
   "execution_count": null,
   "id": "1c9d4f9f",
   "metadata": {},
   "outputs": [],
   "source": [
    "wf_ch0 = event_h5.get('wf_ch0')"
   ]
  },
  {
   "cell_type": "code",
   "execution_count": null,
   "id": "51efa00f",
   "metadata": {},
   "outputs": [],
   "source": [
    "wf_ch1 = event_h5.get('wf_ch1')"
   ]
  },
  {
   "cell_type": "code",
   "execution_count": null,
   "id": "d7f524ea",
   "metadata": {},
   "outputs": [],
   "source": [
    "wf_ch2 = event_h5.get('wf_ch2')"
   ]
  },
  {
   "cell_type": "markdown",
   "id": "971ee0c0",
   "metadata": {},
   "source": [
    "# 8. <a id='toc8_'></a>[Memory diagnostics](#toc0_)"
   ]
  },
  {
   "cell_type": "code",
   "execution_count": null,
   "id": "8a55a1a6",
   "metadata": {},
   "outputs": [],
   "source": [
    "# ## see memory usage\n",
    "!cat /proc/meminfo"
   ]
  },
  {
   "cell_type": "code",
   "execution_count": null,
   "id": "d5b7e985",
   "metadata": {},
   "outputs": [],
   "source": [
    "# event_catalogue.info(memory_usage='deep')"
   ]
  },
  {
   "cell_type": "code",
   "execution_count": null,
   "id": "e2387ddb",
   "metadata": {},
   "outputs": [],
   "source": [
    "# del event_catalogue"
   ]
  },
  {
   "cell_type": "code",
   "execution_count": null,
   "id": "96c7800d",
   "metadata": {},
   "outputs": [],
   "source": [
    "# !cat /proc/meminfo"
   ]
  },
  {
   "cell_type": "code",
   "execution_count": null,
   "id": "e54f1448",
   "metadata": {},
   "outputs": [],
   "source": [
    "# import gc\n",
    "# gc.isenabled()"
   ]
  },
  {
   "cell_type": "code",
   "execution_count": null,
   "id": "ff4d450b",
   "metadata": {},
   "outputs": [],
   "source": [
    "# gc.collect()"
   ]
  },
  {
   "cell_type": "markdown",
   "id": "e577eae2",
   "metadata": {},
   "source": [
    "# 9. <a id='toc9_'></a>[reading pickle file](#toc0_)"
   ]
  },
  {
   "cell_type": "markdown",
   "id": "65edee90",
   "metadata": {},
   "source": [
    "import pickle"
   ]
  },
  {
   "cell_type": "code",
   "execution_count": null,
   "id": "2267c7f9",
   "metadata": {},
   "outputs": [],
   "source": [
    "import pickle"
   ]
  },
  {
   "cell_type": "code",
   "execution_count": null,
   "id": "272c98e1",
   "metadata": {},
   "outputs": [],
   "source": [
    "dict_pkl_filename = '../temp_folder/argset_clean_dict_3Ch.pkl' #argset_clean_dict_3Ch.pkl"
   ]
  },
  {
   "cell_type": "code",
   "execution_count": null,
   "id": "f4f62464",
   "metadata": {},
   "outputs": [],
   "source": [
    "handle = open(dict_pkl_filename, 'rb')\n",
    "dict_file = pickle.load(handle)"
   ]
  },
  {
   "cell_type": "code",
   "execution_count": null,
   "id": "ac9ea528",
   "metadata": {},
   "outputs": [],
   "source": [
    "dict_file['ch0'].shape"
   ]
  },
  {
   "cell_type": "code",
   "execution_count": null,
   "id": "f52bf13f",
   "metadata": {},
   "outputs": [],
   "source": [
    "dict_file['ch1'].shape"
   ]
  },
  {
   "cell_type": "code",
   "execution_count": null,
   "id": "a877b48c",
   "metadata": {},
   "outputs": [],
   "source": [
    "dict_file['ch2']"
   ]
  },
  {
   "cell_type": "code",
   "execution_count": null,
   "id": "299074be",
   "metadata": {},
   "outputs": [],
   "source": []
  },
  {
   "cell_type": "markdown",
   "id": "3cb39094",
   "metadata": {},
   "source": [
    "# 10. <a id='toc10_'></a>[Read auxiliary files](#toc0_)\n",
    "possibe bug in baseline substraction or waveform shifting"
   ]
  },
  {
   "cell_type": "code",
   "execution_count": null,
   "id": "e455ee4e",
   "metadata": {},
   "outputs": [],
   "source": [
    "clean_dict_filename = r'../temp_folder/clean_catalogue_dict.pkl'\n",
    "clean_dict_handle = open(clean_dict_filename, 'rb')"
   ]
  },
  {
   "cell_type": "code",
   "execution_count": null,
   "id": "45f42b71",
   "metadata": {},
   "outputs": [],
   "source": [
    "clean_dict = pickle.load(clean_dict_handle)"
   ]
  },
  {
   "cell_type": "code",
   "execution_count": null,
   "id": "7f0ef5db",
   "metadata": {},
   "outputs": [],
   "source": [
    "fit_dict_filename = r'../temp_folder/fit_catalogue_dict.pkl'\n",
    "fit_dict_handle = open(fit_dict_filename, 'rb')"
   ]
  },
  {
   "cell_type": "code",
   "execution_count": null,
   "id": "96c0312d",
   "metadata": {},
   "outputs": [],
   "source": [
    "fit_dict =pickle.load(fit_dict_handle)"
   ]
  },
  {
   "cell_type": "code",
   "execution_count": null,
   "id": "071ee691",
   "metadata": {},
   "outputs": [],
   "source": [
    "# # df_fit['ch2']\n",
    "# for i in range(4):\n",
    "#     print(df_fit['ch2'].iloc[i]['event_counter'], '-- -- --', df_fit['ch2'].iloc[i]['wf_ch2'])"
   ]
  },
  {
   "cell_type": "code",
   "execution_count": null,
   "id": "c467b892",
   "metadata": {},
   "outputs": [],
   "source": [
    "# # old_catalog_open.head()\n",
    "# for i in range(4):\n",
    "#     print(old_catalog_open.iloc[i]['event_index'], '-- ---', old_catalog_open.iloc[i]['wf'][2])"
   ]
  },
  {
   "cell_type": "code",
   "execution_count": null,
   "id": "04de6361",
   "metadata": {},
   "outputs": [],
   "source": [
    "old_catalogue_file = r'../temp_folder/argset_wfs_catalogue_100_1000.pkl'"
   ]
  },
  {
   "cell_type": "code",
   "execution_count": null,
   "id": "de455fbb",
   "metadata": {},
   "outputs": [],
   "source": [
    "old_catalogue_handle = open(old_catalogue_file, 'rb')\n",
    "old_catalog_df = pickle.load(old_catalogue_handle)"
   ]
  },
  {
   "cell_type": "code",
   "execution_count": null,
   "id": "1842391f",
   "metadata": {},
   "outputs": [],
   "source": [
    "## This is the event catalogue currently under use\n",
    "event_catalogue_filename = '/home/sarthak/my_projects/argset/data/event_catalogue_run0061.pkl'\n",
    "event_handle = open(event_catalogue_filename, 'rb')\n",
    "event_catalog_df = pickle.load(event_handle)"
   ]
  },
  {
   "cell_type": "code",
   "execution_count": null,
   "id": "f28f67ad",
   "metadata": {},
   "outputs": [],
   "source": [
    "old_catalog_df.head()"
   ]
  },
  {
   "cell_type": "code",
   "execution_count": null,
   "id": "fc3e52f8",
   "metadata": {},
   "outputs": [],
   "source": [
    "clean_dict['ch2']"
   ]
  },
  {
   "cell_type": "code",
   "execution_count": null,
   "id": "4847c753",
   "metadata": {},
   "outputs": [],
   "source": [
    "clean_dict['ch2'].iloc[2]['wf_ch2'] "
   ]
  },
  {
   "cell_type": "code",
   "execution_count": null,
   "id": "3ec4812e",
   "metadata": {},
   "outputs": [],
   "source": [
    "fit_dict['ch2'].iloc[2]['wf_ch2']"
   ]
  },
  {
   "cell_type": "code",
   "execution_count": null,
   "id": "e2a91157",
   "metadata": {},
   "outputs": [],
   "source": [
    "fit_dict['ch2'].iloc[2]['wf_ch2'] - clean_dict['ch2'].iloc[2]['wf_ch2']"
   ]
  },
  {
   "cell_type": "code",
   "execution_count": null,
   "id": "a2252522",
   "metadata": {},
   "outputs": [],
   "source": [
    "tmp_wf = clean_dict['ch2'].iloc[2]['wf_ch2']"
   ]
  },
  {
   "cell_type": "code",
   "execution_count": null,
   "id": "cc7d6a05",
   "metadata": {},
   "outputs": [],
   "source": [
    "min(tmp_wf)"
   ]
  },
  {
   "cell_type": "code",
   "execution_count": null,
   "id": "1cc105ea",
   "metadata": {},
   "outputs": [],
   "source": [
    "# for event_index in range(3): #range(old_catalog_open.shape[0]):\n",
    "#     wf = old_catalog_open.iloc[event_index]['wf']\n",
    "#     for _c in range(3):\n",
    "#         if min(wf[_c]) < 0:\n",
    "#             old_catalog_open.iloc[event_index]['wf'][_c] = wf[_c] + np.abs(min(wf[_c]))"
   ]
  }
 ],
 "metadata": {
  "kernelspec": {
   "display_name": "jar",
   "language": "python",
   "name": "python3"
  },
  "language_info": {
   "codemirror_mode": {
    "name": "ipython",
    "version": 3
   },
   "file_extension": ".py",
   "mimetype": "text/x-python",
   "name": "python",
   "nbconvert_exporter": "python",
   "pygments_lexer": "ipython3",
   "version": "3.11.8"
  }
 },
 "nbformat": 4,
 "nbformat_minor": 5
}
