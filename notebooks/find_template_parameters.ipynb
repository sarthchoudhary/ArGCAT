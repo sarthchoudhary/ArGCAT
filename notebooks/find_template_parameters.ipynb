{
 "cells": [
  {
   "cell_type": "markdown",
   "id": "4f8fefc6",
   "metadata": {},
   "source": [
    "<span style=\"color:yellow; font-family:'Roboto'; font-size:24px\"> \n",
    "Calibration of ArGSet SiPM's \n",
    "</span>"
   ]
  },
  {
   "cell_type": "markdown",
   "id": "6a329e1f",
   "metadata": {},
   "source": [
    "**Table of contents**<a id='toc0_'></a>    \n",
    "- 1. [Pyreco part](#toc1_)    \n",
    "  - 1.1. [Initialize manager](#toc1_1_)    \n",
    "  - 1.2. [Event loop](#toc1_2_)    \n",
    "- 2. [Numpy part](#toc2_)    \n",
    "  - 2.1. [data selection](#toc2_1_)    \n",
    "  - 2.2. [data preprocessing](#toc2_2_)    \n",
    "  - 2.3. [Plotting npy data](#toc2_3_)    \n",
    "  - 2.4. [Template function](#toc2_4_)    \n",
    "  - 2.5. [Fit range](#toc2_5_)    \n",
    "  - 2.6. [Fitter](#toc2_6_)    \n",
    "    - 2.6.1. [Chi-Square](#toc2_6_1_)    \n",
    "    - 2.6.2. [Getting back actual parameters](#toc2_6_2_)    \n",
    "    - 2.6.3. [plotting original data vs template with transformed parameters](#toc2_6_3_)    \n",
    "- 3. [ARMA Filter](#toc3_)    \n",
    "- 4. [Read pickled clean event catalogue](#toc4_)    \n",
    "  - 4.1. [How to increase statistics for parameters](#toc4_1_)    \n",
    "- 5. [Reading pickled event catalogue](#toc5_)    \n",
    "- 6. [trash this](#toc6_)    \n",
    "- 7. [altenative file formats](#toc7_)    \n",
    "  - 7.1. [npz](#toc7_1_)    \n",
    "  - 7.2. [HDF5](#toc7_2_)    \n",
    "  - 7.3. [parquet](#toc7_3_)    \n",
    "  - 7.4. [h5py on numpy array](#toc7_4_)    \n",
    "    - 7.4.1. [write h5 file](#toc7_4_1_)    \n",
    "    - 7.4.2. [read h5 file](#toc7_4_2_)    \n",
    "- 8. [Memory diagnostics](#toc8_)    \n",
    "- 9. [reading pickle file](#toc9_)    \n",
    "- 10. [Read auxiliary files](#toc10_)    \n",
    "- 11. [reading old auxiliary catalogue file.:](#toc11_)    \n",
    "\n",
    "<!-- vscode-jupyter-toc-config\n",
    "\tnumbering=true\n",
    "\tanchor=true\n",
    "\tflat=false\n",
    "\tminLevel=1\n",
    "\tmaxLevel=6\n",
    "\t/vscode-jupyter-toc-config -->\n",
    "<!-- THIS CELL WILL BE REPLACED ON TOC UPDATE. DO NOT WRITE YOUR TEXT IN THIS CELL -->"
   ]
  },
  {
   "cell_type": "markdown",
   "id": "cd8b8798",
   "metadata": {},
   "source": [
    "<p>\n",
    "<b> Steps to follow: </b>\n",
    "<ol>\n",
    "\n",
    "<li> Manually procedure </li>\n",
    "<ol>\n",
    "<li> collect 10 good events: single prominent peak.✅</li>\n",
    "<li> database of hand picked good events. ✅</li>\n",
    "<li> Fit the template to all events individually. ✅</li>\n",
    "<li> Improve fitting. ✅</li>\n",
    "<!-- <li>  </li> -->\n",
    "</ol>\n",
    "\n",
    "<!-- <ul> -->\n",
    "<li> Algorithm to select good events.\n",
    "<ol>\n",
    "<li> Get clean events ✅</li>\n",
    "<li> Get a rough estimate of peak position ✅</li>\n",
    "</li>\n",
    "</ol>\n",
    "<li> Take mean of all template parameters found in this manner. </li>\n",
    "<li> read midas documentation to figure out a way of dealing with eof</li>\n",
    "<!-- <li> </li> -->\n",
    "</ol>\n",
    "</p>\n"
   ]
  },
  {
   "cell_type": "markdown",
   "id": "2e07199a",
   "metadata": {},
   "source": [
    "<!-- # MIDAS events reconstruction -->\n",
    "\n",
    "Load packages, setup libraries"
   ]
  },
  {
   "cell_type": "code",
   "execution_count": 1,
   "id": "fbc1639a",
   "metadata": {},
   "outputs": [],
   "source": [
    "# import sys\n",
    "import numpy as np\n",
    "from scipy.optimize import curve_fit\n",
    "# from scipy.stats import chisquare\n",
    "# from scipy.integrate import simpson\n",
    "\n",
    "# import matplotlib\n",
    "import matplotlib.pyplot as plt\n",
    "# from matplotlib.ticker import AutoMinorLocator\n",
    "from matplotlib.ticker import FormatStrFormatter\n",
    "\n",
    "from termcolor import colored\n",
    "# import latexify\n",
    "import pandas as pd\n",
    "from tqdm.notebook import tqdm\n",
    "import pickle"
   ]
  },
  {
   "cell_type": "code",
   "execution_count": 2,
   "id": "2d233141",
   "metadata": {},
   "outputs": [],
   "source": [
    "np.set_printoptions(formatter={'float': lambda x: f\"{x:10.4g}\"})"
   ]
  },
  {
   "cell_type": "code",
   "execution_count": 3,
   "id": "9eb3ea97",
   "metadata": {
    "metadata": {}
   },
   "outputs": [
    {
     "name": "stdout",
     "output_type": "stream",
     "text": [
      "Welcome to JupyROOT 6.30/04\n"
     ]
    }
   ],
   "source": [
    "from pyreco.manager.manager import Manager"
   ]
  },
  {
   "cell_type": "code",
   "execution_count": 4,
   "id": "dd973f7f",
   "metadata": {},
   "outputs": [],
   "source": [
    "%matplotlib ipympl"
   ]
  },
  {
   "cell_type": "markdown",
   "id": "84595ffc",
   "metadata": {},
   "source": [
    "# 1. <a id='toc1_'></a>[Pyreco part](#toc0_)"
   ]
  },
  {
   "cell_type": "markdown",
   "id": "de0d06b2",
   "metadata": {},
   "source": [
    "Select here midas data, output filename and configuration file"
   ]
  },
  {
   "cell_type": "code",
   "execution_count": 7,
   "id": "639f5343",
   "metadata": {},
   "outputs": [],
   "source": [
    "# filename = '/work/sarthak/ArgSet/2024_Mar_27/midas/run00061.mid.lz4'\n",
    "filename = '/work/sarthak/argset/data/2024_Mar_27/midas/run00061.mid.lz4'\n",
    "outfile = 'jupyR00061'\n",
    "confile = 'argset.ini'\n",
    "# tmin,tmax = 0, 1750"
   ]
  },
  {
   "cell_type": "markdown",
   "id": "bb1d278d",
   "metadata": {},
   "source": [
    "## 1.1. <a id='toc1_1_'></a>[Initialize manager](#toc0_)"
   ]
  },
  {
   "cell_type": "code",
   "execution_count": 8,
   "id": "51f0879d",
   "metadata": {},
   "outputs": [
    {
     "name": "stderr",
     "output_type": "stream",
     "text": [
      "PyReco path: /home/sarthak/my_projects/pyreco/pyreco/__init__.py\n"
     ]
    },
    {
     "name": "stdout",
     "output_type": "stream",
     "text": [
      "Reading default config file: config.ini\n",
      "Reading config file: argset.ini\n",
      "Updating configuration parameters.\n"
     ]
    },
    {
     "name": "stderr",
     "output_type": "stream",
     "text": [
      "Midas Reader: Active\n",
      "Adding white noise with  1.4 mV RMS\n"
     ]
    },
    {
     "name": "stdout",
     "output_type": "stream",
     "text": [
      "Reconstruction Algorithms: Activated\n",
      "subrun 0: /work/sarthak/argset/data/2024_Mar_27/midas/run00061.mid.lz4\n"
     ]
    },
    {
     "name": "stderr",
     "output_type": "stream",
     "text": [
      "Gain: Active\n"
     ]
    }
   ],
   "source": [
    "cmdline_args = f'--config {confile} -o {outfile} -i {filename}'\n",
    "m = Manager( midas=True, cmdline_args=cmdline_args)\n",
    "# m = Manager( midas=True) #, cmdline_args=cmdline_args)\n",
    "# baseline_samples = m.config('reco', 'bl_to', 'int')"
   ]
  },
  {
   "cell_type": "markdown",
   "id": "7ec8477a",
   "metadata": {},
   "source": [
    "## 1.2. <a id='toc1_2_'></a>[Event loop](#toc0_)"
   ]
  },
  {
   "cell_type": "code",
   "execution_count": 9,
   "id": "8d4f0d4d",
   "metadata": {},
   "outputs": [],
   "source": [
    "# # nev_max = m.config('base', 'nevents', 'int')\n",
    "# # nev_max = 2\n",
    "# # nev_max = 455 # diag\n",
    "# # for nev, event in enumerate(m.midas): # oddly doing m.midas shifts the 'pointer' to the next event\n",
    "# for nev, event in enumerate(m.midas):\n",
    "#     #print(nev, event, event.nchannels)\n",
    "#     if nev < 2: continue\n",
    "#     if nev > 1: break\n",
    "#     # if nev > 450: break\n",
    "#     # print(nev)"
   ]
  },
  {
   "cell_type": "code",
   "execution_count": 14,
   "id": "48267d5c",
   "metadata": {},
   "outputs": [
    {
     "data": {
      "text/plain": [
       "<matplotlib.legend.Legend at 0x7f3184bf2a90>"
      ]
     },
     "execution_count": 14,
     "metadata": {},
     "output_type": "execute_result"
    },
    {
     "data": {
      "application/vnd.jupyter.widget-view+json": {
       "model_id": "ade5b10836c6477d8ae1f73ea0cb9409",
       "version_major": 2,
       "version_minor": 0
      },
      "image/png": "[encoded data removed]",
      "text/html": [
       "\n",
       "            <div style=\"display: inline-block;\">\n",
       "                <div class=\"jupyter-widgets widget-label\" style=\"text-align: center;\">\n",
       "                    Figure\n",
       "                </div>\n",
       "                <img src='data:image/png;base64,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' width=640.0/>\n",
       "            </div>\n",
       "        "
      ],
      "text/plain": [
       "Canvas(toolbar=Toolbar(toolitems=[('Home', 'Reset original view', 'home', 'home'), ('Back', 'Back to previous …"
      ]
     },
     "metadata": {},
     "output_type": "display_data"
    }
   ],
   "source": [
    "## to use this cell, run the above cell once\n",
    "plt.close(1)\n",
    "plt.figure(1)\n",
    "#### Note: this way of looping skips one event every time we execute the for loop. Probably better not to use this loop in full code. \n",
    "for nev, event in enumerate(m.midas): # oddly doing m.midas shifts the 'pointer' to the next event\n",
    "    if nev > 0: break\n",
    "    wfs = event.adc_data\n",
    "    for i,wf in enumerate(event.adc_data): # over channels\n",
    "        wfs[i] = wf-event.adc_baseline[i]\n",
    "        plt.plot(wfs[i], label=f'{i}')\n",
    "# plt.xlim(tmin,tmax)\n",
    "plt.legend()"
   ]
  },
  {
   "cell_type": "markdown",
   "id": "48e99617",
   "metadata": {},
   "source": [
    "# 2. <a id='toc2_'></a>[Numpy part](#toc0_)"
   ]
  },
  {
   "cell_type": "markdown",
   "id": "9c0322e0",
   "metadata": {},
   "source": [
    "- we use numpy file from here onwards!"
   ]
  },
  {
   "cell_type": "code",
   "execution_count": 11,
   "id": "41e227e7",
   "metadata": {},
   "outputs": [
    {
     "ename": "FileNotFoundError",
     "evalue": "[Errno 2] No such file or directory: '../finger_plots/midas_wfs_ls.npy'",
     "output_type": "error",
     "traceback": [
      "\u001b[0;31m---------------------------------------------------------------------------\u001b[0m",
      "\u001b[0;31mFileNotFoundError\u001b[0m                         Traceback (most recent call last)",
      "Cell \u001b[0;32mIn[11], line 1\u001b[0m\n\u001b[0;32m----> 1\u001b[0m wfs_arr \u001b[38;5;241m=\u001b[39m np\u001b[38;5;241m.\u001b[39mload(\u001b[38;5;124m\"\u001b[39m\u001b[38;5;124m../finger_plots/midas_wfs_ls.npy\u001b[39m\u001b[38;5;124m\"\u001b[39m, allow_pickle\u001b[38;5;241m=\u001b[39m\u001b[38;5;28;01mTrue\u001b[39;00m)\n",
      "File \u001b[0;32m~/miniconda3/envs/jar/lib/python3.11/site-packages/numpy/lib/npyio.py:427\u001b[0m, in \u001b[0;36mload\u001b[0;34m(file, mmap_mode, allow_pickle, fix_imports, encoding, max_header_size)\u001b[0m\n\u001b[1;32m    425\u001b[0m     own_fid \u001b[38;5;241m=\u001b[39m \u001b[38;5;28;01mFalse\u001b[39;00m\n\u001b[1;32m    426\u001b[0m \u001b[38;5;28;01melse\u001b[39;00m:\n\u001b[0;32m--> 427\u001b[0m     fid \u001b[38;5;241m=\u001b[39m stack\u001b[38;5;241m.\u001b[39menter_context(\u001b[38;5;28mopen\u001b[39m(os_fspath(file), \u001b[38;5;124m\"\u001b[39m\u001b[38;5;124mrb\u001b[39m\u001b[38;5;124m\"\u001b[39m))\n\u001b[1;32m    428\u001b[0m     own_fid \u001b[38;5;241m=\u001b[39m \u001b[38;5;28;01mTrue\u001b[39;00m\n\u001b[1;32m    430\u001b[0m \u001b[38;5;66;03m# Code to distinguish from NumPy binary files and pickles.\u001b[39;00m\n",
      "\u001b[0;31mFileNotFoundError\u001b[0m: [Errno 2] No such file or directory: '../finger_plots/midas_wfs_ls.npy'"
     ]
    }
   ],
   "source": [
    "# wfs_arr = np.load(\"../finger_plots/midas_wfs_ls.npy\", allow_pickle=True) # all preselected events for processing"
   ]
  },
  {
   "cell_type": "code",
   "execution_count": 15,
   "id": "820f391f",
   "metadata": {},
   "outputs": [],
   "source": [
    "wfs_arr = wfs"
   ]
  },
  {
   "cell_type": "code",
   "execution_count": null,
   "id": "abfc29f8",
   "metadata": {},
   "outputs": [],
   "source": [
    "## we are saving select waveforms\n",
    "# new_wfs_ls.append(wfs)\n",
    "# new_wfs_ls = list(new_wfs_ls)\n",
    "# print(new_wfs_ls)\n",
    "# len(new_wfs_ls)\n",
    "# np.save(\"../finger_plots/midas_wfs_ls.npy\", new_wfs_ls, allow_pickle=True)"
   ]
  },
  {
   "cell_type": "markdown",
   "id": "00d75ae5",
   "metadata": {},
   "source": [
    "## 2.1. <a id='toc2_1_'></a>[data selection](#toc0_)"
   ]
  },
  {
   "cell_type": "code",
   "execution_count": 22,
   "id": "c41d27bc",
   "metadata": {},
   "outputs": [],
   "source": [
    "# og_wfs = wfs_arr[0].copy() # had success with [3] # [2] has multiple peaks\n",
    "og_wfs = wfs_arr.copy()"
   ]
  },
  {
   "cell_type": "code",
   "execution_count": 23,
   "id": "f939be7b",
   "metadata": {
    "metadata": {}
   },
   "outputs": [],
   "source": [
    "n_channel = 2"
   ]
  },
  {
   "cell_type": "code",
   "execution_count": 24,
   "id": "2d57095c",
   "metadata": {},
   "outputs": [],
   "source": [
    "tmin = 0\n",
    "tmax = min(og_wfs[n_channel].shape[0], 1750)"
   ]
  },
  {
   "cell_type": "markdown",
   "id": "54055ce9",
   "metadata": {},
   "source": [
    "## 2.2. <a id='toc2_2_'></a>[data preprocessing](#toc0_)"
   ]
  },
  {
   "cell_type": "code",
   "execution_count": 25,
   "id": "08ba3740",
   "metadata": {},
   "outputs": [],
   "source": [
    "## this approach is not going to be used.\n",
    "# # dividng by area under the curve so that new area under the curve = 1\n",
    "# for _c in range(3):\n",
    "#     wfs[_c] = np.divide( wfs[_c], simpson(wfs[_c] ) )"
   ]
  },
  {
   "cell_type": "code",
   "execution_count": 26,
   "id": "7f6d42fe",
   "metadata": {
    "metadata": {}
   },
   "outputs": [],
   "source": [
    "# temp\n",
    "# simpson(wfs[2])"
   ]
  },
  {
   "cell_type": "code",
   "execution_count": 27,
   "id": "f175e4a1",
   "metadata": {
    "metadata": {}
   },
   "outputs": [],
   "source": [
    "# temp\n",
    "# 0.0010*simpson(wfs[2])"
   ]
  },
  {
   "cell_type": "code",
   "execution_count": 28,
   "id": "c52dfa32",
   "metadata": {
    "metadata": {}
   },
   "outputs": [],
   "source": [
    "### shifting\n",
    "def transform_shift_wfs(og_wfs:np.ndarray) -> tuple:\n",
    "    wfs = np.copy(og_wfs)\n",
    "    shift_values = {}\n",
    "    for _c in range(3):\n",
    "        a = np.min(og_wfs[_c])\n",
    "        if a < 0:\n",
    "            print(f\"channel {_c} below {0}: value of min element = {a}.\")\n",
    "            wfs[_c] = og_wfs[_c] + np.abs(a)\n",
    "            shift_values[str(_c)] = a\n",
    "        else:\n",
    "            shift_values[str(_c)] = 0\n",
    "    return (wfs, shift_values)"
   ]
  },
  {
   "cell_type": "code",
   "execution_count": 29,
   "id": "a935e56a",
   "metadata": {
    "metadata": {}
   },
   "outputs": [
    {
     "name": "stdout",
     "output_type": "stream",
     "text": [
      "channel 0 below 0: value of min element = -12999.0.\n",
      "channel 1 below 0: value of min element = -13143.0.\n",
      "channel 2 below 0: value of min element = -13082.0.\n"
     ]
    }
   ],
   "source": [
    "wfs, shift_values = transform_shift_wfs(og_wfs)\n",
    "# wfs[2]"
   ]
  },
  {
   "cell_type": "code",
   "execution_count": 30,
   "id": "dd5a29e1",
   "metadata": {},
   "outputs": [
    {
     "data": {
      "text/plain": [
       "{'0': -12999.0, '1': -13143.0, '2': -13082.0}"
      ]
     },
     "execution_count": 30,
     "metadata": {},
     "output_type": "execute_result"
    }
   ],
   "source": [
    "shift_values"
   ]
  },
  {
   "cell_type": "markdown",
   "id": "604a296b",
   "metadata": {},
   "source": [
    "## 2.3. <a id='toc2_3_'></a>[Plotting npy data](#toc0_)"
   ]
  },
  {
   "cell_type": "code",
   "execution_count": 31,
   "id": "e1548527",
   "metadata": {},
   "outputs": [
    {
     "data": {
      "application/vnd.jupyter.widget-view+json": {
       "model_id": "3b5d936f005f47e280fdd66324ea0f6b",
       "version_major": 2,
       "version_minor": 0
      },
      "image/png": "[encoded data removed]",
      "text/html": [
       "\n",
       "            <div style=\"display: inline-block;\">\n",
       "                <div class=\"jupyter-widgets widget-label\" style=\"text-align: center;\">\n",
       "                    Figure\n",
       "                </div>\n",
       "                <img src='data:image/png;base64,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' width=640.0/>\n",
       "            </div>\n",
       "        "
      ],
      "text/plain": [
       "Canvas(toolbar=Toolbar(toolitems=[('Home', 'Reset original view', 'home', 'home'), ('Back', 'Back to previous …"
      ]
     },
     "metadata": {},
     "output_type": "display_data"
    }
   ],
   "source": [
    "plt.close(2)\n",
    "plt.figure(2)\n",
    "plt.title('transformed data')\n",
    "from matplotlib.offsetbox import AnchoredText\n",
    "for _c in range(3):\n",
    "    plt.plot(wfs[_c], label=f'channel {_c}')\n",
    "\n",
    "plt.legend()\n",
    "\n",
    "plt.grid()"
   ]
  },
  {
   "cell_type": "markdown",
   "id": "f29880d8",
   "metadata": {},
   "source": [
    "## 2.4. <a id='toc2_4_'></a>[Template function](#toc0_)"
   ]
  },
  {
   "cell_type": "code",
   "execution_count": 32,
   "id": "24eb5761",
   "metadata": {},
   "outputs": [],
   "source": [
    "# template as original given passed by Marcin\n",
    "# def simplesum(t, t0, sigma, tau, scale):\n",
    "#     return (1-scale)/(sigma*np.sqrt(2*np.pi))*np.exp(-((t-t0)/(sigma))**2/2) + scale*np.heaviside(t-t0,1)/tau*np.exp(-(t-t0)/tau)\n",
    "\n",
    "# @latexify.function\n",
    "def simplesum(t, t0, sigma, tau, scale, baseline, K):\n",
    "    return baseline + K*((1-scale)/(sigma*np.sqrt(2*np.pi))*np.exp(-((t-t0)/(sigma))**2/2) + scale*np.heaviside(t-t0,0)/tau*np.exp(-(t-t0)/tau))"
   ]
  },
  {
   "cell_type": "code",
   "execution_count": 33,
   "id": "fe1ff39c",
   "metadata": {},
   "outputs": [],
   "source": [
    "# @latexify.function()\n",
    "# simplesum"
   ]
  },
  {
   "cell_type": "markdown",
   "id": "c2c58f05",
   "metadata": {},
   "source": [
    "## 2.5. <a id='toc2_5_'></a>[Fit range](#toc0_)"
   ]
  },
  {
   "cell_type": "code",
   "execution_count": 66,
   "id": "3da2d98c",
   "metadata": {},
   "outputs": [],
   "source": [
    "# fit_begin = 400\n",
    "# fit_end = 600\n",
    "# fit_begin = 325 # 400 #350\n",
    "# fit_end = 775 # 600 # THIS gives best result # 650  # this must be optimal\n",
    "fit_begin = 0\n",
    "# fit_end = wfs[2].shape[0] -1 \n",
    "fit_end  = 1750 # hardcoded\n",
    "x_values = np.arange(tmin, tmax+1)\n",
    "# x_values = np.arange(tmin, tmax)"
   ]
  },
  {
   "cell_type": "markdown",
   "id": "d37b3b83",
   "metadata": {},
   "source": [
    "## 2.6. <a id='toc2_6_'></a>[Fitter](#toc0_)"
   ]
  },
  {
   "cell_type": "code",
   "execution_count": 67,
   "id": "8e274214",
   "metadata": {},
   "outputs": [],
   "source": [
    "mse_700_800 = np.std(wfs[2][700:800])/np.sqrt(wfs[2][700:800].shape[0])"
   ]
  },
  {
   "cell_type": "code",
   "execution_count": 68,
   "id": "4391087d",
   "metadata": {},
   "outputs": [
    {
     "data": {
      "text/plain": [
       "array([      6452,       6520,       6491])"
      ]
     },
     "execution_count": 68,
     "metadata": {},
     "output_type": "execute_result"
    }
   ],
   "source": [
    "np.std(wfs, axis=1)"
   ]
  },
  {
   "cell_type": "code",
   "execution_count": 69,
   "id": "d00be2fc",
   "metadata": {},
   "outputs": [
    {
     "data": {
      "text/plain": [
       "5.763497202220193"
      ]
     },
     "execution_count": 69,
     "metadata": {},
     "output_type": "execute_result"
    }
   ],
   "source": [
    "np.std(wfs[2][600:700])"
   ]
  },
  {
   "cell_type": "code",
   "execution_count": 70,
   "id": "56414b23",
   "metadata": {},
   "outputs": [],
   "source": [
    "# np.std(wfs[2][700:800])/np.sqrt(wfs[2][700:800].shape[0])"
   ]
  },
  {
   "cell_type": "code",
   "execution_count": 71,
   "id": "cb3c848e",
   "metadata": {
    "metadata": {}
   },
   "outputs": [],
   "source": [
    "## use rmse_700_800 into the curve_fit"
   ]
  },
  {
   "cell_type": "code",
   "execution_count": 72,
   "id": "e4008ee4",
   "metadata": {},
   "outputs": [
    {
     "data": {
      "text/plain": [
       "(1751,)"
      ]
     },
     "execution_count": 72,
     "metadata": {},
     "output_type": "execute_result"
    }
   ],
   "source": [
    "x_values[fit_begin:fit_end+1].shape"
   ]
  },
  {
   "cell_type": "code",
   "execution_count": 73,
   "id": "1e9a65f2",
   "metadata": {},
   "outputs": [
    {
     "data": {
      "text/plain": [
       "(1751,)"
      ]
     },
     "execution_count": 73,
     "metadata": {},
     "output_type": "execute_result"
    }
   ],
   "source": [
    "wfs[2][fit_begin:fit_end+1].shape"
   ]
  },
  {
   "cell_type": "code",
   "execution_count": 74,
   "id": "978156b5",
   "metadata": {},
   "outputs": [
    {
     "data": {
      "text/plain": [
       "1750"
      ]
     },
     "execution_count": 74,
     "metadata": {},
     "output_type": "execute_result"
    }
   ],
   "source": [
    "fit_end"
   ]
  },
  {
   "cell_type": "code",
   "execution_count": 75,
   "id": "36d9b7da",
   "metadata": {
    "metadata": {}
   },
   "outputs": [],
   "source": [
    "p0_input = [440.0,   2.5,  80.0,   0.95, 0.0, 10000.0] #t0=416, sigma=1.85, tau=87, scale=0.98, baseline=0.0002, K=12560\n",
    "\n",
    "fittedparameters, pcov = curve_fit(simplesum, x_values[fit_begin:fit_end+1], wfs[2][fit_begin:fit_end+1], \\\n",
    "                                    p0 = p0_input, \\\n",
    "                                    # sigma=mse_700_800*np.ones(wfs[2].shape), \\\n",
    "                                    bounds = ([0, 0, 0, 0, -np.inf, 0], \\\n",
    "                                              [np.inf, 10, np.inf, 1, np.inf, np.inf])\n",
    "                                    )"
   ]
  },
  {
   "cell_type": "code",
   "execution_count": 76,
   "id": "830e0f79",
   "metadata": {
    "metadata": {}
   },
   "outputs": [
    {
     "data": {
      "text/plain": [
       "array([       408,      9.998,      357.5,     0.9682,  1.305e+04,\n",
       "        1.899e+04])"
      ]
     },
     "execution_count": 76,
     "metadata": {},
     "output_type": "execute_result"
    }
   ],
   "source": [
    "fittedparameters"
   ]
  },
  {
   "cell_type": "code",
   "execution_count": 77,
   "id": "5dee7052",
   "metadata": {
    "metadata": {}
   },
   "outputs": [],
   "source": [
    "# pcov"
   ]
  },
  {
   "cell_type": "code",
   "execution_count": 78,
   "id": "5c436c32",
   "metadata": {},
   "outputs": [
    {
     "ename": "ValueError",
     "evalue": "x and y must have same first dimension, but have shapes (1751,) and (4000,)",
     "output_type": "error",
     "traceback": [
      "\u001b[0;31m---------------------------------------------------------------------------\u001b[0m",
      "\u001b[0;31mValueError\u001b[0m                                Traceback (most recent call last)",
      "Cell \u001b[0;32mIn[78], line 6\u001b[0m\n\u001b[1;32m      4\u001b[0m plt\u001b[38;5;241m.\u001b[39mfigure(\u001b[38;5;241m3\u001b[39m, figsize\u001b[38;5;241m=\u001b[39m(\u001b[38;5;241m8\u001b[39m,\u001b[38;5;241m6\u001b[39m))\n\u001b[1;32m      5\u001b[0m plt\u001b[38;5;241m.\u001b[39mtitle(\u001b[38;5;124m'\u001b[39m\u001b[38;5;124mfit vs data\u001b[39m\u001b[38;5;124m'\u001b[39m)\n\u001b[0;32m----> 6\u001b[0m plt\u001b[38;5;241m.\u001b[39mplot(x_values, wfs[\u001b[38;5;241m2\u001b[39m], \u001b[38;5;124m'\u001b[39m\u001b[38;5;124m.--\u001b[39m\u001b[38;5;124m'\u001b[39m, color\u001b[38;5;241m=\u001b[39m\u001b[38;5;124m'\u001b[39m\u001b[38;5;124mblack\u001b[39m\u001b[38;5;124m'\u001b[39m, alpha\u001b[38;5;241m=\u001b[39m\u001b[38;5;241m1.0\u001b[39m, label\u001b[38;5;241m=\u001b[39m\u001b[38;5;124m'\u001b[39m\u001b[38;5;124mwhatever is selected\u001b[39m\u001b[38;5;124m'\u001b[39m)\n\u001b[1;32m      7\u001b[0m \u001b[38;5;66;03m# plt.plot(x_values[fit_begin:fit_end+1], wfs[2][fit_begin:fit_end+1], '.--', color='C2', alpha=0.1, label='whatever is selected')\u001b[39;00m\n\u001b[1;32m      8\u001b[0m \u001b[38;5;66;03m# plt.plot(x_values[fit_begin:fit_end+1], wfs[2][fit_begin:fit_end+1]/auc, '.--', color='C2', alpha=0.1, label='whatever is selected')\u001b[39;00m\n\u001b[1;32m      9\u001b[0m plt\u001b[38;5;241m.\u001b[39mplot(x_values[fit_begin:fit_end\u001b[38;5;241m+\u001b[39m\u001b[38;5;241m1\u001b[39m], simplesum(x_values[fit_begin:fit_end\u001b[38;5;241m+\u001b[39m\u001b[38;5;241m1\u001b[39m], \u001b[38;5;241m*\u001b[39mfittedparameters), \\\n\u001b[1;32m     10\u001b[0m         \u001b[38;5;124m'\u001b[39m\u001b[38;5;124m-\u001b[39m\u001b[38;5;124m'\u001b[39m, color\u001b[38;5;241m=\u001b[39m\u001b[38;5;124m'\u001b[39m\u001b[38;5;124mred\u001b[39m\u001b[38;5;124m'\u001b[39m, alpha\u001b[38;5;241m=\u001b[39m\u001b[38;5;241m1.0\u001b[39m, label\u001b[38;5;241m=\u001b[39m\u001b[38;5;124m'\u001b[39m\u001b[38;5;124mbest fit template\u001b[39m\u001b[38;5;124m'\u001b[39m);\n",
      "File \u001b[0;32m~/miniconda3/envs/jar/lib/python3.11/site-packages/matplotlib/pyplot.py:3578\u001b[0m, in \u001b[0;36mplot\u001b[0;34m(scalex, scaley, data, *args, **kwargs)\u001b[0m\n\u001b[1;32m   3570\u001b[0m \u001b[38;5;129m@_copy_docstring_and_deprecators\u001b[39m(Axes\u001b[38;5;241m.\u001b[39mplot)\n\u001b[1;32m   3571\u001b[0m \u001b[38;5;28;01mdef\u001b[39;00m \u001b[38;5;21mplot\u001b[39m(\n\u001b[1;32m   3572\u001b[0m     \u001b[38;5;241m*\u001b[39margs: \u001b[38;5;28mfloat\u001b[39m \u001b[38;5;241m|\u001b[39m ArrayLike \u001b[38;5;241m|\u001b[39m \u001b[38;5;28mstr\u001b[39m,\n\u001b[0;32m   (...)\u001b[0m\n\u001b[1;32m   3576\u001b[0m     \u001b[38;5;241m*\u001b[39m\u001b[38;5;241m*\u001b[39mkwargs,\n\u001b[1;32m   3577\u001b[0m ) \u001b[38;5;241m-\u001b[39m\u001b[38;5;241m>\u001b[39m \u001b[38;5;28mlist\u001b[39m[Line2D]:\n\u001b[0;32m-> 3578\u001b[0m     \u001b[38;5;28;01mreturn\u001b[39;00m gca()\u001b[38;5;241m.\u001b[39mplot(\n\u001b[1;32m   3579\u001b[0m         \u001b[38;5;241m*\u001b[39margs,\n\u001b[1;32m   3580\u001b[0m         scalex\u001b[38;5;241m=\u001b[39mscalex,\n\u001b[1;32m   3581\u001b[0m         scaley\u001b[38;5;241m=\u001b[39mscaley,\n\u001b[1;32m   3582\u001b[0m         \u001b[38;5;241m*\u001b[39m\u001b[38;5;241m*\u001b[39m({\u001b[38;5;124m\"\u001b[39m\u001b[38;5;124mdata\u001b[39m\u001b[38;5;124m\"\u001b[39m: data} \u001b[38;5;28;01mif\u001b[39;00m data \u001b[38;5;129;01mis\u001b[39;00m \u001b[38;5;129;01mnot\u001b[39;00m \u001b[38;5;28;01mNone\u001b[39;00m \u001b[38;5;28;01melse\u001b[39;00m {}),\n\u001b[1;32m   3583\u001b[0m         \u001b[38;5;241m*\u001b[39m\u001b[38;5;241m*\u001b[39mkwargs,\n\u001b[1;32m   3584\u001b[0m     )\n",
      "File \u001b[0;32m~/miniconda3/envs/jar/lib/python3.11/site-packages/matplotlib/axes/_axes.py:1721\u001b[0m, in \u001b[0;36mAxes.plot\u001b[0;34m(self, scalex, scaley, data, *args, **kwargs)\u001b[0m\n\u001b[1;32m   1478\u001b[0m \u001b[38;5;250m\u001b[39m\u001b[38;5;124;03m\"\"\"\u001b[39;00m\n\u001b[1;32m   1479\u001b[0m \u001b[38;5;124;03mPlot y versus x as lines and/or markers.\u001b[39;00m\n\u001b[1;32m   1480\u001b[0m \n\u001b[0;32m   (...)\u001b[0m\n\u001b[1;32m   1718\u001b[0m \u001b[38;5;124;03m(``'green'``) or hex strings (``'#008000'``).\u001b[39;00m\n\u001b[1;32m   1719\u001b[0m \u001b[38;5;124;03m\"\"\"\u001b[39;00m\n\u001b[1;32m   1720\u001b[0m kwargs \u001b[38;5;241m=\u001b[39m cbook\u001b[38;5;241m.\u001b[39mnormalize_kwargs(kwargs, mlines\u001b[38;5;241m.\u001b[39mLine2D)\n\u001b[0;32m-> 1721\u001b[0m lines \u001b[38;5;241m=\u001b[39m [\u001b[38;5;241m*\u001b[39m\u001b[38;5;28mself\u001b[39m\u001b[38;5;241m.\u001b[39m_get_lines(\u001b[38;5;28mself\u001b[39m, \u001b[38;5;241m*\u001b[39margs, data\u001b[38;5;241m=\u001b[39mdata, \u001b[38;5;241m*\u001b[39m\u001b[38;5;241m*\u001b[39mkwargs)]\n\u001b[1;32m   1722\u001b[0m \u001b[38;5;28;01mfor\u001b[39;00m line \u001b[38;5;129;01min\u001b[39;00m lines:\n\u001b[1;32m   1723\u001b[0m     \u001b[38;5;28mself\u001b[39m\u001b[38;5;241m.\u001b[39madd_line(line)\n",
      "File \u001b[0;32m~/miniconda3/envs/jar/lib/python3.11/site-packages/matplotlib/axes/_base.py:303\u001b[0m, in \u001b[0;36m_process_plot_var_args.__call__\u001b[0;34m(self, axes, data, *args, **kwargs)\u001b[0m\n\u001b[1;32m    301\u001b[0m     this \u001b[38;5;241m+\u001b[39m\u001b[38;5;241m=\u001b[39m args[\u001b[38;5;241m0\u001b[39m],\n\u001b[1;32m    302\u001b[0m     args \u001b[38;5;241m=\u001b[39m args[\u001b[38;5;241m1\u001b[39m:]\n\u001b[0;32m--> 303\u001b[0m \u001b[38;5;28;01myield from\u001b[39;00m \u001b[38;5;28mself\u001b[39m\u001b[38;5;241m.\u001b[39m_plot_args(\n\u001b[1;32m    304\u001b[0m     axes, this, kwargs, ambiguous_fmt_datakey\u001b[38;5;241m=\u001b[39mambiguous_fmt_datakey)\n",
      "File \u001b[0;32m~/miniconda3/envs/jar/lib/python3.11/site-packages/matplotlib/axes/_base.py:499\u001b[0m, in \u001b[0;36m_process_plot_var_args._plot_args\u001b[0;34m(self, axes, tup, kwargs, return_kwargs, ambiguous_fmt_datakey)\u001b[0m\n\u001b[1;32m    496\u001b[0m     axes\u001b[38;5;241m.\u001b[39myaxis\u001b[38;5;241m.\u001b[39mupdate_units(y)\n\u001b[1;32m    498\u001b[0m \u001b[38;5;28;01mif\u001b[39;00m x\u001b[38;5;241m.\u001b[39mshape[\u001b[38;5;241m0\u001b[39m] \u001b[38;5;241m!=\u001b[39m y\u001b[38;5;241m.\u001b[39mshape[\u001b[38;5;241m0\u001b[39m]:\n\u001b[0;32m--> 499\u001b[0m     \u001b[38;5;28;01mraise\u001b[39;00m \u001b[38;5;167;01mValueError\u001b[39;00m(\u001b[38;5;124mf\u001b[39m\u001b[38;5;124m\"\u001b[39m\u001b[38;5;124mx and y must have same first dimension, but \u001b[39m\u001b[38;5;124m\"\u001b[39m\n\u001b[1;32m    500\u001b[0m                      \u001b[38;5;124mf\u001b[39m\u001b[38;5;124m\"\u001b[39m\u001b[38;5;124mhave shapes \u001b[39m\u001b[38;5;132;01m{\u001b[39;00mx\u001b[38;5;241m.\u001b[39mshape\u001b[38;5;132;01m}\u001b[39;00m\u001b[38;5;124m and \u001b[39m\u001b[38;5;132;01m{\u001b[39;00my\u001b[38;5;241m.\u001b[39mshape\u001b[38;5;132;01m}\u001b[39;00m\u001b[38;5;124m\"\u001b[39m)\n\u001b[1;32m    501\u001b[0m \u001b[38;5;28;01mif\u001b[39;00m x\u001b[38;5;241m.\u001b[39mndim \u001b[38;5;241m>\u001b[39m \u001b[38;5;241m2\u001b[39m \u001b[38;5;129;01mor\u001b[39;00m y\u001b[38;5;241m.\u001b[39mndim \u001b[38;5;241m>\u001b[39m \u001b[38;5;241m2\u001b[39m:\n\u001b[1;32m    502\u001b[0m     \u001b[38;5;28;01mraise\u001b[39;00m \u001b[38;5;167;01mValueError\u001b[39;00m(\u001b[38;5;124mf\u001b[39m\u001b[38;5;124m\"\u001b[39m\u001b[38;5;124mx and y can be no greater than 2D, but have \u001b[39m\u001b[38;5;124m\"\u001b[39m\n\u001b[1;32m    503\u001b[0m                      \u001b[38;5;124mf\u001b[39m\u001b[38;5;124m\"\u001b[39m\u001b[38;5;124mshapes \u001b[39m\u001b[38;5;132;01m{\u001b[39;00mx\u001b[38;5;241m.\u001b[39mshape\u001b[38;5;132;01m}\u001b[39;00m\u001b[38;5;124m and \u001b[39m\u001b[38;5;132;01m{\u001b[39;00my\u001b[38;5;241m.\u001b[39mshape\u001b[38;5;132;01m}\u001b[39;00m\u001b[38;5;124m\"\u001b[39m)\n",
      "\u001b[0;31mValueError\u001b[0m: x and y must have same first dimension, but have shapes (1751,) and (4000,)"
     ]
    },
    {
     "data": {
      "application/vnd.jupyter.widget-view+json": {
       "model_id": "ae5f4829642749f3a3aa292e5fab3640",
       "version_major": 2,
       "version_minor": 0
      },
      "image/png": "[encoded data removed]",
      "text/html": [
       "\n",
       "            <div style=\"display: inline-block;\">\n",
       "                <div class=\"jupyter-widgets widget-label\" style=\"text-align: center;\">\n",
       "                    Figure\n",
       "                </div>\n",
       "                <img src='data:image/png;base64,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' width=800.0/>\n",
       "            </div>\n",
       "        "
      ],
      "text/plain": [
       "Canvas(toolbar=Toolbar(toolitems=[('Home', 'Reset original view', 'home', 'home'), ('Back', 'Back to previous …"
      ]
     },
     "metadata": {},
     "output_type": "display_data"
    }
   ],
   "source": [
    "x_values = x_values[:wfs[1].shape[0]]\n",
    "\n",
    "plt.close(3)\n",
    "plt.figure(3, figsize=(8,6))\n",
    "plt.title('fit vs data')\n",
    "plt.plot(x_values, wfs[2], '.--', color='black', alpha=1.0, label='whatever is selected')\n",
    "# plt.plot(x_values[fit_begin:fit_end+1], wfs[2][fit_begin:fit_end+1], '.--', color='C2', alpha=0.1, label='whatever is selected')\n",
    "# plt.plot(x_values[fit_begin:fit_end+1], wfs[2][fit_begin:fit_end+1]/auc, '.--', color='C2', alpha=0.1, label='whatever is selected')\n",
    "plt.plot(x_values[fit_begin:fit_end+1], simplesum(x_values[fit_begin:fit_end+1], *fittedparameters), \\\n",
    "        '-', color='red', alpha=1.0, label='best fit template');\n",
    "\n",
    "# plt.plot(x_values[fit_begin:fit_end+1], simplesum(x_values[fit_begin:fit_end+1], t0=400, sigma=10, tau=10, scale=0.9), \\\n",
    "#          '.-', color='purple', label='neat');\n",
    "\n",
    "# plt.xlim(300, 800)\n",
    "# plt.xticks()\n",
    "plt.legend()\n",
    "plt.minorticks_on()\n",
    "ax = plt.gca()\n",
    "# ax.set_xticks(x_values[:50:], minor=True)\n",
    "## ax.xaxis.set_minor_locator(plt.MaxNLocator(5))\n",
    "# ax.xaxis.set_minor_locator(AutoMinorLocator())\n",
    "# ax.xaxis.set_minor_formatter(FormatStrFormatter(\"%i\"))\n",
    "# ax.tick_params(axis=\"x\", which=\"both\", rotation=90)\n",
    "# plt.xlim(200, 1000)\n",
    "plt.show()"
   ]
  },
  {
   "cell_type": "markdown",
   "id": "eea9522a",
   "metadata": {},
   "source": [
    "### 2.6.1. <a id='toc2_6_1_'></a>[Chi-Square](#toc0_)"
   ]
  },
  {
   "cell_type": "code",
   "execution_count": null,
   "id": "f295f335",
   "metadata": {},
   "outputs": [],
   "source": [
    "### As usual, scipy.stat chisquare doesn't work for me.\n",
    "# chisquare(wfs[2][fit_begin:fit_end+1], simplesum(x_values[fit_begin:fit_end+1], *fittedparameters))"
   ]
  },
  {
   "cell_type": "code",
   "execution_count": null,
   "id": "5541a9b1",
   "metadata": {
    "metadata": {}
   },
   "outputs": [],
   "source": [
    "def red_chisq(f_obs, f_exp, fittedparameters):\n",
    "    # chisqr = np.sum((f_obs - f_exp)**2 / f_exp)\n",
    "    chisqr = np.sum((f_obs - f_exp)**2 / np.abs(f_exp)) # changed\n",
    "    ndf = f_obs.shape[0]\n",
    "    return chisqr/(ndf -fittedparameters.shape[0])"
   ]
  },
  {
   "cell_type": "code",
   "execution_count": null,
   "id": "96f1809e",
   "metadata": {},
   "outputs": [],
   "source": [
    "print( colored('Reducded Chisquare:', 'red', attrs = ['blink', 'bold']) )\n",
    "print( colored(red_chisq(wfs[2][fit_begin:fit_end+1], \\\n",
    "            simplesum(x_values[fit_begin:fit_end+1], *fittedparameters), \\\n",
    "            fittedparameters \n",
    "          )\n",
    ", 'cyan', attrs= ['bold'])\n",
    ")"
   ]
  },
  {
   "cell_type": "markdown",
   "id": "94bc02ef",
   "metadata": {},
   "source": [
    "### 2.6.2. <a id='toc2_6_2_'></a>[Getting back actual parameters](#toc0_)"
   ]
  },
  {
   "cell_type": "code",
   "execution_count": null,
   "id": "57736628",
   "metadata": {},
   "outputs": [],
   "source": [
    "def reverse_transform_param(fittedparameters:np.ndarray, shift_values:dict, n_channel:int)->np.ndarray:\n",
    "    fittedparameters[4] = fittedparameters[4] + shift_values[str(n_channel)]\n",
    "    return fittedparameters"
   ]
  },
  {
   "cell_type": "code",
   "execution_count": null,
   "id": "0aaa4430",
   "metadata": {
    "metadata": {}
   },
   "outputs": [],
   "source": [
    "fittedparameters_transformed  = reverse_transform_param(fittedparameters, shift_values, n_channel)"
   ]
  },
  {
   "cell_type": "code",
   "execution_count": null,
   "id": "c50ef93a",
   "metadata": {},
   "outputs": [],
   "source": [
    "fittedparameters_transformed"
   ]
  },
  {
   "cell_type": "markdown",
   "id": "bcc664a5",
   "metadata": {},
   "source": [
    "### 2.6.3. <a id='toc2_6_3_'></a>[plotting original data vs template with transformed parameters](#toc0_)"
   ]
  },
  {
   "cell_type": "code",
   "execution_count": null,
   "id": "3beb4556",
   "metadata": {},
   "outputs": [],
   "source": [
    "plt.title('best fit overlayed on untransformed data')\n",
    "plt.close(4)\n",
    "plt.figure(4, figsize=(8,6))\n",
    "plt.plot(x_values, og_wfs[2], '.--', color='green', alpha=0.65, label=f'channel {n_channel}')\n",
    "# plt.plot(x_values[fit_begin:fit_end+1], simplesum(x_values[fit_begin:fit_end+1], t0=416, sigma=2.5, tau=84, scale=0.97), \\\n",
    "#          '+', color='purple', label='neat');\n",
    "plt.plot(x_values[fit_begin:fit_end+1], \\\n",
    "                    simplesum(x_values[fit_begin:fit_end+1], *fittedparameters_transformed), \\\n",
    "                                                    # simplesum(x_values[fit_begin:fit_end+1],                     \n",
    "                                                #   t0=416, sigma=1.85, tau=100, scale=0.98, \n",
    "                                                #   baseline_pre=0.0013, \n",
    "                                                #   baseline_post = 0.000005, \n",
    "                                                #   K=12560), \\\n",
    "         '-', color='red',alpha=1.0, label='transformed parameters');\n",
    "\n",
    "plt.xlim(200, 1000)\n",
    "plt.legend()\n",
    "# plt.show()"
   ]
  },
  {
   "cell_type": "markdown",
   "id": "462276fa",
   "metadata": {},
   "source": [
    "# 3. <a id='toc3_'></a>[ARMA Filter](#toc0_)\n",
    "This method will be used in a function to generate a catalog of clean waveforms.\n",
    "\n",
    "**Tasks**: \n",
    "- find number of peaks & if n_peaks > 1 -> reject waveform\n",
    "- Avoid edges\n",
    "- Avoid double peaks?"
   ]
  },
  {
   "cell_type": "markdown",
   "id": "a5b491f3",
   "metadata": {},
   "source": [
    "ARMA:"
   ]
  },
  {
   "cell_type": "code",
   "execution_count": 91,
   "id": "db44c04d",
   "metadata": {
    "metadata": {}
   },
   "outputs": [],
   "source": [
    "from pyreco.reco.filtering import WFFilter\n",
    "mfilter = WFFilter(m.config) # ToDo verify the that we are using the right config file."
   ]
  },
  {
   "cell_type": "code",
   "execution_count": 105,
   "id": "fa813faf",
   "metadata": {
    "metadata": {}
   },
   "outputs": [
    {
     "data": {
      "application/vnd.jupyter.widget-view+json": {
       "model_id": "32bd6a0e6c85490da2bc6ce1350825f0",
       "version_major": 2,
       "version_minor": 0
      },
      "image/png": "[encoded data removed]",
      "text/html": [
       "\n",
       "            <div style=\"display: inline-block;\">\n",
       "                <div class=\"jupyter-widgets widget-label\" style=\"text-align: center;\">\n",
       "                    Figure\n",
       "                </div>\n",
       "                <img src='data:image/png;base64,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' width=800.0/>\n",
       "            </div>\n",
       "        "
      ],
      "text/plain": [
       "Canvas(toolbar=Toolbar(toolitems=[('Home', 'Reset original view', 'home', 'home'), ('Back', 'Back to previous …"
      ]
     },
     "metadata": {},
     "output_type": "display_data"
    }
   ],
   "source": [
    "flt = np.reshape(mfilter.numba_fast_filter(wfs),newshape=wfs.shape)\n",
    "plt.close(5)\n",
    "plt.figure(5, figsize=(8,6))\n",
    "for i,wf in enumerate(flt):\n",
    "        plt.plot(wf, label=f'{i}')\n",
    "# flt = mfilter.numba_fast_filter(wfs[n_channel])\n",
    "# plt.plot(flt, label=f'{n_channel}')\n",
    "# plt.legend()\n",
    "# plt.xlim(tmin,tmax)\n",
    "plt.show()"
   ]
  },
  {
   "cell_type": "markdown",
   "id": "e486fa55",
   "metadata": {},
   "source": [
    "Running average filter:"
   ]
  },
  {
   "cell_type": "code",
   "execution_count": 106,
   "id": "78a07210",
   "metadata": {
    "metadata": {}
   },
   "outputs": [],
   "source": [
    "mas = m.algos.running_mean(flt, gate=60)"
   ]
  },
  {
   "cell_type": "code",
   "execution_count": 94,
   "id": "90deb25d",
   "metadata": {},
   "outputs": [
    {
     "data": {
      "text/plain": [
       "(3, 4000)"
      ]
     },
     "execution_count": 94,
     "metadata": {},
     "output_type": "execute_result"
    }
   ],
   "source": [
    "mas"
   ]
  },
  {
   "cell_type": "code",
   "execution_count": 107,
   "id": "9301d65f",
   "metadata": {
    "metadata": {}
   },
   "outputs": [],
   "source": [
    "flt_proc = np.copy(flt[n_channel])"
   ]
  },
  {
   "cell_type": "code",
   "execution_count": 108,
   "id": "d123fb18",
   "metadata": {},
   "outputs": [],
   "source": [
    "flt_proc_all = np.copy(flt) # temp"
   ]
  },
  {
   "cell_type": "code",
   "execution_count": 109,
   "id": "45d18607",
   "metadata": {},
   "outputs": [],
   "source": [
    "# _all\n",
    "flt_proc_all = flt - mas"
   ]
  },
  {
   "cell_type": "code",
   "execution_count": 98,
   "id": "18758072",
   "metadata": {},
   "outputs": [
    {
     "data": {
      "text/plain": [
       "array([[    -594.1,     -594.3,     -595.6, ...,       4034,       4573,\n",
       "              5179],\n",
       "       [    -295.7,     -156.9,     -61.45, ...,       4016,       4552,\n",
       "              5155],\n",
       "       [    -294.8,     -156.6,     -61.54, ...,  1.144e-11,  1.144e-11,\n",
       "         1.144e-11]])"
      ]
     },
     "execution_count": 98,
     "metadata": {},
     "output_type": "execute_result"
    }
   ],
   "source": [
    "flt_proc_all"
   ]
  },
  {
   "cell_type": "code",
   "execution_count": 110,
   "id": "a804e396",
   "metadata": {},
   "outputs": [
    {
     "data": {
      "application/vnd.jupyter.widget-view+json": {
       "model_id": "b955fbfefbbb4702bfbf8c05657b606e",
       "version_major": 2,
       "version_minor": 0
      },
      "image/png": "[encoded data removed]",
      "text/html": [
       "\n",
       "            <div style=\"display: inline-block;\">\n",
       "                <div class=\"jupyter-widgets widget-label\" style=\"text-align: center;\">\n",
       "                    Figure\n",
       "                </div>\n",
       "                <img src='data:image/png;base64,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' width=800.0/>\n",
       "            </div>\n",
       "        "
      ],
      "text/plain": [
       "Canvas(toolbar=Toolbar(toolitems=[('Home', 'Reset original view', 'home', 'home'), ('Back', 'Back to previous …"
      ]
     },
     "metadata": {},
     "output_type": "display_data"
    }
   ],
   "source": [
    "plt.figure(figsize=(8,6))\n",
    "for i,wf in enumerate(flt_proc_all):\n",
    "        plt.plot(wf, label=f'{i}')\n",
    "plt.legend()\n",
    "plt.title('mas')\n",
    "plt.show()"
   ]
  },
  {
   "cell_type": "code",
   "execution_count": 111,
   "id": "daf57d6b",
   "metadata": {},
   "outputs": [
    {
     "data": {
      "text/plain": [
       "array([[         0,          0,          0, ...,       4034,       4573,\n",
       "              5179],\n",
       "       [         0,          0,          0, ...,       4016,       4552,\n",
       "              5155],\n",
       "       [         0,          0,          0, ...,  1.144e-11,  1.144e-11,\n",
       "         1.144e-11]])"
      ]
     },
     "execution_count": 111,
     "metadata": {},
     "output_type": "execute_result"
    }
   ],
   "source": [
    "# _all\n",
    "flt_proc_all = np.where(flt_proc_all>0,flt_proc_all, 0)\n",
    "flt_proc_all"
   ]
  },
  {
   "cell_type": "code",
   "execution_count": 112,
   "id": "73ace58e",
   "metadata": {},
   "outputs": [],
   "source": [
    "# _all\n",
    "rms_all = m.algos.get_rms(flt_proc_all)\n",
    "flt_above_3rms_all = np.where(flt_proc_all > 3*rms_all, flt_proc_all, 0)"
   ]
  },
  {
   "cell_type": "code",
   "execution_count": 102,
   "id": "618c5e01",
   "metadata": {},
   "outputs": [
    {
     "data": {
      "text/plain": [
       "<matplotlib.legend.Legend at 0x7f31764ded90>"
      ]
     },
     "execution_count": 102,
     "metadata": {},
     "output_type": "execute_result"
    },
    {
     "data": {
      "application/vnd.jupyter.widget-view+json": {
       "model_id": "021d6b777a204645b198322452f20fc3",
       "version_major": 2,
       "version_minor": 0
      },
      "image/png": "[encoded data removed]",
      "text/html": [
       "\n",
       "            <div style=\"display: inline-block;\">\n",
       "                <div class=\"jupyter-widgets widget-label\" style=\"text-align: center;\">\n",
       "                    Figure\n",
       "                </div>\n",
       "                <img src='data:image/png;base64,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' width=640.0/>\n",
       "            </div>\n",
       "        "
      ],
      "text/plain": [
       "Canvas(toolbar=Toolbar(toolitems=[('Home', 'Reset original view', 'home', 'home'), ('Back', 'Back to previous …"
      ]
     },
     "metadata": {},
     "output_type": "display_data"
    }
   ],
   "source": [
    "# _all\n",
    "plt.close(101)\n",
    "plt.figure(101)\n",
    "# plt.plot(flt_proc, label='flt_proc', color='green')\n",
    "for i in range(3):\n",
    "    plt.plot(flt_above_3rms_all[i], label=f'{i}') #, title =str(i) )\n",
    "plt.legend()"
   ]
  },
  {
   "cell_type": "code",
   "execution_count": 103,
   "id": "b548785c",
   "metadata": {},
   "outputs": [
    {
     "ename": "NameError",
     "evalue": "name 'find_peaks' is not defined",
     "output_type": "error",
     "traceback": [
      "\u001b[0;31m---------------------------------------------------------------------------\u001b[0m",
      "\u001b[0;31mNameError\u001b[0m                                 Traceback (most recent call last)",
      "Cell \u001b[0;32mIn[103], line 2\u001b[0m\n\u001b[1;32m      1\u001b[0m \u001b[38;5;66;03m# _all\u001b[39;00m\n\u001b[0;32m----> 2\u001b[0m \u001b[38;5;28mlen\u001b[39m(find_peaks(flt_above_3rms_all[\u001b[38;5;241m1\u001b[39m])[\u001b[38;5;241m0\u001b[39m])\n",
      "\u001b[0;31mNameError\u001b[0m: name 'find_peaks' is not defined"
     ]
    }
   ],
   "source": [
    "# _all\n",
    "len(find_peaks(flt_above_3rms_all[1])[0])"
   ]
  },
  {
   "cell_type": "code",
   "execution_count": null,
   "id": "8f2159fa",
   "metadata": {},
   "outputs": [],
   "source": [
    "flt_proc = flt[n_channel] - mas[n_channel]\n",
    "flt_proc = np.where(flt_proc>0,flt_proc, 0)\n",
    "rms = m.algos.get_rms(flt_proc)\n",
    "flt_above_3rms = np.where(flt_proc > 3*rms, flt_proc, 0) # TODO: trying changing this rms\n",
    "## might not to be a good idea to rely on arma for tuning arma\n",
    "plt.close(6)\n",
    "plt.figure(6)\n",
    "# plt.plot(flt_proc, label='flt_proc', color='green')\n",
    "plt.plot(flt_above_3rms, label=f'{n_channel}', color='red')\n",
    "plt.legend()"
   ]
  },
  {
   "cell_type": "code",
   "execution_count": null,
   "id": "ba9dfb85",
   "metadata": {
    "metadata": {}
   },
   "outputs": [],
   "source": [
    "# function\n",
    "# someway to find peaks in the rms time series\n",
    "from scipy.signal import find_peaks"
   ]
  },
  {
   "cell_type": "code",
   "execution_count": null,
   "id": "d48678c2",
   "metadata": {},
   "outputs": [],
   "source": [
    "len(find_peaks(flt_above_3rms)[0])"
   ]
  },
  {
   "cell_type": "code",
   "execution_count": null,
   "id": "23803c91",
   "metadata": {},
   "outputs": [],
   "source": [
    "flt_above_3rms"
   ]
  },
  {
   "cell_type": "code",
   "execution_count": null,
   "id": "576cc91a",
   "metadata": {},
   "outputs": [],
   "source": [
    "np.where(flt_above_3rms > 0)[0]"
   ]
  },
  {
   "cell_type": "code",
   "execution_count": null,
   "id": "50bf6be0",
   "metadata": {},
   "outputs": [],
   "source": [
    "np.ceil(np.mean(np.where(flt_above_3rms != 0)))"
   ]
  },
  {
   "cell_type": "code",
   "execution_count": null,
   "id": "d26839ec",
   "metadata": {},
   "outputs": [],
   "source": [
    "plt.close(7)\n",
    "plt.figure(7)\n",
    "flt = flt - mas\n",
    "flt = np.where(flt>0,flt, 0)\n",
    "for i,wf in enumerate(flt):\n",
    "    rms = m.algos.get_rms(wf)    \n",
    "    plt.plot(np.where(wf > 3*rms, wf, 0), label=f'{i}')\n",
    "plt.xlim(tmin,tmax)\n",
    "plt.show()"
   ]
  },
  {
   "cell_type": "markdown",
   "id": "128a2513",
   "metadata": {},
   "source": [
    "# 4. <a id='toc4_'></a>[Read pickled clean event catalogue](#toc0_)\n",
    "<p>  pickle file generated by calculate_wf_param.py </p>"
   ]
  },
  {
   "cell_type": "code",
   "execution_count": null,
   "id": "c41f7626",
   "metadata": {},
   "outputs": [],
   "source": [
    "# import pandas as pd\n",
    "# saved_pkl_file = '../data/argset_clean_catalogue_100_000.pkl' \n",
    "# current_pkl_file = \"../temp_folder/argset_wfs_catalogue.pkl\"\n",
    "current_pkl_file = \"../temp_folder/argset_wfs_catalogue_100_1000.pkl\"\n",
    "# df_file = pd.read_pickle(saved_pkl_file)\n",
    "df_file = pd.read_pickle(current_pkl_file)"
   ]
  },
  {
   "cell_type": "code",
   "execution_count": null,
   "id": "69597270",
   "metadata": {},
   "outputs": [],
   "source": [
    "df_file.shape"
   ]
  },
  {
   "cell_type": "code",
   "execution_count": null,
   "id": "3d32dcc7",
   "metadata": {},
   "outputs": [],
   "source": [
    "(df_file['chisqr_ch2'] < 2.0).sum()/(df_file['chisqr_ch2'].shape[0])"
   ]
  },
  {
   "cell_type": "code",
   "execution_count": null,
   "id": "f56721b4",
   "metadata": {},
   "outputs": [],
   "source": [
    "n_channel = 2\n",
    "param_ch2 = df_file.iloc[3]['fit_param_ch2']\n",
    "clean_wf = df_file.iloc[3]['wf'][2]\n",
    "a = np.min(clean_wf)\n",
    "\n",
    "plt.title('clean waveforms')\n",
    "plt.close(8)\n",
    "plt.figure(8, figsize=(8,6))\n",
    "plt.plot(clean_wf+np.abs(a), '-', color='green', alpha=0.65, label=f'channel {n_channel}')\n",
    "plt.plot(simplesum(x_values, *param_ch2), '-', color='red', alpha=0.65, label=f'template')\n",
    "\n",
    "plt.legend()\n",
    "plt.show()"
   ]
  },
  {
   "cell_type": "code",
   "execution_count": null,
   "id": "097e4d8a",
   "metadata": {},
   "outputs": [],
   "source": [
    "t0_ls = []\n",
    "sigma_ls = []\n",
    "tau_ls = []\n",
    "scale_ls = []\n",
    "for i in range(df_file.shape[0]):\n",
    "    t0_ls.append(df_file['fit_param_ch2'][i][0])\n",
    "    sigma_ls.append(df_file['fit_param_ch2'][i][1])\n",
    "    tau_ls.append(df_file['fit_param_ch2'][i][2])\n",
    "    scale_ls.append(df_file['fit_param_ch2'][i][3])\n"
   ]
  },
  {
   "cell_type": "code",
   "execution_count": null,
   "id": "de94a41c",
   "metadata": {},
   "outputs": [],
   "source": [
    "n_param = df_file['fit_param_ch2'][0].shape[0]\n",
    "# param_ls = ['t0_ls', 'sigma_ls', 'tau_ls', 'scale_ls'] # temp\n",
    "param_dict = {\n",
    "'t0': t0_ls, \n",
    "'sigma': sigma_ls, \n",
    "'tau': tau_ls,\n",
    "'scale': scale_ls\n",
    "}\n",
    "# for _i in range(n_param):\n",
    "# for _i in range(len(param_ls)):\n",
    "# _i = 0\n",
    "# for param_key, param in param_dict:\n",
    "# for _i, param_key in enumerate(param_dict):\n",
    "#     plt.figure(9+_i)\n",
    "#     plt.hist(param_dict[param_key])\n",
    "#     plt.title(param_key)\n",
    "#     plt.show()\n"
   ]
  },
  {
   "cell_type": "code",
   "execution_count": null,
   "id": "d3f5f100",
   "metadata": {},
   "outputs": [],
   "source": [
    "plt.close(9)\n",
    "plt.figure(9)\n",
    "plt.hist(param_dict['t0'])\n",
    "plt.title('to')\n",
    "plt.show()"
   ]
  },
  {
   "cell_type": "code",
   "execution_count": null,
   "id": "da0c1653",
   "metadata": {},
   "outputs": [],
   "source": [
    "plt.close(10)\n",
    "plt.figure(10)\n",
    "plt.hist(param_dict['sigma']) #, bins= np.linspace(1.0, 6.0, 10))\n",
    "plt.title('sigma')\n",
    "plt.show()"
   ]
  },
  {
   "cell_type": "code",
   "execution_count": null,
   "id": "d3f668f3",
   "metadata": {},
   "outputs": [],
   "source": [
    "plt.close(11)\n",
    "plt.figure(11)\n",
    "plt.hist(param_dict['tau'], bins= np.linspace(0.0, 150.0, 10))\n",
    "plt.title('tau')\n",
    "plt.show()"
   ]
  },
  {
   "cell_type": "code",
   "execution_count": null,
   "id": "89050379",
   "metadata": {},
   "outputs": [],
   "source": [
    "plt.close(12)\n",
    "plt.figure(12)\n",
    "plt.hist(param_dict['scale'], bins= np.linspace(0.4, 1.0, 10))\n",
    "plt.title('scale')\n",
    "plt.show()"
   ]
  },
  {
   "cell_type": "code",
   "execution_count": null,
   "id": "90e3cdcf",
   "metadata": {},
   "outputs": [],
   "source": [
    "# 5 of 100\n",
    "# 50,000 # incorrect\n",
    "# 2500 clean events\n",
    "# -> 100, 000\n",
    "# -> 2 Millions events in total"
   ]
  },
  {
   "cell_type": "code",
   "execution_count": null,
   "id": "27b94c11",
   "metadata": {},
   "outputs": [],
   "source": [
    "## selection on values\n",
    "## https://pandas.pydata.org/docs/getting_started/intro_tutorials/03_subset_data.html"
   ]
  },
  {
   "cell_type": "code",
   "execution_count": null,
   "id": "1c90531b",
   "metadata": {},
   "outputs": [],
   "source": [
    "df_file[(df_file['chisqr_ch2'] < 2) & (df_file['chisqr_ch2'] >= 1.0)].shape"
   ]
  },
  {
   "cell_type": "markdown",
   "id": "b0930459",
   "metadata": {},
   "source": [
    "## 4.1. <a id='toc4_1_'></a>[How to increase statistics for parameters](#toc0_)"
   ]
  },
  {
   "cell_type": "code",
   "execution_count": null,
   "id": "b3493114",
   "metadata": {},
   "outputs": [],
   "source": [
    "clean_target = 100000\n",
    "success_rate_of_search_algorithm = 0.91\n",
    "clean_ratio = 0.05\n",
    "\n",
    "# @latexify.function\n",
    "def total_events_tobe_scanned(clean_target, clean_ratio, success_rate_of_search_algorithm):\n",
    "    # total_events = clean_target * 1/clean_ratio *1/success_rate_of_search_algorithm\n",
    "    # return total_events\n",
    "    return clean_target * 1/clean_ratio *1/success_rate_of_search_algorithm"
   ]
  },
  {
   "cell_type": "code",
   "execution_count": null,
   "id": "09dfc9fc",
   "metadata": {},
   "outputs": [],
   "source": [
    "total_events_tobe_scanned(clean_target, clean_ratio, success_rate_of_search_algorithm)\n"
   ]
  },
  {
   "cell_type": "code",
   "execution_count": null,
   "id": "06650ba5",
   "metadata": {},
   "outputs": [],
   "source": [
    "f'number of files {(total_events_tobe_scanned(clean_target, clean_ratio, success_rate_of_search_algorithm))/(100000)}'"
   ]
  },
  {
   "cell_type": "markdown",
   "id": "0701c3a3",
   "metadata": {},
   "source": [
    "# 5. <a id='toc5_'></a>[Reading pickled event catalogue](#toc0_)"
   ]
  },
  {
   "cell_type": "code",
   "execution_count": null,
   "id": "2934f1ea",
   "metadata": {},
   "outputs": [],
   "source": [
    "# event_catalogue_file = f'../temp_folder/copy_event_catalogue_run0061.pkl'\n",
    "# event_catalogue_file = f'../temp_folder/event_catalogue_run0061.pkl'\n",
    "event_catalogue_file = f'../data/event_catalogue_run00061_3ch.pkl'\n",
    "event_catalogue = pd.read_pickle(event_catalogue_file)"
   ]
  },
  {
   "cell_type": "code",
   "execution_count": null,
   "id": "d1202468",
   "metadata": {},
   "outputs": [],
   "source": [
    "event_catalogue.info()"
   ]
  },
  {
   "cell_type": "code",
   "execution_count": null,
   "id": "d81845ef",
   "metadata": {},
   "outputs": [],
   "source": [
    "event_catalogue.shape"
   ]
  },
  {
   "cell_type": "code",
   "execution_count": null,
   "id": "c8168c4f",
   "metadata": {},
   "outputs": [],
   "source": [
    "wf_ch2 = event_catalogue['wf_ch2']"
   ]
  },
  {
   "cell_type": "code",
   "execution_count": null,
   "id": "fa5ad945",
   "metadata": {},
   "outputs": [],
   "source": [
    "wf_ch2[1]"
   ]
  },
  {
   "cell_type": "code",
   "execution_count": null,
   "id": "5cccf9b1",
   "metadata": {},
   "outputs": [],
   "source": [
    "# wf_1.iloc[1]"
   ]
  },
  {
   "cell_type": "code",
   "execution_count": null,
   "id": "bad7b80b",
   "metadata": {},
   "outputs": [],
   "source": [
    "# event_catalogue.iloc[1]['wf'][2]"
   ]
  },
  {
   "cell_type": "markdown",
   "id": "b796a67e",
   "metadata": {},
   "source": [
    "# 6. <a id='toc6_'></a>[trash this](#toc0_)"
   ]
  },
  {
   "cell_type": "code",
   "execution_count": null,
   "id": "2f9186ac",
   "metadata": {},
   "outputs": [],
   "source": [
    "### temp\n",
    "a_index = [1,2,3,4,5,10,11]\n",
    "a_data = ['Delhi', 'Kolkata', 'New YOrk', 'London', \\\n",
    "    'Yorkshire', 'Warsaw', 'Sidney']\n",
    "b_index = [1,2,3,7,8,9,10,12]\n",
    "b_data = ['Amy', 'Amelia', 'Angela', 'Khushi', \\\n",
    "    'Aishwarya', 'Barbara', 'Anshu', 'Amanda']\n",
    "a_dict = {'index': a_index, 'city': a_data}\n",
    "b_dict = {'index': b_index, 'person': b_data}\n",
    "a_df = pd.DataFrame.from_dict(a_dict)\n",
    "b_df = pd.DataFrame.from_dict(b_dict)\n",
    "# df_a = pd.DataFrame()"
   ]
  },
  {
   "cell_type": "code",
   "execution_count": null,
   "id": "4147c81a",
   "metadata": {},
   "outputs": [],
   "source": [
    "a_df"
   ]
  },
  {
   "cell_type": "code",
   "execution_count": null,
   "id": "2615c6e0",
   "metadata": {},
   "outputs": [],
   "source": [
    "b_df"
   ]
  },
  {
   "cell_type": "code",
   "execution_count": null,
   "id": "e0e8fdb0",
   "metadata": {},
   "outputs": [],
   "source": [
    "a_df.join(b_df.set_index('index'), on= 'index', how='outer')"
   ]
  },
  {
   "cell_type": "code",
   "execution_count": null,
   "id": "25ac4f1f",
   "metadata": {},
   "outputs": [],
   "source": []
  },
  {
   "cell_type": "markdown",
   "id": "72d7fa16",
   "metadata": {},
   "source": [
    "# 7. <a id='toc7_'></a>[altenative file formats](#toc0_)"
   ]
  },
  {
   "cell_type": "markdown",
   "id": "ef7f36f1",
   "metadata": {},
   "source": [
    "## 7.1. <a id='toc7_1_'></a>[npz](#toc0_)"
   ]
  },
  {
   "cell_type": "markdown",
   "id": "dc4434b2",
   "metadata": {},
   "source": [
    "<p>\n",
    "z is compressed.\n",
    "</p>"
   ]
  },
  {
   "cell_type": "code",
   "execution_count": null,
   "id": "9b12e60c",
   "metadata": {},
   "outputs": [],
   "source": [
    "event_index_arr = np.array(event_catalogue['event_index'])"
   ]
  },
  {
   "cell_type": "code",
   "execution_count": null,
   "id": "26d21074",
   "metadata": {},
   "outputs": [],
   "source": [
    "event_counter_arr = np.array(event_catalogue['event_counter'])"
   ]
  },
  {
   "cell_type": "code",
   "execution_count": null,
   "id": "378f86db",
   "metadata": {},
   "outputs": [],
   "source": [
    "wf_arr = np.array(event_catalogue['wf'], dtype=np.ndarray)"
   ]
  },
  {
   "cell_type": "code",
   "execution_count": null,
   "id": "f585b65f",
   "metadata": {},
   "outputs": [],
   "source": [
    "wf_arr"
   ]
  },
  {
   "cell_type": "code",
   "execution_count": null,
   "id": "b9ad6604",
   "metadata": {},
   "outputs": [],
   "source": [
    "# np.savez_compressed('../temp_folder/event_catalogue.npz', event_index=event_index_arr, \\\n",
    "#                     event_counter=event_counter_arr, wf = wf_arr)"
   ]
  },
  {
   "cell_type": "code",
   "execution_count": null,
   "id": "fb5e4519",
   "metadata": {},
   "outputs": [],
   "source": [
    "loaded = np.load('../data/event_catalogue_run00061.npz', allow_pickle = True)"
   ]
  },
  {
   "cell_type": "code",
   "execution_count": null,
   "id": "56f8bd15",
   "metadata": {},
   "outputs": [],
   "source": [
    "loaded"
   ]
  },
  {
   "cell_type": "code",
   "execution_count": null,
   "id": "1abe47d3",
   "metadata": {},
   "outputs": [],
   "source": [
    "wf = loaded['wf']"
   ]
  },
  {
   "cell_type": "code",
   "execution_count": null,
   "id": "5d7a420f",
   "metadata": {},
   "outputs": [],
   "source": [
    "wf.shape"
   ]
  },
  {
   "cell_type": "code",
   "execution_count": null,
   "id": "0790c5b0",
   "metadata": {},
   "outputs": [],
   "source": [
    "wf[1]"
   ]
  },
  {
   "cell_type": "code",
   "execution_count": null,
   "id": "46567273",
   "metadata": {},
   "outputs": [],
   "source": [
    "loaded['event_counter'].shape[0]"
   ]
  },
  {
   "cell_type": "code",
   "execution_count": null,
   "id": "9d21fe73",
   "metadata": {},
   "outputs": [],
   "source": [
    "# wf[0][2]"
   ]
  },
  {
   "cell_type": "code",
   "execution_count": null,
   "id": "413cceaa",
   "metadata": {},
   "outputs": [],
   "source": [
    "# wf.shape"
   ]
  },
  {
   "cell_type": "code",
   "execution_count": null,
   "id": "4595568d",
   "metadata": {},
   "outputs": [],
   "source": [
    "# loaded['event_index']"
   ]
  },
  {
   "cell_type": "code",
   "execution_count": null,
   "id": "ae9dec47",
   "metadata": {},
   "outputs": [],
   "source": [
    "# loaded['event_counter']"
   ]
  },
  {
   "cell_type": "markdown",
   "id": "7eb4bdfa",
   "metadata": {},
   "source": [
    "## 7.2. <a id='toc7_2_'></a>[HDF5](#toc0_)"
   ]
  },
  {
   "cell_type": "code",
   "execution_count": null,
   "id": "499400e1",
   "metadata": {},
   "outputs": [],
   "source": [
    "# event_catalogue_hdf_filename = f'../temp_folder/event_catalogue_run0061.hdf'\n",
    "# event_catalogue.to_hdf(event_catalogue_hdf_filename, key='event_catalogue', mode='a')\n"
   ]
  },
  {
   "cell_type": "markdown",
   "id": "83805e07",
   "metadata": {},
   "source": [
    "## 7.3. <a id='toc7_3_'></a>[parquet](#toc0_)"
   ]
  },
  {
   "cell_type": "code",
   "execution_count": null,
   "id": "59fcc48c",
   "metadata": {},
   "outputs": [],
   "source": [
    "# event_catalogue_par_filename = f'../temp_folder/event_catalogue_run0061.parquet'\n",
    "# event_catalogue.to_parquet(event_catalogue_par_filename)"
   ]
  },
  {
   "cell_type": "markdown",
   "id": "63170583",
   "metadata": {},
   "source": [
    "## 7.4. <a id='toc7_4_'></a>[h5py on numpy array](#toc0_)"
   ]
  },
  {
   "cell_type": "code",
   "execution_count": null,
   "id": "d9963fd5",
   "metadata": {},
   "outputs": [],
   "source": [
    "## Doesn't works for array of arrays\n",
    "# import h5py"
   ]
  },
  {
   "cell_type": "code",
   "execution_count": null,
   "id": "c4f00599",
   "metadata": {},
   "outputs": [],
   "source": [
    "import h5py"
   ]
  },
  {
   "cell_type": "markdown",
   "id": "52250f85",
   "metadata": {},
   "source": [
    "### 7.4.1. <a id='toc7_4_1_'></a>[write h5 file](#toc0_)"
   ]
  },
  {
   "cell_type": "code",
   "execution_count": null,
   "id": "9f9c0287",
   "metadata": {},
   "outputs": [],
   "source": [
    "# with h5py.File('demo.h5', 'w') as dem:\n",
    "#     dem.create_dataset('event_counter', data = event_counter, compression=\"gzip\")\n",
    "#     dem.create_dataset('wf_ch0', data = wf_ch0, compression=\"gzip\")\n",
    "#     dem.create_dataset('wf_ch1', data = wf_ch1, compression=\"gzip\")\n",
    "#     dem.create_dataset('wf_ch2', data = wf_ch2, compression=\"gzip\")"
   ]
  },
  {
   "cell_type": "markdown",
   "id": "08c59d88",
   "metadata": {},
   "source": [
    "### 7.4.2. <a id='toc7_4_2_'></a>[read h5 file](#toc0_)"
   ]
  },
  {
   "cell_type": "code",
   "execution_count": null,
   "id": "20300ccf",
   "metadata": {},
   "outputs": [],
   "source": [
    "# event_h5 = h5py.File('../data/event_catalogue_run00061_3Ch.h5', 'r')\n",
    "event_h5 = h5py.File('../temp_folder/argset_clean_catalogue.h5', 'r')"
   ]
  },
  {
   "cell_type": "code",
   "execution_count": null,
   "id": "ffb755c8",
   "metadata": {},
   "outputs": [],
   "source": [
    "event_h5['clean_ch1']\n",
    "#.close()"
   ]
  },
  {
   "cell_type": "code",
   "execution_count": null,
   "id": "68303996",
   "metadata": {},
   "outputs": [],
   "source": [
    "event_h5['clean_ch2']"
   ]
  },
  {
   "cell_type": "code",
   "execution_count": null,
   "id": "40922d35",
   "metadata": {},
   "outputs": [],
   "source": [
    "event_h5.close()"
   ]
  },
  {
   "cell_type": "code",
   "execution_count": null,
   "id": "d80e5437",
   "metadata": {},
   "outputs": [],
   "source": [
    "event_counter = np.array(event_h5['event_counter'])"
   ]
  },
  {
   "cell_type": "code",
   "execution_count": null,
   "id": "703e1d0e",
   "metadata": {},
   "outputs": [],
   "source": [
    "event_counter = event_h5.get('event_counter')"
   ]
  },
  {
   "cell_type": "code",
   "execution_count": null,
   "id": "1da450c8",
   "metadata": {},
   "outputs": [],
   "source": [
    "event_counter"
   ]
  },
  {
   "cell_type": "code",
   "execution_count": null,
   "id": "1c9d4f9f",
   "metadata": {},
   "outputs": [],
   "source": [
    "wf_ch0 = event_h5.get('wf_ch0')"
   ]
  },
  {
   "cell_type": "code",
   "execution_count": null,
   "id": "51efa00f",
   "metadata": {},
   "outputs": [],
   "source": [
    "wf_ch1 = event_h5.get('wf_ch1')"
   ]
  },
  {
   "cell_type": "code",
   "execution_count": null,
   "id": "d7f524ea",
   "metadata": {},
   "outputs": [],
   "source": [
    "wf_ch2 = event_h5.get('wf_ch2')"
   ]
  },
  {
   "cell_type": "markdown",
   "id": "971ee0c0",
   "metadata": {},
   "source": [
    "# 8. <a id='toc8_'></a>[Memory diagnostics](#toc0_)"
   ]
  },
  {
   "cell_type": "code",
   "execution_count": null,
   "id": "8a55a1a6",
   "metadata": {},
   "outputs": [],
   "source": [
    "# ## see memory usage\n",
    "!cat /proc/meminfo"
   ]
  },
  {
   "cell_type": "code",
   "execution_count": null,
   "id": "d5b7e985",
   "metadata": {},
   "outputs": [],
   "source": [
    "# event_catalogue.info(memory_usage='deep')"
   ]
  },
  {
   "cell_type": "code",
   "execution_count": null,
   "id": "e2387ddb",
   "metadata": {},
   "outputs": [],
   "source": [
    "# del event_catalogue"
   ]
  },
  {
   "cell_type": "code",
   "execution_count": null,
   "id": "96c7800d",
   "metadata": {},
   "outputs": [],
   "source": [
    "# !cat /proc/meminfo"
   ]
  },
  {
   "cell_type": "code",
   "execution_count": null,
   "id": "e54f1448",
   "metadata": {},
   "outputs": [],
   "source": [
    "# import gc\n",
    "# gc.isenabled()"
   ]
  },
  {
   "cell_type": "code",
   "execution_count": null,
   "id": "ff4d450b",
   "metadata": {},
   "outputs": [],
   "source": [
    "# gc.collect()"
   ]
  },
  {
   "cell_type": "markdown",
   "id": "e577eae2",
   "metadata": {},
   "source": [
    "# 9. <a id='toc9_'></a>[reading pickle file](#toc0_)"
   ]
  },
  {
   "cell_type": "markdown",
   "id": "65edee90",
   "metadata": {},
   "source": [
    "import pickle"
   ]
  },
  {
   "cell_type": "code",
   "execution_count": null,
   "id": "2267c7f9",
   "metadata": {},
   "outputs": [],
   "source": [
    "import pickle"
   ]
  },
  {
   "cell_type": "code",
   "execution_count": null,
   "id": "272c98e1",
   "metadata": {},
   "outputs": [],
   "source": [
    "dict_pkl_filename = '../temp_folder/argset_clean_dict_3Ch.pkl' #argset_clean_dict_3Ch.pkl"
   ]
  },
  {
   "cell_type": "code",
   "execution_count": null,
   "id": "f4f62464",
   "metadata": {},
   "outputs": [],
   "source": [
    "handle = open(dict_pkl_filename, 'rb')\n",
    "dict_file = pickle.load(handle)"
   ]
  },
  {
   "cell_type": "code",
   "execution_count": null,
   "id": "ac9ea528",
   "metadata": {},
   "outputs": [],
   "source": [
    "dict_file['ch0'].shape"
   ]
  },
  {
   "cell_type": "code",
   "execution_count": null,
   "id": "f52bf13f",
   "metadata": {},
   "outputs": [],
   "source": [
    "dict_file['ch1'].shape"
   ]
  },
  {
   "cell_type": "code",
   "execution_count": null,
   "id": "a877b48c",
   "metadata": {},
   "outputs": [],
   "source": [
    "dict_file['ch2']"
   ]
  },
  {
   "cell_type": "code",
   "execution_count": null,
   "id": "299074be",
   "metadata": {},
   "outputs": [],
   "source": []
  },
  {
   "cell_type": "markdown",
   "id": "3cb39094",
   "metadata": {},
   "source": [
    "# 10. <a id='toc10_'></a>[Read auxiliary files](#toc0_)\n",
    "possibe bug in baseline substraction or waveform shifting"
   ]
  },
  {
   "cell_type": "code",
   "execution_count": null,
   "id": "e455ee4e",
   "metadata": {},
   "outputs": [],
   "source": [
    "clean_dict_filename = r'../temp_folder/clean_catalogue_dict.pkl'\n",
    "clean_dict_handle = open(clean_dict_filename, 'rb')"
   ]
  },
  {
   "cell_type": "code",
   "execution_count": null,
   "id": "45f42b71",
   "metadata": {},
   "outputs": [],
   "source": [
    "clean_dict = pickle.load(clean_dict_handle)"
   ]
  },
  {
   "cell_type": "code",
   "execution_count": null,
   "id": "7f0ef5db",
   "metadata": {},
   "outputs": [],
   "source": [
    "fit_dict_filename = r'../temp_folder/fit_catalogue_dict.pkl'\n",
    "fit_dict_handle = open(fit_dict_filename, 'rb')"
   ]
  },
  {
   "cell_type": "code",
   "execution_count": null,
   "id": "96c0312d",
   "metadata": {},
   "outputs": [],
   "source": [
    "fit_dict =pickle.load(fit_dict_handle)"
   ]
  },
  {
   "cell_type": "code",
   "execution_count": null,
   "id": "071ee691",
   "metadata": {},
   "outputs": [],
   "source": [
    "# # df_fit['ch2']\n",
    "# for i in range(4):\n",
    "#     print(df_fit['ch2'].iloc[i]['event_counter'], '-- -- --', df_fit['ch2'].iloc[i]['wf_ch2'])"
   ]
  },
  {
   "cell_type": "code",
   "execution_count": null,
   "id": "c467b892",
   "metadata": {},
   "outputs": [],
   "source": [
    "# # old_catalog_open.head()\n",
    "# for i in range(4):\n",
    "#     print(old_catalog_open.iloc[i]['event_index'], '-- ---', old_catalog_open.iloc[i]['wf'][2])"
   ]
  },
  {
   "cell_type": "code",
   "execution_count": null,
   "id": "04de6361",
   "metadata": {},
   "outputs": [],
   "source": [
    "old_catalogue_file = r'../temp_folder/argset_wfs_catalogue_100_1000.pkl'"
   ]
  },
  {
   "cell_type": "code",
   "execution_count": null,
   "id": "de455fbb",
   "metadata": {},
   "outputs": [],
   "source": [
    "old_catalogue_handle = open(old_catalogue_file, 'rb')\n",
    "old_catalog_df = pickle.load(old_catalogue_handle)"
   ]
  },
  {
   "cell_type": "code",
   "execution_count": null,
   "id": "1842391f",
   "metadata": {},
   "outputs": [],
   "source": [
    "## This is the event catalogue currently under use\n",
    "event_catalogue_filename = '/home/sarthak/my_projects/argset/data/event_catalogue_run0061.pkl'\n",
    "event_handle = open(event_catalogue_filename, 'rb')\n",
    "event_catalog_df = pickle.load(event_handle)"
   ]
  },
  {
   "cell_type": "code",
   "execution_count": null,
   "id": "f28f67ad",
   "metadata": {},
   "outputs": [],
   "source": [
    "old_catalog_df.head()"
   ]
  },
  {
   "cell_type": "code",
   "execution_count": null,
   "id": "fc3e52f8",
   "metadata": {},
   "outputs": [],
   "source": [
    "clean_dict['ch2']"
   ]
  },
  {
   "cell_type": "code",
   "execution_count": null,
   "id": "4847c753",
   "metadata": {},
   "outputs": [],
   "source": [
    "clean_dict['ch2'].iloc[2]['wf_ch2'] "
   ]
  },
  {
   "cell_type": "code",
   "execution_count": null,
   "id": "3ec4812e",
   "metadata": {},
   "outputs": [],
   "source": [
    "fit_dict['ch2'].iloc[2]['wf_ch2']"
   ]
  },
  {
   "cell_type": "code",
   "execution_count": null,
   "id": "e2a91157",
   "metadata": {},
   "outputs": [],
   "source": [
    "fit_dict['ch2'].iloc[2]['wf_ch2'] - clean_dict['ch2'].iloc[2]['wf_ch2']"
   ]
  },
  {
   "cell_type": "code",
   "execution_count": null,
   "id": "a2252522",
   "metadata": {},
   "outputs": [],
   "source": [
    "tmp_wf = clean_dict['ch2'].iloc[2]['wf_ch2']"
   ]
  },
  {
   "cell_type": "code",
   "execution_count": null,
   "id": "cc7d6a05",
   "metadata": {},
   "outputs": [],
   "source": [
    "min(tmp_wf)"
   ]
  },
  {
   "cell_type": "code",
   "execution_count": null,
   "id": "1cc105ea",
   "metadata": {},
   "outputs": [],
   "source": [
    "# for event_index in range(3): #range(old_catalog_open.shape[0]):\n",
    "#     wf = old_catalog_open.iloc[event_index]['wf']\n",
    "#     for _c in range(3):\n",
    "#         if min(wf[_c]) < 0:\n",
    "#             old_catalog_open.iloc[event_index]['wf'][_c] = wf[_c] + np.abs(min(wf[_c]))"
   ]
  }
 ],
 "metadata": {
  "kernelspec": {
   "display_name": "jar",
   "language": "python",
   "name": "python3"
  },
  "language_info": {
   "codemirror_mode": {
    "name": "ipython",
    "version": 3
   },
   "file_extension": ".py",
   "mimetype": "text/x-python",
   "name": "python",
   "nbconvert_exporter": "python",
   "pygments_lexer": "ipython3",
   "version": "3.11.8"
  }
 },
 "nbformat": 4,
 "nbformat_minor": 5
}
