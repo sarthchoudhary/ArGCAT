{
 "cells": [
  {
   "cell_type": "markdown",
   "metadata": {},
   "source": [
    "# reads pickled matplotlib objects"
   ]
  },
  {
   "cell_type": "code",
   "execution_count": 1,
   "metadata": {},
   "outputs": [],
   "source": [
    "import pickle\n",
    "import matplotlib.pyplot as plt\n",
    "from matplotlib import rc\n",
    "import numpy as np\n",
    "from scipy.optimize import curve_fit"
   ]
  },
  {
   "cell_type": "code",
   "execution_count": 2,
   "metadata": {},
   "outputs": [],
   "source": [
    "%matplotlib widget"
   ]
  },
  {
   "cell_type": "code",
   "execution_count": 3,
   "metadata": {},
   "outputs": [],
   "source": [
    "# from matplotlib import rc\n",
    "# rc('figure', autolayout=True, figsize=[16, 9], dpi=125, titlesize=20 )\n",
    "# rc('font', family='monospace')\n",
    "# rc('axes', titlesize=20, titleweight='heavy', labelsize=16, labelweight='bold')\n",
    "# rc(('xtick', 'ytick'), labelsize = 18)\n",
    "# rc('legend', fontsize=14)\n",
    "## ----------------------------------- matplotlib RC etc -----------------------------------------\n",
    "rc('figure', autolayout=True, figsize=[16, 9], dpi=125, titlesize=20 )\n",
    "rc('font', family='monospace')\n",
    "rc('axes', titlesize=20, titleweight='heavy', labelsize=16, labelweight='bold')\n",
    "rc(('xtick', 'ytick'), labelsize = 18)\n",
    "rc('legend', fontsize=14)\n",
    "rc('lines', linewidth=2.5)\n",
    "rc('mathtext', default = 'regular')\n",
    "rc('xtick.minor', visible = True, size = 6)\n",
    "rc('ytick.minor', visible = True, size = 8)\n",
    "# rc('axes.formatter', limits=[-1, 1])\n",
    "np.set_printoptions(formatter={'float': lambda x: f\"{x:10.4g}\"})"
   ]
  },
  {
   "cell_type": "code",
   "execution_count": 4,
   "metadata": {},
   "outputs": [],
   "source": [
    "def f_gauss(x, f_mean, f_sigma, f_k):\n",
    "    return f_k*(1/(f_sigma*np.sqrt(2*np.pi)))*np.exp(-0.5*((x-f_mean)/f_sigma)**2)"
   ]
  },
  {
   "cell_type": "code",
   "execution_count": 5,
   "metadata": {},
   "outputs": [],
   "source": [
    "def red_chisq(f_obs, f_exp, fittedparameters):\n",
    "    chisqr = np.sum((f_obs - f_exp)**2 / f_exp)\n",
    "    ndf = f_obs.shape[0]\n",
    "    return chisqr/(ndf -fittedparameters.shape[0])"
   ]
  },
  {
   "cell_type": "markdown",
   "metadata": {},
   "source": [
    "loading pickled figures"
   ]
  },
  {
   "cell_type": "code",
   "execution_count": null,
   "metadata": {},
   "outputs": [],
   "source": [
    "# fig_file = pickle.load(open('../output/00126_part_output/cut1_eff_comparison.pkl', 'rb'))\n",
    "fig_file = pickle.load(open('/work/chuck/sarthak/argset/output_folder/analysis/00156_truncated_new_output/histogram_wf_sum_before_and_after_cuts.pkl', 'rb'))"
   ]
  },
  {
   "cell_type": "code",
   "execution_count": null,
   "metadata": {},
   "outputs": [],
   "source": [
    "fig_file.axes[0].get_ylabel()"
   ]
  },
  {
   "cell_type": "code",
   "execution_count": null,
   "metadata": {},
   "outputs": [],
   "source": [
    "fig_file.axes[0].get_xlabel()"
   ]
  },
  {
   "cell_type": "code",
   "execution_count": 9,
   "metadata": {},
   "outputs": [],
   "source": [
    "hist_content = np.array([])\n",
    "hist_leftedges = np.array([])\n",
    "hist_width = np.array([])"
   ]
  },
  {
   "cell_type": "code",
   "execution_count": 23,
   "metadata": {},
   "outputs": [],
   "source": [
    "## Channel id\n",
    "ch_id = 0"
   ]
  },
  {
   "cell_type": "code",
   "execution_count": 24,
   "metadata": {},
   "outputs": [],
   "source": [
    "subplot_id = [0, 2, 4][ch_id]\n",
    "for current_patch in fig_file.axes[subplot_id].patches:\n",
    "    hist_content = np.append(hist_content, current_patch.get_height())\n",
    "    hist_leftedges = np.append(hist_leftedges, current_patch.get_x())\n",
    "    hist_width = np.append(hist_width, current_patch.get_width())"
   ]
  },
  {
   "cell_type": "code",
   "execution_count": null,
   "metadata": {},
   "outputs": [],
   "source": [
    "fig_file.axes[subplot_id]"
   ]
  },
  {
   "cell_type": "code",
   "execution_count": 26,
   "metadata": {},
   "outputs": [],
   "source": [
    "# hist_edges = np.zeros(hist_leftedges.shape)"
   ]
  },
  {
   "cell_type": "code",
   "execution_count": 27,
   "metadata": {},
   "outputs": [],
   "source": [
    "# hist_edges[1:] = hist_leftedges[1:] + hist_width[1:]"
   ]
  },
  {
   "cell_type": "code",
   "execution_count": 28,
   "metadata": {},
   "outputs": [],
   "source": [
    "hist_edges = np.append(hist_leftedges, hist_leftedges[-1] + hist_width[-1])"
   ]
  },
  {
   "cell_type": "code",
   "execution_count": null,
   "metadata": {},
   "outputs": [],
   "source": [
    "# fig_1.clear()\n",
    "# plt.close(fig_1)\n",
    "fig_1, ax_1 = plt.subplots(figsize=(9,6))\n",
    "ax_1.plot(hist_edges[:-1], hist_content)\n",
    "ax_1.grid()\n",
    "## fit range\n",
    "peak_loc = np.argmax(hist_content)\n",
    "print(f'peak_loc {peak_loc}')\n",
    "ch_range = np.arange(peak_loc - 40, peak_loc + 30)\n",
    "# ax_1.plot(hist_edges[ch_range], hist_content[ch_range], color='red');\n",
    "## fitting\n",
    "p0_input = {0: [2.5E6, 1E6, 100], 1: [0.18E6, 0.12E6, 100], 2: [0.32E6, 0.18E6, 100]}\n",
    "fitted_parameters, pcov = curve_fit(f_gauss,\n",
    "                            hist_edges[ch_range], hist_content[ch_range], \\\n",
    "                            p0 = p0_input[ch_id],\n",
    "                            )\n",
    "\n",
    "ax_1.plot(hist_edges[ch_range], f_gauss(hist_edges[ch_range], *fitted_parameters), color='red')\n",
    "\n",
    "print(f'fitted_parameters: {fitted_parameters}')\n",
    "red_chisq(hist_content[ch_range], \\\n",
    "        f_gauss(hist_edges[ch_range], *fitted_parameters), \\\n",
    "        fitted_parameters)"
   ]
  },
  {
   "cell_type": "code",
   "execution_count": null,
   "metadata": {},
   "outputs": [],
   "source": [
    "137-40"
   ]
  },
  {
   "cell_type": "code",
   "execution_count": null,
   "metadata": {},
   "outputs": [],
   "source": [
    "137+30"
   ]
  },
  {
   "cell_type": "code",
   "execution_count": 30,
   "metadata": {},
   "outputs": [],
   "source": [
    "# fig_file.axes[1].lines[0].get_data()"
   ]
  },
  {
   "cell_type": "code",
   "execution_count": 31,
   "metadata": {},
   "outputs": [],
   "source": [
    "# fig_file.axes[1].get_ylabel()"
   ]
  },
  {
   "cell_type": "code",
   "execution_count": 32,
   "metadata": {},
   "outputs": [],
   "source": [
    "# fig_file.axes[1].get_xlabel()"
   ]
  },
  {
   "cell_type": "code",
   "execution_count": 33,
   "metadata": {},
   "outputs": [],
   "source": [
    "# fig_file.axes[1].lines[0].get_label()"
   ]
  },
  {
   "cell_type": "code",
   "execution_count": 34,
   "metadata": {},
   "outputs": [],
   "source": [
    "# plt.figure()\n",
    "# for line in fig_file.axes[1].lines:\n",
    "#     plt.plot(line.get_data()[0], line.get_data()[1])"
   ]
  }
 ],
 "metadata": {
  "kernelspec": {
   "display_name": "jar",
   "language": "python",
   "name": "python3"
  },
  "language_info": {
   "codemirror_mode": {
    "name": "ipython",
    "version": 3
   },
   "file_extension": ".py",
   "mimetype": "text/x-python",
   "name": "python",
   "nbconvert_exporter": "python",
   "pygments_lexer": "ipython3",
   "version": "3.11.8"
  }
 },
 "nbformat": 4,
 "nbformat_minor": 2
}
