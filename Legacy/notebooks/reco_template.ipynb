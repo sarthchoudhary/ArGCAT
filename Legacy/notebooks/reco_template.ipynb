{
 "cells": [
  {
   "cell_type": "markdown",
   "id": "d07673ce",
   "metadata": {},
   "source": [
    "Template for displaying waveforms\n",
    "-----\n",
    "\n",
    "by davide.franco@apc.in2p3.fr"
   ]
  },
  {
   "cell_type": "code",
   "execution_count": null,
   "id": "94f906ea",
   "metadata": {},
   "outputs": [],
   "source": [
    "import sys,os, re\n",
    "sys.path.insert(0, '../')\n",
    "\n",
    "# Load environment\n",
    "if re.search('cnaf',os.uname()[1]):  \n",
    "    print('Loading CNAF environment')\n",
    "    sys.path.append('/opt/exp_software/darkside/software/python_local_libraries/')\n",
    "    sys.path.append('/cvmfs/sft.cern.ch/lcg/views/LCG_96python3/x86_64-centos7-gcc8-opt/lib/python3.6/site-packages/')\n",
    "    sys.path.append('/cvmfs/sft.cern.ch/lcg/views/LCG_96python3/x86_64-centos7-gcc8-opt/lib')\n"
   ]
  },
  {
   "cell_type": "code",
   "execution_count": null,
   "id": "e58182df",
   "metadata": {},
   "outputs": [],
   "source": [
    "from pyreco.manager.manager import Manager\n",
    "#use view option only with small amount of data\n",
    "#cmdline_args = \"--config laser.ini --output output_file --view\"\n",
    "filename = '/storage/gpfs_ds50/darkside/naples2021tests/run00235sub005.mid.lz4'\n",
    "cmdline_args = f'--config pdm_reco.ini --output output_file -i {filename}'\n",
    "m = Manager(cmdline_args=cmdline_args)"
   ]
  },
  {
   "cell_type": "code",
   "execution_count": null,
   "id": "551c8975",
   "metadata": {
    "scrolled": false
   },
   "outputs": [],
   "source": [
    "from pyreco.event.midas import MIDAS\n",
    "import matplotlib.pyplot as plt \n",
    "import numpy as np \n",
    "lista = {'input': m.config.input}\n",
    "events = MIDAS(lista)\n",
    "event_number = 100\n",
    "for n,ev in enumerate(events):\n",
    "    if n < event_number: continue \n",
    "    if n > event_number: break\n",
    "    wfs = m.algos.get_subtracted_waveform(ev, gate=500)\n",
    "    wfs = wfs[0:-1,:]\n",
    "    for i,wf in enumerate(wfs):\n",
    "        plt.plot(wf, label=f'{i}')\n",
    "\n",
    "plt.xlim(3500,4500)\n",
    "#plt.legend()\n",
    "plt.show()"
   ]
  },
  {
   "cell_type": "code",
   "execution_count": null,
   "id": "fcc94d29",
   "metadata": {},
   "outputs": [],
   "source": [
    "from pyreco.reco.filtering import WFFilter\n",
    "mfilter = WFFilter(m.config)\n",
    "flt = np.reshape(mfilter.numba_fast_filter(wfs),newshape=wfs.shape)\n",
    "for i,wf in enumerate(flt):\n",
    "        plt.plot(wf, label=f'{i}')\n",
    "\n",
    "plt.xlim(3500,4500)\n",
    "plt.show()"
   ]
  },
  {
   "cell_type": "code",
   "execution_count": null,
   "id": "ff75ff32",
   "metadata": {},
   "outputs": [],
   "source": [
    "mas = m.algos.running_mean(flt,gate=500)\n",
    "flt = flt - mas \n",
    "#flt = np.where(flt>0,flt, 0)\n",
    "for i,wf in enumerate(flt):\n",
    "    rms = m.algos.get_rms(wf)    \n",
    "    plt.plot(np.where(wf > 3*rms, wf, 0), label=f'{i}')\n",
    "\n",
    "plt.xlim(3500,4500)\n",
    "plt.show()"
   ]
  }
 ],
 "metadata": {
  "kernelspec": {
   "display_name": "Python 3",
   "language": "python",
   "name": "python3"
  },
  "language_info": {
   "codemirror_mode": {
    "name": "ipython",
    "version": 3
   },
   "file_extension": ".py",
   "mimetype": "text/x-python",
   "name": "python",
   "nbconvert_exporter": "python",
   "pygments_lexer": "ipython3",
   "version": "3.6.12"
  }
 },
 "nbformat": 4,
 "nbformat_minor": 5
}
