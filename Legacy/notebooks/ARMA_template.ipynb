{
 "cells": [
  {
   "cell_type": "code",
   "execution_count": null,
   "metadata": {},
   "outputs": [],
   "source": [
    "## sent by Marcin over slack\n",
    "import numpy as np\n",
    "import matplotlib.pyplot as plt\n",
    "# import handcalcs.render\n",
    "%matplotlib widget\n"
   ]
  },
  {
   "cell_type": "code",
   "execution_count": null,
   "metadata": {},
   "outputs": [],
   "source": [
    "\n",
    "def response(t, tau, scale, sigma, offset):\n",
    "  t0 = t - offset\n",
    "  y = np.zeros(len(t0),dtype=float)\n",
    "  x = t0[t0>0]\n",
    "  y[t0>0] = (1-scale) * np.exp(-x/tau)/tau\n",
    "  y += scale*np.exp(-t0**2/2/sigma**2) / np.sqrt(2*np.pi*sigma**2)\n",
    "  return y\n"
   ]
  },
  {
   "cell_type": "code",
   "execution_count": null,
   "metadata": {},
   "outputs": [],
   "source": [
    "# plt.close(1)\n",
    "plt.figure(1)\n",
    "t = np.linspace(0,2000,1000)\n",
    "plt.plot(t, response(t,400, 0.1, 10, 100), label='dirty');\n",
    "plt.legend();\n",
    "# plt.show()"
   ]
  },
  {
   "cell_type": "code",
   "execution_count": null,
   "metadata": {},
   "outputs": [],
   "source": [
    "\n",
    "def simplesum(t, t0, sigma, tau, scale):\n",
    "    return (1-scale)/(sigma*np.sqrt(2*np.pi))*np.exp(-((t-t0)/(sigma))**2/2) + scale*np.heaviside(t-t0,1)/tau*np.exp(-(t-t0)/tau)"
   ]
  },
  {
   "cell_type": "code",
   "execution_count": null,
   "metadata": {},
   "outputs": [],
   "source": [
    "# plt.figure(1)\n",
    "plt.close(2)\n",
    "plt.figure(2)\n",
    "# plt.plot(t, simplesum(t, t0=100, sigma=10, tau=400, scale=0.9), '*', color='red', label='neat');\n",
    "plt.plot(t, simplesum(t, t0=100, sigma=50, tau=0.1, scale=0.9), '*', color='red', label='experimental debugging in progress');\n",
    "plt.legend();\n",
    "# plt.show()\n"
   ]
  },
  {
   "cell_type": "code",
   "execution_count": null,
   "metadata": {},
   "outputs": [],
   "source": [
    "# plt.figure(1)\n",
    "plt.show()"
   ]
  },
  {
   "cell_type": "code",
   "execution_count": null,
   "metadata": {},
   "outputs": [],
   "source": [
    "funct_values = simplesum(t, t0=100, sigma=10, tau=400, scale=0.9)\n",
    "np.sum(funct_values)"
   ]
  },
  {
   "cell_type": "code",
   "execution_count": null,
   "metadata": {},
   "outputs": [],
   "source": [
    "from scipy.integrate import simpson"
   ]
  },
  {
   "cell_type": "code",
   "execution_count": null,
   "metadata": {},
   "outputs": [],
   "source": [
    "simpson(funct_values, x=t)"
   ]
  },
  {
   "cell_type": "code",
   "execution_count": null,
   "metadata": {},
   "outputs": [],
   "source": []
  }
 ],
 "metadata": {
  "kernelspec": {
   "display_name": "jar",
   "language": "python",
   "name": "python3"
  },
  "language_info": {
   "codemirror_mode": {
    "name": "ipython",
    "version": 3
   },
   "file_extension": ".py",
   "mimetype": "text/x-python",
   "name": "python",
   "nbconvert_exporter": "python",
   "pygments_lexer": "ipython3",
   "version": "3.11.8"
  }
 },
 "nbformat": 4,
 "nbformat_minor": 2
}
